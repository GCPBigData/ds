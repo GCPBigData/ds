{
 "cells": [
  {
   "cell_type": "code",
   "execution_count": null,
   "metadata": {
    "collapsed": true
   },
   "outputs": [],
   "source": []
  },
  {
   "cell_type": "code",
   "execution_count": 2,
   "metadata": {
    "collapsed": true
   },
   "outputs": [],
   "source": [
    "import pandas as pd\n",
    "import os\n",
    "\n",
    "df = pd.read_pickle(os.path.join('_datasets', 'data_frame.pickle'))"
   ]
  },
  {
   "cell_type": "code",
   "execution_count": 3,
   "metadata": {
    "collapsed": true
   },
   "outputs": [],
   "source": [
    "# Smaller object for easier vis\n",
    "small_df = df.iloc[49980:50019, :].copy()\n"
   ]
  },
  {
   "cell_type": "code",
   "execution_count": 4,
   "metadata": {
    "collapsed": true
   },
   "outputs": [],
   "source": [
    "# Basic Excel\n",
    "small_df.to_excel(\"_datasets/basic.xlsx\")\n",
    "small_df.to_excel(\"_datasets/no_index.xlsx\", index=False)\n",
    "small_df.to_excel(\"_datasets/columns.xlsx\", columns=[\"artist\", \"title\", \"year\"])"
   ]
  },
  {
   "cell_type": "code",
   "execution_count": 5,
   "metadata": {
    "collapsed": true
   },
   "outputs": [],
   "source": [
    "# Multiple worksheets\n",
    "writer = pd.ExcelWriter('_datasets/multiple_sheets.xlsx', engine='xlsxwriter')\n",
    "small_df.to_excel(writer, sheet_name=\"Preview\", index=False)\n",
    "df.to_excel(writer, sheet_name=\"Complete\", index=False)\n",
    "writer.save()"
   ]
  },
  {
   "cell_type": "code",
   "execution_count": 6,
   "metadata": {
    "collapsed": true
   },
   "outputs": [],
   "source": [
    "# Conditional formatting\n",
    "artist_counts = df['artist'].value_counts()\n",
    "artist_counts.head()\n",
    "writer = pd.ExcelWriter('_datasets/colors.xlsx', engine='xlsxwriter')\n",
    "artist_counts.to_excel(writer, sheet_name=\"Artist Counts\")\n",
    "sheet = writer.sheets['Artist Counts']\n",
    "cells_range = 'B2:B{}'.format(len(artist_counts.index))\n",
    "sheet.conditional_format(cells_range, {'type': '2_color_scale',\n",
    "                              'min_value': '10',\n",
    "                              'min_type': 'percentile',\n",
    "                              'max_value': '99',\n",
    "                              'max_type': 'percentile'})\n",
    "writer.save()"
   ]
  },
  {
   "cell_type": "code",
   "execution_count": 8,
   "metadata": {
    "collapsed": true
   },
   "outputs": [],
   "source": [
    "# SQL\n",
    "import sqlite3\n",
    "\n",
    "with sqlite3.connect('_datasets/my_database.db') as conn:\n",
    "    small_df.to_sql('Tate', conn)\n",
    "\n",
    "# import sqlalchemy as sa\n",
    "# with sa.create_engine('postgresql://localhost/my_data') as conn:\n",
    "#     small_df.to_sql('Tate', conn)"
   ]
  },
  {
   "cell_type": "code",
   "execution_count": 10,
   "metadata": {
    "collapsed": true
   },
   "outputs": [],
   "source": [
    "# JSON\n",
    "small_df.to_json('_datasets/default.json')\n",
    "small_df.to_json('_datasets/table.json', orient='table')"
   ]
  },
  {
   "cell_type": "code",
   "execution_count": null,
   "metadata": {
    "collapsed": true
   },
   "outputs": [],
   "source": []
  }
 ],
 "metadata": {
  "kernelspec": {
   "display_name": "Python 3",
   "language": "python",
   "name": "python3"
  },
  "language_info": {
   "codemirror_mode": {
    "name": "ipython",
    "version": 3
   },
   "file_extension": ".py",
   "mimetype": "text/x-python",
   "name": "python",
   "nbconvert_exporter": "python",
   "pygments_lexer": "ipython3",
   "version": "3.6.1"
  }
 },
 "nbformat": 4,
 "nbformat_minor": 2
}
