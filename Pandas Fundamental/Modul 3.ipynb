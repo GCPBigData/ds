{
 "cells": [
  {
   "cell_type": "code",
   "execution_count": 12,
   "metadata": {},
   "outputs": [
    {
     "data": {
      "text/html": [
       "<div>\n",
       "<style>\n",
       "    .dataframe thead tr:only-child th {\n",
       "        text-align: right;\n",
       "    }\n",
       "\n",
       "    .dataframe thead th {\n",
       "        text-align: left;\n",
       "    }\n",
       "\n",
       "    .dataframe tbody tr th {\n",
       "        vertical-align: top;\n",
       "    }\n",
       "</style>\n",
       "<table border=\"1\" class=\"dataframe\">\n",
       "  <thead>\n",
       "    <tr style=\"text-align: right;\">\n",
       "      <th></th>\n",
       "      <th>artist</th>\n",
       "      <th>title</th>\n",
       "      <th>medium</th>\n",
       "      <th>year</th>\n",
       "      <th>acquisitionYear</th>\n",
       "      <th>width</th>\n",
       "      <th>height</th>\n",
       "      <th>units</th>\n",
       "    </tr>\n",
       "    <tr>\n",
       "      <th>id</th>\n",
       "      <th></th>\n",
       "      <th></th>\n",
       "      <th></th>\n",
       "      <th></th>\n",
       "      <th></th>\n",
       "      <th></th>\n",
       "      <th></th>\n",
       "      <th></th>\n",
       "    </tr>\n",
       "  </thead>\n",
       "  <tbody>\n",
       "    <tr>\n",
       "      <th>1035</th>\n",
       "      <td>Blake, Robert</td>\n",
       "      <td>A Figure Bowing before a Seated Old Man with h...</td>\n",
       "      <td>Watercolour, ink, chalk and graphite on paper....</td>\n",
       "      <td>NaN</td>\n",
       "      <td>1922.0</td>\n",
       "      <td>394</td>\n",
       "      <td>419</td>\n",
       "      <td>mm</td>\n",
       "    </tr>\n",
       "    <tr>\n",
       "      <th>1036</th>\n",
       "      <td>Blake, Robert</td>\n",
       "      <td>Two Drawings of Frightened Figures, Probably f...</td>\n",
       "      <td>Graphite on paper</td>\n",
       "      <td>NaN</td>\n",
       "      <td>1922.0</td>\n",
       "      <td>311</td>\n",
       "      <td>213</td>\n",
       "      <td>mm</td>\n",
       "    </tr>\n",
       "    <tr>\n",
       "      <th>1037</th>\n",
       "      <td>Blake, Robert</td>\n",
       "      <td>The Preaching of Warning. Verso: An Old Man En...</td>\n",
       "      <td>Graphite on paper. Verso: graphite on paper</td>\n",
       "      <td>1785</td>\n",
       "      <td>1922.0</td>\n",
       "      <td>343</td>\n",
       "      <td>467</td>\n",
       "      <td>mm</td>\n",
       "    </tr>\n",
       "    <tr>\n",
       "      <th>1038</th>\n",
       "      <td>Blake, Robert</td>\n",
       "      <td>Six Drawings of Figures with Outstretched Arms</td>\n",
       "      <td>Graphite on paper</td>\n",
       "      <td>NaN</td>\n",
       "      <td>1922.0</td>\n",
       "      <td>318</td>\n",
       "      <td>394</td>\n",
       "      <td>mm</td>\n",
       "    </tr>\n",
       "    <tr>\n",
       "      <th>1039</th>\n",
       "      <td>Blake, William</td>\n",
       "      <td>The Circle of the Lustful: Francesca da Rimini...</td>\n",
       "      <td>Line engraving on paper</td>\n",
       "      <td>1826</td>\n",
       "      <td>1919.0</td>\n",
       "      <td>243</td>\n",
       "      <td>335</td>\n",
       "      <td>mm</td>\n",
       "    </tr>\n",
       "  </tbody>\n",
       "</table>\n",
       "</div>"
      ],
      "text/plain": [
       "              artist                                              title  \\\n",
       "id                                                                        \n",
       "1035   Blake, Robert  A Figure Bowing before a Seated Old Man with h...   \n",
       "1036   Blake, Robert  Two Drawings of Frightened Figures, Probably f...   \n",
       "1037   Blake, Robert  The Preaching of Warning. Verso: An Old Man En...   \n",
       "1038   Blake, Robert     Six Drawings of Figures with Outstretched Arms   \n",
       "1039  Blake, William  The Circle of the Lustful: Francesca da Rimini...   \n",
       "\n",
       "                                                 medium  year  \\\n",
       "id                                                              \n",
       "1035  Watercolour, ink, chalk and graphite on paper....   NaN   \n",
       "1036                                  Graphite on paper   NaN   \n",
       "1037        Graphite on paper. Verso: graphite on paper  1785   \n",
       "1038                                  Graphite on paper   NaN   \n",
       "1039                            Line engraving on paper  1826   \n",
       "\n",
       "      acquisitionYear width height units  \n",
       "id                                        \n",
       "1035           1922.0   394    419    mm  \n",
       "1036           1922.0   311    213    mm  \n",
       "1037           1922.0   343    467    mm  \n",
       "1038           1922.0   318    394    mm  \n",
       "1039           1919.0   243    335    mm  "
      ]
     },
     "execution_count": 12,
     "metadata": {},
     "output_type": "execute_result"
    }
   ],
   "source": [
    "import pandas as pd\n",
    "import os\n",
    "\n",
    "# Let's load the data for the first time\n",
    "df = pd.read_pickle(os.path.join('_datasets', 'data_frame.pickle'))\n",
    "df.head()"
   ]
  },
  {
   "cell_type": "code",
   "execution_count": 5,
   "metadata": {},
   "outputs": [
    {
     "data": {
      "text/plain": [
       "3336"
      ]
     },
     "execution_count": 5,
     "metadata": {},
     "output_type": "execute_result"
    }
   ],
   "source": [
    "df.artist\n",
    "artists = df['artist']\n",
    "pd.unique(artists)\n",
    "len(pd.unique(artists))"
   ]
  },
  {
   "cell_type": "code",
   "execution_count": 7,
   "metadata": {},
   "outputs": [
    {
     "data": {
      "text/plain": [
       "False    69151\n",
       "True        50\n",
       "Name: artist, dtype: int64"
      ]
     },
     "execution_count": 7,
     "metadata": {},
     "output_type": "execute_result"
    }
   ],
   "source": [
    "s = df['artist'] == 'Bacon, Francis'\n",
    "s.value_counts()"
   ]
  },
  {
   "cell_type": "code",
   "execution_count": 8,
   "metadata": {},
   "outputs": [
    {
     "data": {
      "text/plain": [
       "50"
      ]
     },
     "execution_count": 8,
     "metadata": {},
     "output_type": "execute_result"
    }
   ],
   "source": [
    "artist_counts = df['artist'].value_counts()\n",
    "artist_counts['Bacon, Francis']"
   ]
  },
  {
   "cell_type": "code",
   "execution_count": 10,
   "metadata": {},
   "outputs": [
    {
     "data": {
      "text/html": [
       "<div>\n",
       "<style>\n",
       "    .dataframe thead tr:only-child th {\n",
       "        text-align: right;\n",
       "    }\n",
       "\n",
       "    .dataframe thead th {\n",
       "        text-align: left;\n",
       "    }\n",
       "\n",
       "    .dataframe tbody tr th {\n",
       "        vertical-align: top;\n",
       "    }\n",
       "</style>\n",
       "<table border=\"1\" class=\"dataframe\">\n",
       "  <thead>\n",
       "    <tr style=\"text-align: right;\">\n",
       "      <th></th>\n",
       "      <th>artist</th>\n",
       "      <th>title</th>\n",
       "    </tr>\n",
       "    <tr>\n",
       "      <th>id</th>\n",
       "      <th></th>\n",
       "      <th></th>\n",
       "    </tr>\n",
       "  </thead>\n",
       "  <tbody>\n",
       "    <tr>\n",
       "      <th>1035</th>\n",
       "      <td>Blake, Robert</td>\n",
       "      <td>A Figure Bowing before a Seated Old Man with h...</td>\n",
       "    </tr>\n",
       "    <tr>\n",
       "      <th>1036</th>\n",
       "      <td>Blake, Robert</td>\n",
       "      <td>Two Drawings of Frightened Figures, Probably f...</td>\n",
       "    </tr>\n",
       "  </tbody>\n",
       "</table>\n",
       "</div>"
      ],
      "text/plain": [
       "             artist                                              title\n",
       "id                                                                    \n",
       "1035  Blake, Robert  A Figure Bowing before a Seated Old Man with h...\n",
       "1036  Blake, Robert  Two Drawings of Frightened Figures, Probably f..."
      ]
     },
     "execution_count": 10,
     "metadata": {},
     "output_type": "execute_result"
    }
   ],
   "source": [
    "# Demo 3\n",
    "df.loc[1035, 'artist']\n",
    "df.iloc[0, 0]\n",
    "df.iloc[0, :]\n",
    "df.iloc[0:2, 0:2]"
   ]
  },
  {
   "cell_type": "code",
   "execution_count": 18,
   "metadata": {},
   "outputs": [
    {
     "data": {
      "text/plain": [
       "id\n",
       "20822            (1):\n",
       "105337    (diameter):\n",
       "98671         (each):\n",
       "76420         (each):\n",
       "91391        (image):\n",
       "Name: width, dtype: object"
      ]
     },
     "execution_count": 18,
     "metadata": {},
     "output_type": "execute_result"
    }
   ],
   "source": [
    "# Try multiplication\n",
    "# df['height'] * df['width']\n",
    "df['width'].sort_values().head()\n",
    "# df['width'].sort_values().tail()"
   ]
  },
  {
   "cell_type": "code",
   "execution_count": 20,
   "metadata": {},
   "outputs": [],
   "source": [
    "# Try to convert\n",
    "# pd.to_numeric(df['width'])"
   ]
  },
  {
   "cell_type": "code",
   "execution_count": 21,
   "metadata": {},
   "outputs": [
    {
     "data": {
      "text/plain": [
       "id\n",
       "1035       394.0\n",
       "1036       311.0\n",
       "1037       343.0\n",
       "1038       318.0\n",
       "1039       243.0\n",
       "1040       240.0\n",
       "1041       242.0\n",
       "1042       246.0\n",
       "1043       241.0\n",
       "1044       243.0\n",
       "1045       236.0\n",
       "1046       184.0\n",
       "1047       197.0\n",
       "1048       197.0\n",
       "1049       200.0\n",
       "1050       198.0\n",
       "1051       198.0\n",
       "1052       198.0\n",
       "1053       199.0\n",
       "1054       198.0\n",
       "1055       198.0\n",
       "1056       197.0\n",
       "1057       200.0\n",
       "1058       198.0\n",
       "1059       191.0\n",
       "1060       200.0\n",
       "1061       186.0\n",
       "1062       200.0\n",
       "1063       198.0\n",
       "1064       197.0\n",
       "           ...  \n",
       "121196     558.0\n",
       "121197     380.0\n",
       "121198     560.0\n",
       "115637       NaN\n",
       "115638       NaN\n",
       "122545    2093.0\n",
       "120104       NaN\n",
       "121565       NaN\n",
       "116157       NaN\n",
       "117761       NaN\n",
       "115217       NaN\n",
       "122537       NaN\n",
       "120527       NaN\n",
       "127128     368.0\n",
       "127129     705.0\n",
       "127130     408.0\n",
       "127131     410.0\n",
       "121283       NaN\n",
       "129068      57.0\n",
       "117863       NaN\n",
       "120549       NaN\n",
       "123620     810.0\n",
       "122900       NaN\n",
       "122958     305.0\n",
       "122959     305.0\n",
       "122960     305.0\n",
       "122961     305.0\n",
       "121181      45.0\n",
       "112306       NaN\n",
       "127035     508.0\n",
       "Name: width, Length: 69201, dtype: float64"
      ]
     },
     "execution_count": 21,
     "metadata": {},
     "output_type": "execute_result"
    }
   ],
   "source": [
    "# Force NaNs \n",
    "pd.to_numeric(df['width'], errors='coerce')"
   ]
  },
  {
   "cell_type": "code",
   "execution_count": 22,
   "metadata": {
    "collapsed": true
   },
   "outputs": [],
   "source": [
    "df.loc[:, 'width'] = pd.to_numeric(df['width'], errors='coerce')"
   ]
  },
  {
   "cell_type": "code",
   "execution_count": 23,
   "metadata": {
    "collapsed": true
   },
   "outputs": [],
   "source": [
    "pd.to_numeric(df['height'], errors='coerce')\n",
    "df.loc[:, 'height'] = pd.to_numeric(df['height'],\n",
    "                                    errors='coerce')"
   ]
  },
  {
   "cell_type": "code",
   "execution_count": 25,
   "metadata": {},
   "outputs": [
    {
     "data": {
      "text/plain": [
       "id\n",
       "1035       165086.0\n",
       "1036        66243.0\n",
       "1037       160181.0\n",
       "1038       125292.0\n",
       "1039        81405.0\n",
       "1040        81120.0\n",
       "1041        80828.0\n",
       "1042        83640.0\n",
       "1043        80735.0\n",
       "1044        82620.0\n",
       "1045        80240.0\n",
       "1046        27600.0\n",
       "1047        29747.0\n",
       "1048        30141.0\n",
       "1049        30400.0\n",
       "1050        30096.0\n",
       "1051        30294.0\n",
       "1052        30294.0\n",
       "1053        29850.0\n",
       "1054        30096.0\n",
       "1055        30096.0\n",
       "1056        29944.0\n",
       "1057        30200.0\n",
       "1058        29898.0\n",
       "1059        28650.0\n",
       "1060        30200.0\n",
       "1061        27900.0\n",
       "1062        30200.0\n",
       "1063        29700.0\n",
       "1064        29550.0\n",
       "            ...    \n",
       "121196     424080.0\n",
       "121197     215080.0\n",
       "121198     426720.0\n",
       "115637          NaN\n",
       "115638          NaN\n",
       "122545    3514147.0\n",
       "120104          NaN\n",
       "121565          NaN\n",
       "116157          NaN\n",
       "117761          NaN\n",
       "115217          NaN\n",
       "122537          NaN\n",
       "120527          NaN\n",
       "127128      98256.0\n",
       "127129     331350.0\n",
       "127130      83640.0\n",
       "127131     129970.0\n",
       "121283          NaN\n",
       "129068       3249.0\n",
       "117863          NaN\n",
       "120549          NaN\n",
       "123620     935550.0\n",
       "122900          NaN\n",
       "122958      93025.0\n",
       "122959      93025.0\n",
       "122960      93025.0\n",
       "122961      93025.0\n",
       "121181     108450.0\n",
       "112306          NaN\n",
       "127035     335280.0\n",
       "Length: 69201, dtype: float64"
      ]
     },
     "execution_count": 25,
     "metadata": {},
     "output_type": "execute_result"
    }
   ],
   "source": [
    "df['height'] * df['width']"
   ]
  },
  {
   "cell_type": "code",
   "execution_count": 26,
   "metadata": {},
   "outputs": [
    {
     "data": {
      "text/plain": [
       "mm    65860\n",
       "Name: units, dtype: int64"
      ]
     },
     "execution_count": 26,
     "metadata": {},
     "output_type": "execute_result"
    }
   ],
   "source": [
    "df['units'].value_counts()"
   ]
  },
  {
   "cell_type": "code",
   "execution_count": 27,
   "metadata": {
    "collapsed": true
   },
   "outputs": [],
   "source": [
    "# Assign - create new columns with size\n",
    "area = df['height'] * df['width']\n",
    "df = df.assign(area=area)"
   ]
  },
  {
   "cell_type": "code",
   "execution_count": 28,
   "metadata": {},
   "outputs": [
    {
     "data": {
      "text/plain": [
       "artist                               Therrien, Robert\n",
       "title                No Title (Table and Four Chairs)\n",
       "medium             Aluminium, steel, wood and plastic\n",
       "year                                             2003\n",
       "acquisitionYear                                  2008\n",
       "width                                            8920\n",
       "height                                          14850\n",
       "units                                              mm\n",
       "area                                      1.32462e+08\n",
       "Name: 98367, dtype: object"
      ]
     },
     "execution_count": 28,
     "metadata": {},
     "output_type": "execute_result"
    }
   ],
   "source": [
    "df['area'].max()\n",
    "df['area'].idxmax()\n",
    "df.loc[df['area'].idxmax(), :]"
   ]
  },
  {
   "cell_type": "code",
   "execution_count": null,
   "metadata": {
    "collapsed": true
   },
   "outputs": [],
   "source": []
  }
 ],
 "metadata": {
  "kernelspec": {
   "display_name": "Python 3",
   "language": "python",
   "name": "python3"
  },
  "language_info": {
   "codemirror_mode": {
    "name": "ipython",
    "version": 3
   },
   "file_extension": ".py",
   "mimetype": "text/x-python",
   "name": "python",
   "nbconvert_exporter": "python",
   "pygments_lexer": "ipython3",
   "version": "3.6.1"
  }
 },
 "nbformat": 4,
 "nbformat_minor": 2
}
