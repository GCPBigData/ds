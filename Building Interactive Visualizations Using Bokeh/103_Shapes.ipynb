{
 "cells": [
  {
   "cell_type": "code",
   "execution_count": 1,
   "metadata": {},
   "outputs": [],
   "source": [
    "from bokeh.plotting import figure\n",
    "from bokeh.io import output_notebook, show"
   ]
  },
  {
   "cell_type": "code",
   "execution_count": 2,
   "metadata": {},
   "outputs": [
    {
     "data": {
      "text/html": [
       "\n",
       "    <div class=\"bk-root\">\n",
       "        <a href=\"https://bokeh.pydata.org\" target=\"_blank\" class=\"bk-logo bk-logo-small bk-logo-notebook\"></a>\n",
       "        <span id=\"9246da71-11d0-4926-8ce5-49ee66dee974\">Loading BokehJS ...</span>\n",
       "    </div>"
      ]
     },
     "metadata": {},
     "output_type": "display_data"
    },
    {
     "data": {
      "application/javascript": [
       "\n",
       "(function(root) {\n",
       "  function now() {\n",
       "    return new Date();\n",
       "  }\n",
       "\n",
       "  var force = true;\n",
       "\n",
       "  if (typeof (root._bokeh_onload_callbacks) === \"undefined\" || force === true) {\n",
       "    root._bokeh_onload_callbacks = [];\n",
       "    root._bokeh_is_loading = undefined;\n",
       "  }\n",
       "\n",
       "  var JS_MIME_TYPE = 'application/javascript';\n",
       "  var HTML_MIME_TYPE = 'text/html';\n",
       "  var EXEC_MIME_TYPE = 'application/vnd.bokehjs_exec.v0+json';\n",
       "  var CLASS_NAME = 'output_bokeh rendered_html';\n",
       "\n",
       "  /**\n",
       "   * Render data to the DOM node\n",
       "   */\n",
       "  function render(props, node) {\n",
       "    var script = document.createElement(\"script\");\n",
       "    node.appendChild(script);\n",
       "  }\n",
       "\n",
       "  /**\n",
       "   * Handle when an output is cleared or removed\n",
       "   */\n",
       "  function handleClearOutput(event, handle) {\n",
       "    var cell = handle.cell;\n",
       "\n",
       "    var id = cell.output_area._bokeh_element_id;\n",
       "    var server_id = cell.output_area._bokeh_server_id;\n",
       "    // Clean up Bokeh references\n",
       "    if (id != null && id in Bokeh.index) {\n",
       "      Bokeh.index[id].model.document.clear();\n",
       "      delete Bokeh.index[id];\n",
       "    }\n",
       "\n",
       "    if (server_id !== undefined) {\n",
       "      // Clean up Bokeh references\n",
       "      var cmd = \"from bokeh.io.state import curstate; print(curstate().uuid_to_server['\" + server_id + \"'].get_sessions()[0].document.roots[0]._id)\";\n",
       "      cell.notebook.kernel.execute(cmd, {\n",
       "        iopub: {\n",
       "          output: function(msg) {\n",
       "            var id = msg.content.text.trim();\n",
       "            if (id in Bokeh.index) {\n",
       "              Bokeh.index[id].model.document.clear();\n",
       "              delete Bokeh.index[id];\n",
       "            }\n",
       "          }\n",
       "        }\n",
       "      });\n",
       "      // Destroy server and session\n",
       "      var cmd = \"import bokeh.io.notebook as ion; ion.destroy_server('\" + server_id + \"')\";\n",
       "      cell.notebook.kernel.execute(cmd);\n",
       "    }\n",
       "  }\n",
       "\n",
       "  /**\n",
       "   * Handle when a new output is added\n",
       "   */\n",
       "  function handleAddOutput(event, handle) {\n",
       "    var output_area = handle.output_area;\n",
       "    var output = handle.output;\n",
       "\n",
       "    // limit handleAddOutput to display_data with EXEC_MIME_TYPE content only\n",
       "    if ((output.output_type != \"display_data\") || (!output.data.hasOwnProperty(EXEC_MIME_TYPE))) {\n",
       "      return\n",
       "    }\n",
       "\n",
       "    var toinsert = output_area.element.find(\".\" + CLASS_NAME.split(' ')[0]);\n",
       "\n",
       "    if (output.metadata[EXEC_MIME_TYPE][\"id\"] !== undefined) {\n",
       "      toinsert[toinsert.length - 1].firstChild.textContent = output.data[JS_MIME_TYPE];\n",
       "      // store reference to embed id on output_area\n",
       "      output_area._bokeh_element_id = output.metadata[EXEC_MIME_TYPE][\"id\"];\n",
       "    }\n",
       "    if (output.metadata[EXEC_MIME_TYPE][\"server_id\"] !== undefined) {\n",
       "      var bk_div = document.createElement(\"div\");\n",
       "      bk_div.innerHTML = output.data[HTML_MIME_TYPE];\n",
       "      var script_attrs = bk_div.children[0].attributes;\n",
       "      for (var i = 0; i < script_attrs.length; i++) {\n",
       "        toinsert[toinsert.length - 1].firstChild.setAttribute(script_attrs[i].name, script_attrs[i].value);\n",
       "      }\n",
       "      // store reference to server id on output_area\n",
       "      output_area._bokeh_server_id = output.metadata[EXEC_MIME_TYPE][\"server_id\"];\n",
       "    }\n",
       "  }\n",
       "\n",
       "  function register_renderer(events, OutputArea) {\n",
       "\n",
       "    function append_mime(data, metadata, element) {\n",
       "      // create a DOM node to render to\n",
       "      var toinsert = this.create_output_subarea(\n",
       "        metadata,\n",
       "        CLASS_NAME,\n",
       "        EXEC_MIME_TYPE\n",
       "      );\n",
       "      this.keyboard_manager.register_events(toinsert);\n",
       "      // Render to node\n",
       "      var props = {data: data, metadata: metadata[EXEC_MIME_TYPE]};\n",
       "      render(props, toinsert[toinsert.length - 1]);\n",
       "      element.append(toinsert);\n",
       "      return toinsert\n",
       "    }\n",
       "\n",
       "    /* Handle when an output is cleared or removed */\n",
       "    events.on('clear_output.CodeCell', handleClearOutput);\n",
       "    events.on('delete.Cell', handleClearOutput);\n",
       "\n",
       "    /* Handle when a new output is added */\n",
       "    events.on('output_added.OutputArea', handleAddOutput);\n",
       "\n",
       "    /**\n",
       "     * Register the mime type and append_mime function with output_area\n",
       "     */\n",
       "    OutputArea.prototype.register_mime_type(EXEC_MIME_TYPE, append_mime, {\n",
       "      /* Is output safe? */\n",
       "      safe: true,\n",
       "      /* Index of renderer in `output_area.display_order` */\n",
       "      index: 0\n",
       "    });\n",
       "  }\n",
       "\n",
       "  // register the mime type if in Jupyter Notebook environment and previously unregistered\n",
       "  if (root.Jupyter !== undefined) {\n",
       "    var events = require('base/js/events');\n",
       "    var OutputArea = require('notebook/js/outputarea').OutputArea;\n",
       "\n",
       "    if (OutputArea.prototype.mime_types().indexOf(EXEC_MIME_TYPE) == -1) {\n",
       "      register_renderer(events, OutputArea);\n",
       "    }\n",
       "  }\n",
       "\n",
       "  \n",
       "  if (typeof (root._bokeh_timeout) === \"undefined\" || force === true) {\n",
       "    root._bokeh_timeout = Date.now() + 5000;\n",
       "    root._bokeh_failed_load = false;\n",
       "  }\n",
       "\n",
       "  var NB_LOAD_WARNING = {'data': {'text/html':\n",
       "     \"<div style='background-color: #fdd'>\\n\"+\n",
       "     \"<p>\\n\"+\n",
       "     \"BokehJS does not appear to have successfully loaded. If loading BokehJS from CDN, this \\n\"+\n",
       "     \"may be due to a slow or bad network connection. Possible fixes:\\n\"+\n",
       "     \"</p>\\n\"+\n",
       "     \"<ul>\\n\"+\n",
       "     \"<li>re-rerun `output_notebook()` to attempt to load from CDN again, or</li>\\n\"+\n",
       "     \"<li>use INLINE resources instead, as so:</li>\\n\"+\n",
       "     \"</ul>\\n\"+\n",
       "     \"<code>\\n\"+\n",
       "     \"from bokeh.resources import INLINE\\n\"+\n",
       "     \"output_notebook(resources=INLINE)\\n\"+\n",
       "     \"</code>\\n\"+\n",
       "     \"</div>\"}};\n",
       "\n",
       "  function display_loaded() {\n",
       "    var el = document.getElementById(\"9246da71-11d0-4926-8ce5-49ee66dee974\");\n",
       "    if (el != null) {\n",
       "      el.textContent = \"BokehJS is loading...\";\n",
       "    }\n",
       "    if (root.Bokeh !== undefined) {\n",
       "      if (el != null) {\n",
       "        el.textContent = \"BokehJS \" + root.Bokeh.version + \" successfully loaded.\";\n",
       "      }\n",
       "    } else if (Date.now() < root._bokeh_timeout) {\n",
       "      setTimeout(display_loaded, 100)\n",
       "    }\n",
       "  }\n",
       "\n",
       "\n",
       "  function run_callbacks() {\n",
       "    try {\n",
       "      root._bokeh_onload_callbacks.forEach(function(callback) { callback() });\n",
       "    }\n",
       "    finally {\n",
       "      delete root._bokeh_onload_callbacks\n",
       "    }\n",
       "    console.info(\"Bokeh: all callbacks have finished\");\n",
       "  }\n",
       "\n",
       "  function load_libs(js_urls, callback) {\n",
       "    root._bokeh_onload_callbacks.push(callback);\n",
       "    if (root._bokeh_is_loading > 0) {\n",
       "      console.log(\"Bokeh: BokehJS is being loaded, scheduling callback at\", now());\n",
       "      return null;\n",
       "    }\n",
       "    if (js_urls == null || js_urls.length === 0) {\n",
       "      run_callbacks();\n",
       "      return null;\n",
       "    }\n",
       "    console.log(\"Bokeh: BokehJS not loaded, scheduling load and callback at\", now());\n",
       "    root._bokeh_is_loading = js_urls.length;\n",
       "    for (var i = 0; i < js_urls.length; i++) {\n",
       "      var url = js_urls[i];\n",
       "      var s = document.createElement('script');\n",
       "      s.src = url;\n",
       "      s.async = false;\n",
       "      s.onreadystatechange = s.onload = function() {\n",
       "        root._bokeh_is_loading--;\n",
       "        if (root._bokeh_is_loading === 0) {\n",
       "          console.log(\"Bokeh: all BokehJS libraries loaded\");\n",
       "          run_callbacks()\n",
       "        }\n",
       "      };\n",
       "      s.onerror = function() {\n",
       "        console.warn(\"failed to load library \" + url);\n",
       "      };\n",
       "      console.log(\"Bokeh: injecting script tag for BokehJS library: \", url);\n",
       "      document.getElementsByTagName(\"head\")[0].appendChild(s);\n",
       "    }\n",
       "  };var element = document.getElementById(\"9246da71-11d0-4926-8ce5-49ee66dee974\");\n",
       "  if (element == null) {\n",
       "    console.log(\"Bokeh: ERROR: autoload.js configured with elementid '9246da71-11d0-4926-8ce5-49ee66dee974' but no matching script tag was found. \")\n",
       "    return false;\n",
       "  }\n",
       "\n",
       "  var js_urls = [\"https://cdn.pydata.org/bokeh/release/bokeh-0.13.0.min.js\", \"https://cdn.pydata.org/bokeh/release/bokeh-widgets-0.13.0.min.js\", \"https://cdn.pydata.org/bokeh/release/bokeh-tables-0.13.0.min.js\", \"https://cdn.pydata.org/bokeh/release/bokeh-gl-0.13.0.min.js\"];\n",
       "\n",
       "  var inline_js = [\n",
       "    function(Bokeh) {\n",
       "      Bokeh.set_log_level(\"info\");\n",
       "    },\n",
       "    \n",
       "    function(Bokeh) {\n",
       "      \n",
       "    },\n",
       "    function(Bokeh) {\n",
       "      console.log(\"Bokeh: injecting CSS: https://cdn.pydata.org/bokeh/release/bokeh-0.13.0.min.css\");\n",
       "      Bokeh.embed.inject_css(\"https://cdn.pydata.org/bokeh/release/bokeh-0.13.0.min.css\");\n",
       "      console.log(\"Bokeh: injecting CSS: https://cdn.pydata.org/bokeh/release/bokeh-widgets-0.13.0.min.css\");\n",
       "      Bokeh.embed.inject_css(\"https://cdn.pydata.org/bokeh/release/bokeh-widgets-0.13.0.min.css\");\n",
       "      console.log(\"Bokeh: injecting CSS: https://cdn.pydata.org/bokeh/release/bokeh-tables-0.13.0.min.css\");\n",
       "      Bokeh.embed.inject_css(\"https://cdn.pydata.org/bokeh/release/bokeh-tables-0.13.0.min.css\");\n",
       "    }\n",
       "  ];\n",
       "\n",
       "  function run_inline_js() {\n",
       "    \n",
       "    if ((root.Bokeh !== undefined) || (force === true)) {\n",
       "      for (var i = 0; i < inline_js.length; i++) {\n",
       "        inline_js[i].call(root, root.Bokeh);\n",
       "      }if (force === true) {\n",
       "        display_loaded();\n",
       "      }} else if (Date.now() < root._bokeh_timeout) {\n",
       "      setTimeout(run_inline_js, 100);\n",
       "    } else if (!root._bokeh_failed_load) {\n",
       "      console.log(\"Bokeh: BokehJS failed to load within specified timeout.\");\n",
       "      root._bokeh_failed_load = true;\n",
       "    } else if (force !== true) {\n",
       "      var cell = $(document.getElementById(\"9246da71-11d0-4926-8ce5-49ee66dee974\")).parents('.cell').data().cell;\n",
       "      cell.output_area.append_execute_result(NB_LOAD_WARNING)\n",
       "    }\n",
       "\n",
       "  }\n",
       "\n",
       "  if (root._bokeh_is_loading === 0) {\n",
       "    console.log(\"Bokeh: BokehJS loaded, going straight to plotting\");\n",
       "    run_inline_js();\n",
       "  } else {\n",
       "    load_libs(js_urls, function() {\n",
       "      console.log(\"Bokeh: BokehJS plotting callback run at\", now());\n",
       "      run_inline_js();\n",
       "    });\n",
       "  }\n",
       "}(window));"
      ],
      "application/vnd.bokehjs_load.v0+json": "\n(function(root) {\n  function now() {\n    return new Date();\n  }\n\n  var force = true;\n\n  if (typeof (root._bokeh_onload_callbacks) === \"undefined\" || force === true) {\n    root._bokeh_onload_callbacks = [];\n    root._bokeh_is_loading = undefined;\n  }\n\n  \n\n  \n  if (typeof (root._bokeh_timeout) === \"undefined\" || force === true) {\n    root._bokeh_timeout = Date.now() + 5000;\n    root._bokeh_failed_load = false;\n  }\n\n  var NB_LOAD_WARNING = {'data': {'text/html':\n     \"<div style='background-color: #fdd'>\\n\"+\n     \"<p>\\n\"+\n     \"BokehJS does not appear to have successfully loaded. If loading BokehJS from CDN, this \\n\"+\n     \"may be due to a slow or bad network connection. Possible fixes:\\n\"+\n     \"</p>\\n\"+\n     \"<ul>\\n\"+\n     \"<li>re-rerun `output_notebook()` to attempt to load from CDN again, or</li>\\n\"+\n     \"<li>use INLINE resources instead, as so:</li>\\n\"+\n     \"</ul>\\n\"+\n     \"<code>\\n\"+\n     \"from bokeh.resources import INLINE\\n\"+\n     \"output_notebook(resources=INLINE)\\n\"+\n     \"</code>\\n\"+\n     \"</div>\"}};\n\n  function display_loaded() {\n    var el = document.getElementById(\"9246da71-11d0-4926-8ce5-49ee66dee974\");\n    if (el != null) {\n      el.textContent = \"BokehJS is loading...\";\n    }\n    if (root.Bokeh !== undefined) {\n      if (el != null) {\n        el.textContent = \"BokehJS \" + root.Bokeh.version + \" successfully loaded.\";\n      }\n    } else if (Date.now() < root._bokeh_timeout) {\n      setTimeout(display_loaded, 100)\n    }\n  }\n\n\n  function run_callbacks() {\n    try {\n      root._bokeh_onload_callbacks.forEach(function(callback) { callback() });\n    }\n    finally {\n      delete root._bokeh_onload_callbacks\n    }\n    console.info(\"Bokeh: all callbacks have finished\");\n  }\n\n  function load_libs(js_urls, callback) {\n    root._bokeh_onload_callbacks.push(callback);\n    if (root._bokeh_is_loading > 0) {\n      console.log(\"Bokeh: BokehJS is being loaded, scheduling callback at\", now());\n      return null;\n    }\n    if (js_urls == null || js_urls.length === 0) {\n      run_callbacks();\n      return null;\n    }\n    console.log(\"Bokeh: BokehJS not loaded, scheduling load and callback at\", now());\n    root._bokeh_is_loading = js_urls.length;\n    for (var i = 0; i < js_urls.length; i++) {\n      var url = js_urls[i];\n      var s = document.createElement('script');\n      s.src = url;\n      s.async = false;\n      s.onreadystatechange = s.onload = function() {\n        root._bokeh_is_loading--;\n        if (root._bokeh_is_loading === 0) {\n          console.log(\"Bokeh: all BokehJS libraries loaded\");\n          run_callbacks()\n        }\n      };\n      s.onerror = function() {\n        console.warn(\"failed to load library \" + url);\n      };\n      console.log(\"Bokeh: injecting script tag for BokehJS library: \", url);\n      document.getElementsByTagName(\"head\")[0].appendChild(s);\n    }\n  };var element = document.getElementById(\"9246da71-11d0-4926-8ce5-49ee66dee974\");\n  if (element == null) {\n    console.log(\"Bokeh: ERROR: autoload.js configured with elementid '9246da71-11d0-4926-8ce5-49ee66dee974' but no matching script tag was found. \")\n    return false;\n  }\n\n  var js_urls = [\"https://cdn.pydata.org/bokeh/release/bokeh-0.13.0.min.js\", \"https://cdn.pydata.org/bokeh/release/bokeh-widgets-0.13.0.min.js\", \"https://cdn.pydata.org/bokeh/release/bokeh-tables-0.13.0.min.js\", \"https://cdn.pydata.org/bokeh/release/bokeh-gl-0.13.0.min.js\"];\n\n  var inline_js = [\n    function(Bokeh) {\n      Bokeh.set_log_level(\"info\");\n    },\n    \n    function(Bokeh) {\n      \n    },\n    function(Bokeh) {\n      console.log(\"Bokeh: injecting CSS: https://cdn.pydata.org/bokeh/release/bokeh-0.13.0.min.css\");\n      Bokeh.embed.inject_css(\"https://cdn.pydata.org/bokeh/release/bokeh-0.13.0.min.css\");\n      console.log(\"Bokeh: injecting CSS: https://cdn.pydata.org/bokeh/release/bokeh-widgets-0.13.0.min.css\");\n      Bokeh.embed.inject_css(\"https://cdn.pydata.org/bokeh/release/bokeh-widgets-0.13.0.min.css\");\n      console.log(\"Bokeh: injecting CSS: https://cdn.pydata.org/bokeh/release/bokeh-tables-0.13.0.min.css\");\n      Bokeh.embed.inject_css(\"https://cdn.pydata.org/bokeh/release/bokeh-tables-0.13.0.min.css\");\n    }\n  ];\n\n  function run_inline_js() {\n    \n    if ((root.Bokeh !== undefined) || (force === true)) {\n      for (var i = 0; i < inline_js.length; i++) {\n        inline_js[i].call(root, root.Bokeh);\n      }if (force === true) {\n        display_loaded();\n      }} else if (Date.now() < root._bokeh_timeout) {\n      setTimeout(run_inline_js, 100);\n    } else if (!root._bokeh_failed_load) {\n      console.log(\"Bokeh: BokehJS failed to load within specified timeout.\");\n      root._bokeh_failed_load = true;\n    } else if (force !== true) {\n      var cell = $(document.getElementById(\"9246da71-11d0-4926-8ce5-49ee66dee974\")).parents('.cell').data().cell;\n      cell.output_area.append_execute_result(NB_LOAD_WARNING)\n    }\n\n  }\n\n  if (root._bokeh_is_loading === 0) {\n    console.log(\"Bokeh: BokehJS loaded, going straight to plotting\");\n    run_inline_js();\n  } else {\n    load_libs(js_urls, function() {\n      console.log(\"Bokeh: BokehJS plotting callback run at\", now());\n      run_inline_js();\n    });\n  }\n}(window));"
     },
     "metadata": {},
     "output_type": "display_data"
    }
   ],
   "source": [
    "output_notebook()"
   ]
  },
  {
   "cell_type": "markdown",
   "metadata": {},
   "source": [
    "#### Start off with a figure"
   ]
  },
  {
   "cell_type": "code",
   "execution_count": 3,
   "metadata": {},
   "outputs": [],
   "source": [
    "p = figure(plot_width = 600, \n",
    "           plot_height = 300)"
   ]
  },
  {
   "cell_type": "markdown",
   "metadata": {},
   "source": [
    "#### Define a rectangle using the Quad glyph\n",
    "We can use this to define a list of quadrilaterals whose edges are parallel to the axes. We start off by defining one such quadrilateral.\n",
    "\n",
    "The values to pass are the top, bottom, left and right of the quadrilaterals. \n",
    "\n",
    "Note that even though the width is 1 unit and the height is 6, the quadrilateral appears wider than it is high due to the auto-scaling feature of bokeh plots."
   ]
  },
  {
   "cell_type": "code",
   "execution_count": 4,
   "metadata": {},
   "outputs": [
    {
     "data": {
      "text/html": [
       "\n",
       "\n",
       "\n",
       "\n",
       "\n",
       "\n",
       "  <div class=\"bk-root\" id=\"011d8e43-9914-46e9-bc05-700526196162\"></div>\n"
      ]
     },
     "metadata": {},
     "output_type": "display_data"
    },
    {
     "data": {
      "application/javascript": [
       "(function(root) {\n",
       "  function embed_document(root) {\n",
       "    \n",
       "  var docs_json = {\"59e5236d-545d-4250-ac34-442328db15f6\":{\"roots\":{\"references\":[{\"attributes\":{\"bottom_units\":\"screen\",\"fill_alpha\":{\"value\":0.5},\"fill_color\":{\"value\":\"lightgrey\"},\"left_units\":\"screen\",\"level\":\"overlay\",\"line_alpha\":{\"value\":1.0},\"line_color\":{\"value\":\"black\"},\"line_dash\":[4,4],\"line_width\":{\"value\":2},\"plot\":null,\"render_mode\":\"css\",\"right_units\":\"screen\",\"top_units\":\"screen\"},\"id\":\"77acac35-25fd-4513-bb68-fa490c4c617d\",\"type\":\"BoxAnnotation\"},{\"attributes\":{\"callback\":null,\"data\":{\"bottom\":[1],\"left\":[1],\"right\":[2],\"top\":[7]},\"selected\":{\"id\":\"7fd990b7-75aa-4ea8-849b-fd7c448ac166\",\"type\":\"Selection\"},\"selection_policy\":{\"id\":\"3abcb1d5-ef4b-4cb1-aad8-95c323acdc27\",\"type\":\"UnionRenderers\"}},\"id\":\"f836ac26-a60d-4ca0-989f-4ed8b987202e\",\"type\":\"ColumnDataSource\"},{\"attributes\":{\"below\":[{\"id\":\"ea689242-13b6-4006-a219-735fdf394f13\",\"type\":\"LinearAxis\"}],\"left\":[{\"id\":\"a2ba7830-6c39-47ca-8cb9-0b4d64f9b322\",\"type\":\"LinearAxis\"}],\"plot_height\":300,\"renderers\":[{\"id\":\"ea689242-13b6-4006-a219-735fdf394f13\",\"type\":\"LinearAxis\"},{\"id\":\"7ab0644e-8711-46e7-a5da-b4187ea20fce\",\"type\":\"Grid\"},{\"id\":\"a2ba7830-6c39-47ca-8cb9-0b4d64f9b322\",\"type\":\"LinearAxis\"},{\"id\":\"1bfd6ff4-ff15-480c-bf77-942e7221bf1c\",\"type\":\"Grid\"},{\"id\":\"77acac35-25fd-4513-bb68-fa490c4c617d\",\"type\":\"BoxAnnotation\"},{\"id\":\"1141dbe6-6543-49e8-835c-5bd48cf8a9a8\",\"type\":\"GlyphRenderer\"}],\"title\":{\"id\":\"75e08856-2891-4596-892e-c62563173fba\",\"type\":\"Title\"},\"toolbar\":{\"id\":\"4bec7c5c-c25b-46c0-8319-9a82f8c67c11\",\"type\":\"Toolbar\"},\"x_range\":{\"id\":\"f4923480-3306-4a59-934b-d0c3ee33ef30\",\"type\":\"DataRange1d\"},\"x_scale\":{\"id\":\"50770470-96e5-41cf-8f53-a02b74233516\",\"type\":\"LinearScale\"},\"y_range\":{\"id\":\"4993c795-b3c6-4615-9d52-a6374238cd55\",\"type\":\"DataRange1d\"},\"y_scale\":{\"id\":\"28b2d58a-56c2-46eb-8702-76929fde1b56\",\"type\":\"LinearScale\"}},\"id\":\"dece1d28-9635-4aad-9c7a-15349ecf73b7\",\"subtype\":\"Figure\",\"type\":\"Plot\"},{\"attributes\":{\"plot\":null,\"text\":\"\"},\"id\":\"75e08856-2891-4596-892e-c62563173fba\",\"type\":\"Title\"},{\"attributes\":{},\"id\":\"7fd990b7-75aa-4ea8-849b-fd7c448ac166\",\"type\":\"Selection\"},{\"attributes\":{\"source\":{\"id\":\"f836ac26-a60d-4ca0-989f-4ed8b987202e\",\"type\":\"ColumnDataSource\"}},\"id\":\"4e021aad-70f9-4bdd-99ee-0caae32a2f53\",\"type\":\"CDSView\"},{\"attributes\":{},\"id\":\"3f9768ef-d2ec-4e6d-8f99-c70a2465ab5e\",\"type\":\"PanTool\"},{\"attributes\":{\"active_drag\":\"auto\",\"active_inspect\":\"auto\",\"active_multi\":null,\"active_scroll\":\"auto\",\"active_tap\":\"auto\",\"tools\":[{\"id\":\"3f9768ef-d2ec-4e6d-8f99-c70a2465ab5e\",\"type\":\"PanTool\"},{\"id\":\"3145fef1-81ab-4a24-8d2f-c486a313b733\",\"type\":\"WheelZoomTool\"},{\"id\":\"c544ec95-96c4-4ce0-b67b-353ca8d11fc4\",\"type\":\"BoxZoomTool\"},{\"id\":\"bba8a7fc-975c-4d56-8fb4-f084a83bbd4f\",\"type\":\"SaveTool\"},{\"id\":\"1fe7d165-2943-4198-ad01-2c35a3c4c692\",\"type\":\"ResetTool\"},{\"id\":\"adb5c19f-cc87-48c0-84d1-062e3db12048\",\"type\":\"HelpTool\"}]},\"id\":\"4bec7c5c-c25b-46c0-8319-9a82f8c67c11\",\"type\":\"Toolbar\"},{\"attributes\":{\"callback\":null},\"id\":\"f4923480-3306-4a59-934b-d0c3ee33ef30\",\"type\":\"DataRange1d\"},{\"attributes\":{\"bottom\":{\"field\":\"bottom\"},\"fill_color\":{\"value\":\"#1f77b4\"},\"left\":{\"field\":\"left\"},\"line_color\":{\"value\":\"#1f77b4\"},\"right\":{\"field\":\"right\"},\"top\":{\"field\":\"top\"}},\"id\":\"2bae0d9d-068a-4c44-9816-485caea4062e\",\"type\":\"Quad\"},{\"attributes\":{},\"id\":\"3145fef1-81ab-4a24-8d2f-c486a313b733\",\"type\":\"WheelZoomTool\"},{\"attributes\":{\"bottom\":{\"field\":\"bottom\"},\"fill_alpha\":{\"value\":0.1},\"fill_color\":{\"value\":\"#1f77b4\"},\"left\":{\"field\":\"left\"},\"line_alpha\":{\"value\":0.1},\"line_color\":{\"value\":\"#1f77b4\"},\"right\":{\"field\":\"right\"},\"top\":{\"field\":\"top\"}},\"id\":\"2ecbadd8-53c4-45fd-9e4a-0275affa1920\",\"type\":\"Quad\"},{\"attributes\":{},\"id\":\"adb5c19f-cc87-48c0-84d1-062e3db12048\",\"type\":\"HelpTool\"},{\"attributes\":{\"callback\":null},\"id\":\"4993c795-b3c6-4615-9d52-a6374238cd55\",\"type\":\"DataRange1d\"},{\"attributes\":{},\"id\":\"50770470-96e5-41cf-8f53-a02b74233516\",\"type\":\"LinearScale\"},{\"attributes\":{\"overlay\":{\"id\":\"77acac35-25fd-4513-bb68-fa490c4c617d\",\"type\":\"BoxAnnotation\"}},\"id\":\"c544ec95-96c4-4ce0-b67b-353ca8d11fc4\",\"type\":\"BoxZoomTool\"},{\"attributes\":{},\"id\":\"28b2d58a-56c2-46eb-8702-76929fde1b56\",\"type\":\"LinearScale\"},{\"attributes\":{},\"id\":\"e1bb9a6e-140e-4277-8dd1-ef3a22fe153b\",\"type\":\"BasicTickFormatter\"},{\"attributes\":{},\"id\":\"bba8a7fc-975c-4d56-8fb4-f084a83bbd4f\",\"type\":\"SaveTool\"},{\"attributes\":{},\"id\":\"1fe7d165-2943-4198-ad01-2c35a3c4c692\",\"type\":\"ResetTool\"},{\"attributes\":{\"formatter\":{\"id\":\"e1bb9a6e-140e-4277-8dd1-ef3a22fe153b\",\"type\":\"BasicTickFormatter\"},\"plot\":{\"id\":\"dece1d28-9635-4aad-9c7a-15349ecf73b7\",\"subtype\":\"Figure\",\"type\":\"Plot\"},\"ticker\":{\"id\":\"ca2490f2-5e3e-43f4-9d13-f910098f15aa\",\"type\":\"BasicTicker\"}},\"id\":\"ea689242-13b6-4006-a219-735fdf394f13\",\"type\":\"LinearAxis\"},{\"attributes\":{},\"id\":\"a407e467-b170-4529-b9db-ffb40aedaf01\",\"type\":\"BasicTickFormatter\"},{\"attributes\":{},\"id\":\"3abcb1d5-ef4b-4cb1-aad8-95c323acdc27\",\"type\":\"UnionRenderers\"},{\"attributes\":{},\"id\":\"ca2490f2-5e3e-43f4-9d13-f910098f15aa\",\"type\":\"BasicTicker\"},{\"attributes\":{\"plot\":{\"id\":\"dece1d28-9635-4aad-9c7a-15349ecf73b7\",\"subtype\":\"Figure\",\"type\":\"Plot\"},\"ticker\":{\"id\":\"ca2490f2-5e3e-43f4-9d13-f910098f15aa\",\"type\":\"BasicTicker\"}},\"id\":\"7ab0644e-8711-46e7-a5da-b4187ea20fce\",\"type\":\"Grid\"},{\"attributes\":{\"formatter\":{\"id\":\"a407e467-b170-4529-b9db-ffb40aedaf01\",\"type\":\"BasicTickFormatter\"},\"plot\":{\"id\":\"dece1d28-9635-4aad-9c7a-15349ecf73b7\",\"subtype\":\"Figure\",\"type\":\"Plot\"},\"ticker\":{\"id\":\"071c8dcf-4b47-4d77-b47b-cef10ab79300\",\"type\":\"BasicTicker\"}},\"id\":\"a2ba7830-6c39-47ca-8cb9-0b4d64f9b322\",\"type\":\"LinearAxis\"},{\"attributes\":{\"data_source\":{\"id\":\"f836ac26-a60d-4ca0-989f-4ed8b987202e\",\"type\":\"ColumnDataSource\"},\"glyph\":{\"id\":\"2bae0d9d-068a-4c44-9816-485caea4062e\",\"type\":\"Quad\"},\"hover_glyph\":null,\"muted_glyph\":null,\"nonselection_glyph\":{\"id\":\"2ecbadd8-53c4-45fd-9e4a-0275affa1920\",\"type\":\"Quad\"},\"selection_glyph\":null,\"view\":{\"id\":\"4e021aad-70f9-4bdd-99ee-0caae32a2f53\",\"type\":\"CDSView\"}},\"id\":\"1141dbe6-6543-49e8-835c-5bd48cf8a9a8\",\"type\":\"GlyphRenderer\"},{\"attributes\":{},\"id\":\"071c8dcf-4b47-4d77-b47b-cef10ab79300\",\"type\":\"BasicTicker\"},{\"attributes\":{\"dimension\":1,\"plot\":{\"id\":\"dece1d28-9635-4aad-9c7a-15349ecf73b7\",\"subtype\":\"Figure\",\"type\":\"Plot\"},\"ticker\":{\"id\":\"071c8dcf-4b47-4d77-b47b-cef10ab79300\",\"type\":\"BasicTicker\"}},\"id\":\"1bfd6ff4-ff15-480c-bf77-942e7221bf1c\",\"type\":\"Grid\"}],\"root_ids\":[\"dece1d28-9635-4aad-9c7a-15349ecf73b7\"]},\"title\":\"Bokeh Application\",\"version\":\"0.13.0\"}};\n",
       "  var render_items = [{\"docid\":\"59e5236d-545d-4250-ac34-442328db15f6\",\"roots\":{\"dece1d28-9635-4aad-9c7a-15349ecf73b7\":\"011d8e43-9914-46e9-bc05-700526196162\"}}];\n",
       "  root.Bokeh.embed.embed_items_notebook(docs_json, render_items);\n",
       "\n",
       "  }\n",
       "  if (root.Bokeh !== undefined) {\n",
       "    embed_document(root);\n",
       "  } else {\n",
       "    var attempts = 0;\n",
       "    var timer = setInterval(function(root) {\n",
       "      if (root.Bokeh !== undefined) {\n",
       "        embed_document(root);\n",
       "        clearInterval(timer);\n",
       "      }\n",
       "      attempts++;\n",
       "      if (attempts > 100) {\n",
       "        console.log(\"Bokeh: ERROR: Unable to run BokehJS code because BokehJS library is missing\")\n",
       "        clearInterval(timer);\n",
       "      }\n",
       "    }, 10, root)\n",
       "  }\n",
       "})(window);"
      ],
      "application/vnd.bokehjs_exec.v0+json": ""
     },
     "metadata": {
      "application/vnd.bokehjs_exec.v0+json": {
       "id": "dece1d28-9635-4aad-9c7a-15349ecf73b7"
      }
     },
     "output_type": "display_data"
    }
   ],
   "source": [
    "p.quad(bottom=[1],\n",
    "       top=[7], \n",
    "       left=[1],\n",
    "       right=[2]\n",
    "      )\n",
    "\n",
    "show(p)"
   ]
  },
  {
   "cell_type": "markdown",
   "metadata": {},
   "source": [
    "#### Set the aspect ratio of the axes to be 1:1\n",
    "The match_aspect property for a figure allows us to address this skewed appearance"
   ]
  },
  {
   "cell_type": "code",
   "execution_count": 5,
   "metadata": {},
   "outputs": [],
   "source": [
    "p = figure(plot_height = 300, \n",
    "           \n",
    "           match_aspect = True)"
   ]
  },
  {
   "cell_type": "markdown",
   "metadata": {},
   "source": [
    "#### Plot the same quadrilateral on the new figure\n",
    "This time the shape is represented with the correct proportions. Note that Bokeh has adjusted the axes so that the shape appears in the middle of the plot"
   ]
  },
  {
   "cell_type": "code",
   "execution_count": 6,
   "metadata": {},
   "outputs": [
    {
     "data": {
      "text/html": [
       "\n",
       "\n",
       "\n",
       "\n",
       "\n",
       "\n",
       "  <div class=\"bk-root\" id=\"76e74970-f0b1-47a9-ae4c-b158b26eeb3e\"></div>\n"
      ]
     },
     "metadata": {},
     "output_type": "display_data"
    },
    {
     "data": {
      "application/javascript": [
       "(function(root) {\n",
       "  function embed_document(root) {\n",
       "    \n",
       "  var docs_json = {\"1e0feac1-1023-4bfc-9da7-f761bce6915e\":{\"roots\":{\"references\":[{\"attributes\":{\"dimension\":1,\"plot\":{\"id\":\"dcd29cd0-e950-4f81-a6bc-46712f514a70\",\"subtype\":\"Figure\",\"type\":\"Plot\"},\"ticker\":{\"id\":\"d16aa656-891c-40b3-8558-b9527f7645f3\",\"type\":\"BasicTicker\"}},\"id\":\"7540e266-e3fe-4129-be89-2060b49de5ab\",\"type\":\"Grid\"},{\"attributes\":{\"formatter\":{\"id\":\"e063b61b-99b4-4d8c-a594-dc5a5734a29a\",\"type\":\"BasicTickFormatter\"},\"plot\":{\"id\":\"dcd29cd0-e950-4f81-a6bc-46712f514a70\",\"subtype\":\"Figure\",\"type\":\"Plot\"},\"ticker\":{\"id\":\"f9946ded-11c3-413b-89bd-9321d9bfbbab\",\"type\":\"BasicTicker\"}},\"id\":\"491502cb-d6b7-42e3-b50c-eb6f8543ae2a\",\"type\":\"LinearAxis\"},{\"attributes\":{\"plot\":null,\"text\":\"\"},\"id\":\"b3096c93-6f21-4a59-9f0b-70a8dcd50df5\",\"type\":\"Title\"},{\"attributes\":{},\"id\":\"f9946ded-11c3-413b-89bd-9321d9bfbbab\",\"type\":\"BasicTicker\"},{\"attributes\":{\"plot\":{\"id\":\"dcd29cd0-e950-4f81-a6bc-46712f514a70\",\"subtype\":\"Figure\",\"type\":\"Plot\"},\"ticker\":{\"id\":\"f9946ded-11c3-413b-89bd-9321d9bfbbab\",\"type\":\"BasicTicker\"}},\"id\":\"e3a63a8b-7e2e-45e9-b83e-2c00d1330ae9\",\"type\":\"Grid\"},{\"attributes\":{\"data_source\":{\"id\":\"052987fd-ef68-4dee-8994-42d907ed735f\",\"type\":\"ColumnDataSource\"},\"glyph\":{\"id\":\"2e0a6235-07e5-47a9-8c25-00f57ab23dfe\",\"type\":\"Quad\"},\"hover_glyph\":null,\"muted_glyph\":null,\"nonselection_glyph\":{\"id\":\"0cd3e5db-4e92-4a8b-97d6-c40fc5226648\",\"type\":\"Quad\"},\"selection_glyph\":null,\"view\":{\"id\":\"4f8978a9-ccde-4d41-9375-3df91b17644f\",\"type\":\"CDSView\"}},\"id\":\"28c4bd15-7c02-4522-8da5-83749b9939a7\",\"type\":\"GlyphRenderer\"},{\"attributes\":{},\"id\":\"38bd7c09-ddd7-49fa-ad4d-97ed52187be3\",\"type\":\"HelpTool\"},{\"attributes\":{},\"id\":\"7e6c24ab-9516-4e8b-87ba-8960c002910f\",\"type\":\"LinearScale\"},{\"attributes\":{},\"id\":\"d16aa656-891c-40b3-8558-b9527f7645f3\",\"type\":\"BasicTicker\"},{\"attributes\":{},\"id\":\"a878222e-ec35-4370-90ef-e18d67a8bd6d\",\"type\":\"ResetTool\"},{\"attributes\":{\"bottom\":{\"field\":\"bottom\"},\"fill_alpha\":{\"value\":0.1},\"fill_color\":{\"value\":\"#1f77b4\"},\"left\":{\"field\":\"left\"},\"line_alpha\":{\"value\":0.1},\"line_color\":{\"value\":\"#1f77b4\"},\"right\":{\"field\":\"right\"},\"top\":{\"field\":\"top\"}},\"id\":\"0cd3e5db-4e92-4a8b-97d6-c40fc5226648\",\"type\":\"Quad\"},{\"attributes\":{\"formatter\":{\"id\":\"28fb03b7-1baf-43b1-a8ca-eab3c960d91f\",\"type\":\"BasicTickFormatter\"},\"plot\":{\"id\":\"dcd29cd0-e950-4f81-a6bc-46712f514a70\",\"subtype\":\"Figure\",\"type\":\"Plot\"},\"ticker\":{\"id\":\"d16aa656-891c-40b3-8558-b9527f7645f3\",\"type\":\"BasicTicker\"}},\"id\":\"b83fedd8-e1ae-4a27-92b5-bbe9bd002e6e\",\"type\":\"LinearAxis\"},{\"attributes\":{},\"id\":\"0c5f65a0-bbe0-4619-97e2-d79c05cb7013\",\"type\":\"LinearScale\"},{\"attributes\":{\"overlay\":{\"id\":\"5adf34a7-193a-4b97-82b8-a6e2314f737c\",\"type\":\"BoxAnnotation\"}},\"id\":\"ed5fca34-aa6f-46c0-831e-d11418e8bdfb\",\"type\":\"BoxZoomTool\"},{\"attributes\":{\"callback\":null},\"id\":\"6a5f896e-03b8-4c59-8e61-4381605555ba\",\"type\":\"DataRange1d\"},{\"attributes\":{},\"id\":\"614e96b3-738e-4123-a3e7-c7eb64daaa90\",\"type\":\"Selection\"},{\"attributes\":{},\"id\":\"a9ee1144-ab77-4a97-a07c-cb255b61c601\",\"type\":\"SaveTool\"},{\"attributes\":{\"callback\":null},\"id\":\"c851b115-0c8f-4c10-9c01-839824b68a83\",\"type\":\"DataRange1d\"},{\"attributes\":{\"bottom\":{\"field\":\"bottom\"},\"fill_color\":{\"value\":\"#1f77b4\"},\"left\":{\"field\":\"left\"},\"line_color\":{\"value\":\"#1f77b4\"},\"right\":{\"field\":\"right\"},\"top\":{\"field\":\"top\"}},\"id\":\"2e0a6235-07e5-47a9-8c25-00f57ab23dfe\",\"type\":\"Quad\"},{\"attributes\":{},\"id\":\"a60f56a4-2d2b-45ff-b6b4-834b0f199808\",\"type\":\"UnionRenderers\"},{\"attributes\":{},\"id\":\"44511c0b-5991-4280-81f3-1a188081f1ae\",\"type\":\"WheelZoomTool\"},{\"attributes\":{\"callback\":null,\"data\":{\"bottom\":[1],\"left\":[1],\"right\":[2],\"top\":[7]},\"selected\":{\"id\":\"614e96b3-738e-4123-a3e7-c7eb64daaa90\",\"type\":\"Selection\"},\"selection_policy\":{\"id\":\"a60f56a4-2d2b-45ff-b6b4-834b0f199808\",\"type\":\"UnionRenderers\"}},\"id\":\"052987fd-ef68-4dee-8994-42d907ed735f\",\"type\":\"ColumnDataSource\"},{\"attributes\":{\"active_drag\":\"auto\",\"active_inspect\":\"auto\",\"active_multi\":null,\"active_scroll\":\"auto\",\"active_tap\":\"auto\",\"tools\":[{\"id\":\"38c35ea5-0bc9-40d3-8c1a-b5c7f20e954f\",\"type\":\"PanTool\"},{\"id\":\"44511c0b-5991-4280-81f3-1a188081f1ae\",\"type\":\"WheelZoomTool\"},{\"id\":\"ed5fca34-aa6f-46c0-831e-d11418e8bdfb\",\"type\":\"BoxZoomTool\"},{\"id\":\"a9ee1144-ab77-4a97-a07c-cb255b61c601\",\"type\":\"SaveTool\"},{\"id\":\"a878222e-ec35-4370-90ef-e18d67a8bd6d\",\"type\":\"ResetTool\"},{\"id\":\"38bd7c09-ddd7-49fa-ad4d-97ed52187be3\",\"type\":\"HelpTool\"}]},\"id\":\"25fc5a54-397b-46fd-96a3-cab6d463cfab\",\"type\":\"Toolbar\"},{\"attributes\":{},\"id\":\"38c35ea5-0bc9-40d3-8c1a-b5c7f20e954f\",\"type\":\"PanTool\"},{\"attributes\":{\"bottom_units\":\"screen\",\"fill_alpha\":{\"value\":0.5},\"fill_color\":{\"value\":\"lightgrey\"},\"left_units\":\"screen\",\"level\":\"overlay\",\"line_alpha\":{\"value\":1.0},\"line_color\":{\"value\":\"black\"},\"line_dash\":[4,4],\"line_width\":{\"value\":2},\"plot\":null,\"render_mode\":\"css\",\"right_units\":\"screen\",\"top_units\":\"screen\"},\"id\":\"5adf34a7-193a-4b97-82b8-a6e2314f737c\",\"type\":\"BoxAnnotation\"},{\"attributes\":{\"below\":[{\"id\":\"491502cb-d6b7-42e3-b50c-eb6f8543ae2a\",\"type\":\"LinearAxis\"}],\"left\":[{\"id\":\"b83fedd8-e1ae-4a27-92b5-bbe9bd002e6e\",\"type\":\"LinearAxis\"}],\"match_aspect\":true,\"plot_height\":300,\"renderers\":[{\"id\":\"491502cb-d6b7-42e3-b50c-eb6f8543ae2a\",\"type\":\"LinearAxis\"},{\"id\":\"e3a63a8b-7e2e-45e9-b83e-2c00d1330ae9\",\"type\":\"Grid\"},{\"id\":\"b83fedd8-e1ae-4a27-92b5-bbe9bd002e6e\",\"type\":\"LinearAxis\"},{\"id\":\"7540e266-e3fe-4129-be89-2060b49de5ab\",\"type\":\"Grid\"},{\"id\":\"5adf34a7-193a-4b97-82b8-a6e2314f737c\",\"type\":\"BoxAnnotation\"},{\"id\":\"28c4bd15-7c02-4522-8da5-83749b9939a7\",\"type\":\"GlyphRenderer\"}],\"title\":{\"id\":\"b3096c93-6f21-4a59-9f0b-70a8dcd50df5\",\"type\":\"Title\"},\"toolbar\":{\"id\":\"25fc5a54-397b-46fd-96a3-cab6d463cfab\",\"type\":\"Toolbar\"},\"x_range\":{\"id\":\"c851b115-0c8f-4c10-9c01-839824b68a83\",\"type\":\"DataRange1d\"},\"x_scale\":{\"id\":\"7e6c24ab-9516-4e8b-87ba-8960c002910f\",\"type\":\"LinearScale\"},\"y_range\":{\"id\":\"6a5f896e-03b8-4c59-8e61-4381605555ba\",\"type\":\"DataRange1d\"},\"y_scale\":{\"id\":\"0c5f65a0-bbe0-4619-97e2-d79c05cb7013\",\"type\":\"LinearScale\"}},\"id\":\"dcd29cd0-e950-4f81-a6bc-46712f514a70\",\"subtype\":\"Figure\",\"type\":\"Plot\"},{\"attributes\":{\"source\":{\"id\":\"052987fd-ef68-4dee-8994-42d907ed735f\",\"type\":\"ColumnDataSource\"}},\"id\":\"4f8978a9-ccde-4d41-9375-3df91b17644f\",\"type\":\"CDSView\"},{\"attributes\":{},\"id\":\"e063b61b-99b4-4d8c-a594-dc5a5734a29a\",\"type\":\"BasicTickFormatter\"},{\"attributes\":{},\"id\":\"28fb03b7-1baf-43b1-a8ca-eab3c960d91f\",\"type\":\"BasicTickFormatter\"}],\"root_ids\":[\"dcd29cd0-e950-4f81-a6bc-46712f514a70\"]},\"title\":\"Bokeh Application\",\"version\":\"0.13.0\"}};\n",
       "  var render_items = [{\"docid\":\"1e0feac1-1023-4bfc-9da7-f761bce6915e\",\"roots\":{\"dcd29cd0-e950-4f81-a6bc-46712f514a70\":\"76e74970-f0b1-47a9-ae4c-b158b26eeb3e\"}}];\n",
       "  root.Bokeh.embed.embed_items_notebook(docs_json, render_items);\n",
       "\n",
       "  }\n",
       "  if (root.Bokeh !== undefined) {\n",
       "    embed_document(root);\n",
       "  } else {\n",
       "    var attempts = 0;\n",
       "    var timer = setInterval(function(root) {\n",
       "      if (root.Bokeh !== undefined) {\n",
       "        embed_document(root);\n",
       "        clearInterval(timer);\n",
       "      }\n",
       "      attempts++;\n",
       "      if (attempts > 100) {\n",
       "        console.log(\"Bokeh: ERROR: Unable to run BokehJS code because BokehJS library is missing\")\n",
       "        clearInterval(timer);\n",
       "      }\n",
       "    }, 10, root)\n",
       "  }\n",
       "})(window);"
      ],
      "application/vnd.bokehjs_exec.v0+json": ""
     },
     "metadata": {
      "application/vnd.bokehjs_exec.v0+json": {
       "id": "dcd29cd0-e950-4f81-a6bc-46712f514a70"
      }
     },
     "output_type": "display_data"
    }
   ],
   "source": [
    "p.quad(bottom=[1],\n",
    "       top=[7], \n",
    "       left=[1],\n",
    "       right=[2]\n",
    "      )\n",
    "\n",
    "show(p)"
   ]
  },
  {
   "cell_type": "markdown",
   "metadata": {},
   "source": [
    "#### Plotting multiple quadrilaterals\n",
    "Just like with multiple lines, we can format the individual quads by passing the formatting options (fill_color in this example) in a list"
   ]
  },
  {
   "cell_type": "code",
   "execution_count": 7,
   "metadata": {},
   "outputs": [
    {
     "data": {
      "text/html": [
       "\n",
       "\n",
       "\n",
       "\n",
       "\n",
       "\n",
       "  <div class=\"bk-root\" id=\"c3be5007-9b4d-4f7f-a9d4-94d573181939\"></div>\n"
      ]
     },
     "metadata": {},
     "output_type": "display_data"
    },
    {
     "data": {
      "application/javascript": [
       "(function(root) {\n",
       "  function embed_document(root) {\n",
       "    \n",
       "  var docs_json = {\"66f7e0a5-360b-4bab-be55-a3cb38c2ffc9\":{\"roots\":{\"references\":[{\"attributes\":{\"plot\":{\"id\":\"d03d33a0-2484-4c05-bd1e-509ca51d3a7f\",\"subtype\":\"Figure\",\"type\":\"Plot\"},\"ticker\":{\"id\":\"2927272b-8464-4f23-b2fd-eaa7347bc93c\",\"type\":\"BasicTicker\"}},\"id\":\"116fab12-c493-4608-a6d5-a0c3d42d37cd\",\"type\":\"Grid\"},{\"attributes\":{\"formatter\":{\"id\":\"178f40f0-f052-4c63-9148-7f8550304e60\",\"type\":\"BasicTickFormatter\"},\"plot\":{\"id\":\"d03d33a0-2484-4c05-bd1e-509ca51d3a7f\",\"subtype\":\"Figure\",\"type\":\"Plot\"},\"ticker\":{\"id\":\"2927272b-8464-4f23-b2fd-eaa7347bc93c\",\"type\":\"BasicTicker\"}},\"id\":\"fd9236f3-005e-456c-9cc5-584a6e93a922\",\"type\":\"LinearAxis\"},{\"attributes\":{},\"id\":\"7d968980-c5aa-4e28-9f44-11cc248bd741\",\"type\":\"LinearScale\"},{\"attributes\":{\"formatter\":{\"id\":\"00d47b07-cd2d-4fac-944f-d1aa09d49dc9\",\"type\":\"BasicTickFormatter\"},\"plot\":{\"id\":\"d03d33a0-2484-4c05-bd1e-509ca51d3a7f\",\"subtype\":\"Figure\",\"type\":\"Plot\"},\"ticker\":{\"id\":\"83d8d288-9ef9-480d-ba20-8df439cd53a7\",\"type\":\"BasicTicker\"}},\"id\":\"adf8fa99-f470-44be-a76a-cae8458c06f4\",\"type\":\"LinearAxis\"},{\"attributes\":{},\"id\":\"2927272b-8464-4f23-b2fd-eaa7347bc93c\",\"type\":\"BasicTicker\"},{\"attributes\":{\"plot\":null,\"text\":\"\"},\"id\":\"1005e1b0-4564-48fc-82f5-ce72c7a48eef\",\"type\":\"Title\"},{\"attributes\":{},\"id\":\"334e27d2-331f-464b-b1fc-452d872fb784\",\"type\":\"PanTool\"},{\"attributes\":{\"active_drag\":\"auto\",\"active_inspect\":\"auto\",\"active_multi\":null,\"active_scroll\":\"auto\",\"active_tap\":\"auto\",\"tools\":[{\"id\":\"334e27d2-331f-464b-b1fc-452d872fb784\",\"type\":\"PanTool\"},{\"id\":\"93b51422-f399-450b-b964-8df4f5a89a23\",\"type\":\"WheelZoomTool\"},{\"id\":\"3c664982-d60b-49b6-95f3-400c7be6e184\",\"type\":\"BoxZoomTool\"},{\"id\":\"f1ab5f3c-ab08-42d5-a9ea-7e28a2fc430d\",\"type\":\"SaveTool\"},{\"id\":\"5744c3b4-371d-43fd-8bd9-299fed31d10d\",\"type\":\"ResetTool\"},{\"id\":\"4276801e-83e6-4221-b6c9-cbef2951a1fe\",\"type\":\"HelpTool\"}]},\"id\":\"8ac6d89e-8663-4c1d-b3c7-cc24aa4ca254\",\"type\":\"Toolbar\"},{\"attributes\":{\"bottom_units\":\"screen\",\"fill_alpha\":{\"value\":0.5},\"fill_color\":{\"value\":\"lightgrey\"},\"left_units\":\"screen\",\"level\":\"overlay\",\"line_alpha\":{\"value\":1.0},\"line_color\":{\"value\":\"black\"},\"line_dash\":[4,4],\"line_width\":{\"value\":2},\"plot\":null,\"render_mode\":\"css\",\"right_units\":\"screen\",\"top_units\":\"screen\"},\"id\":\"c457c5a4-f2d2-428a-a3d7-4374ef0e82d4\",\"type\":\"BoxAnnotation\"},{\"attributes\":{\"bottom\":{\"field\":\"bottom\"},\"fill_alpha\":{\"value\":0.1},\"fill_color\":{\"value\":\"#1f77b4\"},\"left\":{\"field\":\"left\"},\"line_alpha\":{\"value\":0.1},\"line_color\":{\"value\":\"#1f77b4\"},\"right\":{\"field\":\"right\"},\"top\":{\"field\":\"top\"}},\"id\":\"f6ecea42-080f-4a5d-885b-72bbfae78ff9\",\"type\":\"Quad\"},{\"attributes\":{\"below\":[{\"id\":\"fd9236f3-005e-456c-9cc5-584a6e93a922\",\"type\":\"LinearAxis\"}],\"left\":[{\"id\":\"adf8fa99-f470-44be-a76a-cae8458c06f4\",\"type\":\"LinearAxis\"}],\"match_aspect\":true,\"plot_height\":300,\"renderers\":[{\"id\":\"fd9236f3-005e-456c-9cc5-584a6e93a922\",\"type\":\"LinearAxis\"},{\"id\":\"116fab12-c493-4608-a6d5-a0c3d42d37cd\",\"type\":\"Grid\"},{\"id\":\"adf8fa99-f470-44be-a76a-cae8458c06f4\",\"type\":\"LinearAxis\"},{\"id\":\"3b29d482-5562-466f-a296-2a8d66b98fc5\",\"type\":\"Grid\"},{\"id\":\"c457c5a4-f2d2-428a-a3d7-4374ef0e82d4\",\"type\":\"BoxAnnotation\"},{\"id\":\"9f270104-4964-4010-85b7-c0cf5a34a374\",\"type\":\"GlyphRenderer\"}],\"title\":{\"id\":\"1005e1b0-4564-48fc-82f5-ce72c7a48eef\",\"type\":\"Title\"},\"toolbar\":{\"id\":\"8ac6d89e-8663-4c1d-b3c7-cc24aa4ca254\",\"type\":\"Toolbar\"},\"x_range\":{\"id\":\"80b789b2-8524-4439-9695-e713929a1421\",\"type\":\"DataRange1d\"},\"x_scale\":{\"id\":\"d9c68a43-59d0-4d76-8911-e6b2bddc37a8\",\"type\":\"LinearScale\"},\"y_range\":{\"id\":\"319d392a-b2d1-4dc9-81e5-b87eec0c06cc\",\"type\":\"DataRange1d\"},\"y_scale\":{\"id\":\"7d968980-c5aa-4e28-9f44-11cc248bd741\",\"type\":\"LinearScale\"}},\"id\":\"d03d33a0-2484-4c05-bd1e-509ca51d3a7f\",\"subtype\":\"Figure\",\"type\":\"Plot\"},{\"attributes\":{\"bottom\":{\"field\":\"bottom\"},\"fill_color\":{\"field\":\"fill_color\"},\"left\":{\"field\":\"left\"},\"line_color\":{\"value\":\"#1f77b4\"},\"right\":{\"field\":\"right\"},\"top\":{\"field\":\"top\"}},\"id\":\"baf9f935-1153-4e4e-9aca-d307e7ad2ecd\",\"type\":\"Quad\"},{\"attributes\":{\"data_source\":{\"id\":\"b067e8c3-e44b-4546-b259-acd522c4d736\",\"type\":\"ColumnDataSource\"},\"glyph\":{\"id\":\"baf9f935-1153-4e4e-9aca-d307e7ad2ecd\",\"type\":\"Quad\"},\"hover_glyph\":null,\"muted_glyph\":null,\"nonselection_glyph\":{\"id\":\"f6ecea42-080f-4a5d-885b-72bbfae78ff9\",\"type\":\"Quad\"},\"selection_glyph\":null,\"view\":{\"id\":\"4a32dc37-07ce-445e-afef-62248d7f093c\",\"type\":\"CDSView\"}},\"id\":\"9f270104-4964-4010-85b7-c0cf5a34a374\",\"type\":\"GlyphRenderer\"},{\"attributes\":{\"callback\":null},\"id\":\"319d392a-b2d1-4dc9-81e5-b87eec0c06cc\",\"type\":\"DataRange1d\"},{\"attributes\":{},\"id\":\"f1ab5f3c-ab08-42d5-a9ea-7e28a2fc430d\",\"type\":\"SaveTool\"},{\"attributes\":{\"dimension\":1,\"plot\":{\"id\":\"d03d33a0-2484-4c05-bd1e-509ca51d3a7f\",\"subtype\":\"Figure\",\"type\":\"Plot\"},\"ticker\":{\"id\":\"83d8d288-9ef9-480d-ba20-8df439cd53a7\",\"type\":\"BasicTicker\"}},\"id\":\"3b29d482-5562-466f-a296-2a8d66b98fc5\",\"type\":\"Grid\"},{\"attributes\":{\"overlay\":{\"id\":\"c457c5a4-f2d2-428a-a3d7-4374ef0e82d4\",\"type\":\"BoxAnnotation\"}},\"id\":\"3c664982-d60b-49b6-95f3-400c7be6e184\",\"type\":\"BoxZoomTool\"},{\"attributes\":{},\"id\":\"00d47b07-cd2d-4fac-944f-d1aa09d49dc9\",\"type\":\"BasicTickFormatter\"},{\"attributes\":{},\"id\":\"83d8d288-9ef9-480d-ba20-8df439cd53a7\",\"type\":\"BasicTicker\"},{\"attributes\":{\"callback\":null,\"data\":{\"bottom\":[1,3],\"fill_color\":[\"cyan\",\"lightyellow\"],\"left\":[1,4],\"right\":[2,8],\"top\":[7,6]},\"selected\":{\"id\":\"cf421326-841e-4ab8-b9e2-bc3fe3149ff2\",\"type\":\"Selection\"},\"selection_policy\":{\"id\":\"883574eb-a2c8-4a64-9c1c-8b084224af2f\",\"type\":\"UnionRenderers\"}},\"id\":\"b067e8c3-e44b-4546-b259-acd522c4d736\",\"type\":\"ColumnDataSource\"},{\"attributes\":{},\"id\":\"4276801e-83e6-4221-b6c9-cbef2951a1fe\",\"type\":\"HelpTool\"},{\"attributes\":{},\"id\":\"93b51422-f399-450b-b964-8df4f5a89a23\",\"type\":\"WheelZoomTool\"},{\"attributes\":{},\"id\":\"cf421326-841e-4ab8-b9e2-bc3fe3149ff2\",\"type\":\"Selection\"},{\"attributes\":{},\"id\":\"883574eb-a2c8-4a64-9c1c-8b084224af2f\",\"type\":\"UnionRenderers\"},{\"attributes\":{},\"id\":\"178f40f0-f052-4c63-9148-7f8550304e60\",\"type\":\"BasicTickFormatter\"},{\"attributes\":{},\"id\":\"d9c68a43-59d0-4d76-8911-e6b2bddc37a8\",\"type\":\"LinearScale\"},{\"attributes\":{\"source\":{\"id\":\"b067e8c3-e44b-4546-b259-acd522c4d736\",\"type\":\"ColumnDataSource\"}},\"id\":\"4a32dc37-07ce-445e-afef-62248d7f093c\",\"type\":\"CDSView\"},{\"attributes\":{},\"id\":\"5744c3b4-371d-43fd-8bd9-299fed31d10d\",\"type\":\"ResetTool\"},{\"attributes\":{\"callback\":null},\"id\":\"80b789b2-8524-4439-9695-e713929a1421\",\"type\":\"DataRange1d\"}],\"root_ids\":[\"d03d33a0-2484-4c05-bd1e-509ca51d3a7f\"]},\"title\":\"Bokeh Application\",\"version\":\"0.13.0\"}};\n",
       "  var render_items = [{\"docid\":\"66f7e0a5-360b-4bab-be55-a3cb38c2ffc9\",\"roots\":{\"d03d33a0-2484-4c05-bd1e-509ca51d3a7f\":\"c3be5007-9b4d-4f7f-a9d4-94d573181939\"}}];\n",
       "  root.Bokeh.embed.embed_items_notebook(docs_json, render_items);\n",
       "\n",
       "  }\n",
       "  if (root.Bokeh !== undefined) {\n",
       "    embed_document(root);\n",
       "  } else {\n",
       "    var attempts = 0;\n",
       "    var timer = setInterval(function(root) {\n",
       "      if (root.Bokeh !== undefined) {\n",
       "        embed_document(root);\n",
       "        clearInterval(timer);\n",
       "      }\n",
       "      attempts++;\n",
       "      if (attempts > 100) {\n",
       "        console.log(\"Bokeh: ERROR: Unable to run BokehJS code because BokehJS library is missing\")\n",
       "        clearInterval(timer);\n",
       "      }\n",
       "    }, 10, root)\n",
       "  }\n",
       "})(window);"
      ],
      "application/vnd.bokehjs_exec.v0+json": ""
     },
     "metadata": {
      "application/vnd.bokehjs_exec.v0+json": {
       "id": "d03d33a0-2484-4c05-bd1e-509ca51d3a7f"
      }
     },
     "output_type": "display_data"
    }
   ],
   "source": [
    "p = figure(plot_height = 300, \n",
    "           match_aspect = True)\n",
    "\n",
    "p.quad(bottom=[1, 3],\n",
    "       top=[7, 6], \n",
    "       left=[1, 4],\n",
    "       right=[2, 8],\n",
    "       \n",
    "       fill_color = ['cyan', 'lightyellow']\n",
    "      )\n",
    "\n",
    "show(p)"
   ]
  },
  {
   "cell_type": "markdown",
   "metadata": {},
   "source": [
    "#### Rectangles\n",
    "The rect() glyph requires the following arguments:\n",
    "* the x and y coordinates of the center\n",
    "* the width and height of the rectangle\n",
    "\n",
    "We can apply formats for the rectangle as we have seen previously. Note though that by tilting the rectangle, it has escaped the bounds of the figure (Bokeh probably uses the coordinates and width of the figure to decide the range of the axes to display, but perhaps not the angle)"
   ]
  },
  {
   "cell_type": "code",
   "execution_count": 8,
   "metadata": {},
   "outputs": [
    {
     "data": {
      "text/html": [
       "\n",
       "\n",
       "\n",
       "\n",
       "\n",
       "\n",
       "  <div class=\"bk-root\" id=\"ba0f232e-29b5-4ad2-a081-932d1877f97b\"></div>\n"
      ]
     },
     "metadata": {},
     "output_type": "display_data"
    },
    {
     "data": {
      "application/javascript": [
       "(function(root) {\n",
       "  function embed_document(root) {\n",
       "    \n",
       "  var docs_json = {\"3623dedb-a216-48c5-b3f4-5a65b96426a8\":{\"roots\":{\"references\":[{\"attributes\":{\"angle\":{\"units\":\"rad\",\"value\":0.2},\"fill_color\":{\"value\":\"lightblue\"},\"height\":{\"field\":\"height\",\"units\":\"data\"},\"line_color\":{\"value\":\"navy\"},\"line_width\":{\"value\":2},\"width\":{\"field\":\"width\",\"units\":\"data\"},\"x\":{\"field\":\"x\"},\"y\":{\"field\":\"y\"}},\"id\":\"4984b49a-26f8-4aed-bb54-39b29ed02aa2\",\"type\":\"Rect\"},{\"attributes\":{\"below\":[{\"id\":\"0de5e39d-df1c-4796-b2fe-c3a3058f030b\",\"type\":\"LinearAxis\"}],\"left\":[{\"id\":\"2ed6630b-28e1-4d00-a596-b304b2cb6915\",\"type\":\"LinearAxis\"}],\"match_aspect\":true,\"plot_height\":300,\"renderers\":[{\"id\":\"0de5e39d-df1c-4796-b2fe-c3a3058f030b\",\"type\":\"LinearAxis\"},{\"id\":\"54a226a0-d58e-4241-8e5c-71fc10f538db\",\"type\":\"Grid\"},{\"id\":\"2ed6630b-28e1-4d00-a596-b304b2cb6915\",\"type\":\"LinearAxis\"},{\"id\":\"8edfa98a-7d91-4853-b4f8-58238d919bc2\",\"type\":\"Grid\"},{\"id\":\"dd4a9915-68c1-4782-8a66-ae8da8b7477c\",\"type\":\"BoxAnnotation\"},{\"id\":\"31d48717-00b9-49f9-9361-40fb17e721cf\",\"type\":\"GlyphRenderer\"}],\"title\":{\"id\":\"211689cb-15a6-4b7e-87bb-479ffca6b113\",\"type\":\"Title\"},\"toolbar\":{\"id\":\"c25f4b39-d87f-4bb5-a849-41cd7b6c7755\",\"type\":\"Toolbar\"},\"x_range\":{\"id\":\"9e3cd974-b929-4764-93e6-08d1aae5fa37\",\"type\":\"DataRange1d\"},\"x_scale\":{\"id\":\"71d3487f-6b0f-4ec1-90ea-14b0b5e84f00\",\"type\":\"LinearScale\"},\"y_range\":{\"id\":\"ddae6d58-7cfc-432b-9505-d9a8987e14f4\",\"type\":\"DataRange1d\"},\"y_scale\":{\"id\":\"749f34a8-f283-4067-8c2e-eb887814d2b3\",\"type\":\"LinearScale\"}},\"id\":\"98fd5b47-9bea-410d-ac0f-883ee765ca93\",\"subtype\":\"Figure\",\"type\":\"Plot\"},{\"attributes\":{\"formatter\":{\"id\":\"871e9e82-1b84-4dd7-9d55-b60fd68ca39b\",\"type\":\"BasicTickFormatter\"},\"plot\":{\"id\":\"98fd5b47-9bea-410d-ac0f-883ee765ca93\",\"subtype\":\"Figure\",\"type\":\"Plot\"},\"ticker\":{\"id\":\"0d6248ef-6c20-4d06-80d2-55e94747801e\",\"type\":\"BasicTicker\"}},\"id\":\"0de5e39d-df1c-4796-b2fe-c3a3058f030b\",\"type\":\"LinearAxis\"},{\"attributes\":{},\"id\":\"0d6248ef-6c20-4d06-80d2-55e94747801e\",\"type\":\"BasicTicker\"},{\"attributes\":{},\"id\":\"71d3487f-6b0f-4ec1-90ea-14b0b5e84f00\",\"type\":\"LinearScale\"},{\"attributes\":{\"plot\":null,\"text\":\"\"},\"id\":\"211689cb-15a6-4b7e-87bb-479ffca6b113\",\"type\":\"Title\"},{\"attributes\":{},\"id\":\"111467c8-e1ef-42a7-bf65-fe38b32b01ab\",\"type\":\"SaveTool\"},{\"attributes\":{},\"id\":\"871e9e82-1b84-4dd7-9d55-b60fd68ca39b\",\"type\":\"BasicTickFormatter\"},{\"attributes\":{\"callback\":null},\"id\":\"ddae6d58-7cfc-432b-9505-d9a8987e14f4\",\"type\":\"DataRange1d\"},{\"attributes\":{},\"id\":\"7b8ab3f3-be82-43a3-a4a1-4354384d1bc4\",\"type\":\"BasicTickFormatter\"},{\"attributes\":{\"active_drag\":\"auto\",\"active_inspect\":\"auto\",\"active_multi\":null,\"active_scroll\":\"auto\",\"active_tap\":\"auto\",\"tools\":[{\"id\":\"4dc92be0-ec67-426c-8a11-862a39825f35\",\"type\":\"PanTool\"},{\"id\":\"b7a18e61-7e1c-4204-a272-baf5195c6f86\",\"type\":\"WheelZoomTool\"},{\"id\":\"d9839c99-0654-47e1-a66d-71fd10cab7b4\",\"type\":\"BoxZoomTool\"},{\"id\":\"111467c8-e1ef-42a7-bf65-fe38b32b01ab\",\"type\":\"SaveTool\"},{\"id\":\"40cbdffe-795d-4b7a-8276-bd969456b60d\",\"type\":\"ResetTool\"},{\"id\":\"183d1ccd-b55b-4c2d-846a-96263132a87c\",\"type\":\"HelpTool\"}]},\"id\":\"c25f4b39-d87f-4bb5-a849-41cd7b6c7755\",\"type\":\"Toolbar\"},{\"attributes\":{\"callback\":null},\"id\":\"9e3cd974-b929-4764-93e6-08d1aae5fa37\",\"type\":\"DataRange1d\"},{\"attributes\":{},\"id\":\"4dc92be0-ec67-426c-8a11-862a39825f35\",\"type\":\"PanTool\"},{\"attributes\":{},\"id\":\"bccec7e0-4be2-418d-82d9-003a0db92099\",\"type\":\"BasicTicker\"},{\"attributes\":{\"formatter\":{\"id\":\"7b8ab3f3-be82-43a3-a4a1-4354384d1bc4\",\"type\":\"BasicTickFormatter\"},\"plot\":{\"id\":\"98fd5b47-9bea-410d-ac0f-883ee765ca93\",\"subtype\":\"Figure\",\"type\":\"Plot\"},\"ticker\":{\"id\":\"bccec7e0-4be2-418d-82d9-003a0db92099\",\"type\":\"BasicTicker\"}},\"id\":\"2ed6630b-28e1-4d00-a596-b304b2cb6915\",\"type\":\"LinearAxis\"},{\"attributes\":{},\"id\":\"749f34a8-f283-4067-8c2e-eb887814d2b3\",\"type\":\"LinearScale\"},{\"attributes\":{\"bottom_units\":\"screen\",\"fill_alpha\":{\"value\":0.5},\"fill_color\":{\"value\":\"lightgrey\"},\"left_units\":\"screen\",\"level\":\"overlay\",\"line_alpha\":{\"value\":1.0},\"line_color\":{\"value\":\"black\"},\"line_dash\":[4,4],\"line_width\":{\"value\":2},\"plot\":null,\"render_mode\":\"css\",\"right_units\":\"screen\",\"top_units\":\"screen\"},\"id\":\"dd4a9915-68c1-4782-8a66-ae8da8b7477c\",\"type\":\"BoxAnnotation\"},{\"attributes\":{\"callback\":null,\"data\":{\"height\":[5],\"width\":[6],\"x\":[4],\"y\":[3]},\"selected\":{\"id\":\"25a79b76-8a4d-4c8d-aa6b-c403229723c4\",\"type\":\"Selection\"},\"selection_policy\":{\"id\":\"cec03f4c-b39e-44d0-90b6-75616f0088fc\",\"type\":\"UnionRenderers\"}},\"id\":\"6112ec82-b290-4918-8f86-140470dda47a\",\"type\":\"ColumnDataSource\"},{\"attributes\":{\"overlay\":{\"id\":\"dd4a9915-68c1-4782-8a66-ae8da8b7477c\",\"type\":\"BoxAnnotation\"}},\"id\":\"d9839c99-0654-47e1-a66d-71fd10cab7b4\",\"type\":\"BoxZoomTool\"},{\"attributes\":{\"plot\":{\"id\":\"98fd5b47-9bea-410d-ac0f-883ee765ca93\",\"subtype\":\"Figure\",\"type\":\"Plot\"},\"ticker\":{\"id\":\"0d6248ef-6c20-4d06-80d2-55e94747801e\",\"type\":\"BasicTicker\"}},\"id\":\"54a226a0-d58e-4241-8e5c-71fc10f538db\",\"type\":\"Grid\"},{\"attributes\":{},\"id\":\"cec03f4c-b39e-44d0-90b6-75616f0088fc\",\"type\":\"UnionRenderers\"},{\"attributes\":{},\"id\":\"183d1ccd-b55b-4c2d-846a-96263132a87c\",\"type\":\"HelpTool\"},{\"attributes\":{\"dimension\":1,\"plot\":{\"id\":\"98fd5b47-9bea-410d-ac0f-883ee765ca93\",\"subtype\":\"Figure\",\"type\":\"Plot\"},\"ticker\":{\"id\":\"bccec7e0-4be2-418d-82d9-003a0db92099\",\"type\":\"BasicTicker\"}},\"id\":\"8edfa98a-7d91-4853-b4f8-58238d919bc2\",\"type\":\"Grid\"},{\"attributes\":{\"source\":{\"id\":\"6112ec82-b290-4918-8f86-140470dda47a\",\"type\":\"ColumnDataSource\"}},\"id\":\"3274b928-7a59-4b7f-9910-8fceeefde13b\",\"type\":\"CDSView\"},{\"attributes\":{\"angle\":{\"units\":\"rad\",\"value\":0.2},\"fill_alpha\":{\"value\":0.1},\"fill_color\":{\"value\":\"#1f77b4\"},\"height\":{\"field\":\"height\",\"units\":\"data\"},\"line_alpha\":{\"value\":0.1},\"line_color\":{\"value\":\"#1f77b4\"},\"line_width\":{\"value\":2},\"width\":{\"field\":\"width\",\"units\":\"data\"},\"x\":{\"field\":\"x\"},\"y\":{\"field\":\"y\"}},\"id\":\"8fc1262f-dcbc-410f-b552-0eb8f271dfc3\",\"type\":\"Rect\"},{\"attributes\":{\"data_source\":{\"id\":\"6112ec82-b290-4918-8f86-140470dda47a\",\"type\":\"ColumnDataSource\"},\"glyph\":{\"id\":\"4984b49a-26f8-4aed-bb54-39b29ed02aa2\",\"type\":\"Rect\"},\"hover_glyph\":null,\"muted_glyph\":null,\"nonselection_glyph\":{\"id\":\"8fc1262f-dcbc-410f-b552-0eb8f271dfc3\",\"type\":\"Rect\"},\"selection_glyph\":null,\"view\":{\"id\":\"3274b928-7a59-4b7f-9910-8fceeefde13b\",\"type\":\"CDSView\"}},\"id\":\"31d48717-00b9-49f9-9361-40fb17e721cf\",\"type\":\"GlyphRenderer\"},{\"attributes\":{},\"id\":\"b7a18e61-7e1c-4204-a272-baf5195c6f86\",\"type\":\"WheelZoomTool\"},{\"attributes\":{},\"id\":\"40cbdffe-795d-4b7a-8276-bd969456b60d\",\"type\":\"ResetTool\"},{\"attributes\":{},\"id\":\"25a79b76-8a4d-4c8d-aa6b-c403229723c4\",\"type\":\"Selection\"}],\"root_ids\":[\"98fd5b47-9bea-410d-ac0f-883ee765ca93\"]},\"title\":\"Bokeh Application\",\"version\":\"0.13.0\"}};\n",
       "  var render_items = [{\"docid\":\"3623dedb-a216-48c5-b3f4-5a65b96426a8\",\"roots\":{\"98fd5b47-9bea-410d-ac0f-883ee765ca93\":\"ba0f232e-29b5-4ad2-a081-932d1877f97b\"}}];\n",
       "  root.Bokeh.embed.embed_items_notebook(docs_json, render_items);\n",
       "\n",
       "  }\n",
       "  if (root.Bokeh !== undefined) {\n",
       "    embed_document(root);\n",
       "  } else {\n",
       "    var attempts = 0;\n",
       "    var timer = setInterval(function(root) {\n",
       "      if (root.Bokeh !== undefined) {\n",
       "        embed_document(root);\n",
       "        clearInterval(timer);\n",
       "      }\n",
       "      attempts++;\n",
       "      if (attempts > 100) {\n",
       "        console.log(\"Bokeh: ERROR: Unable to run BokehJS code because BokehJS library is missing\")\n",
       "        clearInterval(timer);\n",
       "      }\n",
       "    }, 10, root)\n",
       "  }\n",
       "})(window);"
      ],
      "application/vnd.bokehjs_exec.v0+json": ""
     },
     "metadata": {
      "application/vnd.bokehjs_exec.v0+json": {
       "id": "98fd5b47-9bea-410d-ac0f-883ee765ca93"
      }
     },
     "output_type": "display_data"
    }
   ],
   "source": [
    "p = figure(plot_height = 300, \n",
    "           match_aspect = True)\n",
    "\n",
    "p.rect(x = [4], y = [3], width = [6], height = [5],\n",
    "       \n",
    "       fill_color='lightblue',\n",
    "       line_color='navy',\n",
    "       line_width=2, \n",
    "       \n",
    "       angle = 0.2)\n",
    "\n",
    "show(p)"
   ]
  },
  {
   "cell_type": "markdown",
   "metadata": {},
   "source": [
    "#### The Range1d object\n",
    "This is an object which can be used to set the range for objects such as axes"
   ]
  },
  {
   "cell_type": "code",
   "execution_count": 9,
   "metadata": {},
   "outputs": [],
   "source": [
    "from bokeh.models import Range1d"
   ]
  },
  {
   "cell_type": "markdown",
   "metadata": {},
   "source": [
    "#### We set the ranges for both axes\n",
    "We ensure that the whole quadrilateral is visible. \n",
    "\n",
    "Note that we are now modifying the figure after it has been created and used."
   ]
  },
  {
   "cell_type": "code",
   "execution_count": 10,
   "metadata": {},
   "outputs": [],
   "source": [
    "p.x_range = Range1d(-2, 10)\n",
    "p.y_range = Range1d(-1, 7)"
   ]
  },
  {
   "cell_type": "markdown",
   "metadata": {},
   "source": [
    "#### View the figure\n",
    "Note that the match_aspect property seems to have been reset. This is because the figure size is exactly the same as it was previously, but the range of each axis has been modified."
   ]
  },
  {
   "cell_type": "code",
   "execution_count": 11,
   "metadata": {},
   "outputs": [
    {
     "data": {
      "text/html": [
       "\n",
       "\n",
       "\n",
       "\n",
       "\n",
       "\n",
       "  <div class=\"bk-root\" id=\"e0d834c6-0800-49b2-a18e-c398347c0872\"></div>\n"
      ]
     },
     "metadata": {},
     "output_type": "display_data"
    },
    {
     "data": {
      "application/javascript": [
       "(function(root) {\n",
       "  function embed_document(root) {\n",
       "    \n",
       "  var docs_json = {\"f7b9786c-ab44-45c5-9e87-7e48b75c74c9\":{\"roots\":{\"references\":[{\"attributes\":{\"angle\":{\"units\":\"rad\",\"value\":0.2},\"fill_color\":{\"value\":\"lightblue\"},\"height\":{\"field\":\"height\",\"units\":\"data\"},\"line_color\":{\"value\":\"navy\"},\"line_width\":{\"value\":2},\"width\":{\"field\":\"width\",\"units\":\"data\"},\"x\":{\"field\":\"x\"},\"y\":{\"field\":\"y\"}},\"id\":\"4984b49a-26f8-4aed-bb54-39b29ed02aa2\",\"type\":\"Rect\"},{\"attributes\":{\"below\":[{\"id\":\"0de5e39d-df1c-4796-b2fe-c3a3058f030b\",\"type\":\"LinearAxis\"}],\"left\":[{\"id\":\"2ed6630b-28e1-4d00-a596-b304b2cb6915\",\"type\":\"LinearAxis\"}],\"match_aspect\":true,\"plot_height\":300,\"renderers\":[{\"id\":\"0de5e39d-df1c-4796-b2fe-c3a3058f030b\",\"type\":\"LinearAxis\"},{\"id\":\"54a226a0-d58e-4241-8e5c-71fc10f538db\",\"type\":\"Grid\"},{\"id\":\"2ed6630b-28e1-4d00-a596-b304b2cb6915\",\"type\":\"LinearAxis\"},{\"id\":\"8edfa98a-7d91-4853-b4f8-58238d919bc2\",\"type\":\"Grid\"},{\"id\":\"dd4a9915-68c1-4782-8a66-ae8da8b7477c\",\"type\":\"BoxAnnotation\"},{\"id\":\"31d48717-00b9-49f9-9361-40fb17e721cf\",\"type\":\"GlyphRenderer\"}],\"title\":{\"id\":\"211689cb-15a6-4b7e-87bb-479ffca6b113\",\"type\":\"Title\"},\"toolbar\":{\"id\":\"c25f4b39-d87f-4bb5-a849-41cd7b6c7755\",\"type\":\"Toolbar\"},\"x_range\":{\"id\":\"6ebd42c9-518e-4f44-b7da-c8e03c4f01b9\",\"type\":\"Range1d\"},\"x_scale\":{\"id\":\"71d3487f-6b0f-4ec1-90ea-14b0b5e84f00\",\"type\":\"LinearScale\"},\"y_range\":{\"id\":\"875d4e25-0a49-4701-9513-dc140d84761d\",\"type\":\"Range1d\"},\"y_scale\":{\"id\":\"749f34a8-f283-4067-8c2e-eb887814d2b3\",\"type\":\"LinearScale\"}},\"id\":\"98fd5b47-9bea-410d-ac0f-883ee765ca93\",\"subtype\":\"Figure\",\"type\":\"Plot\"},{\"attributes\":{\"formatter\":{\"id\":\"871e9e82-1b84-4dd7-9d55-b60fd68ca39b\",\"type\":\"BasicTickFormatter\"},\"plot\":{\"id\":\"98fd5b47-9bea-410d-ac0f-883ee765ca93\",\"subtype\":\"Figure\",\"type\":\"Plot\"},\"ticker\":{\"id\":\"0d6248ef-6c20-4d06-80d2-55e94747801e\",\"type\":\"BasicTicker\"}},\"id\":\"0de5e39d-df1c-4796-b2fe-c3a3058f030b\",\"type\":\"LinearAxis\"},{\"attributes\":{\"callback\":null,\"end\":10,\"start\":-2},\"id\":\"6ebd42c9-518e-4f44-b7da-c8e03c4f01b9\",\"type\":\"Range1d\"},{\"attributes\":{},\"id\":\"71d3487f-6b0f-4ec1-90ea-14b0b5e84f00\",\"type\":\"LinearScale\"},{\"attributes\":{},\"id\":\"0d6248ef-6c20-4d06-80d2-55e94747801e\",\"type\":\"BasicTicker\"},{\"attributes\":{\"plot\":null,\"text\":\"\"},\"id\":\"211689cb-15a6-4b7e-87bb-479ffca6b113\",\"type\":\"Title\"},{\"attributes\":{},\"id\":\"111467c8-e1ef-42a7-bf65-fe38b32b01ab\",\"type\":\"SaveTool\"},{\"attributes\":{},\"id\":\"871e9e82-1b84-4dd7-9d55-b60fd68ca39b\",\"type\":\"BasicTickFormatter\"},{\"attributes\":{},\"id\":\"7b8ab3f3-be82-43a3-a4a1-4354384d1bc4\",\"type\":\"BasicTickFormatter\"},{\"attributes\":{\"active_drag\":\"auto\",\"active_inspect\":\"auto\",\"active_multi\":null,\"active_scroll\":\"auto\",\"active_tap\":\"auto\",\"tools\":[{\"id\":\"4dc92be0-ec67-426c-8a11-862a39825f35\",\"type\":\"PanTool\"},{\"id\":\"b7a18e61-7e1c-4204-a272-baf5195c6f86\",\"type\":\"WheelZoomTool\"},{\"id\":\"d9839c99-0654-47e1-a66d-71fd10cab7b4\",\"type\":\"BoxZoomTool\"},{\"id\":\"111467c8-e1ef-42a7-bf65-fe38b32b01ab\",\"type\":\"SaveTool\"},{\"id\":\"40cbdffe-795d-4b7a-8276-bd969456b60d\",\"type\":\"ResetTool\"},{\"id\":\"183d1ccd-b55b-4c2d-846a-96263132a87c\",\"type\":\"HelpTool\"}]},\"id\":\"c25f4b39-d87f-4bb5-a849-41cd7b6c7755\",\"type\":\"Toolbar\"},{\"attributes\":{},\"id\":\"4dc92be0-ec67-426c-8a11-862a39825f35\",\"type\":\"PanTool\"},{\"attributes\":{},\"id\":\"bccec7e0-4be2-418d-82d9-003a0db92099\",\"type\":\"BasicTicker\"},{\"attributes\":{\"callback\":null,\"end\":7,\"start\":-1},\"id\":\"875d4e25-0a49-4701-9513-dc140d84761d\",\"type\":\"Range1d\"},{\"attributes\":{\"formatter\":{\"id\":\"7b8ab3f3-be82-43a3-a4a1-4354384d1bc4\",\"type\":\"BasicTickFormatter\"},\"plot\":{\"id\":\"98fd5b47-9bea-410d-ac0f-883ee765ca93\",\"subtype\":\"Figure\",\"type\":\"Plot\"},\"ticker\":{\"id\":\"bccec7e0-4be2-418d-82d9-003a0db92099\",\"type\":\"BasicTicker\"}},\"id\":\"2ed6630b-28e1-4d00-a596-b304b2cb6915\",\"type\":\"LinearAxis\"},{\"attributes\":{},\"id\":\"749f34a8-f283-4067-8c2e-eb887814d2b3\",\"type\":\"LinearScale\"},{\"attributes\":{\"bottom_units\":\"screen\",\"fill_alpha\":{\"value\":0.5},\"fill_color\":{\"value\":\"lightgrey\"},\"left_units\":\"screen\",\"level\":\"overlay\",\"line_alpha\":{\"value\":1.0},\"line_color\":{\"value\":\"black\"},\"line_dash\":[4,4],\"line_width\":{\"value\":2},\"plot\":null,\"render_mode\":\"css\",\"right_units\":\"screen\",\"top_units\":\"screen\"},\"id\":\"dd4a9915-68c1-4782-8a66-ae8da8b7477c\",\"type\":\"BoxAnnotation\"},{\"attributes\":{\"callback\":null,\"data\":{\"height\":[5],\"width\":[6],\"x\":[4],\"y\":[3]},\"selected\":{\"id\":\"25a79b76-8a4d-4c8d-aa6b-c403229723c4\",\"type\":\"Selection\"},\"selection_policy\":{\"id\":\"cec03f4c-b39e-44d0-90b6-75616f0088fc\",\"type\":\"UnionRenderers\"}},\"id\":\"6112ec82-b290-4918-8f86-140470dda47a\",\"type\":\"ColumnDataSource\"},{\"attributes\":{\"overlay\":{\"id\":\"dd4a9915-68c1-4782-8a66-ae8da8b7477c\",\"type\":\"BoxAnnotation\"}},\"id\":\"d9839c99-0654-47e1-a66d-71fd10cab7b4\",\"type\":\"BoxZoomTool\"},{\"attributes\":{\"plot\":{\"id\":\"98fd5b47-9bea-410d-ac0f-883ee765ca93\",\"subtype\":\"Figure\",\"type\":\"Plot\"},\"ticker\":{\"id\":\"0d6248ef-6c20-4d06-80d2-55e94747801e\",\"type\":\"BasicTicker\"}},\"id\":\"54a226a0-d58e-4241-8e5c-71fc10f538db\",\"type\":\"Grid\"},{\"attributes\":{},\"id\":\"cec03f4c-b39e-44d0-90b6-75616f0088fc\",\"type\":\"UnionRenderers\"},{\"attributes\":{},\"id\":\"183d1ccd-b55b-4c2d-846a-96263132a87c\",\"type\":\"HelpTool\"},{\"attributes\":{\"dimension\":1,\"plot\":{\"id\":\"98fd5b47-9bea-410d-ac0f-883ee765ca93\",\"subtype\":\"Figure\",\"type\":\"Plot\"},\"ticker\":{\"id\":\"bccec7e0-4be2-418d-82d9-003a0db92099\",\"type\":\"BasicTicker\"}},\"id\":\"8edfa98a-7d91-4853-b4f8-58238d919bc2\",\"type\":\"Grid\"},{\"attributes\":{\"source\":{\"id\":\"6112ec82-b290-4918-8f86-140470dda47a\",\"type\":\"ColumnDataSource\"}},\"id\":\"3274b928-7a59-4b7f-9910-8fceeefde13b\",\"type\":\"CDSView\"},{\"attributes\":{\"angle\":{\"units\":\"rad\",\"value\":0.2},\"fill_alpha\":{\"value\":0.1},\"fill_color\":{\"value\":\"#1f77b4\"},\"height\":{\"field\":\"height\",\"units\":\"data\"},\"line_alpha\":{\"value\":0.1},\"line_color\":{\"value\":\"#1f77b4\"},\"line_width\":{\"value\":2},\"width\":{\"field\":\"width\",\"units\":\"data\"},\"x\":{\"field\":\"x\"},\"y\":{\"field\":\"y\"}},\"id\":\"8fc1262f-dcbc-410f-b552-0eb8f271dfc3\",\"type\":\"Rect\"},{\"attributes\":{\"data_source\":{\"id\":\"6112ec82-b290-4918-8f86-140470dda47a\",\"type\":\"ColumnDataSource\"},\"glyph\":{\"id\":\"4984b49a-26f8-4aed-bb54-39b29ed02aa2\",\"type\":\"Rect\"},\"hover_glyph\":null,\"muted_glyph\":null,\"nonselection_glyph\":{\"id\":\"8fc1262f-dcbc-410f-b552-0eb8f271dfc3\",\"type\":\"Rect\"},\"selection_glyph\":null,\"view\":{\"id\":\"3274b928-7a59-4b7f-9910-8fceeefde13b\",\"type\":\"CDSView\"}},\"id\":\"31d48717-00b9-49f9-9361-40fb17e721cf\",\"type\":\"GlyphRenderer\"},{\"attributes\":{},\"id\":\"b7a18e61-7e1c-4204-a272-baf5195c6f86\",\"type\":\"WheelZoomTool\"},{\"attributes\":{},\"id\":\"40cbdffe-795d-4b7a-8276-bd969456b60d\",\"type\":\"ResetTool\"},{\"attributes\":{},\"id\":\"25a79b76-8a4d-4c8d-aa6b-c403229723c4\",\"type\":\"Selection\"}],\"root_ids\":[\"98fd5b47-9bea-410d-ac0f-883ee765ca93\"]},\"title\":\"Bokeh Application\",\"version\":\"0.13.0\"}};\n",
       "  var render_items = [{\"docid\":\"f7b9786c-ab44-45c5-9e87-7e48b75c74c9\",\"roots\":{\"98fd5b47-9bea-410d-ac0f-883ee765ca93\":\"e0d834c6-0800-49b2-a18e-c398347c0872\"}}];\n",
       "  root.Bokeh.embed.embed_items_notebook(docs_json, render_items);\n",
       "\n",
       "  }\n",
       "  if (root.Bokeh !== undefined) {\n",
       "    embed_document(root);\n",
       "  } else {\n",
       "    var attempts = 0;\n",
       "    var timer = setInterval(function(root) {\n",
       "      if (root.Bokeh !== undefined) {\n",
       "        embed_document(root);\n",
       "        clearInterval(timer);\n",
       "      }\n",
       "      attempts++;\n",
       "      if (attempts > 100) {\n",
       "        console.log(\"Bokeh: ERROR: Unable to run BokehJS code because BokehJS library is missing\")\n",
       "        clearInterval(timer);\n",
       "      }\n",
       "    }, 10, root)\n",
       "  }\n",
       "})(window);"
      ],
      "application/vnd.bokehjs_exec.v0+json": ""
     },
     "metadata": {
      "application/vnd.bokehjs_exec.v0+json": {
       "id": "98fd5b47-9bea-410d-ac0f-883ee765ca93"
      }
     },
     "output_type": "display_data"
    }
   ],
   "source": [
    "show(p)"
   ]
  },
  {
   "cell_type": "markdown",
   "metadata": {},
   "source": [
    "#### Adjusting the plot dimensions\n",
    "We can now readjust the plot dimensions to match the axis ranges. The ranges for the X and Y axes are 12 and 8 respectively, so we also set the width and height in a 3:2 ratio"
   ]
  },
  {
   "cell_type": "code",
   "execution_count": 12,
   "metadata": {},
   "outputs": [
    {
     "data": {
      "text/html": [
       "\n",
       "\n",
       "\n",
       "\n",
       "\n",
       "\n",
       "  <div class=\"bk-root\" id=\"57a07d10-330a-46dd-a976-964cf6a0e804\"></div>\n"
      ]
     },
     "metadata": {},
     "output_type": "display_data"
    },
    {
     "data": {
      "application/javascript": [
       "(function(root) {\n",
       "  function embed_document(root) {\n",
       "    \n",
       "  var docs_json = {\"6907bd47-4e8d-42c1-b440-cb263c9554ed\":{\"roots\":{\"references\":[{\"attributes\":{\"angle\":{\"units\":\"rad\",\"value\":0.2},\"fill_color\":{\"value\":\"lightblue\"},\"height\":{\"field\":\"height\",\"units\":\"data\"},\"line_color\":{\"value\":\"navy\"},\"line_width\":{\"value\":2},\"width\":{\"field\":\"width\",\"units\":\"data\"},\"x\":{\"field\":\"x\"},\"y\":{\"field\":\"y\"}},\"id\":\"4984b49a-26f8-4aed-bb54-39b29ed02aa2\",\"type\":\"Rect\"},{\"attributes\":{\"below\":[{\"id\":\"0de5e39d-df1c-4796-b2fe-c3a3058f030b\",\"type\":\"LinearAxis\"}],\"left\":[{\"id\":\"2ed6630b-28e1-4d00-a596-b304b2cb6915\",\"type\":\"LinearAxis\"}],\"match_aspect\":true,\"plot_height\":400,\"renderers\":[{\"id\":\"0de5e39d-df1c-4796-b2fe-c3a3058f030b\",\"type\":\"LinearAxis\"},{\"id\":\"54a226a0-d58e-4241-8e5c-71fc10f538db\",\"type\":\"Grid\"},{\"id\":\"2ed6630b-28e1-4d00-a596-b304b2cb6915\",\"type\":\"LinearAxis\"},{\"id\":\"8edfa98a-7d91-4853-b4f8-58238d919bc2\",\"type\":\"Grid\"},{\"id\":\"dd4a9915-68c1-4782-8a66-ae8da8b7477c\",\"type\":\"BoxAnnotation\"},{\"id\":\"31d48717-00b9-49f9-9361-40fb17e721cf\",\"type\":\"GlyphRenderer\"}],\"title\":{\"id\":\"211689cb-15a6-4b7e-87bb-479ffca6b113\",\"type\":\"Title\"},\"toolbar\":{\"id\":\"c25f4b39-d87f-4bb5-a849-41cd7b6c7755\",\"type\":\"Toolbar\"},\"x_range\":{\"id\":\"6ebd42c9-518e-4f44-b7da-c8e03c4f01b9\",\"type\":\"Range1d\"},\"x_scale\":{\"id\":\"71d3487f-6b0f-4ec1-90ea-14b0b5e84f00\",\"type\":\"LinearScale\"},\"y_range\":{\"id\":\"875d4e25-0a49-4701-9513-dc140d84761d\",\"type\":\"Range1d\"},\"y_scale\":{\"id\":\"749f34a8-f283-4067-8c2e-eb887814d2b3\",\"type\":\"LinearScale\"}},\"id\":\"98fd5b47-9bea-410d-ac0f-883ee765ca93\",\"subtype\":\"Figure\",\"type\":\"Plot\"},{\"attributes\":{\"formatter\":{\"id\":\"871e9e82-1b84-4dd7-9d55-b60fd68ca39b\",\"type\":\"BasicTickFormatter\"},\"plot\":{\"id\":\"98fd5b47-9bea-410d-ac0f-883ee765ca93\",\"subtype\":\"Figure\",\"type\":\"Plot\"},\"ticker\":{\"id\":\"0d6248ef-6c20-4d06-80d2-55e94747801e\",\"type\":\"BasicTicker\"}},\"id\":\"0de5e39d-df1c-4796-b2fe-c3a3058f030b\",\"type\":\"LinearAxis\"},{\"attributes\":{\"callback\":null,\"end\":10,\"start\":-2},\"id\":\"6ebd42c9-518e-4f44-b7da-c8e03c4f01b9\",\"type\":\"Range1d\"},{\"attributes\":{},\"id\":\"71d3487f-6b0f-4ec1-90ea-14b0b5e84f00\",\"type\":\"LinearScale\"},{\"attributes\":{},\"id\":\"0d6248ef-6c20-4d06-80d2-55e94747801e\",\"type\":\"BasicTicker\"},{\"attributes\":{\"plot\":null,\"text\":\"\"},\"id\":\"211689cb-15a6-4b7e-87bb-479ffca6b113\",\"type\":\"Title\"},{\"attributes\":{},\"id\":\"111467c8-e1ef-42a7-bf65-fe38b32b01ab\",\"type\":\"SaveTool\"},{\"attributes\":{},\"id\":\"871e9e82-1b84-4dd7-9d55-b60fd68ca39b\",\"type\":\"BasicTickFormatter\"},{\"attributes\":{},\"id\":\"7b8ab3f3-be82-43a3-a4a1-4354384d1bc4\",\"type\":\"BasicTickFormatter\"},{\"attributes\":{\"active_drag\":\"auto\",\"active_inspect\":\"auto\",\"active_multi\":null,\"active_scroll\":\"auto\",\"active_tap\":\"auto\",\"tools\":[{\"id\":\"4dc92be0-ec67-426c-8a11-862a39825f35\",\"type\":\"PanTool\"},{\"id\":\"b7a18e61-7e1c-4204-a272-baf5195c6f86\",\"type\":\"WheelZoomTool\"},{\"id\":\"d9839c99-0654-47e1-a66d-71fd10cab7b4\",\"type\":\"BoxZoomTool\"},{\"id\":\"111467c8-e1ef-42a7-bf65-fe38b32b01ab\",\"type\":\"SaveTool\"},{\"id\":\"40cbdffe-795d-4b7a-8276-bd969456b60d\",\"type\":\"ResetTool\"},{\"id\":\"183d1ccd-b55b-4c2d-846a-96263132a87c\",\"type\":\"HelpTool\"}]},\"id\":\"c25f4b39-d87f-4bb5-a849-41cd7b6c7755\",\"type\":\"Toolbar\"},{\"attributes\":{},\"id\":\"4dc92be0-ec67-426c-8a11-862a39825f35\",\"type\":\"PanTool\"},{\"attributes\":{},\"id\":\"bccec7e0-4be2-418d-82d9-003a0db92099\",\"type\":\"BasicTicker\"},{\"attributes\":{\"callback\":null,\"end\":7,\"start\":-1},\"id\":\"875d4e25-0a49-4701-9513-dc140d84761d\",\"type\":\"Range1d\"},{\"attributes\":{\"formatter\":{\"id\":\"7b8ab3f3-be82-43a3-a4a1-4354384d1bc4\",\"type\":\"BasicTickFormatter\"},\"plot\":{\"id\":\"98fd5b47-9bea-410d-ac0f-883ee765ca93\",\"subtype\":\"Figure\",\"type\":\"Plot\"},\"ticker\":{\"id\":\"bccec7e0-4be2-418d-82d9-003a0db92099\",\"type\":\"BasicTicker\"}},\"id\":\"2ed6630b-28e1-4d00-a596-b304b2cb6915\",\"type\":\"LinearAxis\"},{\"attributes\":{},\"id\":\"749f34a8-f283-4067-8c2e-eb887814d2b3\",\"type\":\"LinearScale\"},{\"attributes\":{\"bottom_units\":\"screen\",\"fill_alpha\":{\"value\":0.5},\"fill_color\":{\"value\":\"lightgrey\"},\"left_units\":\"screen\",\"level\":\"overlay\",\"line_alpha\":{\"value\":1.0},\"line_color\":{\"value\":\"black\"},\"line_dash\":[4,4],\"line_width\":{\"value\":2},\"plot\":null,\"render_mode\":\"css\",\"right_units\":\"screen\",\"top_units\":\"screen\"},\"id\":\"dd4a9915-68c1-4782-8a66-ae8da8b7477c\",\"type\":\"BoxAnnotation\"},{\"attributes\":{\"callback\":null,\"data\":{\"height\":[5],\"width\":[6],\"x\":[4],\"y\":[3]},\"selected\":{\"id\":\"25a79b76-8a4d-4c8d-aa6b-c403229723c4\",\"type\":\"Selection\"},\"selection_policy\":{\"id\":\"cec03f4c-b39e-44d0-90b6-75616f0088fc\",\"type\":\"UnionRenderers\"}},\"id\":\"6112ec82-b290-4918-8f86-140470dda47a\",\"type\":\"ColumnDataSource\"},{\"attributes\":{\"overlay\":{\"id\":\"dd4a9915-68c1-4782-8a66-ae8da8b7477c\",\"type\":\"BoxAnnotation\"}},\"id\":\"d9839c99-0654-47e1-a66d-71fd10cab7b4\",\"type\":\"BoxZoomTool\"},{\"attributes\":{\"plot\":{\"id\":\"98fd5b47-9bea-410d-ac0f-883ee765ca93\",\"subtype\":\"Figure\",\"type\":\"Plot\"},\"ticker\":{\"id\":\"0d6248ef-6c20-4d06-80d2-55e94747801e\",\"type\":\"BasicTicker\"}},\"id\":\"54a226a0-d58e-4241-8e5c-71fc10f538db\",\"type\":\"Grid\"},{\"attributes\":{},\"id\":\"cec03f4c-b39e-44d0-90b6-75616f0088fc\",\"type\":\"UnionRenderers\"},{\"attributes\":{},\"id\":\"183d1ccd-b55b-4c2d-846a-96263132a87c\",\"type\":\"HelpTool\"},{\"attributes\":{\"dimension\":1,\"plot\":{\"id\":\"98fd5b47-9bea-410d-ac0f-883ee765ca93\",\"subtype\":\"Figure\",\"type\":\"Plot\"},\"ticker\":{\"id\":\"bccec7e0-4be2-418d-82d9-003a0db92099\",\"type\":\"BasicTicker\"}},\"id\":\"8edfa98a-7d91-4853-b4f8-58238d919bc2\",\"type\":\"Grid\"},{\"attributes\":{\"source\":{\"id\":\"6112ec82-b290-4918-8f86-140470dda47a\",\"type\":\"ColumnDataSource\"}},\"id\":\"3274b928-7a59-4b7f-9910-8fceeefde13b\",\"type\":\"CDSView\"},{\"attributes\":{\"angle\":{\"units\":\"rad\",\"value\":0.2},\"fill_alpha\":{\"value\":0.1},\"fill_color\":{\"value\":\"#1f77b4\"},\"height\":{\"field\":\"height\",\"units\":\"data\"},\"line_alpha\":{\"value\":0.1},\"line_color\":{\"value\":\"#1f77b4\"},\"line_width\":{\"value\":2},\"width\":{\"field\":\"width\",\"units\":\"data\"},\"x\":{\"field\":\"x\"},\"y\":{\"field\":\"y\"}},\"id\":\"8fc1262f-dcbc-410f-b552-0eb8f271dfc3\",\"type\":\"Rect\"},{\"attributes\":{\"data_source\":{\"id\":\"6112ec82-b290-4918-8f86-140470dda47a\",\"type\":\"ColumnDataSource\"},\"glyph\":{\"id\":\"4984b49a-26f8-4aed-bb54-39b29ed02aa2\",\"type\":\"Rect\"},\"hover_glyph\":null,\"muted_glyph\":null,\"nonselection_glyph\":{\"id\":\"8fc1262f-dcbc-410f-b552-0eb8f271dfc3\",\"type\":\"Rect\"},\"selection_glyph\":null,\"view\":{\"id\":\"3274b928-7a59-4b7f-9910-8fceeefde13b\",\"type\":\"CDSView\"}},\"id\":\"31d48717-00b9-49f9-9361-40fb17e721cf\",\"type\":\"GlyphRenderer\"},{\"attributes\":{},\"id\":\"b7a18e61-7e1c-4204-a272-baf5195c6f86\",\"type\":\"WheelZoomTool\"},{\"attributes\":{},\"id\":\"40cbdffe-795d-4b7a-8276-bd969456b60d\",\"type\":\"ResetTool\"},{\"attributes\":{},\"id\":\"25a79b76-8a4d-4c8d-aa6b-c403229723c4\",\"type\":\"Selection\"}],\"root_ids\":[\"98fd5b47-9bea-410d-ac0f-883ee765ca93\"]},\"title\":\"Bokeh Application\",\"version\":\"0.13.0\"}};\n",
       "  var render_items = [{\"docid\":\"6907bd47-4e8d-42c1-b440-cb263c9554ed\",\"roots\":{\"98fd5b47-9bea-410d-ac0f-883ee765ca93\":\"57a07d10-330a-46dd-a976-964cf6a0e804\"}}];\n",
       "  root.Bokeh.embed.embed_items_notebook(docs_json, render_items);\n",
       "\n",
       "  }\n",
       "  if (root.Bokeh !== undefined) {\n",
       "    embed_document(root);\n",
       "  } else {\n",
       "    var attempts = 0;\n",
       "    var timer = setInterval(function(root) {\n",
       "      if (root.Bokeh !== undefined) {\n",
       "        embed_document(root);\n",
       "        clearInterval(timer);\n",
       "      }\n",
       "      attempts++;\n",
       "      if (attempts > 100) {\n",
       "        console.log(\"Bokeh: ERROR: Unable to run BokehJS code because BokehJS library is missing\")\n",
       "        clearInterval(timer);\n",
       "      }\n",
       "    }, 10, root)\n",
       "  }\n",
       "})(window);"
      ],
      "application/vnd.bokehjs_exec.v0+json": ""
     },
     "metadata": {
      "application/vnd.bokehjs_exec.v0+json": {
       "id": "98fd5b47-9bea-410d-ac0f-883ee765ca93"
      }
     },
     "output_type": "display_data"
    }
   ],
   "source": [
    "p.plot_width = 600\n",
    "p.plot_height = 400\n",
    "\n",
    "show(p)"
   ]
  },
  {
   "cell_type": "markdown",
   "metadata": {},
   "source": [
    "### Other Shapes\n",
    "Bokeh figures suppport a number of other shapes, some of which are explored here.\n",
    "\n",
    "We begin by declaring a figure by setting the range for the axes along with the plot width and height"
   ]
  },
  {
   "cell_type": "code",
   "execution_count": 13,
   "metadata": {},
   "outputs": [],
   "source": [
    "p = figure(x_range = Range1d(0, 10), \n",
    "           y_range = Range1d(2, 7), \n",
    "           \n",
    "           plot_width = 600, \n",
    "           plot_height = 300\n",
    "          )"
   ]
  },
  {
   "cell_type": "markdown",
   "metadata": {},
   "source": [
    "#### Circles\n",
    "We have seen that circles can be used as markers. The x and y coordinates are the circle centers while the size here is the circle diameter in screen space units. \n",
    "\n",
    "To convert screen space units to the axis units, consider that the plot width is also in screen space units. Our plot width is 600, and the size of the first circle is 60 - so 10% of the plot width. The X axis extends from 0 to 10 so the first circle should be 1 X-axis unit wide."
   ]
  },
  {
   "cell_type": "code",
   "execution_count": 14,
   "metadata": {},
   "outputs": [
    {
     "data": {
      "text/html": [
       "<div style=\"display: table;\"><div style=\"display: table-row;\"><div style=\"display: table-cell;\"><b title=\"bokeh.models.renderers.GlyphRenderer\">GlyphRenderer</b>(</div><div style=\"display: table-cell;\">id&nbsp;=&nbsp;'322e53bc-d601-4717-a837-cd9446b6d55b', <span id=\"1b511c26-0471-40e5-a3b3-2cbba410693d\" style=\"cursor: pointer;\">&hellip;)</span></div></div><div class=\"c9bde46d-108f-4b91-bde2-597a77191811\" style=\"display: none;\"><div style=\"display: table-cell;\"></div><div style=\"display: table-cell;\">data_source&nbsp;=&nbsp;ColumnDataSource(id='56c722eb-d1f9-419d-b804-e0dcdfb2271a', ...),</div></div><div class=\"c9bde46d-108f-4b91-bde2-597a77191811\" style=\"display: none;\"><div style=\"display: table-cell;\"></div><div style=\"display: table-cell;\">glyph&nbsp;=&nbsp;Circle(id='c203434e-6407-493c-9f0d-623240ca346e', ...),</div></div><div class=\"c9bde46d-108f-4b91-bde2-597a77191811\" style=\"display: none;\"><div style=\"display: table-cell;\"></div><div style=\"display: table-cell;\">hover_glyph&nbsp;=&nbsp;None,</div></div><div class=\"c9bde46d-108f-4b91-bde2-597a77191811\" style=\"display: none;\"><div style=\"display: table-cell;\"></div><div style=\"display: table-cell;\">js_event_callbacks&nbsp;=&nbsp;{},</div></div><div class=\"c9bde46d-108f-4b91-bde2-597a77191811\" style=\"display: none;\"><div style=\"display: table-cell;\"></div><div style=\"display: table-cell;\">js_property_callbacks&nbsp;=&nbsp;{},</div></div><div class=\"c9bde46d-108f-4b91-bde2-597a77191811\" style=\"display: none;\"><div style=\"display: table-cell;\"></div><div style=\"display: table-cell;\">level&nbsp;=&nbsp;'glyph',</div></div><div class=\"c9bde46d-108f-4b91-bde2-597a77191811\" style=\"display: none;\"><div style=\"display: table-cell;\"></div><div style=\"display: table-cell;\">muted&nbsp;=&nbsp;False,</div></div><div class=\"c9bde46d-108f-4b91-bde2-597a77191811\" style=\"display: none;\"><div style=\"display: table-cell;\"></div><div style=\"display: table-cell;\">muted_glyph&nbsp;=&nbsp;None,</div></div><div class=\"c9bde46d-108f-4b91-bde2-597a77191811\" style=\"display: none;\"><div style=\"display: table-cell;\"></div><div style=\"display: table-cell;\">name&nbsp;=&nbsp;None,</div></div><div class=\"c9bde46d-108f-4b91-bde2-597a77191811\" style=\"display: none;\"><div style=\"display: table-cell;\"></div><div style=\"display: table-cell;\">nonselection_glyph&nbsp;=&nbsp;Circle(id='d086d475-b8c1-4073-bcc2-7b2d00481736', ...),</div></div><div class=\"c9bde46d-108f-4b91-bde2-597a77191811\" style=\"display: none;\"><div style=\"display: table-cell;\"></div><div style=\"display: table-cell;\">selection_glyph&nbsp;=&nbsp;None,</div></div><div class=\"c9bde46d-108f-4b91-bde2-597a77191811\" style=\"display: none;\"><div style=\"display: table-cell;\"></div><div style=\"display: table-cell;\">subscribed_events&nbsp;=&nbsp;[],</div></div><div class=\"c9bde46d-108f-4b91-bde2-597a77191811\" style=\"display: none;\"><div style=\"display: table-cell;\"></div><div style=\"display: table-cell;\">tags&nbsp;=&nbsp;[],</div></div><div class=\"c9bde46d-108f-4b91-bde2-597a77191811\" style=\"display: none;\"><div style=\"display: table-cell;\"></div><div style=\"display: table-cell;\">view&nbsp;=&nbsp;CDSView(id='7ca24b53-2fdd-491d-8dc5-be2e50f500d7', ...),</div></div><div class=\"c9bde46d-108f-4b91-bde2-597a77191811\" style=\"display: none;\"><div style=\"display: table-cell;\"></div><div style=\"display: table-cell;\">visible&nbsp;=&nbsp;True,</div></div><div class=\"c9bde46d-108f-4b91-bde2-597a77191811\" style=\"display: none;\"><div style=\"display: table-cell;\"></div><div style=\"display: table-cell;\">x_range_name&nbsp;=&nbsp;'default',</div></div><div class=\"c9bde46d-108f-4b91-bde2-597a77191811\" style=\"display: none;\"><div style=\"display: table-cell;\"></div><div style=\"display: table-cell;\">y_range_name&nbsp;=&nbsp;'default')</div></div></div>\n",
       "<script>\n",
       "(function() {\n",
       "  var expanded = false;\n",
       "  var ellipsis = document.getElementById(\"1b511c26-0471-40e5-a3b3-2cbba410693d\");\n",
       "  ellipsis.addEventListener(\"click\", function() {\n",
       "    var rows = document.getElementsByClassName(\"c9bde46d-108f-4b91-bde2-597a77191811\");\n",
       "    for (var i = 0; i < rows.length; i++) {\n",
       "      var el = rows[i];\n",
       "      el.style.display = expanded ? \"none\" : \"table-row\";\n",
       "    }\n",
       "    ellipsis.innerHTML = expanded ? \"&hellip;)\" : \"&lsaquo;&lsaquo;&lsaquo;\";\n",
       "    expanded = !expanded;\n",
       "  });\n",
       "})();\n",
       "</script>\n"
      ],
      "text/plain": [
       "bokeh.models.renderers.GlyphRenderer(\n",
       "    id='322e53bc-d601-4717-a837-cd9446b6d55b',\n",
       "    data_source=bokeh.models.sources.ColumnDataSource(\n",
       "        id='56c722eb-d1f9-419d-b804-e0dcdfb2271a',\n",
       "        callback=None,\n",
       "        data={'y': [3, 6], 'size': [60, 80], 'x': [2, 5]},\n",
       "        js_event_callbacks={},\n",
       "        js_property_callbacks={},\n",
       "        name=None,\n",
       "        selected=bokeh.models.selections.Selection(\n",
       "            id='61bae410-bc9b-40ec-9090-c70ecbe1254e',\n",
       "            indices=[],\n",
       "            js_event_callbacks={},\n",
       "            js_property_callbacks={},\n",
       "            line_indices=[],\n",
       "            multiline_indices={},\n",
       "            name=None,\n",
       "            subscribed_events=[],\n",
       "            tags=[]),\n",
       "        selection_policy=bokeh.models.selections.UnionRenderers(\n",
       "            id='e6710c96-7b9b-4569-a052-a4185d910d6f',\n",
       "            js_event_callbacks={},\n",
       "            js_property_callbacks={},\n",
       "            name=None,\n",
       "            subscribed_events=[],\n",
       "            tags=[]),\n",
       "        subscribed_events=[],\n",
       "        tags=[]),\n",
       "    glyph=bokeh.models.markers.Circle(\n",
       "        id='c203434e-6407-493c-9f0d-623240ca346e',\n",
       "        angle={'value': 0.0, 'units': 'rad'},\n",
       "        fill_alpha={'value': 0.2},\n",
       "        fill_color={'value': None},\n",
       "        js_event_callbacks={},\n",
       "        js_property_callbacks={},\n",
       "        line_alpha={'value': 0.2},\n",
       "        line_cap='butt',\n",
       "        line_color={'value': 'maroon'},\n",
       "        line_dash=[],\n",
       "        line_dash_offset=0,\n",
       "        line_join='bevel',\n",
       "        line_width={'value': 4},\n",
       "        name=None,\n",
       "        radius=None,\n",
       "        radius_dimension='x',\n",
       "        size={'field': 'size', 'units': 'screen'},\n",
       "        subscribed_events=[],\n",
       "        tags=[],\n",
       "        x={'field': 'x'},\n",
       "        y={'field': 'y'}),\n",
       "    hover_glyph=None,\n",
       "    js_event_callbacks={},\n",
       "    js_property_callbacks={},\n",
       "    level='glyph',\n",
       "    muted=False,\n",
       "    muted_glyph=None,\n",
       "    name=None,\n",
       "    nonselection_glyph=bokeh.models.markers.Circle(\n",
       "        id='d086d475-b8c1-4073-bcc2-7b2d00481736',\n",
       "        angle={'value': 0.0, 'units': 'rad'},\n",
       "        fill_alpha={'value': 0.1},\n",
       "        fill_color={'value': '#1f77b4'},\n",
       "        js_event_callbacks={},\n",
       "        js_property_callbacks={},\n",
       "        line_alpha={'value': 0.1},\n",
       "        line_cap='butt',\n",
       "        line_color={'value': '#1f77b4'},\n",
       "        line_dash=[],\n",
       "        line_dash_offset=0,\n",
       "        line_join='bevel',\n",
       "        line_width={'value': 4},\n",
       "        name=None,\n",
       "        radius=None,\n",
       "        radius_dimension='x',\n",
       "        size={'field': 'size', 'units': 'screen'},\n",
       "        subscribed_events=[],\n",
       "        tags=[],\n",
       "        x={'field': 'x'},\n",
       "        y={'field': 'y'}),\n",
       "    selection_glyph=None,\n",
       "    subscribed_events=[],\n",
       "    tags=[],\n",
       "    view=bokeh.models.sources.CDSView(\n",
       "        id='7ca24b53-2fdd-491d-8dc5-be2e50f500d7',\n",
       "        filters=[],\n",
       "        js_event_callbacks={},\n",
       "        js_property_callbacks={},\n",
       "        name=None,\n",
       "        source=bokeh.models.sources.ColumnDataSource(\n",
       "            id='56c722eb-d1f9-419d-b804-e0dcdfb2271a',\n",
       "            callback=None,\n",
       "            data={'y': [3, 6], 'size': [60, 80], 'x': [2, 5]},\n",
       "            js_event_callbacks={},\n",
       "            js_property_callbacks={},\n",
       "            name=None,\n",
       "            selected=bokeh.models.selections.Selection(\n",
       "                id='61bae410-bc9b-40ec-9090-c70ecbe1254e',\n",
       "                indices=[],\n",
       "                js_event_callbacks={},\n",
       "                js_property_callbacks={},\n",
       "                line_indices=[],\n",
       "                multiline_indices={},\n",
       "                name=None,\n",
       "                subscribed_events=[],\n",
       "                tags=[]),\n",
       "            selection_policy=bokeh.models.selections.UnionRenderers(\n",
       "                id='e6710c96-7b9b-4569-a052-a4185d910d6f',\n",
       "                js_event_callbacks={},\n",
       "                js_property_callbacks={},\n",
       "                name=None,\n",
       "                subscribed_events=[],\n",
       "                tags=[]),\n",
       "            subscribed_events=[],\n",
       "            tags=[]),\n",
       "        subscribed_events=[],\n",
       "        tags=[]),\n",
       "    visible=True,\n",
       "    x_range_name='default',\n",
       "    y_range_name='default')"
      ]
     },
     "execution_count": 14,
     "metadata": {},
     "output_type": "execute_result"
    }
   ],
   "source": [
    "p.circle(x = [2, 5],\n",
    "         y = [3, 6], \n",
    "         \n",
    "         size = [60, 80],  \n",
    "         alpha = 0.2,\n",
    "         \n",
    "         fill_color = None,\n",
    "         line_color  = 'maroon',\n",
    "         line_width = 4)"
   ]
  },
  {
   "cell_type": "markdown",
   "metadata": {},
   "source": [
    "#### Hexagons\n",
    "Like with circles, the hexagon also takes in the coordinates of the center along with a size measure."
   ]
  },
  {
   "cell_type": "code",
   "execution_count": 15,
   "metadata": {},
   "outputs": [
    {
     "data": {
      "text/html": [
       "<div style=\"display: table;\"><div style=\"display: table-row;\"><div style=\"display: table-cell;\"><b title=\"bokeh.models.renderers.GlyphRenderer\">GlyphRenderer</b>(</div><div style=\"display: table-cell;\">id&nbsp;=&nbsp;'e3ce3734-e30a-45c7-9d65-8aafd0991bd7', <span id=\"d61fc4fd-8b51-440b-8fe0-fe9c5046f8be\" style=\"cursor: pointer;\">&hellip;)</span></div></div><div class=\"2bbad544-3bec-4c38-9895-0777c68a51aa\" style=\"display: none;\"><div style=\"display: table-cell;\"></div><div style=\"display: table-cell;\">data_source&nbsp;=&nbsp;ColumnDataSource(id='c69e31bc-7742-4996-9272-bbc832aecc3b', ...),</div></div><div class=\"2bbad544-3bec-4c38-9895-0777c68a51aa\" style=\"display: none;\"><div style=\"display: table-cell;\"></div><div style=\"display: table-cell;\">glyph&nbsp;=&nbsp;Hex(id='94ade8de-7da0-40ae-a50a-51808bcbf61e', ...),</div></div><div class=\"2bbad544-3bec-4c38-9895-0777c68a51aa\" style=\"display: none;\"><div style=\"display: table-cell;\"></div><div style=\"display: table-cell;\">hover_glyph&nbsp;=&nbsp;None,</div></div><div class=\"2bbad544-3bec-4c38-9895-0777c68a51aa\" style=\"display: none;\"><div style=\"display: table-cell;\"></div><div style=\"display: table-cell;\">js_event_callbacks&nbsp;=&nbsp;{},</div></div><div class=\"2bbad544-3bec-4c38-9895-0777c68a51aa\" style=\"display: none;\"><div style=\"display: table-cell;\"></div><div style=\"display: table-cell;\">js_property_callbacks&nbsp;=&nbsp;{},</div></div><div class=\"2bbad544-3bec-4c38-9895-0777c68a51aa\" style=\"display: none;\"><div style=\"display: table-cell;\"></div><div style=\"display: table-cell;\">level&nbsp;=&nbsp;'glyph',</div></div><div class=\"2bbad544-3bec-4c38-9895-0777c68a51aa\" style=\"display: none;\"><div style=\"display: table-cell;\"></div><div style=\"display: table-cell;\">muted&nbsp;=&nbsp;False,</div></div><div class=\"2bbad544-3bec-4c38-9895-0777c68a51aa\" style=\"display: none;\"><div style=\"display: table-cell;\"></div><div style=\"display: table-cell;\">muted_glyph&nbsp;=&nbsp;None,</div></div><div class=\"2bbad544-3bec-4c38-9895-0777c68a51aa\" style=\"display: none;\"><div style=\"display: table-cell;\"></div><div style=\"display: table-cell;\">name&nbsp;=&nbsp;None,</div></div><div class=\"2bbad544-3bec-4c38-9895-0777c68a51aa\" style=\"display: none;\"><div style=\"display: table-cell;\"></div><div style=\"display: table-cell;\">nonselection_glyph&nbsp;=&nbsp;Hex(id='96eae821-bf29-4526-b2bc-865db6de6f6e', ...),</div></div><div class=\"2bbad544-3bec-4c38-9895-0777c68a51aa\" style=\"display: none;\"><div style=\"display: table-cell;\"></div><div style=\"display: table-cell;\">selection_glyph&nbsp;=&nbsp;None,</div></div><div class=\"2bbad544-3bec-4c38-9895-0777c68a51aa\" style=\"display: none;\"><div style=\"display: table-cell;\"></div><div style=\"display: table-cell;\">subscribed_events&nbsp;=&nbsp;[],</div></div><div class=\"2bbad544-3bec-4c38-9895-0777c68a51aa\" style=\"display: none;\"><div style=\"display: table-cell;\"></div><div style=\"display: table-cell;\">tags&nbsp;=&nbsp;[],</div></div><div class=\"2bbad544-3bec-4c38-9895-0777c68a51aa\" style=\"display: none;\"><div style=\"display: table-cell;\"></div><div style=\"display: table-cell;\">view&nbsp;=&nbsp;CDSView(id='d0db6e7c-e7f7-4bff-a1d0-b64249800dfd', ...),</div></div><div class=\"2bbad544-3bec-4c38-9895-0777c68a51aa\" style=\"display: none;\"><div style=\"display: table-cell;\"></div><div style=\"display: table-cell;\">visible&nbsp;=&nbsp;True,</div></div><div class=\"2bbad544-3bec-4c38-9895-0777c68a51aa\" style=\"display: none;\"><div style=\"display: table-cell;\"></div><div style=\"display: table-cell;\">x_range_name&nbsp;=&nbsp;'default',</div></div><div class=\"2bbad544-3bec-4c38-9895-0777c68a51aa\" style=\"display: none;\"><div style=\"display: table-cell;\"></div><div style=\"display: table-cell;\">y_range_name&nbsp;=&nbsp;'default')</div></div></div>\n",
       "<script>\n",
       "(function() {\n",
       "  var expanded = false;\n",
       "  var ellipsis = document.getElementById(\"d61fc4fd-8b51-440b-8fe0-fe9c5046f8be\");\n",
       "  ellipsis.addEventListener(\"click\", function() {\n",
       "    var rows = document.getElementsByClassName(\"2bbad544-3bec-4c38-9895-0777c68a51aa\");\n",
       "    for (var i = 0; i < rows.length; i++) {\n",
       "      var el = rows[i];\n",
       "      el.style.display = expanded ? \"none\" : \"table-row\";\n",
       "    }\n",
       "    ellipsis.innerHTML = expanded ? \"&hellip;)\" : \"&lsaquo;&lsaquo;&lsaquo;\";\n",
       "    expanded = !expanded;\n",
       "  });\n",
       "})();\n",
       "</script>\n"
      ],
      "text/plain": [
       "bokeh.models.renderers.GlyphRenderer(\n",
       "    id='e3ce3734-e30a-45c7-9d65-8aafd0991bd7',\n",
       "    data_source=bokeh.models.sources.ColumnDataSource(\n",
       "        id='c69e31bc-7742-4996-9272-bbc832aecc3b',\n",
       "        callback=None,\n",
       "        data={'y': [5], 'x': [2]},\n",
       "        js_event_callbacks={},\n",
       "        js_property_callbacks={},\n",
       "        name=None,\n",
       "        selected=bokeh.models.selections.Selection(\n",
       "            id='45cf4025-65da-43ed-8e5f-c19dda5a1f4f',\n",
       "            indices=[],\n",
       "            js_event_callbacks={},\n",
       "            js_property_callbacks={},\n",
       "            line_indices=[],\n",
       "            multiline_indices={},\n",
       "            name=None,\n",
       "            subscribed_events=[],\n",
       "            tags=[]),\n",
       "        selection_policy=bokeh.models.selections.UnionRenderers(\n",
       "            id='9b649190-e746-4050-b875-9e70238e681c',\n",
       "            js_event_callbacks={},\n",
       "            js_property_callbacks={},\n",
       "            name=None,\n",
       "            subscribed_events=[],\n",
       "            tags=[]),\n",
       "        subscribed_events=[],\n",
       "        tags=[]),\n",
       "    glyph=bokeh.models.markers.Hex(\n",
       "        id='94ade8de-7da0-40ae-a50a-51808bcbf61e',\n",
       "        angle={'value': 0.0, 'units': 'rad'},\n",
       "        fill_alpha={'value': 1.0},\n",
       "        fill_color={'value': 'white'},\n",
       "        js_event_callbacks={},\n",
       "        js_property_callbacks={},\n",
       "        line_alpha={'value': 1.0},\n",
       "        line_cap='butt',\n",
       "        line_color={'value': 'deeppink'},\n",
       "        line_dash=[],\n",
       "        line_dash_offset=0,\n",
       "        line_join='bevel',\n",
       "        line_width={'value': 4},\n",
       "        name=None,\n",
       "        size={'value': 150, 'units': 'screen'},\n",
       "        subscribed_events=[],\n",
       "        tags=[],\n",
       "        x={'field': 'x'},\n",
       "        y={'field': 'y'}),\n",
       "    hover_glyph=None,\n",
       "    js_event_callbacks={},\n",
       "    js_property_callbacks={},\n",
       "    level='glyph',\n",
       "    muted=False,\n",
       "    muted_glyph=None,\n",
       "    name=None,\n",
       "    nonselection_glyph=bokeh.models.markers.Hex(\n",
       "        id='96eae821-bf29-4526-b2bc-865db6de6f6e',\n",
       "        angle={'value': 0.0, 'units': 'rad'},\n",
       "        fill_alpha={'value': 0.1},\n",
       "        fill_color={'value': '#1f77b4'},\n",
       "        js_event_callbacks={},\n",
       "        js_property_callbacks={},\n",
       "        line_alpha={'value': 0.1},\n",
       "        line_cap='butt',\n",
       "        line_color={'value': '#1f77b4'},\n",
       "        line_dash=[],\n",
       "        line_dash_offset=0,\n",
       "        line_join='bevel',\n",
       "        line_width={'value': 4},\n",
       "        name=None,\n",
       "        size={'value': 150, 'units': 'screen'},\n",
       "        subscribed_events=[],\n",
       "        tags=[],\n",
       "        x={'field': 'x'},\n",
       "        y={'field': 'y'}),\n",
       "    selection_glyph=None,\n",
       "    subscribed_events=[],\n",
       "    tags=[],\n",
       "    view=bokeh.models.sources.CDSView(\n",
       "        id='d0db6e7c-e7f7-4bff-a1d0-b64249800dfd',\n",
       "        filters=[],\n",
       "        js_event_callbacks={},\n",
       "        js_property_callbacks={},\n",
       "        name=None,\n",
       "        source=bokeh.models.sources.ColumnDataSource(\n",
       "            id='c69e31bc-7742-4996-9272-bbc832aecc3b',\n",
       "            callback=None,\n",
       "            data={'y': [5], 'x': [2]},\n",
       "            js_event_callbacks={},\n",
       "            js_property_callbacks={},\n",
       "            name=None,\n",
       "            selected=bokeh.models.selections.Selection(\n",
       "                id='45cf4025-65da-43ed-8e5f-c19dda5a1f4f',\n",
       "                indices=[],\n",
       "                js_event_callbacks={},\n",
       "                js_property_callbacks={},\n",
       "                line_indices=[],\n",
       "                multiline_indices={},\n",
       "                name=None,\n",
       "                subscribed_events=[],\n",
       "                tags=[]),\n",
       "            selection_policy=bokeh.models.selections.UnionRenderers(\n",
       "                id='9b649190-e746-4050-b875-9e70238e681c',\n",
       "                js_event_callbacks={},\n",
       "                js_property_callbacks={},\n",
       "                name=None,\n",
       "                subscribed_events=[],\n",
       "                tags=[]),\n",
       "            subscribed_events=[],\n",
       "            tags=[]),\n",
       "        subscribed_events=[],\n",
       "        tags=[]),\n",
       "    visible=True,\n",
       "    x_range_name='default',\n",
       "    y_range_name='default')"
      ]
     },
     "execution_count": 15,
     "metadata": {},
     "output_type": "execute_result"
    }
   ],
   "source": [
    "p.hex(x = [2], \n",
    "      y = [5], \n",
    "           \n",
    "      line_color = 'deeppink', \n",
    "      line_width = 4,\n",
    "           \n",
    "      size = 150,\n",
    "      fill_color = 'white')"
   ]
  },
  {
   "cell_type": "markdown",
   "metadata": {},
   "source": [
    "#### Ellipse\n",
    "Along with the ellipse centers, we can specify the height and width of the ellipse in axis units rather than screen space units.\n",
    "\n",
    "Note that we are individually specifying the widths for the two ellipses by passing a list of width values. But the height for all ellipses is fixed at 2 units."
   ]
  },
  {
   "cell_type": "code",
   "execution_count": 16,
   "metadata": {},
   "outputs": [
    {
     "data": {
      "text/html": [
       "<div style=\"display: table;\"><div style=\"display: table-row;\"><div style=\"display: table-cell;\"><b title=\"bokeh.models.renderers.GlyphRenderer\">GlyphRenderer</b>(</div><div style=\"display: table-cell;\">id&nbsp;=&nbsp;'c2467b6a-7d07-4b96-b091-2b4127b4785a', <span id=\"79b194de-da74-40c0-bab2-c02ffa670e7f\" style=\"cursor: pointer;\">&hellip;)</span></div></div><div class=\"de30a0b3-184c-44cd-9ddc-87743a01022a\" style=\"display: none;\"><div style=\"display: table-cell;\"></div><div style=\"display: table-cell;\">data_source&nbsp;=&nbsp;ColumnDataSource(id='c0f97d85-6124-4e1a-a58e-c78180af2e76', ...),</div></div><div class=\"de30a0b3-184c-44cd-9ddc-87743a01022a\" style=\"display: none;\"><div style=\"display: table-cell;\"></div><div style=\"display: table-cell;\">glyph&nbsp;=&nbsp;Ellipse(id='1fc4a0e0-5e2d-4117-8e3f-57943886bb4d', ...),</div></div><div class=\"de30a0b3-184c-44cd-9ddc-87743a01022a\" style=\"display: none;\"><div style=\"display: table-cell;\"></div><div style=\"display: table-cell;\">hover_glyph&nbsp;=&nbsp;None,</div></div><div class=\"de30a0b3-184c-44cd-9ddc-87743a01022a\" style=\"display: none;\"><div style=\"display: table-cell;\"></div><div style=\"display: table-cell;\">js_event_callbacks&nbsp;=&nbsp;{},</div></div><div class=\"de30a0b3-184c-44cd-9ddc-87743a01022a\" style=\"display: none;\"><div style=\"display: table-cell;\"></div><div style=\"display: table-cell;\">js_property_callbacks&nbsp;=&nbsp;{},</div></div><div class=\"de30a0b3-184c-44cd-9ddc-87743a01022a\" style=\"display: none;\"><div style=\"display: table-cell;\"></div><div style=\"display: table-cell;\">level&nbsp;=&nbsp;'glyph',</div></div><div class=\"de30a0b3-184c-44cd-9ddc-87743a01022a\" style=\"display: none;\"><div style=\"display: table-cell;\"></div><div style=\"display: table-cell;\">muted&nbsp;=&nbsp;False,</div></div><div class=\"de30a0b3-184c-44cd-9ddc-87743a01022a\" style=\"display: none;\"><div style=\"display: table-cell;\"></div><div style=\"display: table-cell;\">muted_glyph&nbsp;=&nbsp;None,</div></div><div class=\"de30a0b3-184c-44cd-9ddc-87743a01022a\" style=\"display: none;\"><div style=\"display: table-cell;\"></div><div style=\"display: table-cell;\">name&nbsp;=&nbsp;None,</div></div><div class=\"de30a0b3-184c-44cd-9ddc-87743a01022a\" style=\"display: none;\"><div style=\"display: table-cell;\"></div><div style=\"display: table-cell;\">nonselection_glyph&nbsp;=&nbsp;Ellipse(id='baaa5086-8290-4c41-be69-63b92cf03d2a', ...),</div></div><div class=\"de30a0b3-184c-44cd-9ddc-87743a01022a\" style=\"display: none;\"><div style=\"display: table-cell;\"></div><div style=\"display: table-cell;\">selection_glyph&nbsp;=&nbsp;None,</div></div><div class=\"de30a0b3-184c-44cd-9ddc-87743a01022a\" style=\"display: none;\"><div style=\"display: table-cell;\"></div><div style=\"display: table-cell;\">subscribed_events&nbsp;=&nbsp;[],</div></div><div class=\"de30a0b3-184c-44cd-9ddc-87743a01022a\" style=\"display: none;\"><div style=\"display: table-cell;\"></div><div style=\"display: table-cell;\">tags&nbsp;=&nbsp;[],</div></div><div class=\"de30a0b3-184c-44cd-9ddc-87743a01022a\" style=\"display: none;\"><div style=\"display: table-cell;\"></div><div style=\"display: table-cell;\">view&nbsp;=&nbsp;CDSView(id='89a45306-2c95-4a77-997d-3d60a3addc6b', ...),</div></div><div class=\"de30a0b3-184c-44cd-9ddc-87743a01022a\" style=\"display: none;\"><div style=\"display: table-cell;\"></div><div style=\"display: table-cell;\">visible&nbsp;=&nbsp;True,</div></div><div class=\"de30a0b3-184c-44cd-9ddc-87743a01022a\" style=\"display: none;\"><div style=\"display: table-cell;\"></div><div style=\"display: table-cell;\">x_range_name&nbsp;=&nbsp;'default',</div></div><div class=\"de30a0b3-184c-44cd-9ddc-87743a01022a\" style=\"display: none;\"><div style=\"display: table-cell;\"></div><div style=\"display: table-cell;\">y_range_name&nbsp;=&nbsp;'default')</div></div></div>\n",
       "<script>\n",
       "(function() {\n",
       "  var expanded = false;\n",
       "  var ellipsis = document.getElementById(\"79b194de-da74-40c0-bab2-c02ffa670e7f\");\n",
       "  ellipsis.addEventListener(\"click\", function() {\n",
       "    var rows = document.getElementsByClassName(\"de30a0b3-184c-44cd-9ddc-87743a01022a\");\n",
       "    for (var i = 0; i < rows.length; i++) {\n",
       "      var el = rows[i];\n",
       "      el.style.display = expanded ? \"none\" : \"table-row\";\n",
       "    }\n",
       "    ellipsis.innerHTML = expanded ? \"&hellip;)\" : \"&lsaquo;&lsaquo;&lsaquo;\";\n",
       "    expanded = !expanded;\n",
       "  });\n",
       "})();\n",
       "</script>\n"
      ],
      "text/plain": [
       "bokeh.models.renderers.GlyphRenderer(\n",
       "    id='c2467b6a-7d07-4b96-b091-2b4127b4785a',\n",
       "    data_source=bokeh.models.sources.ColumnDataSource(\n",
       "        id='c0f97d85-6124-4e1a-a58e-c78180af2e76',\n",
       "        callback=None,\n",
       "        data={'y': [3, 5], 'x': [5, 8], 'width': [1, 3]},\n",
       "        js_event_callbacks={},\n",
       "        js_property_callbacks={},\n",
       "        name=None,\n",
       "        selected=bokeh.models.selections.Selection(\n",
       "            id='e7e1be65-777c-4c11-a675-dca5264fe274',\n",
       "            indices=[],\n",
       "            js_event_callbacks={},\n",
       "            js_property_callbacks={},\n",
       "            line_indices=[],\n",
       "            multiline_indices={},\n",
       "            name=None,\n",
       "            subscribed_events=[],\n",
       "            tags=[]),\n",
       "        selection_policy=bokeh.models.selections.UnionRenderers(\n",
       "            id='55d1b13f-cbea-4991-9a84-9fcdfd1bff30',\n",
       "            js_event_callbacks={},\n",
       "            js_property_callbacks={},\n",
       "            name=None,\n",
       "            subscribed_events=[],\n",
       "            tags=[]),\n",
       "        subscribed_events=[],\n",
       "        tags=[]),\n",
       "    glyph=bokeh.models.glyphs.Ellipse(\n",
       "        id='1fc4a0e0-5e2d-4117-8e3f-57943886bb4d',\n",
       "        angle={'value': 0.0, 'units': 'rad'},\n",
       "        fill_alpha={'value': 1.0},\n",
       "        fill_color={'value': 'tomato'},\n",
       "        height={'value': 2, 'units': 'data'},\n",
       "        js_event_callbacks={},\n",
       "        js_property_callbacks={},\n",
       "        line_alpha={'value': 1.0},\n",
       "        line_cap='butt',\n",
       "        line_color={'value': 'tomato'},\n",
       "        line_dash=[],\n",
       "        line_dash_offset=0,\n",
       "        line_join='bevel',\n",
       "        line_width={'value': 1},\n",
       "        name=None,\n",
       "        subscribed_events=[],\n",
       "        tags=[],\n",
       "        width={'field': 'width', 'units': 'data'},\n",
       "        x={'field': 'x'},\n",
       "        y={'field': 'y'}),\n",
       "    hover_glyph=None,\n",
       "    js_event_callbacks={},\n",
       "    js_property_callbacks={},\n",
       "    level='glyph',\n",
       "    muted=False,\n",
       "    muted_glyph=None,\n",
       "    name=None,\n",
       "    nonselection_glyph=bokeh.models.glyphs.Ellipse(\n",
       "        id='baaa5086-8290-4c41-be69-63b92cf03d2a',\n",
       "        angle={'value': 0.0, 'units': 'rad'},\n",
       "        fill_alpha={'value': 0.1},\n",
       "        fill_color={'value': '#1f77b4'},\n",
       "        height={'value': 2, 'units': 'data'},\n",
       "        js_event_callbacks={},\n",
       "        js_property_callbacks={},\n",
       "        line_alpha={'value': 0.1},\n",
       "        line_cap='butt',\n",
       "        line_color={'value': '#1f77b4'},\n",
       "        line_dash=[],\n",
       "        line_dash_offset=0,\n",
       "        line_join='bevel',\n",
       "        line_width={'value': 1},\n",
       "        name=None,\n",
       "        subscribed_events=[],\n",
       "        tags=[],\n",
       "        width={'field': 'width', 'units': 'data'},\n",
       "        x={'field': 'x'},\n",
       "        y={'field': 'y'}),\n",
       "    selection_glyph=None,\n",
       "    subscribed_events=[],\n",
       "    tags=[],\n",
       "    view=bokeh.models.sources.CDSView(\n",
       "        id='89a45306-2c95-4a77-997d-3d60a3addc6b',\n",
       "        filters=[],\n",
       "        js_event_callbacks={},\n",
       "        js_property_callbacks={},\n",
       "        name=None,\n",
       "        source=bokeh.models.sources.ColumnDataSource(\n",
       "            id='c0f97d85-6124-4e1a-a58e-c78180af2e76',\n",
       "            callback=None,\n",
       "            data={'y': [3, 5], 'x': [5, 8], 'width': [1, 3]},\n",
       "            js_event_callbacks={},\n",
       "            js_property_callbacks={},\n",
       "            name=None,\n",
       "            selected=bokeh.models.selections.Selection(\n",
       "                id='e7e1be65-777c-4c11-a675-dca5264fe274',\n",
       "                indices=[],\n",
       "                js_event_callbacks={},\n",
       "                js_property_callbacks={},\n",
       "                line_indices=[],\n",
       "                multiline_indices={},\n",
       "                name=None,\n",
       "                subscribed_events=[],\n",
       "                tags=[]),\n",
       "            selection_policy=bokeh.models.selections.UnionRenderers(\n",
       "                id='55d1b13f-cbea-4991-9a84-9fcdfd1bff30',\n",
       "                js_event_callbacks={},\n",
       "                js_property_callbacks={},\n",
       "                name=None,\n",
       "                subscribed_events=[],\n",
       "                tags=[]),\n",
       "            subscribed_events=[],\n",
       "            tags=[]),\n",
       "        subscribed_events=[],\n",
       "        tags=[]),\n",
       "    visible=True,\n",
       "    x_range_name='default',\n",
       "    y_range_name='default')"
      ]
     },
     "execution_count": 16,
     "metadata": {},
     "output_type": "execute_result"
    }
   ],
   "source": [
    "p.ellipse(x = [5, 8], \n",
    "          y = [3, 5], \n",
    "          \n",
    "          width = [1, 3], \n",
    "          height = 2,\n",
    "          \n",
    "          color = 'tomato')"
   ]
  },
  {
   "cell_type": "code",
   "execution_count": 17,
   "metadata": {},
   "outputs": [
    {
     "data": {
      "text/html": [
       "\n",
       "\n",
       "\n",
       "\n",
       "\n",
       "\n",
       "  <div class=\"bk-root\" id=\"3e6d04bb-4933-4857-a51d-f772de1c4e45\"></div>\n"
      ]
     },
     "metadata": {},
     "output_type": "display_data"
    },
    {
     "data": {
      "application/javascript": [
       "(function(root) {\n",
       "  function embed_document(root) {\n",
       "    \n",
       "  var docs_json = {\"01756898-755e-4b71-9296-7c6a18462cce\":{\"roots\":{\"references\":[{\"attributes\":{\"formatter\":{\"id\":\"6b43c2e2-fdf2-46a4-9a9c-11a5d61f542d\",\"type\":\"BasicTickFormatter\"},\"plot\":{\"id\":\"abd7a473-44d5-4357-8639-a119edfcaf6b\",\"subtype\":\"Figure\",\"type\":\"Plot\"},\"ticker\":{\"id\":\"e7e398f3-ec41-4263-9ee4-afbb506693dd\",\"type\":\"BasicTicker\"}},\"id\":\"3a59431e-d3d2-4b64-8ff1-fc3c28476365\",\"type\":\"LinearAxis\"},{\"attributes\":{},\"id\":\"c4d1290b-4ecc-415f-99d3-661f47f4509e\",\"type\":\"LinearScale\"},{\"attributes\":{\"plot\":{\"id\":\"abd7a473-44d5-4357-8639-a119edfcaf6b\",\"subtype\":\"Figure\",\"type\":\"Plot\"},\"ticker\":{\"id\":\"e7e398f3-ec41-4263-9ee4-afbb506693dd\",\"type\":\"BasicTicker\"}},\"id\":\"a29daf0f-95a8-4776-b2c9-a645b79058ea\",\"type\":\"Grid\"},{\"attributes\":{\"fill_alpha\":{\"value\":0.2},\"fill_color\":{\"value\":null},\"line_alpha\":{\"value\":0.2},\"line_color\":{\"value\":\"maroon\"},\"line_width\":{\"value\":4},\"size\":{\"field\":\"size\",\"units\":\"screen\"},\"x\":{\"field\":\"x\"},\"y\":{\"field\":\"y\"}},\"id\":\"c203434e-6407-493c-9f0d-623240ca346e\",\"type\":\"Circle\"},{\"attributes\":{},\"id\":\"55d1b13f-cbea-4991-9a84-9fcdfd1bff30\",\"type\":\"UnionRenderers\"},{\"attributes\":{\"callback\":null,\"end\":10},\"id\":\"87b8a031-5009-4b49-810a-5281294633ef\",\"type\":\"Range1d\"},{\"attributes\":{\"fill_alpha\":{\"value\":0.1},\"fill_color\":{\"value\":\"#1f77b4\"},\"height\":{\"units\":\"data\",\"value\":2},\"line_alpha\":{\"value\":0.1},\"line_color\":{\"value\":\"#1f77b4\"},\"width\":{\"field\":\"width\",\"units\":\"data\"},\"x\":{\"field\":\"x\"},\"y\":{\"field\":\"y\"}},\"id\":\"baaa5086-8290-4c41-be69-63b92cf03d2a\",\"type\":\"Ellipse\"},{\"attributes\":{\"callback\":null,\"end\":7,\"start\":2},\"id\":\"28b36f0f-9531-4cb0-b449-7d824bf26a29\",\"type\":\"Range1d\"},{\"attributes\":{\"fill_color\":{\"value\":\"tomato\"},\"height\":{\"units\":\"data\",\"value\":2},\"line_color\":{\"value\":\"tomato\"},\"width\":{\"field\":\"width\",\"units\":\"data\"},\"x\":{\"field\":\"x\"},\"y\":{\"field\":\"y\"}},\"id\":\"1fc4a0e0-5e2d-4117-8e3f-57943886bb4d\",\"type\":\"Ellipse\"},{\"attributes\":{},\"id\":\"0a0fa200-10a4-4311-8161-db642648e464\",\"type\":\"LinearScale\"},{\"attributes\":{},\"id\":\"ef548bf6-9c0a-40ff-b26e-261e87656037\",\"type\":\"BasicTickFormatter\"},{\"attributes\":{\"below\":[{\"id\":\"3a59431e-d3d2-4b64-8ff1-fc3c28476365\",\"type\":\"LinearAxis\"}],\"left\":[{\"id\":\"9478286c-7b01-4fd5-9072-7553ff6aa21b\",\"type\":\"LinearAxis\"}],\"plot_height\":300,\"renderers\":[{\"id\":\"3a59431e-d3d2-4b64-8ff1-fc3c28476365\",\"type\":\"LinearAxis\"},{\"id\":\"a29daf0f-95a8-4776-b2c9-a645b79058ea\",\"type\":\"Grid\"},{\"id\":\"9478286c-7b01-4fd5-9072-7553ff6aa21b\",\"type\":\"LinearAxis\"},{\"id\":\"3496c799-b7fa-4fd6-bfc1-d7288ef84175\",\"type\":\"Grid\"},{\"id\":\"3717837a-4607-42a5-b7d8-90a0cec007b9\",\"type\":\"BoxAnnotation\"},{\"id\":\"322e53bc-d601-4717-a837-cd9446b6d55b\",\"type\":\"GlyphRenderer\"},{\"id\":\"e3ce3734-e30a-45c7-9d65-8aafd0991bd7\",\"type\":\"GlyphRenderer\"},{\"id\":\"c2467b6a-7d07-4b96-b091-2b4127b4785a\",\"type\":\"GlyphRenderer\"}],\"title\":{\"id\":\"7781041a-9634-4420-a9a5-c3c2a3c8ad30\",\"type\":\"Title\"},\"toolbar\":{\"id\":\"69a2f8c6-6f62-4e87-8bf7-e00241d1b7b5\",\"type\":\"Toolbar\"},\"x_range\":{\"id\":\"87b8a031-5009-4b49-810a-5281294633ef\",\"type\":\"Range1d\"},\"x_scale\":{\"id\":\"0a0fa200-10a4-4311-8161-db642648e464\",\"type\":\"LinearScale\"},\"y_range\":{\"id\":\"28b36f0f-9531-4cb0-b449-7d824bf26a29\",\"type\":\"Range1d\"},\"y_scale\":{\"id\":\"c4d1290b-4ecc-415f-99d3-661f47f4509e\",\"type\":\"LinearScale\"}},\"id\":\"abd7a473-44d5-4357-8639-a119edfcaf6b\",\"subtype\":\"Figure\",\"type\":\"Plot\"},{\"attributes\":{\"bottom_units\":\"screen\",\"fill_alpha\":{\"value\":0.5},\"fill_color\":{\"value\":\"lightgrey\"},\"left_units\":\"screen\",\"level\":\"overlay\",\"line_alpha\":{\"value\":1.0},\"line_color\":{\"value\":\"black\"},\"line_dash\":[4,4],\"line_width\":{\"value\":2},\"plot\":null,\"render_mode\":\"css\",\"right_units\":\"screen\",\"top_units\":\"screen\"},\"id\":\"3717837a-4607-42a5-b7d8-90a0cec007b9\",\"type\":\"BoxAnnotation\"},{\"attributes\":{\"indices\":[],\"line_indices\":[]},\"id\":\"e7e1be65-777c-4c11-a675-dca5264fe274\",\"type\":\"Selection\"},{\"attributes\":{\"formatter\":{\"id\":\"ef548bf6-9c0a-40ff-b26e-261e87656037\",\"type\":\"BasicTickFormatter\"},\"plot\":{\"id\":\"abd7a473-44d5-4357-8639-a119edfcaf6b\",\"subtype\":\"Figure\",\"type\":\"Plot\"},\"ticker\":{\"id\":\"cb5b3e8c-cb4a-4b63-a433-6b22ceacfe02\",\"type\":\"BasicTicker\"}},\"id\":\"9478286c-7b01-4fd5-9072-7553ff6aa21b\",\"type\":\"LinearAxis\"},{\"attributes\":{},\"id\":\"9b649190-e746-4050-b875-9e70238e681c\",\"type\":\"UnionRenderers\"},{\"attributes\":{\"dimension\":1,\"plot\":{\"id\":\"abd7a473-44d5-4357-8639-a119edfcaf6b\",\"subtype\":\"Figure\",\"type\":\"Plot\"},\"ticker\":{\"id\":\"cb5b3e8c-cb4a-4b63-a433-6b22ceacfe02\",\"type\":\"BasicTicker\"}},\"id\":\"3496c799-b7fa-4fd6-bfc1-d7288ef84175\",\"type\":\"Grid\"},{\"attributes\":{\"indices\":[],\"line_indices\":[]},\"id\":\"61bae410-bc9b-40ec-9090-c70ecbe1254e\",\"type\":\"Selection\"},{\"attributes\":{\"data_source\":{\"id\":\"56c722eb-d1f9-419d-b804-e0dcdfb2271a\",\"type\":\"ColumnDataSource\"},\"glyph\":{\"id\":\"c203434e-6407-493c-9f0d-623240ca346e\",\"type\":\"Circle\"},\"hover_glyph\":null,\"muted_glyph\":null,\"nonselection_glyph\":{\"id\":\"d086d475-b8c1-4073-bcc2-7b2d00481736\",\"type\":\"Circle\"},\"selection_glyph\":null,\"view\":{\"id\":\"7ca24b53-2fdd-491d-8dc5-be2e50f500d7\",\"type\":\"CDSView\"}},\"id\":\"322e53bc-d601-4717-a837-cd9446b6d55b\",\"type\":\"GlyphRenderer\"},{\"attributes\":{\"indices\":[],\"line_indices\":[]},\"id\":\"45cf4025-65da-43ed-8e5f-c19dda5a1f4f\",\"type\":\"Selection\"},{\"attributes\":{\"callback\":null,\"data\":{\"width\":[1,3],\"x\":[5,8],\"y\":[3,5]},\"selected\":{\"id\":\"e7e1be65-777c-4c11-a675-dca5264fe274\",\"type\":\"Selection\"},\"selection_policy\":{\"id\":\"55d1b13f-cbea-4991-9a84-9fcdfd1bff30\",\"type\":\"UnionRenderers\"}},\"id\":\"c0f97d85-6124-4e1a-a58e-c78180af2e76\",\"type\":\"ColumnDataSource\"},{\"attributes\":{},\"id\":\"476bd187-1423-47b4-a3d4-ee19a9caf0ea\",\"type\":\"SaveTool\"},{\"attributes\":{},\"id\":\"cb5b3e8c-cb4a-4b63-a433-6b22ceacfe02\",\"type\":\"BasicTicker\"},{\"attributes\":{\"source\":{\"id\":\"56c722eb-d1f9-419d-b804-e0dcdfb2271a\",\"type\":\"ColumnDataSource\"}},\"id\":\"7ca24b53-2fdd-491d-8dc5-be2e50f500d7\",\"type\":\"CDSView\"},{\"attributes\":{},\"id\":\"e6710c96-7b9b-4569-a052-a4185d910d6f\",\"type\":\"UnionRenderers\"},{\"attributes\":{\"callback\":null,\"data\":{\"x\":[2],\"y\":[5]},\"selected\":{\"id\":\"45cf4025-65da-43ed-8e5f-c19dda5a1f4f\",\"type\":\"Selection\"},\"selection_policy\":{\"id\":\"9b649190-e746-4050-b875-9e70238e681c\",\"type\":\"UnionRenderers\"}},\"id\":\"c69e31bc-7742-4996-9272-bbc832aecc3b\",\"type\":\"ColumnDataSource\"},{\"attributes\":{\"data_source\":{\"id\":\"c69e31bc-7742-4996-9272-bbc832aecc3b\",\"type\":\"ColumnDataSource\"},\"glyph\":{\"id\":\"94ade8de-7da0-40ae-a50a-51808bcbf61e\",\"type\":\"Hex\"},\"hover_glyph\":null,\"muted_glyph\":null,\"nonselection_glyph\":{\"id\":\"96eae821-bf29-4526-b2bc-865db6de6f6e\",\"type\":\"Hex\"},\"selection_glyph\":null,\"view\":{\"id\":\"d0db6e7c-e7f7-4bff-a1d0-b64249800dfd\",\"type\":\"CDSView\"}},\"id\":\"e3ce3734-e30a-45c7-9d65-8aafd0991bd7\",\"type\":\"GlyphRenderer\"},{\"attributes\":{\"plot\":null,\"text\":\"\"},\"id\":\"7781041a-9634-4420-a9a5-c3c2a3c8ad30\",\"type\":\"Title\"},{\"attributes\":{\"data_source\":{\"id\":\"c0f97d85-6124-4e1a-a58e-c78180af2e76\",\"type\":\"ColumnDataSource\"},\"glyph\":{\"id\":\"1fc4a0e0-5e2d-4117-8e3f-57943886bb4d\",\"type\":\"Ellipse\"},\"hover_glyph\":null,\"muted_glyph\":null,\"nonselection_glyph\":{\"id\":\"baaa5086-8290-4c41-be69-63b92cf03d2a\",\"type\":\"Ellipse\"},\"selection_glyph\":null,\"view\":{\"id\":\"89a45306-2c95-4a77-997d-3d60a3addc6b\",\"type\":\"CDSView\"}},\"id\":\"c2467b6a-7d07-4b96-b091-2b4127b4785a\",\"type\":\"GlyphRenderer\"},{\"attributes\":{},\"id\":\"e7e398f3-ec41-4263-9ee4-afbb506693dd\",\"type\":\"BasicTicker\"},{\"attributes\":{},\"id\":\"4b57f010-0cdc-4fb5-9f5c-cb47364d93a8\",\"type\":\"PanTool\"},{\"attributes\":{\"source\":{\"id\":\"c0f97d85-6124-4e1a-a58e-c78180af2e76\",\"type\":\"ColumnDataSource\"}},\"id\":\"89a45306-2c95-4a77-997d-3d60a3addc6b\",\"type\":\"CDSView\"},{\"attributes\":{\"fill_color\":{\"value\":\"white\"},\"line_color\":{\"value\":\"deeppink\"},\"line_width\":{\"value\":4},\"size\":{\"units\":\"screen\",\"value\":150},\"x\":{\"field\":\"x\"},\"y\":{\"field\":\"y\"}},\"id\":\"94ade8de-7da0-40ae-a50a-51808bcbf61e\",\"type\":\"Hex\"},{\"attributes\":{\"overlay\":{\"id\":\"3717837a-4607-42a5-b7d8-90a0cec007b9\",\"type\":\"BoxAnnotation\"}},\"id\":\"b626ffe7-d39b-4646-a730-1c082be64785\",\"type\":\"BoxZoomTool\"},{\"attributes\":{},\"id\":\"41232c9a-e155-4952-8415-3f130d5d591f\",\"type\":\"ResetTool\"},{\"attributes\":{\"fill_alpha\":{\"value\":0.1},\"fill_color\":{\"value\":\"#1f77b4\"},\"line_alpha\":{\"value\":0.1},\"line_color\":{\"value\":\"#1f77b4\"},\"line_width\":{\"value\":4},\"size\":{\"field\":\"size\",\"units\":\"screen\"},\"x\":{\"field\":\"x\"},\"y\":{\"field\":\"y\"}},\"id\":\"d086d475-b8c1-4073-bcc2-7b2d00481736\",\"type\":\"Circle\"},{\"attributes\":{},\"id\":\"815e116e-03f2-4206-ac8b-bb2bdc06ebc3\",\"type\":\"WheelZoomTool\"},{\"attributes\":{},\"id\":\"6b43c2e2-fdf2-46a4-9a9c-11a5d61f542d\",\"type\":\"BasicTickFormatter\"},{\"attributes\":{},\"id\":\"a740c091-47f8-4254-ad04-7d284b3398a2\",\"type\":\"HelpTool\"},{\"attributes\":{\"callback\":null,\"data\":{\"size\":[60,80],\"x\":[2,5],\"y\":[3,6]},\"selected\":{\"id\":\"61bae410-bc9b-40ec-9090-c70ecbe1254e\",\"type\":\"Selection\"},\"selection_policy\":{\"id\":\"e6710c96-7b9b-4569-a052-a4185d910d6f\",\"type\":\"UnionRenderers\"}},\"id\":\"56c722eb-d1f9-419d-b804-e0dcdfb2271a\",\"type\":\"ColumnDataSource\"},{\"attributes\":{\"fill_alpha\":{\"value\":0.1},\"fill_color\":{\"value\":\"#1f77b4\"},\"line_alpha\":{\"value\":0.1},\"line_color\":{\"value\":\"#1f77b4\"},\"line_width\":{\"value\":4},\"size\":{\"units\":\"screen\",\"value\":150},\"x\":{\"field\":\"x\"},\"y\":{\"field\":\"y\"}},\"id\":\"96eae821-bf29-4526-b2bc-865db6de6f6e\",\"type\":\"Hex\"},{\"attributes\":{\"source\":{\"id\":\"c69e31bc-7742-4996-9272-bbc832aecc3b\",\"type\":\"ColumnDataSource\"}},\"id\":\"d0db6e7c-e7f7-4bff-a1d0-b64249800dfd\",\"type\":\"CDSView\"},{\"attributes\":{\"active_drag\":\"auto\",\"active_inspect\":\"auto\",\"active_multi\":null,\"active_scroll\":\"auto\",\"active_tap\":\"auto\",\"tools\":[{\"id\":\"4b57f010-0cdc-4fb5-9f5c-cb47364d93a8\",\"type\":\"PanTool\"},{\"id\":\"815e116e-03f2-4206-ac8b-bb2bdc06ebc3\",\"type\":\"WheelZoomTool\"},{\"id\":\"b626ffe7-d39b-4646-a730-1c082be64785\",\"type\":\"BoxZoomTool\"},{\"id\":\"476bd187-1423-47b4-a3d4-ee19a9caf0ea\",\"type\":\"SaveTool\"},{\"id\":\"41232c9a-e155-4952-8415-3f130d5d591f\",\"type\":\"ResetTool\"},{\"id\":\"a740c091-47f8-4254-ad04-7d284b3398a2\",\"type\":\"HelpTool\"}]},\"id\":\"69a2f8c6-6f62-4e87-8bf7-e00241d1b7b5\",\"type\":\"Toolbar\"}],\"root_ids\":[\"abd7a473-44d5-4357-8639-a119edfcaf6b\"]},\"title\":\"Bokeh Application\",\"version\":\"0.13.0\"}};\n",
       "  var render_items = [{\"docid\":\"01756898-755e-4b71-9296-7c6a18462cce\",\"roots\":{\"abd7a473-44d5-4357-8639-a119edfcaf6b\":\"3e6d04bb-4933-4857-a51d-f772de1c4e45\"}}];\n",
       "  root.Bokeh.embed.embed_items_notebook(docs_json, render_items);\n",
       "\n",
       "  }\n",
       "  if (root.Bokeh !== undefined) {\n",
       "    embed_document(root);\n",
       "  } else {\n",
       "    var attempts = 0;\n",
       "    var timer = setInterval(function(root) {\n",
       "      if (root.Bokeh !== undefined) {\n",
       "        embed_document(root);\n",
       "        clearInterval(timer);\n",
       "      }\n",
       "      attempts++;\n",
       "      if (attempts > 100) {\n",
       "        console.log(\"Bokeh: ERROR: Unable to run BokehJS code because BokehJS library is missing\")\n",
       "        clearInterval(timer);\n",
       "      }\n",
       "    }, 10, root)\n",
       "  }\n",
       "})(window);"
      ],
      "application/vnd.bokehjs_exec.v0+json": ""
     },
     "metadata": {
      "application/vnd.bokehjs_exec.v0+json": {
       "id": "abd7a473-44d5-4357-8639-a119edfcaf6b"
      }
     },
     "output_type": "display_data"
    }
   ],
   "source": [
    "show(p)"
   ]
  },
  {
   "cell_type": "markdown",
   "metadata": {},
   "source": [
    "### Polygons\n",
    "Polygons can be defined using patch glyphs. "
   ]
  },
  {
   "cell_type": "code",
   "execution_count": 18,
   "metadata": {},
   "outputs": [],
   "source": [
    "p = figure(x_range = Range1d(0, 10), \n",
    "           y_range = Range1d(2, 7), \n",
    "           \n",
    "           plot_width = 600, \n",
    "           plot_height = 300\n",
    "          )"
   ]
  },
  {
   "cell_type": "markdown",
   "metadata": {},
   "source": [
    "#### Define the patch\n",
    "These will accept a sequence of X and Y coordinates. The polygon is completed by connecting the last point in the list to the first one"
   ]
  },
  {
   "cell_type": "code",
   "execution_count": 19,
   "metadata": {},
   "outputs": [
    {
     "data": {
      "text/html": [
       "\n",
       "\n",
       "\n",
       "\n",
       "\n",
       "\n",
       "  <div class=\"bk-root\" id=\"28eb94d2-69b9-4204-92d4-08587217d211\"></div>\n"
      ]
     },
     "metadata": {},
     "output_type": "display_data"
    },
    {
     "data": {
      "application/javascript": [
       "(function(root) {\n",
       "  function embed_document(root) {\n",
       "    \n",
       "  var docs_json = {\"73e6c242-962d-45c1-98cf-f7e38e4b99c7\":{\"roots\":{\"references\":[{\"attributes\":{},\"id\":\"eb44ea3f-5d98-47e3-8dd1-9eb98a632d28\",\"type\":\"WheelZoomTool\"},{\"attributes\":{\"overlay\":{\"id\":\"8cd43071-672b-4ac1-8a6d-113e24aa37d4\",\"type\":\"BoxAnnotation\"}},\"id\":\"def0fa6f-d1df-4f17-9ead-aea7e17f50a3\",\"type\":\"BoxZoomTool\"},{\"attributes\":{},\"id\":\"4119c659-720c-4604-99bd-9878ab007720\",\"type\":\"BasicTickFormatter\"},{\"attributes\":{\"below\":[{\"id\":\"d5920cc7-7231-4bbe-9817-e0022eea4b69\",\"type\":\"LinearAxis\"}],\"left\":[{\"id\":\"9fa3b35d-60a8-4f99-bcd2-29e4b9bad215\",\"type\":\"LinearAxis\"}],\"plot_height\":300,\"renderers\":[{\"id\":\"d5920cc7-7231-4bbe-9817-e0022eea4b69\",\"type\":\"LinearAxis\"},{\"id\":\"6a21a1e6-9e30-48d9-839f-e57c9bb66df7\",\"type\":\"Grid\"},{\"id\":\"9fa3b35d-60a8-4f99-bcd2-29e4b9bad215\",\"type\":\"LinearAxis\"},{\"id\":\"4810fec0-f495-4be2-beb4-c5684ab9afc7\",\"type\":\"Grid\"},{\"id\":\"8cd43071-672b-4ac1-8a6d-113e24aa37d4\",\"type\":\"BoxAnnotation\"},{\"id\":\"89869b1d-3eee-4633-ba75-63e334a2d65f\",\"type\":\"GlyphRenderer\"}],\"title\":{\"id\":\"1a1f2308-af06-44cf-8ac4-5064c1bfedb7\",\"type\":\"Title\"},\"toolbar\":{\"id\":\"350c610a-5048-4418-90d4-36755276d9a4\",\"type\":\"Toolbar\"},\"x_range\":{\"id\":\"c0723ebe-be91-4a1b-a8fa-62d036165360\",\"type\":\"Range1d\"},\"x_scale\":{\"id\":\"f651763f-bc72-4f9c-a4f3-8409179cb9f4\",\"type\":\"LinearScale\"},\"y_range\":{\"id\":\"5bd8af5c-ac52-492b-9067-b78de23e8199\",\"type\":\"Range1d\"},\"y_scale\":{\"id\":\"6ff5daf1-b2b1-443e-8c9c-e95c3cf673de\",\"type\":\"LinearScale\"}},\"id\":\"6dd10b03-26f8-4232-bac7-6046ccd6a1ba\",\"subtype\":\"Figure\",\"type\":\"Plot\"},{\"attributes\":{},\"id\":\"a189bcfd-f16a-4e98-89e1-0096cb4ab6f9\",\"type\":\"ResetTool\"},{\"attributes\":{},\"id\":\"f651763f-bc72-4f9c-a4f3-8409179cb9f4\",\"type\":\"LinearScale\"},{\"attributes\":{\"source\":{\"id\":\"08d7d00f-e873-42d7-b414-cf8f7eb0333e\",\"type\":\"ColumnDataSource\"}},\"id\":\"4b5ad890-e630-4cf5-91ae-33500104b01b\",\"type\":\"CDSView\"},{\"attributes\":{},\"id\":\"714c4ecb-3583-424e-8e97-19189bc1babe\",\"type\":\"SaveTool\"},{\"attributes\":{\"bottom_units\":\"screen\",\"fill_alpha\":{\"value\":0.5},\"fill_color\":{\"value\":\"lightgrey\"},\"left_units\":\"screen\",\"level\":\"overlay\",\"line_alpha\":{\"value\":1.0},\"line_color\":{\"value\":\"black\"},\"line_dash\":[4,4],\"line_width\":{\"value\":2},\"plot\":null,\"render_mode\":\"css\",\"right_units\":\"screen\",\"top_units\":\"screen\"},\"id\":\"8cd43071-672b-4ac1-8a6d-113e24aa37d4\",\"type\":\"BoxAnnotation\"},{\"attributes\":{\"fill_color\":\"violet\",\"line_color\":\"violet\",\"x\":{\"field\":\"x\"},\"y\":{\"field\":\"y\"}},\"id\":\"f9f7e32c-586c-4a88-b9d8-01e9cc0daa22\",\"type\":\"Patch\"},{\"attributes\":{},\"id\":\"b58f83b4-5445-4870-a4f9-9652b3f6f469\",\"type\":\"BasicTicker\"},{\"attributes\":{\"fill_alpha\":0.1,\"fill_color\":\"#1f77b4\",\"line_alpha\":0.1,\"line_color\":\"#1f77b4\",\"x\":{\"field\":\"x\"},\"y\":{\"field\":\"y\"}},\"id\":\"c6abd0f2-c7b7-48f6-81e6-a2c333931b39\",\"type\":\"Patch\"},{\"attributes\":{\"formatter\":{\"id\":\"4119c659-720c-4604-99bd-9878ab007720\",\"type\":\"BasicTickFormatter\"},\"plot\":{\"id\":\"6dd10b03-26f8-4232-bac7-6046ccd6a1ba\",\"subtype\":\"Figure\",\"type\":\"Plot\"},\"ticker\":{\"id\":\"c8a5e666-ce29-410f-9730-62dfc7bd669e\",\"type\":\"BasicTicker\"}},\"id\":\"9fa3b35d-60a8-4f99-bcd2-29e4b9bad215\",\"type\":\"LinearAxis\"},{\"attributes\":{},\"id\":\"7a1e388f-ef07-45a4-9a51-53825d8313e2\",\"type\":\"PanTool\"},{\"attributes\":{\"plot\":null,\"text\":\"\"},\"id\":\"1a1f2308-af06-44cf-8ac4-5064c1bfedb7\",\"type\":\"Title\"},{\"attributes\":{},\"id\":\"e784623a-8f2d-431b-b4b9-440c3c75cf69\",\"type\":\"BasicTickFormatter\"},{\"attributes\":{\"callback\":null,\"data\":{\"x\":[2,3,5,8,6],\"y\":[4,6,4,5,3]},\"selected\":{\"id\":\"2fdd5230-9c12-4951-9a27-74d5b112a98d\",\"type\":\"Selection\"},\"selection_policy\":{\"id\":\"933877a9-018e-41bc-b1c2-364827132cc8\",\"type\":\"UnionRenderers\"}},\"id\":\"08d7d00f-e873-42d7-b414-cf8f7eb0333e\",\"type\":\"ColumnDataSource\"},{\"attributes\":{},\"id\":\"c8a5e666-ce29-410f-9730-62dfc7bd669e\",\"type\":\"BasicTicker\"},{\"attributes\":{},\"id\":\"933877a9-018e-41bc-b1c2-364827132cc8\",\"type\":\"UnionRenderers\"},{\"attributes\":{},\"id\":\"2fdd5230-9c12-4951-9a27-74d5b112a98d\",\"type\":\"Selection\"},{\"attributes\":{},\"id\":\"6ff5daf1-b2b1-443e-8c9c-e95c3cf673de\",\"type\":\"LinearScale\"},{\"attributes\":{\"active_drag\":\"auto\",\"active_inspect\":\"auto\",\"active_multi\":null,\"active_scroll\":\"auto\",\"active_tap\":\"auto\",\"tools\":[{\"id\":\"7a1e388f-ef07-45a4-9a51-53825d8313e2\",\"type\":\"PanTool\"},{\"id\":\"eb44ea3f-5d98-47e3-8dd1-9eb98a632d28\",\"type\":\"WheelZoomTool\"},{\"id\":\"def0fa6f-d1df-4f17-9ead-aea7e17f50a3\",\"type\":\"BoxZoomTool\"},{\"id\":\"714c4ecb-3583-424e-8e97-19189bc1babe\",\"type\":\"SaveTool\"},{\"id\":\"a189bcfd-f16a-4e98-89e1-0096cb4ab6f9\",\"type\":\"ResetTool\"},{\"id\":\"f28c65ed-131a-4916-a00f-048b98737ef4\",\"type\":\"HelpTool\"}]},\"id\":\"350c610a-5048-4418-90d4-36755276d9a4\",\"type\":\"Toolbar\"},{\"attributes\":{\"dimension\":1,\"plot\":{\"id\":\"6dd10b03-26f8-4232-bac7-6046ccd6a1ba\",\"subtype\":\"Figure\",\"type\":\"Plot\"},\"ticker\":{\"id\":\"c8a5e666-ce29-410f-9730-62dfc7bd669e\",\"type\":\"BasicTicker\"}},\"id\":\"4810fec0-f495-4be2-beb4-c5684ab9afc7\",\"type\":\"Grid\"},{\"attributes\":{},\"id\":\"f28c65ed-131a-4916-a00f-048b98737ef4\",\"type\":\"HelpTool\"},{\"attributes\":{\"formatter\":{\"id\":\"e784623a-8f2d-431b-b4b9-440c3c75cf69\",\"type\":\"BasicTickFormatter\"},\"plot\":{\"id\":\"6dd10b03-26f8-4232-bac7-6046ccd6a1ba\",\"subtype\":\"Figure\",\"type\":\"Plot\"},\"ticker\":{\"id\":\"b58f83b4-5445-4870-a4f9-9652b3f6f469\",\"type\":\"BasicTicker\"}},\"id\":\"d5920cc7-7231-4bbe-9817-e0022eea4b69\",\"type\":\"LinearAxis\"},{\"attributes\":{\"callback\":null,\"end\":7,\"start\":2},\"id\":\"5bd8af5c-ac52-492b-9067-b78de23e8199\",\"type\":\"Range1d\"},{\"attributes\":{\"callback\":null,\"end\":10},\"id\":\"c0723ebe-be91-4a1b-a8fa-62d036165360\",\"type\":\"Range1d\"},{\"attributes\":{\"data_source\":{\"id\":\"08d7d00f-e873-42d7-b414-cf8f7eb0333e\",\"type\":\"ColumnDataSource\"},\"glyph\":{\"id\":\"f9f7e32c-586c-4a88-b9d8-01e9cc0daa22\",\"type\":\"Patch\"},\"hover_glyph\":null,\"muted_glyph\":null,\"nonselection_glyph\":{\"id\":\"c6abd0f2-c7b7-48f6-81e6-a2c333931b39\",\"type\":\"Patch\"},\"selection_glyph\":null,\"view\":{\"id\":\"4b5ad890-e630-4cf5-91ae-33500104b01b\",\"type\":\"CDSView\"}},\"id\":\"89869b1d-3eee-4633-ba75-63e334a2d65f\",\"type\":\"GlyphRenderer\"},{\"attributes\":{\"plot\":{\"id\":\"6dd10b03-26f8-4232-bac7-6046ccd6a1ba\",\"subtype\":\"Figure\",\"type\":\"Plot\"},\"ticker\":{\"id\":\"b58f83b4-5445-4870-a4f9-9652b3f6f469\",\"type\":\"BasicTicker\"}},\"id\":\"6a21a1e6-9e30-48d9-839f-e57c9bb66df7\",\"type\":\"Grid\"}],\"root_ids\":[\"6dd10b03-26f8-4232-bac7-6046ccd6a1ba\"]},\"title\":\"Bokeh Application\",\"version\":\"0.13.0\"}};\n",
       "  var render_items = [{\"docid\":\"73e6c242-962d-45c1-98cf-f7e38e4b99c7\",\"roots\":{\"6dd10b03-26f8-4232-bac7-6046ccd6a1ba\":\"28eb94d2-69b9-4204-92d4-08587217d211\"}}];\n",
       "  root.Bokeh.embed.embed_items_notebook(docs_json, render_items);\n",
       "\n",
       "  }\n",
       "  if (root.Bokeh !== undefined) {\n",
       "    embed_document(root);\n",
       "  } else {\n",
       "    var attempts = 0;\n",
       "    var timer = setInterval(function(root) {\n",
       "      if (root.Bokeh !== undefined) {\n",
       "        embed_document(root);\n",
       "        clearInterval(timer);\n",
       "      }\n",
       "      attempts++;\n",
       "      if (attempts > 100) {\n",
       "        console.log(\"Bokeh: ERROR: Unable to run BokehJS code because BokehJS library is missing\")\n",
       "        clearInterval(timer);\n",
       "      }\n",
       "    }, 10, root)\n",
       "  }\n",
       "})(window);"
      ],
      "application/vnd.bokehjs_exec.v0+json": ""
     },
     "metadata": {
      "application/vnd.bokehjs_exec.v0+json": {
       "id": "6dd10b03-26f8-4232-bac7-6046ccd6a1ba"
      }
     },
     "output_type": "display_data"
    }
   ],
   "source": [
    "p.patch([2, 3, 5, 8, 6], \n",
    "        [4, 6, 4, 5, 3],\n",
    "        \n",
    "        color='violet')\n",
    "\n",
    "show(p)"
   ]
  },
  {
   "cell_type": "code",
   "execution_count": null,
   "metadata": {},
   "outputs": [],
   "source": []
  }
 ],
 "metadata": {
  "kernelspec": {
   "display_name": "Python 3",
   "language": "python",
   "name": "python3"
  },
  "language_info": {
   "codemirror_mode": {
    "name": "ipython",
    "version": 3
   },
   "file_extension": ".py",
   "mimetype": "text/x-python",
   "name": "python",
   "nbconvert_exporter": "python",
   "pygments_lexer": "ipython3",
   "version": "3.6.5"
  }
 },
 "nbformat": 4,
 "nbformat_minor": 2
}
