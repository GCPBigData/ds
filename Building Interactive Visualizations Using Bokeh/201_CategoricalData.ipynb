{
 "cells": [
  {
   "cell_type": "code",
   "execution_count": 1,
   "metadata": {},
   "outputs": [
    {
     "data": {
      "text/html": [
       "\n",
       "    <div class=\"bk-root\">\n",
       "        <a href=\"https://bokeh.pydata.org\" target=\"_blank\" class=\"bk-logo bk-logo-small bk-logo-notebook\"></a>\n",
       "        <span id=\"99424612-5368-4368-a380-591b18ba0884\">Loading BokehJS ...</span>\n",
       "    </div>"
      ]
     },
     "metadata": {},
     "output_type": "display_data"
    },
    {
     "data": {
      "application/javascript": [
       "\n",
       "(function(root) {\n",
       "  function now() {\n",
       "    return new Date();\n",
       "  }\n",
       "\n",
       "  var force = true;\n",
       "\n",
       "  if (typeof (root._bokeh_onload_callbacks) === \"undefined\" || force === true) {\n",
       "    root._bokeh_onload_callbacks = [];\n",
       "    root._bokeh_is_loading = undefined;\n",
       "  }\n",
       "\n",
       "  var JS_MIME_TYPE = 'application/javascript';\n",
       "  var HTML_MIME_TYPE = 'text/html';\n",
       "  var EXEC_MIME_TYPE = 'application/vnd.bokehjs_exec.v0+json';\n",
       "  var CLASS_NAME = 'output_bokeh rendered_html';\n",
       "\n",
       "  /**\n",
       "   * Render data to the DOM node\n",
       "   */\n",
       "  function render(props, node) {\n",
       "    var script = document.createElement(\"script\");\n",
       "    node.appendChild(script);\n",
       "  }\n",
       "\n",
       "  /**\n",
       "   * Handle when an output is cleared or removed\n",
       "   */\n",
       "  function handleClearOutput(event, handle) {\n",
       "    var cell = handle.cell;\n",
       "\n",
       "    var id = cell.output_area._bokeh_element_id;\n",
       "    var server_id = cell.output_area._bokeh_server_id;\n",
       "    // Clean up Bokeh references\n",
       "    if (id != null && id in Bokeh.index) {\n",
       "      Bokeh.index[id].model.document.clear();\n",
       "      delete Bokeh.index[id];\n",
       "    }\n",
       "\n",
       "    if (server_id !== undefined) {\n",
       "      // Clean up Bokeh references\n",
       "      var cmd = \"from bokeh.io.state import curstate; print(curstate().uuid_to_server['\" + server_id + \"'].get_sessions()[0].document.roots[0]._id)\";\n",
       "      cell.notebook.kernel.execute(cmd, {\n",
       "        iopub: {\n",
       "          output: function(msg) {\n",
       "            var id = msg.content.text.trim();\n",
       "            if (id in Bokeh.index) {\n",
       "              Bokeh.index[id].model.document.clear();\n",
       "              delete Bokeh.index[id];\n",
       "            }\n",
       "          }\n",
       "        }\n",
       "      });\n",
       "      // Destroy server and session\n",
       "      var cmd = \"import bokeh.io.notebook as ion; ion.destroy_server('\" + server_id + \"')\";\n",
       "      cell.notebook.kernel.execute(cmd);\n",
       "    }\n",
       "  }\n",
       "\n",
       "  /**\n",
       "   * Handle when a new output is added\n",
       "   */\n",
       "  function handleAddOutput(event, handle) {\n",
       "    var output_area = handle.output_area;\n",
       "    var output = handle.output;\n",
       "\n",
       "    // limit handleAddOutput to display_data with EXEC_MIME_TYPE content only\n",
       "    if ((output.output_type != \"display_data\") || (!output.data.hasOwnProperty(EXEC_MIME_TYPE))) {\n",
       "      return\n",
       "    }\n",
       "\n",
       "    var toinsert = output_area.element.find(\".\" + CLASS_NAME.split(' ')[0]);\n",
       "\n",
       "    if (output.metadata[EXEC_MIME_TYPE][\"id\"] !== undefined) {\n",
       "      toinsert[toinsert.length - 1].firstChild.textContent = output.data[JS_MIME_TYPE];\n",
       "      // store reference to embed id on output_area\n",
       "      output_area._bokeh_element_id = output.metadata[EXEC_MIME_TYPE][\"id\"];\n",
       "    }\n",
       "    if (output.metadata[EXEC_MIME_TYPE][\"server_id\"] !== undefined) {\n",
       "      var bk_div = document.createElement(\"div\");\n",
       "      bk_div.innerHTML = output.data[HTML_MIME_TYPE];\n",
       "      var script_attrs = bk_div.children[0].attributes;\n",
       "      for (var i = 0; i < script_attrs.length; i++) {\n",
       "        toinsert[toinsert.length - 1].firstChild.setAttribute(script_attrs[i].name, script_attrs[i].value);\n",
       "      }\n",
       "      // store reference to server id on output_area\n",
       "      output_area._bokeh_server_id = output.metadata[EXEC_MIME_TYPE][\"server_id\"];\n",
       "    }\n",
       "  }\n",
       "\n",
       "  function register_renderer(events, OutputArea) {\n",
       "\n",
       "    function append_mime(data, metadata, element) {\n",
       "      // create a DOM node to render to\n",
       "      var toinsert = this.create_output_subarea(\n",
       "        metadata,\n",
       "        CLASS_NAME,\n",
       "        EXEC_MIME_TYPE\n",
       "      );\n",
       "      this.keyboard_manager.register_events(toinsert);\n",
       "      // Render to node\n",
       "      var props = {data: data, metadata: metadata[EXEC_MIME_TYPE]};\n",
       "      render(props, toinsert[toinsert.length - 1]);\n",
       "      element.append(toinsert);\n",
       "      return toinsert\n",
       "    }\n",
       "\n",
       "    /* Handle when an output is cleared or removed */\n",
       "    events.on('clear_output.CodeCell', handleClearOutput);\n",
       "    events.on('delete.Cell', handleClearOutput);\n",
       "\n",
       "    /* Handle when a new output is added */\n",
       "    events.on('output_added.OutputArea', handleAddOutput);\n",
       "\n",
       "    /**\n",
       "     * Register the mime type and append_mime function with output_area\n",
       "     */\n",
       "    OutputArea.prototype.register_mime_type(EXEC_MIME_TYPE, append_mime, {\n",
       "      /* Is output safe? */\n",
       "      safe: true,\n",
       "      /* Index of renderer in `output_area.display_order` */\n",
       "      index: 0\n",
       "    });\n",
       "  }\n",
       "\n",
       "  // register the mime type if in Jupyter Notebook environment and previously unregistered\n",
       "  if (root.Jupyter !== undefined) {\n",
       "    var events = require('base/js/events');\n",
       "    var OutputArea = require('notebook/js/outputarea').OutputArea;\n",
       "\n",
       "    if (OutputArea.prototype.mime_types().indexOf(EXEC_MIME_TYPE) == -1) {\n",
       "      register_renderer(events, OutputArea);\n",
       "    }\n",
       "  }\n",
       "\n",
       "  \n",
       "  if (typeof (root._bokeh_timeout) === \"undefined\" || force === true) {\n",
       "    root._bokeh_timeout = Date.now() + 5000;\n",
       "    root._bokeh_failed_load = false;\n",
       "  }\n",
       "\n",
       "  var NB_LOAD_WARNING = {'data': {'text/html':\n",
       "     \"<div style='background-color: #fdd'>\\n\"+\n",
       "     \"<p>\\n\"+\n",
       "     \"BokehJS does not appear to have successfully loaded. If loading BokehJS from CDN, this \\n\"+\n",
       "     \"may be due to a slow or bad network connection. Possible fixes:\\n\"+\n",
       "     \"</p>\\n\"+\n",
       "     \"<ul>\\n\"+\n",
       "     \"<li>re-rerun `output_notebook()` to attempt to load from CDN again, or</li>\\n\"+\n",
       "     \"<li>use INLINE resources instead, as so:</li>\\n\"+\n",
       "     \"</ul>\\n\"+\n",
       "     \"<code>\\n\"+\n",
       "     \"from bokeh.resources import INLINE\\n\"+\n",
       "     \"output_notebook(resources=INLINE)\\n\"+\n",
       "     \"</code>\\n\"+\n",
       "     \"</div>\"}};\n",
       "\n",
       "  function display_loaded() {\n",
       "    var el = document.getElementById(\"99424612-5368-4368-a380-591b18ba0884\");\n",
       "    if (el != null) {\n",
       "      el.textContent = \"BokehJS is loading...\";\n",
       "    }\n",
       "    if (root.Bokeh !== undefined) {\n",
       "      if (el != null) {\n",
       "        el.textContent = \"BokehJS \" + root.Bokeh.version + \" successfully loaded.\";\n",
       "      }\n",
       "    } else if (Date.now() < root._bokeh_timeout) {\n",
       "      setTimeout(display_loaded, 100)\n",
       "    }\n",
       "  }\n",
       "\n",
       "\n",
       "  function run_callbacks() {\n",
       "    try {\n",
       "      root._bokeh_onload_callbacks.forEach(function(callback) { callback() });\n",
       "    }\n",
       "    finally {\n",
       "      delete root._bokeh_onload_callbacks\n",
       "    }\n",
       "    console.info(\"Bokeh: all callbacks have finished\");\n",
       "  }\n",
       "\n",
       "  function load_libs(js_urls, callback) {\n",
       "    root._bokeh_onload_callbacks.push(callback);\n",
       "    if (root._bokeh_is_loading > 0) {\n",
       "      console.log(\"Bokeh: BokehJS is being loaded, scheduling callback at\", now());\n",
       "      return null;\n",
       "    }\n",
       "    if (js_urls == null || js_urls.length === 0) {\n",
       "      run_callbacks();\n",
       "      return null;\n",
       "    }\n",
       "    console.log(\"Bokeh: BokehJS not loaded, scheduling load and callback at\", now());\n",
       "    root._bokeh_is_loading = js_urls.length;\n",
       "    for (var i = 0; i < js_urls.length; i++) {\n",
       "      var url = js_urls[i];\n",
       "      var s = document.createElement('script');\n",
       "      s.src = url;\n",
       "      s.async = false;\n",
       "      s.onreadystatechange = s.onload = function() {\n",
       "        root._bokeh_is_loading--;\n",
       "        if (root._bokeh_is_loading === 0) {\n",
       "          console.log(\"Bokeh: all BokehJS libraries loaded\");\n",
       "          run_callbacks()\n",
       "        }\n",
       "      };\n",
       "      s.onerror = function() {\n",
       "        console.warn(\"failed to load library \" + url);\n",
       "      };\n",
       "      console.log(\"Bokeh: injecting script tag for BokehJS library: \", url);\n",
       "      document.getElementsByTagName(\"head\")[0].appendChild(s);\n",
       "    }\n",
       "  };var element = document.getElementById(\"99424612-5368-4368-a380-591b18ba0884\");\n",
       "  if (element == null) {\n",
       "    console.log(\"Bokeh: ERROR: autoload.js configured with elementid '99424612-5368-4368-a380-591b18ba0884' but no matching script tag was found. \")\n",
       "    return false;\n",
       "  }\n",
       "\n",
       "  var js_urls = [\"https://cdn.pydata.org/bokeh/release/bokeh-0.13.0.min.js\", \"https://cdn.pydata.org/bokeh/release/bokeh-widgets-0.13.0.min.js\", \"https://cdn.pydata.org/bokeh/release/bokeh-tables-0.13.0.min.js\", \"https://cdn.pydata.org/bokeh/release/bokeh-gl-0.13.0.min.js\"];\n",
       "\n",
       "  var inline_js = [\n",
       "    function(Bokeh) {\n",
       "      Bokeh.set_log_level(\"info\");\n",
       "    },\n",
       "    \n",
       "    function(Bokeh) {\n",
       "      \n",
       "    },\n",
       "    function(Bokeh) {\n",
       "      console.log(\"Bokeh: injecting CSS: https://cdn.pydata.org/bokeh/release/bokeh-0.13.0.min.css\");\n",
       "      Bokeh.embed.inject_css(\"https://cdn.pydata.org/bokeh/release/bokeh-0.13.0.min.css\");\n",
       "      console.log(\"Bokeh: injecting CSS: https://cdn.pydata.org/bokeh/release/bokeh-widgets-0.13.0.min.css\");\n",
       "      Bokeh.embed.inject_css(\"https://cdn.pydata.org/bokeh/release/bokeh-widgets-0.13.0.min.css\");\n",
       "      console.log(\"Bokeh: injecting CSS: https://cdn.pydata.org/bokeh/release/bokeh-tables-0.13.0.min.css\");\n",
       "      Bokeh.embed.inject_css(\"https://cdn.pydata.org/bokeh/release/bokeh-tables-0.13.0.min.css\");\n",
       "    }\n",
       "  ];\n",
       "\n",
       "  function run_inline_js() {\n",
       "    \n",
       "    if ((root.Bokeh !== undefined) || (force === true)) {\n",
       "      for (var i = 0; i < inline_js.length; i++) {\n",
       "        inline_js[i].call(root, root.Bokeh);\n",
       "      }if (force === true) {\n",
       "        display_loaded();\n",
       "      }} else if (Date.now() < root._bokeh_timeout) {\n",
       "      setTimeout(run_inline_js, 100);\n",
       "    } else if (!root._bokeh_failed_load) {\n",
       "      console.log(\"Bokeh: BokehJS failed to load within specified timeout.\");\n",
       "      root._bokeh_failed_load = true;\n",
       "    } else if (force !== true) {\n",
       "      var cell = $(document.getElementById(\"99424612-5368-4368-a380-591b18ba0884\")).parents('.cell').data().cell;\n",
       "      cell.output_area.append_execute_result(NB_LOAD_WARNING)\n",
       "    }\n",
       "\n",
       "  }\n",
       "\n",
       "  if (root._bokeh_is_loading === 0) {\n",
       "    console.log(\"Bokeh: BokehJS loaded, going straight to plotting\");\n",
       "    run_inline_js();\n",
       "  } else {\n",
       "    load_libs(js_urls, function() {\n",
       "      console.log(\"Bokeh: BokehJS plotting callback run at\", now());\n",
       "      run_inline_js();\n",
       "    });\n",
       "  }\n",
       "}(window));"
      ],
      "application/vnd.bokehjs_load.v0+json": "\n(function(root) {\n  function now() {\n    return new Date();\n  }\n\n  var force = true;\n\n  if (typeof (root._bokeh_onload_callbacks) === \"undefined\" || force === true) {\n    root._bokeh_onload_callbacks = [];\n    root._bokeh_is_loading = undefined;\n  }\n\n  \n\n  \n  if (typeof (root._bokeh_timeout) === \"undefined\" || force === true) {\n    root._bokeh_timeout = Date.now() + 5000;\n    root._bokeh_failed_load = false;\n  }\n\n  var NB_LOAD_WARNING = {'data': {'text/html':\n     \"<div style='background-color: #fdd'>\\n\"+\n     \"<p>\\n\"+\n     \"BokehJS does not appear to have successfully loaded. If loading BokehJS from CDN, this \\n\"+\n     \"may be due to a slow or bad network connection. Possible fixes:\\n\"+\n     \"</p>\\n\"+\n     \"<ul>\\n\"+\n     \"<li>re-rerun `output_notebook()` to attempt to load from CDN again, or</li>\\n\"+\n     \"<li>use INLINE resources instead, as so:</li>\\n\"+\n     \"</ul>\\n\"+\n     \"<code>\\n\"+\n     \"from bokeh.resources import INLINE\\n\"+\n     \"output_notebook(resources=INLINE)\\n\"+\n     \"</code>\\n\"+\n     \"</div>\"}};\n\n  function display_loaded() {\n    var el = document.getElementById(\"99424612-5368-4368-a380-591b18ba0884\");\n    if (el != null) {\n      el.textContent = \"BokehJS is loading...\";\n    }\n    if (root.Bokeh !== undefined) {\n      if (el != null) {\n        el.textContent = \"BokehJS \" + root.Bokeh.version + \" successfully loaded.\";\n      }\n    } else if (Date.now() < root._bokeh_timeout) {\n      setTimeout(display_loaded, 100)\n    }\n  }\n\n\n  function run_callbacks() {\n    try {\n      root._bokeh_onload_callbacks.forEach(function(callback) { callback() });\n    }\n    finally {\n      delete root._bokeh_onload_callbacks\n    }\n    console.info(\"Bokeh: all callbacks have finished\");\n  }\n\n  function load_libs(js_urls, callback) {\n    root._bokeh_onload_callbacks.push(callback);\n    if (root._bokeh_is_loading > 0) {\n      console.log(\"Bokeh: BokehJS is being loaded, scheduling callback at\", now());\n      return null;\n    }\n    if (js_urls == null || js_urls.length === 0) {\n      run_callbacks();\n      return null;\n    }\n    console.log(\"Bokeh: BokehJS not loaded, scheduling load and callback at\", now());\n    root._bokeh_is_loading = js_urls.length;\n    for (var i = 0; i < js_urls.length; i++) {\n      var url = js_urls[i];\n      var s = document.createElement('script');\n      s.src = url;\n      s.async = false;\n      s.onreadystatechange = s.onload = function() {\n        root._bokeh_is_loading--;\n        if (root._bokeh_is_loading === 0) {\n          console.log(\"Bokeh: all BokehJS libraries loaded\");\n          run_callbacks()\n        }\n      };\n      s.onerror = function() {\n        console.warn(\"failed to load library \" + url);\n      };\n      console.log(\"Bokeh: injecting script tag for BokehJS library: \", url);\n      document.getElementsByTagName(\"head\")[0].appendChild(s);\n    }\n  };var element = document.getElementById(\"99424612-5368-4368-a380-591b18ba0884\");\n  if (element == null) {\n    console.log(\"Bokeh: ERROR: autoload.js configured with elementid '99424612-5368-4368-a380-591b18ba0884' but no matching script tag was found. \")\n    return false;\n  }\n\n  var js_urls = [\"https://cdn.pydata.org/bokeh/release/bokeh-0.13.0.min.js\", \"https://cdn.pydata.org/bokeh/release/bokeh-widgets-0.13.0.min.js\", \"https://cdn.pydata.org/bokeh/release/bokeh-tables-0.13.0.min.js\", \"https://cdn.pydata.org/bokeh/release/bokeh-gl-0.13.0.min.js\"];\n\n  var inline_js = [\n    function(Bokeh) {\n      Bokeh.set_log_level(\"info\");\n    },\n    \n    function(Bokeh) {\n      \n    },\n    function(Bokeh) {\n      console.log(\"Bokeh: injecting CSS: https://cdn.pydata.org/bokeh/release/bokeh-0.13.0.min.css\");\n      Bokeh.embed.inject_css(\"https://cdn.pydata.org/bokeh/release/bokeh-0.13.0.min.css\");\n      console.log(\"Bokeh: injecting CSS: https://cdn.pydata.org/bokeh/release/bokeh-widgets-0.13.0.min.css\");\n      Bokeh.embed.inject_css(\"https://cdn.pydata.org/bokeh/release/bokeh-widgets-0.13.0.min.css\");\n      console.log(\"Bokeh: injecting CSS: https://cdn.pydata.org/bokeh/release/bokeh-tables-0.13.0.min.css\");\n      Bokeh.embed.inject_css(\"https://cdn.pydata.org/bokeh/release/bokeh-tables-0.13.0.min.css\");\n    }\n  ];\n\n  function run_inline_js() {\n    \n    if ((root.Bokeh !== undefined) || (force === true)) {\n      for (var i = 0; i < inline_js.length; i++) {\n        inline_js[i].call(root, root.Bokeh);\n      }if (force === true) {\n        display_loaded();\n      }} else if (Date.now() < root._bokeh_timeout) {\n      setTimeout(run_inline_js, 100);\n    } else if (!root._bokeh_failed_load) {\n      console.log(\"Bokeh: BokehJS failed to load within specified timeout.\");\n      root._bokeh_failed_load = true;\n    } else if (force !== true) {\n      var cell = $(document.getElementById(\"99424612-5368-4368-a380-591b18ba0884\")).parents('.cell').data().cell;\n      cell.output_area.append_execute_result(NB_LOAD_WARNING)\n    }\n\n  }\n\n  if (root._bokeh_is_loading === 0) {\n    console.log(\"Bokeh: BokehJS loaded, going straight to plotting\");\n    run_inline_js();\n  } else {\n    load_libs(js_urls, function() {\n      console.log(\"Bokeh: BokehJS plotting callback run at\", now());\n      run_inline_js();\n    });\n  }\n}(window));"
     },
     "metadata": {},
     "output_type": "display_data"
    }
   ],
   "source": [
    "from bokeh.io import show, output_notebook\n",
    "from bokeh.models import ColumnDataSource, FactorRange\n",
    "from bokeh.plotting import figure\n",
    "import pandas as pd\n",
    "\n",
    "output_notebook()"
   ]
  },
  {
   "cell_type": "markdown",
   "metadata": {},
   "source": [
    "#### Data for wine sales\n",
    "Made up data about the number of bottles of wine sold in a store over a 3 year period. The Origin and Type fields are both categorical while the Quantity is the numeric field"
   ]
  },
  {
   "cell_type": "code",
   "execution_count": 2,
   "metadata": {},
   "outputs": [
    {
     "data": {
      "text/html": [
       "<div>\n",
       "<style scoped>\n",
       "    .dataframe tbody tr th:only-of-type {\n",
       "        vertical-align: middle;\n",
       "    }\n",
       "\n",
       "    .dataframe tbody tr th {\n",
       "        vertical-align: top;\n",
       "    }\n",
       "\n",
       "    .dataframe thead th {\n",
       "        text-align: right;\n",
       "    }\n",
       "</style>\n",
       "<table border=\"1\" class=\"dataframe\">\n",
       "  <thead>\n",
       "    <tr style=\"text-align: right;\">\n",
       "      <th></th>\n",
       "      <th>Origin</th>\n",
       "      <th>Type</th>\n",
       "      <th>Quantity</th>\n",
       "    </tr>\n",
       "  </thead>\n",
       "  <tbody>\n",
       "    <tr>\n",
       "      <th>0</th>\n",
       "      <td>France</td>\n",
       "      <td>Red</td>\n",
       "      <td>2500</td>\n",
       "    </tr>\n",
       "    <tr>\n",
       "      <th>1</th>\n",
       "      <td>Italy</td>\n",
       "      <td>Red</td>\n",
       "      <td>2100</td>\n",
       "    </tr>\n",
       "    <tr>\n",
       "      <th>2</th>\n",
       "      <td>Australia</td>\n",
       "      <td>Red</td>\n",
       "      <td>1300</td>\n",
       "    </tr>\n",
       "    <tr>\n",
       "      <th>3</th>\n",
       "      <td>USA</td>\n",
       "      <td>Red</td>\n",
       "      <td>2800</td>\n",
       "    </tr>\n",
       "    <tr>\n",
       "      <th>4</th>\n",
       "      <td>Chile</td>\n",
       "      <td>Red</td>\n",
       "      <td>1700</td>\n",
       "    </tr>\n",
       "    <tr>\n",
       "      <th>5</th>\n",
       "      <td>France</td>\n",
       "      <td>White</td>\n",
       "      <td>2200</td>\n",
       "    </tr>\n",
       "    <tr>\n",
       "      <th>6</th>\n",
       "      <td>Italy</td>\n",
       "      <td>White</td>\n",
       "      <td>2600</td>\n",
       "    </tr>\n",
       "    <tr>\n",
       "      <th>7</th>\n",
       "      <td>Australia</td>\n",
       "      <td>White</td>\n",
       "      <td>1500</td>\n",
       "    </tr>\n",
       "    <tr>\n",
       "      <th>8</th>\n",
       "      <td>USA</td>\n",
       "      <td>White</td>\n",
       "      <td>2100</td>\n",
       "    </tr>\n",
       "    <tr>\n",
       "      <th>9</th>\n",
       "      <td>Chile</td>\n",
       "      <td>White</td>\n",
       "      <td>1700</td>\n",
       "    </tr>\n",
       "    <tr>\n",
       "      <th>10</th>\n",
       "      <td>France</td>\n",
       "      <td>Sparkling</td>\n",
       "      <td>1300</td>\n",
       "    </tr>\n",
       "    <tr>\n",
       "      <th>11</th>\n",
       "      <td>Italy</td>\n",
       "      <td>Sparkling</td>\n",
       "      <td>900</td>\n",
       "    </tr>\n",
       "    <tr>\n",
       "      <th>12</th>\n",
       "      <td>Australia</td>\n",
       "      <td>Sparkling</td>\n",
       "      <td>800</td>\n",
       "    </tr>\n",
       "    <tr>\n",
       "      <th>13</th>\n",
       "      <td>USA</td>\n",
       "      <td>Sparkling</td>\n",
       "      <td>1100</td>\n",
       "    </tr>\n",
       "    <tr>\n",
       "      <th>14</th>\n",
       "      <td>Chile</td>\n",
       "      <td>Sparkling</td>\n",
       "      <td>600</td>\n",
       "    </tr>\n",
       "  </tbody>\n",
       "</table>\n",
       "</div>"
      ],
      "text/plain": [
       "       Origin       Type  Quantity\n",
       "0      France        Red      2500\n",
       "1       Italy        Red      2100\n",
       "2   Australia        Red      1300\n",
       "3         USA        Red      2800\n",
       "4       Chile        Red      1700\n",
       "5      France      White      2200\n",
       "6       Italy      White      2600\n",
       "7   Australia      White      1500\n",
       "8         USA      White      2100\n",
       "9       Chile      White      1700\n",
       "10     France  Sparkling      1300\n",
       "11      Italy  Sparkling       900\n",
       "12  Australia  Sparkling       800\n",
       "13        USA  Sparkling      1100\n",
       "14      Chile  Sparkling       600"
      ]
     },
     "execution_count": 2,
     "metadata": {},
     "output_type": "execute_result"
    }
   ],
   "source": [
    "sales = pd.read_csv('datasets/wine_sales.csv')\n",
    "sales"
   ]
  },
  {
   "cell_type": "markdown",
   "metadata": {},
   "source": [
    "#### Converting categories to tuples\n",
    "We create tuples for the primary group and subgroup (in order) by iterating over the Origin and Type columns in the data and forming a list of categories."
   ]
  },
  {
   "cell_type": "code",
   "execution_count": 3,
   "metadata": {},
   "outputs": [
    {
     "data": {
      "text/plain": [
       "[('France', 'Red'),\n",
       " ('Italy', 'Red'),\n",
       " ('Australia', 'Red'),\n",
       " ('USA', 'Red'),\n",
       " ('Chile', 'Red'),\n",
       " ('France', 'White'),\n",
       " ('Italy', 'White'),\n",
       " ('Australia', 'White'),\n",
       " ('USA', 'White'),\n",
       " ('Chile', 'White'),\n",
       " ('France', 'Sparkling'),\n",
       " ('Italy', 'Sparkling'),\n",
       " ('Australia', 'Sparkling'),\n",
       " ('USA', 'Sparkling'),\n",
       " ('Chile', 'Sparkling')]"
      ]
     },
     "execution_count": 3,
     "metadata": {},
     "output_type": "execute_result"
    }
   ],
   "source": [
    "categories = [tuple(x) for x in sales[['Origin', 'Type']].values]\n",
    "categories"
   ]
  },
  {
   "cell_type": "markdown",
   "metadata": {},
   "source": [
    "#### Define the figure\n",
    "* The FactorRange object generates a range of values for categorical dimensions. This allows the grouping of the wine origin and type on the X axis of the range\n",
    "* We disable the toolbar by setting its location to None"
   ]
  },
  {
   "cell_type": "code",
   "execution_count": 4,
   "metadata": {},
   "outputs": [],
   "source": [
    "p = figure(x_range=FactorRange(*categories), \n",
    "           \n",
    "           plot_height=300, \n",
    "           \n",
    "           title=\"Wine Sales by Type and Year\",\n",
    "           \n",
    "           toolbar_location=None\n",
    "          )"
   ]
  },
  {
   "cell_type": "markdown",
   "metadata": {},
   "source": [
    "#### Define the bars\n",
    "* The X axis will convey the categories in our data which is a list of tuples with the group and subgroup. The individual bars will represent the subgroup, and bars of the same group will be placed together\n",
    "* The bar height, set by the <b>top</b> attribute, will represent the sales quantity\n",
    "* The bar <b>width</b> sets the width of the bar. The default is 1 which will mean the edges of the bars in the same group will coincide. We introduce some spacing between the bars by setting the width to 0.9\n",
    "* The <b>bottom</b> attribute allows us to trim the bar from the bottom. The default value for bottom is 0, which we state here explicitly\n",
    "\n",
    "Notice how the major groups are separated. The labels of the secondary groups overlap with each other which makes it hard to read them"
   ]
  },
  {
   "cell_type": "code",
   "execution_count": 5,
   "metadata": {},
   "outputs": [
    {
     "data": {
      "text/html": [
       "\n",
       "\n",
       "\n",
       "\n",
       "\n",
       "\n",
       "  <div class=\"bk-root\" id=\"e3e87d9f-d216-458b-abb9-47e996870b5b\"></div>\n"
      ]
     },
     "metadata": {},
     "output_type": "display_data"
    },
    {
     "data": {
      "application/javascript": [
       "(function(root) {\n",
       "  function embed_document(root) {\n",
       "    \n",
       "  var docs_json = {\"f63b9503-361c-4f92-b931-dcf2d82994e5\":{\"roots\":{\"references\":[{\"attributes\":{\"overlay\":{\"id\":\"7f383529-f620-4775-93f7-9c02cbe365e4\",\"type\":\"BoxAnnotation\"}},\"id\":\"0f777a5a-d945-457e-a32b-f9b54aa474d8\",\"type\":\"BoxZoomTool\"},{\"attributes\":{},\"id\":\"6ec71541-6199-4dab-a4b1-dd34effaba51\",\"type\":\"HelpTool\"},{\"attributes\":{\"formatter\":{\"id\":\"a012ff31-3f91-4f81-9592-5ca997ee45d9\",\"type\":\"BasicTickFormatter\"},\"plot\":{\"id\":\"afeccd83-37f0-4868-bdcd-70f34bd4c51b\",\"subtype\":\"Figure\",\"type\":\"Plot\"},\"ticker\":{\"id\":\"7aab9ff1-035d-473a-b8c5-a06a8af39325\",\"type\":\"BasicTicker\"}},\"id\":\"da96a573-fb0a-4113-839b-7324066e0bb4\",\"type\":\"LinearAxis\"},{\"attributes\":{\"callback\":null},\"id\":\"9f289228-6400-4445-8499-c66e4b8c1c77\",\"type\":\"DataRange1d\"},{\"attributes\":{},\"id\":\"6eba04ec-9921-46e7-81cf-ac49001ab379\",\"type\":\"SaveTool\"},{\"attributes\":{\"plot\":{\"id\":\"afeccd83-37f0-4868-bdcd-70f34bd4c51b\",\"subtype\":\"Figure\",\"type\":\"Plot\"},\"ticker\":{\"id\":\"14adbd98-c361-41b4-b4c7-f210be1822fa\",\"type\":\"CategoricalTicker\"}},\"id\":\"c0ab40be-4106-46b1-beab-cd04e2a9cdc3\",\"type\":\"Grid\"},{\"attributes\":{},\"id\":\"7aab9ff1-035d-473a-b8c5-a06a8af39325\",\"type\":\"BasicTicker\"},{\"attributes\":{\"callback\":null,\"data\":{\"top\":[2500,2100,1300,2800,1700,2200,2600,1500,2100,1700,1300,900,800,1100,600],\"x\":[[\"France\",\"Red\"],[\"Italy\",\"Red\"],[\"Australia\",\"Red\"],[\"USA\",\"Red\"],[\"Chile\",\"Red\"],[\"France\",\"White\"],[\"Italy\",\"White\"],[\"Australia\",\"White\"],[\"USA\",\"White\"],[\"Chile\",\"White\"],[\"France\",\"Sparkling\"],[\"Italy\",\"Sparkling\"],[\"Australia\",\"Sparkling\"],[\"USA\",\"Sparkling\"],[\"Chile\",\"Sparkling\"]]},\"selected\":{\"id\":\"da6d81b2-95a1-446c-8544-c6474235c5e5\",\"type\":\"Selection\"},\"selection_policy\":{\"id\":\"a82315f9-69cf-49f4-ae62-48760525a251\",\"type\":\"UnionRenderers\"}},\"id\":\"c30b5666-5253-4bbd-8a14-aa82551f317b\",\"type\":\"ColumnDataSource\"},{\"attributes\":{\"callback\":null,\"factors\":[[\"France\",\"Red\"],[\"Italy\",\"Red\"],[\"Australia\",\"Red\"],[\"USA\",\"Red\"],[\"Chile\",\"Red\"],[\"France\",\"White\"],[\"Italy\",\"White\"],[\"Australia\",\"White\"],[\"USA\",\"White\"],[\"Chile\",\"White\"],[\"France\",\"Sparkling\"],[\"Italy\",\"Sparkling\"],[\"Australia\",\"Sparkling\"],[\"USA\",\"Sparkling\"],[\"Chile\",\"Sparkling\"]]},\"id\":\"aa8a1e40-7b33-436d-9df7-96595259f4ef\",\"type\":\"FactorRange\"},{\"attributes\":{},\"id\":\"fb0cbd37-20d1-4dac-bf63-f05295ff8da8\",\"type\":\"CategoricalTickFormatter\"},{\"attributes\":{\"plot\":null,\"text\":\"Wine Sales by Type and Year\"},\"id\":\"bf6262e2-bac3-4f09-bac9-b5fe474fb02b\",\"type\":\"Title\"},{\"attributes\":{\"below\":[{\"id\":\"13eca149-f593-4ee8-809c-7dce892dbc95\",\"type\":\"CategoricalAxis\"}],\"left\":[{\"id\":\"da96a573-fb0a-4113-839b-7324066e0bb4\",\"type\":\"LinearAxis\"}],\"plot_height\":300,\"renderers\":[{\"id\":\"13eca149-f593-4ee8-809c-7dce892dbc95\",\"type\":\"CategoricalAxis\"},{\"id\":\"c0ab40be-4106-46b1-beab-cd04e2a9cdc3\",\"type\":\"Grid\"},{\"id\":\"da96a573-fb0a-4113-839b-7324066e0bb4\",\"type\":\"LinearAxis\"},{\"id\":\"9872722e-6139-4865-beba-217dc3f720b8\",\"type\":\"Grid\"},{\"id\":\"7f383529-f620-4775-93f7-9c02cbe365e4\",\"type\":\"BoxAnnotation\"},{\"id\":\"81f54d8a-84f0-438c-9b97-f30f1a1f4940\",\"type\":\"GlyphRenderer\"}],\"title\":{\"id\":\"bf6262e2-bac3-4f09-bac9-b5fe474fb02b\",\"type\":\"Title\"},\"toolbar\":{\"id\":\"6a62cbc4-4d8f-4bc1-9841-a107d9d1a4f2\",\"type\":\"Toolbar\"},\"toolbar_location\":null,\"x_range\":{\"id\":\"aa8a1e40-7b33-436d-9df7-96595259f4ef\",\"type\":\"FactorRange\"},\"x_scale\":{\"id\":\"b5fda267-efb2-4927-83b4-c80dcd8ca5ac\",\"type\":\"CategoricalScale\"},\"y_range\":{\"id\":\"9f289228-6400-4445-8499-c66e4b8c1c77\",\"type\":\"DataRange1d\"},\"y_scale\":{\"id\":\"198de402-91dc-4488-aa90-6fbc2b1c6631\",\"type\":\"LinearScale\"}},\"id\":\"afeccd83-37f0-4868-bdcd-70f34bd4c51b\",\"subtype\":\"Figure\",\"type\":\"Plot\"},{\"attributes\":{},\"id\":\"a012ff31-3f91-4f81-9592-5ca997ee45d9\",\"type\":\"BasicTickFormatter\"},{\"attributes\":{\"active_drag\":\"auto\",\"active_inspect\":\"auto\",\"active_multi\":null,\"active_scroll\":\"auto\",\"active_tap\":\"auto\",\"tools\":[{\"id\":\"c58582a6-287e-47b3-8a2c-eee153e447cb\",\"type\":\"PanTool\"},{\"id\":\"12372f57-1adc-4a50-9f2e-5e97ea584d20\",\"type\":\"WheelZoomTool\"},{\"id\":\"0f777a5a-d945-457e-a32b-f9b54aa474d8\",\"type\":\"BoxZoomTool\"},{\"id\":\"6eba04ec-9921-46e7-81cf-ac49001ab379\",\"type\":\"SaveTool\"},{\"id\":\"9a9aedcf-74bb-4985-97ae-56ad30e43329\",\"type\":\"ResetTool\"},{\"id\":\"6ec71541-6199-4dab-a4b1-dd34effaba51\",\"type\":\"HelpTool\"}]},\"id\":\"6a62cbc4-4d8f-4bc1-9841-a107d9d1a4f2\",\"type\":\"Toolbar\"},{\"attributes\":{\"fill_alpha\":{\"value\":0.1},\"fill_color\":{\"value\":\"#1f77b4\"},\"line_alpha\":{\"value\":0.1},\"line_color\":{\"value\":\"#1f77b4\"},\"top\":{\"field\":\"top\"},\"width\":{\"value\":0.9},\"x\":{\"field\":\"x\"}},\"id\":\"876641b0-2d71-4d48-b569-3f4618019671\",\"type\":\"VBar\"},{\"attributes\":{\"fill_color\":{\"value\":\"#1f77b4\"},\"line_color\":{\"value\":\"#1f77b4\"},\"top\":{\"field\":\"top\"},\"width\":{\"value\":0.9},\"x\":{\"field\":\"x\"}},\"id\":\"87c4f1ef-a1d1-422c-80a6-e768dfd09580\",\"type\":\"VBar\"},{\"attributes\":{\"formatter\":{\"id\":\"fb0cbd37-20d1-4dac-bf63-f05295ff8da8\",\"type\":\"CategoricalTickFormatter\"},\"plot\":{\"id\":\"afeccd83-37f0-4868-bdcd-70f34bd4c51b\",\"subtype\":\"Figure\",\"type\":\"Plot\"},\"ticker\":{\"id\":\"14adbd98-c361-41b4-b4c7-f210be1822fa\",\"type\":\"CategoricalTicker\"}},\"id\":\"13eca149-f593-4ee8-809c-7dce892dbc95\",\"type\":\"CategoricalAxis\"},{\"attributes\":{},\"id\":\"da6d81b2-95a1-446c-8544-c6474235c5e5\",\"type\":\"Selection\"},{\"attributes\":{},\"id\":\"a82315f9-69cf-49f4-ae62-48760525a251\",\"type\":\"UnionRenderers\"},{\"attributes\":{},\"id\":\"12372f57-1adc-4a50-9f2e-5e97ea584d20\",\"type\":\"WheelZoomTool\"},{\"attributes\":{},\"id\":\"c58582a6-287e-47b3-8a2c-eee153e447cb\",\"type\":\"PanTool\"},{\"attributes\":{\"data_source\":{\"id\":\"c30b5666-5253-4bbd-8a14-aa82551f317b\",\"type\":\"ColumnDataSource\"},\"glyph\":{\"id\":\"87c4f1ef-a1d1-422c-80a6-e768dfd09580\",\"type\":\"VBar\"},\"hover_glyph\":null,\"muted_glyph\":null,\"nonselection_glyph\":{\"id\":\"876641b0-2d71-4d48-b569-3f4618019671\",\"type\":\"VBar\"},\"selection_glyph\":null,\"view\":{\"id\":\"f936efcf-2113-4d3e-8337-d14c58c462e5\",\"type\":\"CDSView\"}},\"id\":\"81f54d8a-84f0-438c-9b97-f30f1a1f4940\",\"type\":\"GlyphRenderer\"},{\"attributes\":{},\"id\":\"b5fda267-efb2-4927-83b4-c80dcd8ca5ac\",\"type\":\"CategoricalScale\"},{\"attributes\":{},\"id\":\"198de402-91dc-4488-aa90-6fbc2b1c6631\",\"type\":\"LinearScale\"},{\"attributes\":{\"bottom_units\":\"screen\",\"fill_alpha\":{\"value\":0.5},\"fill_color\":{\"value\":\"lightgrey\"},\"left_units\":\"screen\",\"level\":\"overlay\",\"line_alpha\":{\"value\":1.0},\"line_color\":{\"value\":\"black\"},\"line_dash\":[4,4],\"line_width\":{\"value\":2},\"plot\":null,\"render_mode\":\"css\",\"right_units\":\"screen\",\"top_units\":\"screen\"},\"id\":\"7f383529-f620-4775-93f7-9c02cbe365e4\",\"type\":\"BoxAnnotation\"},{\"attributes\":{},\"id\":\"14adbd98-c361-41b4-b4c7-f210be1822fa\",\"type\":\"CategoricalTicker\"},{\"attributes\":{\"source\":{\"id\":\"c30b5666-5253-4bbd-8a14-aa82551f317b\",\"type\":\"ColumnDataSource\"}},\"id\":\"f936efcf-2113-4d3e-8337-d14c58c462e5\",\"type\":\"CDSView\"},{\"attributes\":{\"dimension\":1,\"plot\":{\"id\":\"afeccd83-37f0-4868-bdcd-70f34bd4c51b\",\"subtype\":\"Figure\",\"type\":\"Plot\"},\"ticker\":{\"id\":\"7aab9ff1-035d-473a-b8c5-a06a8af39325\",\"type\":\"BasicTicker\"}},\"id\":\"9872722e-6139-4865-beba-217dc3f720b8\",\"type\":\"Grid\"},{\"attributes\":{},\"id\":\"9a9aedcf-74bb-4985-97ae-56ad30e43329\",\"type\":\"ResetTool\"}],\"root_ids\":[\"afeccd83-37f0-4868-bdcd-70f34bd4c51b\"]},\"title\":\"Bokeh Application\",\"version\":\"0.13.0\"}};\n",
       "  var render_items = [{\"docid\":\"f63b9503-361c-4f92-b931-dcf2d82994e5\",\"roots\":{\"afeccd83-37f0-4868-bdcd-70f34bd4c51b\":\"e3e87d9f-d216-458b-abb9-47e996870b5b\"}}];\n",
       "  root.Bokeh.embed.embed_items_notebook(docs_json, render_items);\n",
       "\n",
       "  }\n",
       "  if (root.Bokeh !== undefined) {\n",
       "    embed_document(root);\n",
       "  } else {\n",
       "    var attempts = 0;\n",
       "    var timer = setInterval(function(root) {\n",
       "      if (root.Bokeh !== undefined) {\n",
       "        embed_document(root);\n",
       "        clearInterval(timer);\n",
       "      }\n",
       "      attempts++;\n",
       "      if (attempts > 100) {\n",
       "        console.log(\"Bokeh: ERROR: Unable to run BokehJS code because BokehJS library is missing\")\n",
       "        clearInterval(timer);\n",
       "      }\n",
       "    }, 10, root)\n",
       "  }\n",
       "})(window);"
      ],
      "application/vnd.bokehjs_exec.v0+json": ""
     },
     "metadata": {
      "application/vnd.bokehjs_exec.v0+json": {
       "id": "afeccd83-37f0-4868-bdcd-70f34bd4c51b"
      }
     },
     "output_type": "display_data"
    }
   ],
   "source": [
    "p.vbar(x=categories,\n",
    "       \n",
    "       top=sales['Quantity'],\n",
    "       \n",
    "       width=0.9,\n",
    "       \n",
    "       bottom=0,)\n",
    "\n",
    "show(p)"
   ]
  },
  {
   "cell_type": "markdown",
   "metadata": {},
   "source": [
    "#### Format the axes\n",
    "The following formatting is done to make the plot cleaner\n",
    "* the bars at the left and right extrems are right on the edge of the figure. We add some padding to the X axis using the <b>x_range.range_padding</b> property\n",
    "* the x grid lines don't add value, so we remove them by setting the <b>xgrid.grid_line_color</b> property\n",
    "* we angle the labels of the subgroup (which are the major labels) by specifying a tilt (in radians) with the <b>xaxis.major_label_orientation</b> property\n",
    "* we format the label of group by setting the <b>xaxis.group_text_color</b>"
   ]
  },
  {
   "cell_type": "code",
   "execution_count": 6,
   "metadata": {},
   "outputs": [],
   "source": [
    "p.x_range.range_padding = 0.1\n",
    "p.xgrid.grid_line_color = None\n",
    "\n",
    "p.xaxis.major_label_orientation = 1\n",
    "\n",
    "p.xaxis.group_text_color = 'navy'"
   ]
  },
  {
   "cell_type": "code",
   "execution_count": 7,
   "metadata": {},
   "outputs": [
    {
     "data": {
      "text/html": [
       "\n",
       "\n",
       "\n",
       "\n",
       "\n",
       "\n",
       "  <div class=\"bk-root\" id=\"c2cb84a9-b20e-449f-b3b4-2e7b50493e24\"></div>\n"
      ]
     },
     "metadata": {},
     "output_type": "display_data"
    },
    {
     "data": {
      "application/javascript": [
       "(function(root) {\n",
       "  function embed_document(root) {\n",
       "    \n",
       "  var docs_json = {\"918ca0d8-04ae-4841-b7cf-5a81fef08755\":{\"roots\":{\"references\":[{\"attributes\":{\"overlay\":{\"id\":\"7f383529-f620-4775-93f7-9c02cbe365e4\",\"type\":\"BoxAnnotation\"}},\"id\":\"0f777a5a-d945-457e-a32b-f9b54aa474d8\",\"type\":\"BoxZoomTool\"},{\"attributes\":{},\"id\":\"6ec71541-6199-4dab-a4b1-dd34effaba51\",\"type\":\"HelpTool\"},{\"attributes\":{\"formatter\":{\"id\":\"a012ff31-3f91-4f81-9592-5ca997ee45d9\",\"type\":\"BasicTickFormatter\"},\"plot\":{\"id\":\"afeccd83-37f0-4868-bdcd-70f34bd4c51b\",\"subtype\":\"Figure\",\"type\":\"Plot\"},\"ticker\":{\"id\":\"7aab9ff1-035d-473a-b8c5-a06a8af39325\",\"type\":\"BasicTicker\"}},\"id\":\"da96a573-fb0a-4113-839b-7324066e0bb4\",\"type\":\"LinearAxis\"},{\"attributes\":{\"callback\":null},\"id\":\"9f289228-6400-4445-8499-c66e4b8c1c77\",\"type\":\"DataRange1d\"},{\"attributes\":{},\"id\":\"6eba04ec-9921-46e7-81cf-ac49001ab379\",\"type\":\"SaveTool\"},{\"attributes\":{\"grid_line_color\":{\"value\":null},\"plot\":{\"id\":\"afeccd83-37f0-4868-bdcd-70f34bd4c51b\",\"subtype\":\"Figure\",\"type\":\"Plot\"},\"ticker\":{\"id\":\"14adbd98-c361-41b4-b4c7-f210be1822fa\",\"type\":\"CategoricalTicker\"}},\"id\":\"c0ab40be-4106-46b1-beab-cd04e2a9cdc3\",\"type\":\"Grid\"},{\"attributes\":{},\"id\":\"7aab9ff1-035d-473a-b8c5-a06a8af39325\",\"type\":\"BasicTicker\"},{\"attributes\":{\"callback\":null,\"data\":{\"top\":[2500,2100,1300,2800,1700,2200,2600,1500,2100,1700,1300,900,800,1100,600],\"x\":[[\"France\",\"Red\"],[\"Italy\",\"Red\"],[\"Australia\",\"Red\"],[\"USA\",\"Red\"],[\"Chile\",\"Red\"],[\"France\",\"White\"],[\"Italy\",\"White\"],[\"Australia\",\"White\"],[\"USA\",\"White\"],[\"Chile\",\"White\"],[\"France\",\"Sparkling\"],[\"Italy\",\"Sparkling\"],[\"Australia\",\"Sparkling\"],[\"USA\",\"Sparkling\"],[\"Chile\",\"Sparkling\"]]},\"selected\":{\"id\":\"da6d81b2-95a1-446c-8544-c6474235c5e5\",\"type\":\"Selection\"},\"selection_policy\":{\"id\":\"a82315f9-69cf-49f4-ae62-48760525a251\",\"type\":\"UnionRenderers\"}},\"id\":\"c30b5666-5253-4bbd-8a14-aa82551f317b\",\"type\":\"ColumnDataSource\"},{\"attributes\":{\"callback\":null,\"factors\":[[\"France\",\"Red\"],[\"Italy\",\"Red\"],[\"Australia\",\"Red\"],[\"USA\",\"Red\"],[\"Chile\",\"Red\"],[\"France\",\"White\"],[\"Italy\",\"White\"],[\"Australia\",\"White\"],[\"USA\",\"White\"],[\"Chile\",\"White\"],[\"France\",\"Sparkling\"],[\"Italy\",\"Sparkling\"],[\"Australia\",\"Sparkling\"],[\"USA\",\"Sparkling\"],[\"Chile\",\"Sparkling\"]],\"range_padding\":0.1},\"id\":\"aa8a1e40-7b33-436d-9df7-96595259f4ef\",\"type\":\"FactorRange\"},{\"attributes\":{},\"id\":\"fb0cbd37-20d1-4dac-bf63-f05295ff8da8\",\"type\":\"CategoricalTickFormatter\"},{\"attributes\":{\"plot\":null,\"text\":\"Wine Sales by Type and Year\"},\"id\":\"bf6262e2-bac3-4f09-bac9-b5fe474fb02b\",\"type\":\"Title\"},{\"attributes\":{\"below\":[{\"id\":\"13eca149-f593-4ee8-809c-7dce892dbc95\",\"type\":\"CategoricalAxis\"}],\"left\":[{\"id\":\"da96a573-fb0a-4113-839b-7324066e0bb4\",\"type\":\"LinearAxis\"}],\"plot_height\":300,\"renderers\":[{\"id\":\"13eca149-f593-4ee8-809c-7dce892dbc95\",\"type\":\"CategoricalAxis\"},{\"id\":\"c0ab40be-4106-46b1-beab-cd04e2a9cdc3\",\"type\":\"Grid\"},{\"id\":\"da96a573-fb0a-4113-839b-7324066e0bb4\",\"type\":\"LinearAxis\"},{\"id\":\"9872722e-6139-4865-beba-217dc3f720b8\",\"type\":\"Grid\"},{\"id\":\"7f383529-f620-4775-93f7-9c02cbe365e4\",\"type\":\"BoxAnnotation\"},{\"id\":\"81f54d8a-84f0-438c-9b97-f30f1a1f4940\",\"type\":\"GlyphRenderer\"}],\"title\":{\"id\":\"bf6262e2-bac3-4f09-bac9-b5fe474fb02b\",\"type\":\"Title\"},\"toolbar\":{\"id\":\"6a62cbc4-4d8f-4bc1-9841-a107d9d1a4f2\",\"type\":\"Toolbar\"},\"toolbar_location\":null,\"x_range\":{\"id\":\"aa8a1e40-7b33-436d-9df7-96595259f4ef\",\"type\":\"FactorRange\"},\"x_scale\":{\"id\":\"b5fda267-efb2-4927-83b4-c80dcd8ca5ac\",\"type\":\"CategoricalScale\"},\"y_range\":{\"id\":\"9f289228-6400-4445-8499-c66e4b8c1c77\",\"type\":\"DataRange1d\"},\"y_scale\":{\"id\":\"198de402-91dc-4488-aa90-6fbc2b1c6631\",\"type\":\"LinearScale\"}},\"id\":\"afeccd83-37f0-4868-bdcd-70f34bd4c51b\",\"subtype\":\"Figure\",\"type\":\"Plot\"},{\"attributes\":{},\"id\":\"a012ff31-3f91-4f81-9592-5ca997ee45d9\",\"type\":\"BasicTickFormatter\"},{\"attributes\":{\"active_drag\":\"auto\",\"active_inspect\":\"auto\",\"active_multi\":null,\"active_scroll\":\"auto\",\"active_tap\":\"auto\",\"tools\":[{\"id\":\"c58582a6-287e-47b3-8a2c-eee153e447cb\",\"type\":\"PanTool\"},{\"id\":\"12372f57-1adc-4a50-9f2e-5e97ea584d20\",\"type\":\"WheelZoomTool\"},{\"id\":\"0f777a5a-d945-457e-a32b-f9b54aa474d8\",\"type\":\"BoxZoomTool\"},{\"id\":\"6eba04ec-9921-46e7-81cf-ac49001ab379\",\"type\":\"SaveTool\"},{\"id\":\"9a9aedcf-74bb-4985-97ae-56ad30e43329\",\"type\":\"ResetTool\"},{\"id\":\"6ec71541-6199-4dab-a4b1-dd34effaba51\",\"type\":\"HelpTool\"}]},\"id\":\"6a62cbc4-4d8f-4bc1-9841-a107d9d1a4f2\",\"type\":\"Toolbar\"},{\"attributes\":{\"fill_alpha\":{\"value\":0.1},\"fill_color\":{\"value\":\"#1f77b4\"},\"line_alpha\":{\"value\":0.1},\"line_color\":{\"value\":\"#1f77b4\"},\"top\":{\"field\":\"top\"},\"width\":{\"value\":0.9},\"x\":{\"field\":\"x\"}},\"id\":\"876641b0-2d71-4d48-b569-3f4618019671\",\"type\":\"VBar\"},{\"attributes\":{\"fill_color\":{\"value\":\"#1f77b4\"},\"line_color\":{\"value\":\"#1f77b4\"},\"top\":{\"field\":\"top\"},\"width\":{\"value\":0.9},\"x\":{\"field\":\"x\"}},\"id\":\"87c4f1ef-a1d1-422c-80a6-e768dfd09580\",\"type\":\"VBar\"},{\"attributes\":{\"formatter\":{\"id\":\"fb0cbd37-20d1-4dac-bf63-f05295ff8da8\",\"type\":\"CategoricalTickFormatter\"},\"group_text_color\":{\"value\":\"navy\"},\"major_label_orientation\":1,\"plot\":{\"id\":\"afeccd83-37f0-4868-bdcd-70f34bd4c51b\",\"subtype\":\"Figure\",\"type\":\"Plot\"},\"ticker\":{\"id\":\"14adbd98-c361-41b4-b4c7-f210be1822fa\",\"type\":\"CategoricalTicker\"}},\"id\":\"13eca149-f593-4ee8-809c-7dce892dbc95\",\"type\":\"CategoricalAxis\"},{\"attributes\":{},\"id\":\"da6d81b2-95a1-446c-8544-c6474235c5e5\",\"type\":\"Selection\"},{\"attributes\":{},\"id\":\"a82315f9-69cf-49f4-ae62-48760525a251\",\"type\":\"UnionRenderers\"},{\"attributes\":{},\"id\":\"12372f57-1adc-4a50-9f2e-5e97ea584d20\",\"type\":\"WheelZoomTool\"},{\"attributes\":{},\"id\":\"c58582a6-287e-47b3-8a2c-eee153e447cb\",\"type\":\"PanTool\"},{\"attributes\":{\"data_source\":{\"id\":\"c30b5666-5253-4bbd-8a14-aa82551f317b\",\"type\":\"ColumnDataSource\"},\"glyph\":{\"id\":\"87c4f1ef-a1d1-422c-80a6-e768dfd09580\",\"type\":\"VBar\"},\"hover_glyph\":null,\"muted_glyph\":null,\"nonselection_glyph\":{\"id\":\"876641b0-2d71-4d48-b569-3f4618019671\",\"type\":\"VBar\"},\"selection_glyph\":null,\"view\":{\"id\":\"f936efcf-2113-4d3e-8337-d14c58c462e5\",\"type\":\"CDSView\"}},\"id\":\"81f54d8a-84f0-438c-9b97-f30f1a1f4940\",\"type\":\"GlyphRenderer\"},{\"attributes\":{},\"id\":\"b5fda267-efb2-4927-83b4-c80dcd8ca5ac\",\"type\":\"CategoricalScale\"},{\"attributes\":{},\"id\":\"198de402-91dc-4488-aa90-6fbc2b1c6631\",\"type\":\"LinearScale\"},{\"attributes\":{\"bottom_units\":\"screen\",\"fill_alpha\":{\"value\":0.5},\"fill_color\":{\"value\":\"lightgrey\"},\"left_units\":\"screen\",\"level\":\"overlay\",\"line_alpha\":{\"value\":1.0},\"line_color\":{\"value\":\"black\"},\"line_dash\":[4,4],\"line_width\":{\"value\":2},\"plot\":null,\"render_mode\":\"css\",\"right_units\":\"screen\",\"top_units\":\"screen\"},\"id\":\"7f383529-f620-4775-93f7-9c02cbe365e4\",\"type\":\"BoxAnnotation\"},{\"attributes\":{},\"id\":\"14adbd98-c361-41b4-b4c7-f210be1822fa\",\"type\":\"CategoricalTicker\"},{\"attributes\":{\"source\":{\"id\":\"c30b5666-5253-4bbd-8a14-aa82551f317b\",\"type\":\"ColumnDataSource\"}},\"id\":\"f936efcf-2113-4d3e-8337-d14c58c462e5\",\"type\":\"CDSView\"},{\"attributes\":{\"dimension\":1,\"plot\":{\"id\":\"afeccd83-37f0-4868-bdcd-70f34bd4c51b\",\"subtype\":\"Figure\",\"type\":\"Plot\"},\"ticker\":{\"id\":\"7aab9ff1-035d-473a-b8c5-a06a8af39325\",\"type\":\"BasicTicker\"}},\"id\":\"9872722e-6139-4865-beba-217dc3f720b8\",\"type\":\"Grid\"},{\"attributes\":{},\"id\":\"9a9aedcf-74bb-4985-97ae-56ad30e43329\",\"type\":\"ResetTool\"}],\"root_ids\":[\"afeccd83-37f0-4868-bdcd-70f34bd4c51b\"]},\"title\":\"Bokeh Application\",\"version\":\"0.13.0\"}};\n",
       "  var render_items = [{\"docid\":\"918ca0d8-04ae-4841-b7cf-5a81fef08755\",\"roots\":{\"afeccd83-37f0-4868-bdcd-70f34bd4c51b\":\"c2cb84a9-b20e-449f-b3b4-2e7b50493e24\"}}];\n",
       "  root.Bokeh.embed.embed_items_notebook(docs_json, render_items);\n",
       "\n",
       "  }\n",
       "  if (root.Bokeh !== undefined) {\n",
       "    embed_document(root);\n",
       "  } else {\n",
       "    var attempts = 0;\n",
       "    var timer = setInterval(function(root) {\n",
       "      if (root.Bokeh !== undefined) {\n",
       "        embed_document(root);\n",
       "        clearInterval(timer);\n",
       "      }\n",
       "      attempts++;\n",
       "      if (attempts > 100) {\n",
       "        console.log(\"Bokeh: ERROR: Unable to run BokehJS code because BokehJS library is missing\")\n",
       "        clearInterval(timer);\n",
       "      }\n",
       "    }, 10, root)\n",
       "  }\n",
       "})(window);"
      ],
      "application/vnd.bokehjs_exec.v0+json": ""
     },
     "metadata": {
      "application/vnd.bokehjs_exec.v0+json": {
       "id": "afeccd83-37f0-4868-bdcd-70f34bd4c51b"
      }
     },
     "output_type": "display_data"
    }
   ],
   "source": [
    "show(p)"
   ]
  },
  {
   "cell_type": "markdown",
   "metadata": {},
   "source": [
    "#### Using Factor ColorMap to color the bars\n",
    "We import a color palette called Spectral3 (containing 3 colors) along with the factor_cmap function. The list of available color palettes is here: <br />\n",
    "https://bokeh.pydata.org/en/latest/docs/reference/palettes.html"
   ]
  },
  {
   "cell_type": "code",
   "execution_count": 8,
   "metadata": {},
   "outputs": [],
   "source": [
    "from bokeh.palettes import Spectral3\n",
    "from bokeh.transform import factor_cmap"
   ]
  },
  {
   "cell_type": "markdown",
   "metadata": {},
   "source": [
    "#### The Spectral3 color palette has 3 colors"
   ]
  },
  {
   "cell_type": "code",
   "execution_count": 9,
   "metadata": {},
   "outputs": [
    {
     "data": {
      "text/plain": [
       "['#99d594', '#ffffbf', '#fc8d59']"
      ]
     },
     "execution_count": 9,
     "metadata": {},
     "output_type": "execute_result"
    }
   ],
   "source": [
    "Spectral3"
   ]
  },
  {
   "cell_type": "markdown",
   "metadata": {},
   "source": [
    "#### Redefine the bar graph with the color map\n",
    "The arguments for the call to factor_cmap include:\n",
    "* <b>field_name</b> which denotes the field of the vbar for which we are using the color map\n",
    "* the <b>palette</b> sets the list of colors to use - the Spectral3 palette in our example\n",
    "* the list of <b>factors</b> which the colors will map to - since we want each wine type to be represented by a color we list out the types of wines in our data set\n",
    "* our data contains two levels of factors - Origin and Type. The <b>start</b> and <b>end</b> values set here ensure that the colors are used for the second level (the Type) in our data. \n"
   ]
  },
  {
   "cell_type": "code",
   "execution_count": 10,
   "metadata": {},
   "outputs": [
    {
     "data": {
      "text/html": [
       "\n",
       "\n",
       "\n",
       "\n",
       "\n",
       "\n",
       "  <div class=\"bk-root\" id=\"b1eb4460-5d93-4650-bb93-bdbdefde0c4e\"></div>\n"
      ]
     },
     "metadata": {},
     "output_type": "display_data"
    },
    {
     "data": {
      "application/javascript": [
       "(function(root) {\n",
       "  function embed_document(root) {\n",
       "    \n",
       "  var docs_json = {\"73790623-c362-4dd1-b73f-b0aed14ee949\":{\"roots\":{\"references\":[{\"attributes\":{},\"id\":\"6ec71541-6199-4dab-a4b1-dd34effaba51\",\"type\":\"HelpTool\"},{\"attributes\":{\"callback\":null},\"id\":\"9f289228-6400-4445-8499-c66e4b8c1c77\",\"type\":\"DataRange1d\"},{\"attributes\":{\"grid_line_color\":{\"value\":null},\"plot\":{\"id\":\"afeccd83-37f0-4868-bdcd-70f34bd4c51b\",\"subtype\":\"Figure\",\"type\":\"Plot\"},\"ticker\":{\"id\":\"14adbd98-c361-41b4-b4c7-f210be1822fa\",\"type\":\"CategoricalTicker\"}},\"id\":\"c0ab40be-4106-46b1-beab-cd04e2a9cdc3\",\"type\":\"Grid\"},{\"attributes\":{},\"id\":\"7aab9ff1-035d-473a-b8c5-a06a8af39325\",\"type\":\"BasicTicker\"},{\"attributes\":{\"callback\":null,\"data\":{\"top\":[2500,2100,1300,2800,1700,2200,2600,1500,2100,1700,1300,900,800,1100,600],\"x\":[[\"France\",\"Red\"],[\"Italy\",\"Red\"],[\"Australia\",\"Red\"],[\"USA\",\"Red\"],[\"Chile\",\"Red\"],[\"France\",\"White\"],[\"Italy\",\"White\"],[\"Australia\",\"White\"],[\"USA\",\"White\"],[\"Chile\",\"White\"],[\"France\",\"Sparkling\"],[\"Italy\",\"Sparkling\"],[\"Australia\",\"Sparkling\"],[\"USA\",\"Sparkling\"],[\"Chile\",\"Sparkling\"]]},\"selected\":{\"id\":\"da6d81b2-95a1-446c-8544-c6474235c5e5\",\"type\":\"Selection\"},\"selection_policy\":{\"id\":\"a82315f9-69cf-49f4-ae62-48760525a251\",\"type\":\"UnionRenderers\"}},\"id\":\"c30b5666-5253-4bbd-8a14-aa82551f317b\",\"type\":\"ColumnDataSource\"},{\"attributes\":{\"data_source\":{\"id\":\"d7991070-95ca-40c7-94a7-9aa96c7d10d8\",\"type\":\"ColumnDataSource\"},\"glyph\":{\"id\":\"6027f2eb-2f3c-440b-b97d-5313a09003cc\",\"type\":\"VBar\"},\"hover_glyph\":null,\"muted_glyph\":null,\"nonselection_glyph\":{\"id\":\"54cd11a7-3992-4bee-92e8-44e395a37ca1\",\"type\":\"VBar\"},\"selection_glyph\":null,\"view\":{\"id\":\"815cc9f2-3962-4a81-aef6-90833c2cc95c\",\"type\":\"CDSView\"}},\"id\":\"93b695bd-ecd1-4220-a577-d39fcb452d50\",\"type\":\"GlyphRenderer\"},{\"attributes\":{\"plot\":null,\"text\":\"Wine Sales by Type and Year\"},\"id\":\"bf6262e2-bac3-4f09-bac9-b5fe474fb02b\",\"type\":\"Title\"},{\"attributes\":{},\"id\":\"a012ff31-3f91-4f81-9592-5ca997ee45d9\",\"type\":\"BasicTickFormatter\"},{\"attributes\":{},\"id\":\"da6d81b2-95a1-446c-8544-c6474235c5e5\",\"type\":\"Selection\"},{\"attributes\":{},\"id\":\"12372f57-1adc-4a50-9f2e-5e97ea584d20\",\"type\":\"WheelZoomTool\"},{\"attributes\":{\"data_source\":{\"id\":\"c30b5666-5253-4bbd-8a14-aa82551f317b\",\"type\":\"ColumnDataSource\"},\"glyph\":{\"id\":\"87c4f1ef-a1d1-422c-80a6-e768dfd09580\",\"type\":\"VBar\"},\"hover_glyph\":null,\"muted_glyph\":null,\"nonselection_glyph\":{\"id\":\"876641b0-2d71-4d48-b569-3f4618019671\",\"type\":\"VBar\"},\"selection_glyph\":null,\"view\":{\"id\":\"f936efcf-2113-4d3e-8337-d14c58c462e5\",\"type\":\"CDSView\"}},\"id\":\"81f54d8a-84f0-438c-9b97-f30f1a1f4940\",\"type\":\"GlyphRenderer\"},{\"attributes\":{},\"id\":\"198de402-91dc-4488-aa90-6fbc2b1c6631\",\"type\":\"LinearScale\"},{\"attributes\":{\"bottom_units\":\"screen\",\"fill_alpha\":{\"value\":0.5},\"fill_color\":{\"value\":\"lightgrey\"},\"left_units\":\"screen\",\"level\":\"overlay\",\"line_alpha\":{\"value\":1.0},\"line_color\":{\"value\":\"black\"},\"line_dash\":[4,4],\"line_width\":{\"value\":2},\"plot\":null,\"render_mode\":\"css\",\"right_units\":\"screen\",\"top_units\":\"screen\"},\"id\":\"7f383529-f620-4775-93f7-9c02cbe365e4\",\"type\":\"BoxAnnotation\"},{\"attributes\":{\"source\":{\"id\":\"c30b5666-5253-4bbd-8a14-aa82551f317b\",\"type\":\"ColumnDataSource\"}},\"id\":\"f936efcf-2113-4d3e-8337-d14c58c462e5\",\"type\":\"CDSView\"},{\"attributes\":{},\"id\":\"9a9aedcf-74bb-4985-97ae-56ad30e43329\",\"type\":\"ResetTool\"},{\"attributes\":{\"overlay\":{\"id\":\"7f383529-f620-4775-93f7-9c02cbe365e4\",\"type\":\"BoxAnnotation\"}},\"id\":\"0f777a5a-d945-457e-a32b-f9b54aa474d8\",\"type\":\"BoxZoomTool\"},{\"attributes\":{\"formatter\":{\"id\":\"a012ff31-3f91-4f81-9592-5ca997ee45d9\",\"type\":\"BasicTickFormatter\"},\"plot\":{\"id\":\"afeccd83-37f0-4868-bdcd-70f34bd4c51b\",\"subtype\":\"Figure\",\"type\":\"Plot\"},\"ticker\":{\"id\":\"7aab9ff1-035d-473a-b8c5-a06a8af39325\",\"type\":\"BasicTicker\"}},\"id\":\"da96a573-fb0a-4113-839b-7324066e0bb4\",\"type\":\"LinearAxis\"},{\"attributes\":{},\"id\":\"6eba04ec-9921-46e7-81cf-ac49001ab379\",\"type\":\"SaveTool\"},{\"attributes\":{\"callback\":null,\"factors\":[[\"France\",\"Red\"],[\"Italy\",\"Red\"],[\"Australia\",\"Red\"],[\"USA\",\"Red\"],[\"Chile\",\"Red\"],[\"France\",\"White\"],[\"Italy\",\"White\"],[\"Australia\",\"White\"],[\"USA\",\"White\"],[\"Chile\",\"White\"],[\"France\",\"Sparkling\"],[\"Italy\",\"Sparkling\"],[\"Australia\",\"Sparkling\"],[\"USA\",\"Sparkling\"],[\"Chile\",\"Sparkling\"]],\"range_padding\":0.1},\"id\":\"aa8a1e40-7b33-436d-9df7-96595259f4ef\",\"type\":\"FactorRange\"},{\"attributes\":{\"source\":{\"id\":\"d7991070-95ca-40c7-94a7-9aa96c7d10d8\",\"type\":\"ColumnDataSource\"}},\"id\":\"815cc9f2-3962-4a81-aef6-90833c2cc95c\",\"type\":\"CDSView\"},{\"attributes\":{},\"id\":\"fb0cbd37-20d1-4dac-bf63-f05295ff8da8\",\"type\":\"CategoricalTickFormatter\"},{\"attributes\":{\"below\":[{\"id\":\"13eca149-f593-4ee8-809c-7dce892dbc95\",\"type\":\"CategoricalAxis\"}],\"left\":[{\"id\":\"da96a573-fb0a-4113-839b-7324066e0bb4\",\"type\":\"LinearAxis\"}],\"plot_height\":300,\"renderers\":[{\"id\":\"13eca149-f593-4ee8-809c-7dce892dbc95\",\"type\":\"CategoricalAxis\"},{\"id\":\"c0ab40be-4106-46b1-beab-cd04e2a9cdc3\",\"type\":\"Grid\"},{\"id\":\"da96a573-fb0a-4113-839b-7324066e0bb4\",\"type\":\"LinearAxis\"},{\"id\":\"9872722e-6139-4865-beba-217dc3f720b8\",\"type\":\"Grid\"},{\"id\":\"7f383529-f620-4775-93f7-9c02cbe365e4\",\"type\":\"BoxAnnotation\"},{\"id\":\"81f54d8a-84f0-438c-9b97-f30f1a1f4940\",\"type\":\"GlyphRenderer\"},{\"id\":\"93b695bd-ecd1-4220-a577-d39fcb452d50\",\"type\":\"GlyphRenderer\"}],\"title\":{\"id\":\"bf6262e2-bac3-4f09-bac9-b5fe474fb02b\",\"type\":\"Title\"},\"toolbar\":{\"id\":\"6a62cbc4-4d8f-4bc1-9841-a107d9d1a4f2\",\"type\":\"Toolbar\"},\"toolbar_location\":null,\"x_range\":{\"id\":\"aa8a1e40-7b33-436d-9df7-96595259f4ef\",\"type\":\"FactorRange\"},\"x_scale\":{\"id\":\"b5fda267-efb2-4927-83b4-c80dcd8ca5ac\",\"type\":\"CategoricalScale\"},\"y_range\":{\"id\":\"9f289228-6400-4445-8499-c66e4b8c1c77\",\"type\":\"DataRange1d\"},\"y_scale\":{\"id\":\"198de402-91dc-4488-aa90-6fbc2b1c6631\",\"type\":\"LinearScale\"}},\"id\":\"afeccd83-37f0-4868-bdcd-70f34bd4c51b\",\"subtype\":\"Figure\",\"type\":\"Plot\"},{\"attributes\":{\"active_drag\":\"auto\",\"active_inspect\":\"auto\",\"active_multi\":null,\"active_scroll\":\"auto\",\"active_tap\":\"auto\",\"tools\":[{\"id\":\"c58582a6-287e-47b3-8a2c-eee153e447cb\",\"type\":\"PanTool\"},{\"id\":\"12372f57-1adc-4a50-9f2e-5e97ea584d20\",\"type\":\"WheelZoomTool\"},{\"id\":\"0f777a5a-d945-457e-a32b-f9b54aa474d8\",\"type\":\"BoxZoomTool\"},{\"id\":\"6eba04ec-9921-46e7-81cf-ac49001ab379\",\"type\":\"SaveTool\"},{\"id\":\"9a9aedcf-74bb-4985-97ae-56ad30e43329\",\"type\":\"ResetTool\"},{\"id\":\"6ec71541-6199-4dab-a4b1-dd34effaba51\",\"type\":\"HelpTool\"}]},\"id\":\"6a62cbc4-4d8f-4bc1-9841-a107d9d1a4f2\",\"type\":\"Toolbar\"},{\"attributes\":{\"end\":2,\"factors\":[\"Red\",\"White\",\"Sparkling\"],\"palette\":[\"#99d594\",\"#ffffbf\",\"#fc8d59\"],\"start\":1},\"id\":\"c2a26846-5d10-4378-9d2d-b0144b61a7bc\",\"type\":\"CategoricalColorMapper\"},{\"attributes\":{\"fill_alpha\":{\"value\":0.1},\"fill_color\":{\"value\":\"#1f77b4\"},\"line_alpha\":{\"value\":0.1},\"line_color\":{\"value\":\"#1f77b4\"},\"top\":{\"field\":\"top\"},\"width\":{\"value\":0.9},\"x\":{\"field\":\"x\"}},\"id\":\"876641b0-2d71-4d48-b569-3f4618019671\",\"type\":\"VBar\"},{\"attributes\":{\"fill_color\":{\"value\":\"#1f77b4\"},\"line_color\":{\"value\":\"#1f77b4\"},\"top\":{\"field\":\"top\"},\"width\":{\"value\":0.9},\"x\":{\"field\":\"x\"}},\"id\":\"87c4f1ef-a1d1-422c-80a6-e768dfd09580\",\"type\":\"VBar\"},{\"attributes\":{},\"id\":\"3abd396b-712c-4446-83f5-d51551835db1\",\"type\":\"Selection\"},{\"attributes\":{\"callback\":null,\"data\":{\"top\":[2500,2100,1300,2800,1700,2200,2600,1500,2100,1700,1300,900,800,1100,600],\"x\":[[\"France\",\"Red\"],[\"Italy\",\"Red\"],[\"Australia\",\"Red\"],[\"USA\",\"Red\"],[\"Chile\",\"Red\"],[\"France\",\"White\"],[\"Italy\",\"White\"],[\"Australia\",\"White\"],[\"USA\",\"White\"],[\"Chile\",\"White\"],[\"France\",\"Sparkling\"],[\"Italy\",\"Sparkling\"],[\"Australia\",\"Sparkling\"],[\"USA\",\"Sparkling\"],[\"Chile\",\"Sparkling\"]]},\"selected\":{\"id\":\"3abd396b-712c-4446-83f5-d51551835db1\",\"type\":\"Selection\"},\"selection_policy\":{\"id\":\"c31ad11b-c901-4789-abe8-dea30275fc5d\",\"type\":\"UnionRenderers\"}},\"id\":\"d7991070-95ca-40c7-94a7-9aa96c7d10d8\",\"type\":\"ColumnDataSource\"},{\"attributes\":{\"formatter\":{\"id\":\"fb0cbd37-20d1-4dac-bf63-f05295ff8da8\",\"type\":\"CategoricalTickFormatter\"},\"group_text_color\":{\"value\":\"navy\"},\"major_label_orientation\":1,\"plot\":{\"id\":\"afeccd83-37f0-4868-bdcd-70f34bd4c51b\",\"subtype\":\"Figure\",\"type\":\"Plot\"},\"ticker\":{\"id\":\"14adbd98-c361-41b4-b4c7-f210be1822fa\",\"type\":\"CategoricalTicker\"}},\"id\":\"13eca149-f593-4ee8-809c-7dce892dbc95\",\"type\":\"CategoricalAxis\"},{\"attributes\":{\"fill_color\":{\"field\":\"x\",\"transform\":{\"id\":\"c2a26846-5d10-4378-9d2d-b0144b61a7bc\",\"type\":\"CategoricalColorMapper\"}},\"line_color\":{\"field\":\"x\",\"transform\":{\"id\":\"c2a26846-5d10-4378-9d2d-b0144b61a7bc\",\"type\":\"CategoricalColorMapper\"}},\"top\":{\"field\":\"top\"},\"width\":{\"value\":0.9},\"x\":{\"field\":\"x\"}},\"id\":\"6027f2eb-2f3c-440b-b97d-5313a09003cc\",\"type\":\"VBar\"},{\"attributes\":{},\"id\":\"a82315f9-69cf-49f4-ae62-48760525a251\",\"type\":\"UnionRenderers\"},{\"attributes\":{\"fill_alpha\":{\"value\":0.1},\"fill_color\":{\"value\":\"#1f77b4\"},\"line_alpha\":{\"value\":0.1},\"line_color\":{\"value\":\"#1f77b4\"},\"top\":{\"field\":\"top\"},\"width\":{\"value\":0.9},\"x\":{\"field\":\"x\"}},\"id\":\"54cd11a7-3992-4bee-92e8-44e395a37ca1\",\"type\":\"VBar\"},{\"attributes\":{},\"id\":\"c58582a6-287e-47b3-8a2c-eee153e447cb\",\"type\":\"PanTool\"},{\"attributes\":{},\"id\":\"c31ad11b-c901-4789-abe8-dea30275fc5d\",\"type\":\"UnionRenderers\"},{\"attributes\":{},\"id\":\"b5fda267-efb2-4927-83b4-c80dcd8ca5ac\",\"type\":\"CategoricalScale\"},{\"attributes\":{},\"id\":\"14adbd98-c361-41b4-b4c7-f210be1822fa\",\"type\":\"CategoricalTicker\"},{\"attributes\":{\"dimension\":1,\"plot\":{\"id\":\"afeccd83-37f0-4868-bdcd-70f34bd4c51b\",\"subtype\":\"Figure\",\"type\":\"Plot\"},\"ticker\":{\"id\":\"7aab9ff1-035d-473a-b8c5-a06a8af39325\",\"type\":\"BasicTicker\"}},\"id\":\"9872722e-6139-4865-beba-217dc3f720b8\",\"type\":\"Grid\"}],\"root_ids\":[\"afeccd83-37f0-4868-bdcd-70f34bd4c51b\"]},\"title\":\"Bokeh Application\",\"version\":\"0.13.0\"}};\n",
       "  var render_items = [{\"docid\":\"73790623-c362-4dd1-b73f-b0aed14ee949\",\"roots\":{\"afeccd83-37f0-4868-bdcd-70f34bd4c51b\":\"b1eb4460-5d93-4650-bb93-bdbdefde0c4e\"}}];\n",
       "  root.Bokeh.embed.embed_items_notebook(docs_json, render_items);\n",
       "\n",
       "  }\n",
       "  if (root.Bokeh !== undefined) {\n",
       "    embed_document(root);\n",
       "  } else {\n",
       "    var attempts = 0;\n",
       "    var timer = setInterval(function(root) {\n",
       "      if (root.Bokeh !== undefined) {\n",
       "        embed_document(root);\n",
       "        clearInterval(timer);\n",
       "      }\n",
       "      attempts++;\n",
       "      if (attempts > 100) {\n",
       "        console.log(\"Bokeh: ERROR: Unable to run BokehJS code because BokehJS library is missing\")\n",
       "        clearInterval(timer);\n",
       "      }\n",
       "    }, 10, root)\n",
       "  }\n",
       "})(window);"
      ],
      "application/vnd.bokehjs_exec.v0+json": ""
     },
     "metadata": {
      "application/vnd.bokehjs_exec.v0+json": {
       "id": "afeccd83-37f0-4868-bdcd-70f34bd4c51b"
      }
     },
     "output_type": "display_data"
    }
   ],
   "source": [
    "p.vbar(x = categories, \n",
    "       top = sales['Quantity'], \n",
    "       width = 0.9,\n",
    "       bottom = 0,\n",
    "       \n",
    "       color = factor_cmap(field_name = 'x', \n",
    "                           \n",
    "                           palette = Spectral3, \n",
    "                           \n",
    "                           factors = sales['Type'].unique(), \n",
    "                           \n",
    "                           start = 1, \n",
    "                           end = 2\n",
    "                          )\n",
    "      )\n",
    "\n",
    "show(p)"
   ]
  },
  {
   "cell_type": "markdown",
   "metadata": {},
   "source": [
    "## Stacked Bars\n",
    "We can create a stacked bar graph using our categorical factors. We will produce a stack for each Origin of the wines with each individual bar representing a type of wine. The stacked bar will represent the total sales of wine from the region with the individual sub-bars in the stack representing each type of wine from that region. \n",
    "\n",
    "However, some reformatting of the data is required. "
   ]
  },
  {
   "cell_type": "markdown",
   "metadata": {},
   "source": [
    "#### We need all the regions to be listed"
   ]
  },
  {
   "cell_type": "code",
   "execution_count": 11,
   "metadata": {},
   "outputs": [
    {
     "data": {
      "text/plain": [
       "['France', 'Italy', 'Australia', 'USA', 'Chile']"
      ]
     },
     "execution_count": 11,
     "metadata": {},
     "output_type": "execute_result"
    }
   ],
   "source": [
    "origin_list = list(sales['Origin'].unique())\n",
    "origin_list"
   ]
  },
  {
   "cell_type": "markdown",
   "metadata": {},
   "source": [
    "#### We produce list for the quantity of wines sold of each type for each region\n",
    "Each series contains the number of wine bottles sold of that type for the list of regions"
   ]
  },
  {
   "cell_type": "code",
   "execution_count": 12,
   "metadata": {},
   "outputs": [
    {
     "name": "stdout",
     "output_type": "stream",
     "text": [
      "[2500, 2100, 1300, 2800, 1700]\n",
      "[2200, 2600, 1500, 2100, 1700]\n",
      "[1300, 900, 800, 1100, 600]\n"
     ]
    }
   ],
   "source": [
    "red_sales = list(sales['Quantity'][sales['Type'] == 'Red'])\n",
    "white_sales = list(sales['Quantity'][sales['Type'] == 'White'])\n",
    "sparkling_sales = list(sales['Quantity'][sales['Type'] == 'Sparkling'])\n",
    "\n",
    "print(red_sales)\n",
    "print(white_sales)\n",
    "print(sparkling_sales)"
   ]
  },
  {
   "cell_type": "markdown",
   "metadata": {},
   "source": [
    "#### We create a source dictionary with all the lists we just created"
   ]
  },
  {
   "cell_type": "code",
   "execution_count": 13,
   "metadata": {},
   "outputs": [
    {
     "data": {
      "text/plain": [
       "{'Origin': ['France', 'Italy', 'Australia', 'USA', 'Chile'],\n",
       " 'Red': [2500, 2100, 1300, 2800, 1700],\n",
       " 'White': [2200, 2600, 1500, 2100, 1700],\n",
       " 'Sparkling': [1300, 900, 800, 1100, 600]}"
      ]
     },
     "execution_count": 13,
     "metadata": {},
     "output_type": "execute_result"
    }
   ],
   "source": [
    "data_source = {'Origin': origin_list,\n",
    "               'Red': red_sales,\n",
    "               'White': white_sales,\n",
    "               'Sparkling': sparkling_sales\n",
    "              }\n",
    "\n",
    "data_source"
   ]
  },
  {
   "cell_type": "markdown",
   "metadata": {},
   "source": [
    "#### Define the figure\n",
    "The x_range property will set the X axis to convey the categorical range values"
   ]
  },
  {
   "cell_type": "code",
   "execution_count": 14,
   "metadata": {},
   "outputs": [],
   "source": [
    "p = figure(x_range = origin_list,\n",
    "           \n",
    "           plot_width = 600,\n",
    "           plot_height=300, \n",
    "           \n",
    "           title=\"Wine Sales by Type and Year\"\n",
    "          )"
   ]
  },
  {
   "cell_type": "markdown",
   "metadata": {},
   "source": [
    "#### Define the stacked bars\n",
    "We call the vbar_stack function for the staked bars with the following arguments:\n",
    "* stackers defines which fields in the data source contain the values for each component of the stack\n",
    "* the x parameter is for the field in the data source which is represented on the X axis\n",
    "* We set the width of each bar in our plot. A width of 1 will cause the bar edges to overlap with the neighbouring bar\n",
    "* The list of colors to use for each category passed to stackers"
   ]
  },
  {
   "cell_type": "code",
   "execution_count": 15,
   "metadata": {},
   "outputs": [
    {
     "data": {
      "text/html": [
       "\n",
       "\n",
       "\n",
       "\n",
       "\n",
       "\n",
       "  <div class=\"bk-root\" id=\"6d3a9d09-1ada-474d-bf91-8b8ac9488971\"></div>\n"
      ]
     },
     "metadata": {},
     "output_type": "display_data"
    },
    {
     "data": {
      "application/javascript": [
       "(function(root) {\n",
       "  function embed_document(root) {\n",
       "    \n",
       "  var docs_json = {\"5589c95b-20f6-4d23-af85-54fe7f5c91a5\":{\"roots\":{\"references\":[{\"attributes\":{\"fields\":[\"Red\",\"White\"]},\"id\":\"7cb58ace-3cef-4e40-a09e-8121d15ba335\",\"type\":\"Stack\"},{\"attributes\":{},\"id\":\"eb22730e-a308-407f-8cfb-e285fb402390\",\"type\":\"PanTool\"},{\"attributes\":{},\"id\":\"566b7aa7-48b2-4b24-8145-2d8285fb24cd\",\"type\":\"UnionRenderers\"},{\"attributes\":{\"bottom\":{\"expr\":{\"id\":\"f8055a55-b79b-4cd5-9450-7aeba51feda1\",\"type\":\"Stack\"}},\"fill_alpha\":{\"value\":0.1},\"fill_color\":{\"value\":\"#1f77b4\"},\"line_alpha\":{\"value\":0.1},\"line_color\":{\"value\":\"#1f77b4\"},\"top\":{\"expr\":{\"id\":\"4b37491a-9192-424f-a69d-8ce6e9cddd01\",\"type\":\"Stack\"}},\"width\":{\"value\":0.5},\"x\":{\"field\":\"Origin\"}},\"id\":\"3bb05fe9-512c-42ba-aace-41a184170953\",\"type\":\"VBar\"},{\"attributes\":{\"bottom_units\":\"screen\",\"fill_alpha\":{\"value\":0.5},\"fill_color\":{\"value\":\"lightgrey\"},\"left_units\":\"screen\",\"level\":\"overlay\",\"line_alpha\":{\"value\":1.0},\"line_color\":{\"value\":\"black\"},\"line_dash\":[4,4],\"line_width\":{\"value\":2},\"plot\":null,\"render_mode\":\"css\",\"right_units\":\"screen\",\"top_units\":\"screen\"},\"id\":\"c78c48c4-308e-4bd0-b12d-a08d24b2ab7a\",\"type\":\"BoxAnnotation\"},{\"attributes\":{},\"id\":\"321c4e4a-29d6-4d1c-ae2d-a2acec3d0b64\",\"type\":\"CategoricalTickFormatter\"},{\"attributes\":{},\"id\":\"2b696b03-0bb8-4ff4-b4e4-2d1b98b0b9c0\",\"type\":\"Selection\"},{\"attributes\":{\"callback\":null,\"data\":{\"Origin\":[\"France\",\"Italy\",\"Australia\",\"USA\",\"Chile\"],\"Red\":[2500,2100,1300,2800,1700],\"Sparkling\":[1300,900,800,1100,600],\"White\":[2200,2600,1500,2100,1700]},\"selected\":{\"id\":\"2b696b03-0bb8-4ff4-b4e4-2d1b98b0b9c0\",\"type\":\"Selection\"},\"selection_policy\":{\"id\":\"566b7aa7-48b2-4b24-8145-2d8285fb24cd\",\"type\":\"UnionRenderers\"}},\"id\":\"6d4192a4-b123-41be-b176-db9fc7a48313\",\"type\":\"ColumnDataSource\"},{\"attributes\":{},\"id\":\"24a11bdc-bc4a-4825-ac91-726d68208141\",\"type\":\"ResetTool\"},{\"attributes\":{\"callback\":null,\"factors\":[\"France\",\"Italy\",\"Australia\",\"USA\",\"Chile\"]},\"id\":\"7dcd0f45-e4b8-4525-84fd-bce7ac1bc408\",\"type\":\"FactorRange\"},{\"attributes\":{\"fields\":[\"Red\"]},\"id\":\"4b37491a-9192-424f-a69d-8ce6e9cddd01\",\"type\":\"Stack\"},{\"attributes\":{\"bottom\":{\"expr\":{\"id\":\"d992d61a-58a2-49e1-b3a2-34bc0ff5c99d\",\"type\":\"Stack\"}},\"fill_color\":{\"value\":\"#ffffbf\"},\"line_color\":{\"value\":\"#ffffbf\"},\"top\":{\"expr\":{\"id\":\"f5c059b9-6283-4c6e-927b-1288fce3a320\",\"type\":\"Stack\"}},\"width\":{\"value\":0.5},\"x\":{\"field\":\"Origin\"}},\"id\":\"89f938cf-c759-40ad-8470-9bbddd693864\",\"type\":\"VBar\"},{\"attributes\":{\"callback\":null},\"id\":\"b9126a4b-a1f0-4cf8-893d-4dbb446f07c6\",\"type\":\"DataRange1d\"},{\"attributes\":{\"bottom\":{\"expr\":{\"id\":\"d992d61a-58a2-49e1-b3a2-34bc0ff5c99d\",\"type\":\"Stack\"}},\"fill_alpha\":{\"value\":0.1},\"fill_color\":{\"value\":\"#1f77b4\"},\"line_alpha\":{\"value\":0.1},\"line_color\":{\"value\":\"#1f77b4\"},\"top\":{\"expr\":{\"id\":\"f5c059b9-6283-4c6e-927b-1288fce3a320\",\"type\":\"Stack\"}},\"width\":{\"value\":0.5},\"x\":{\"field\":\"Origin\"}},\"id\":\"41ccdd73-0778-4766-b81e-bd3869396b07\",\"type\":\"VBar\"},{\"attributes\":{},\"id\":\"831c38f8-2cd4-4a23-b296-45f0f05f314c\",\"type\":\"SaveTool\"},{\"attributes\":{\"fields\":[\"Red\",\"White\",\"Sparkling\"]},\"id\":\"b6c09ddb-72a4-401e-a0a8-12669eafd19b\",\"type\":\"Stack\"},{\"attributes\":{\"data_source\":{\"id\":\"b6c98310-418e-464a-ad8f-5dcf80ba8ce1\",\"type\":\"ColumnDataSource\"},\"glyph\":{\"id\":\"89f938cf-c759-40ad-8470-9bbddd693864\",\"type\":\"VBar\"},\"hover_glyph\":null,\"muted_glyph\":null,\"name\":\"White\",\"nonselection_glyph\":{\"id\":\"41ccdd73-0778-4766-b81e-bd3869396b07\",\"type\":\"VBar\"},\"selection_glyph\":null,\"view\":{\"id\":\"a747d3ff-f730-4011-b836-3a6c7442647f\",\"type\":\"CDSView\"}},\"id\":\"a5502b1c-0ce2-40fd-bd78-41a274501b12\",\"type\":\"GlyphRenderer\"},{\"attributes\":{\"fields\":[\"Red\"]},\"id\":\"d992d61a-58a2-49e1-b3a2-34bc0ff5c99d\",\"type\":\"Stack\"},{\"attributes\":{},\"id\":\"b3b6ae41-0652-4c40-a7fe-fe14c94d42e6\",\"type\":\"CategoricalTicker\"},{\"attributes\":{},\"id\":\"a2a27a79-9ed4-4eaa-bd79-5fa82e4c3242\",\"type\":\"LinearScale\"},{\"attributes\":{\"source\":{\"id\":\"b6c98310-418e-464a-ad8f-5dcf80ba8ce1\",\"type\":\"ColumnDataSource\"}},\"id\":\"a747d3ff-f730-4011-b836-3a6c7442647f\",\"type\":\"CDSView\"},{\"attributes\":{\"callback\":null,\"data\":{\"Origin\":[\"France\",\"Italy\",\"Australia\",\"USA\",\"Chile\"],\"Red\":[2500,2100,1300,2800,1700],\"Sparkling\":[1300,900,800,1100,600],\"White\":[2200,2600,1500,2100,1700]},\"selected\":{\"id\":\"1cd874a5-d616-46ff-93e3-c9f4f4086a48\",\"type\":\"Selection\"},\"selection_policy\":{\"id\":\"235d8146-61e5-47a3-b425-7429f6be2fe8\",\"type\":\"UnionRenderers\"}},\"id\":\"a951582e-bd3f-4123-96ac-01f07694cb86\",\"type\":\"ColumnDataSource\"},{\"attributes\":{},\"id\":\"99770556-11d6-4672-a5f1-dffec4048c64\",\"type\":\"BasicTickFormatter\"},{\"attributes\":{\"bottom\":{\"expr\":{\"id\":\"7cb58ace-3cef-4e40-a09e-8121d15ba335\",\"type\":\"Stack\"}},\"fill_color\":{\"value\":\"#fc8d59\"},\"line_color\":{\"value\":\"#fc8d59\"},\"top\":{\"expr\":{\"id\":\"b6c09ddb-72a4-401e-a0a8-12669eafd19b\",\"type\":\"Stack\"}},\"width\":{\"value\":0.5},\"x\":{\"field\":\"Origin\"}},\"id\":\"bb92cca5-3197-41fc-9caf-1c614db0db04\",\"type\":\"VBar\"},{\"attributes\":{},\"id\":\"5c12dfee-b2ab-4bd9-b0b7-af6b3653e8e5\",\"type\":\"HelpTool\"},{\"attributes\":{\"bottom\":{\"expr\":{\"id\":\"7cb58ace-3cef-4e40-a09e-8121d15ba335\",\"type\":\"Stack\"}},\"fill_alpha\":{\"value\":0.1},\"fill_color\":{\"value\":\"#1f77b4\"},\"line_alpha\":{\"value\":0.1},\"line_color\":{\"value\":\"#1f77b4\"},\"top\":{\"expr\":{\"id\":\"b6c09ddb-72a4-401e-a0a8-12669eafd19b\",\"type\":\"Stack\"}},\"width\":{\"value\":0.5},\"x\":{\"field\":\"Origin\"}},\"id\":\"b83f7eac-022f-41b5-b9ab-21ebfbb573df\",\"type\":\"VBar\"},{\"attributes\":{\"bottom\":{\"expr\":{\"id\":\"f8055a55-b79b-4cd5-9450-7aeba51feda1\",\"type\":\"Stack\"}},\"fill_color\":{\"value\":\"#99d594\"},\"line_color\":{\"value\":\"#99d594\"},\"top\":{\"expr\":{\"id\":\"4b37491a-9192-424f-a69d-8ce6e9cddd01\",\"type\":\"Stack\"}},\"width\":{\"value\":0.5},\"x\":{\"field\":\"Origin\"}},\"id\":\"d03750c6-66f2-4e58-ae61-ac4d3ba4b4ba\",\"type\":\"VBar\"},{\"attributes\":{\"overlay\":{\"id\":\"c78c48c4-308e-4bd0-b12d-a08d24b2ab7a\",\"type\":\"BoxAnnotation\"}},\"id\":\"d5d343e4-147d-4fa0-8c69-5a7752f63377\",\"type\":\"BoxZoomTool\"},{\"attributes\":{\"data_source\":{\"id\":\"a951582e-bd3f-4123-96ac-01f07694cb86\",\"type\":\"ColumnDataSource\"},\"glyph\":{\"id\":\"bb92cca5-3197-41fc-9caf-1c614db0db04\",\"type\":\"VBar\"},\"hover_glyph\":null,\"muted_glyph\":null,\"name\":\"Sparkling\",\"nonselection_glyph\":{\"id\":\"b83f7eac-022f-41b5-b9ab-21ebfbb573df\",\"type\":\"VBar\"},\"selection_glyph\":null,\"view\":{\"id\":\"f8c00731-6ad3-4de6-888c-b694c0e03375\",\"type\":\"CDSView\"}},\"id\":\"0fc590a3-6226-42e9-af5b-1eedadafada8\",\"type\":\"GlyphRenderer\"},{\"attributes\":{},\"id\":\"4773dcb7-0ef0-4715-930e-8d48e9c2571a\",\"type\":\"BasicTicker\"},{\"attributes\":{\"source\":{\"id\":\"a951582e-bd3f-4123-96ac-01f07694cb86\",\"type\":\"ColumnDataSource\"}},\"id\":\"f8c00731-6ad3-4de6-888c-b694c0e03375\",\"type\":\"CDSView\"},{\"attributes\":{\"source\":{\"id\":\"6d4192a4-b123-41be-b176-db9fc7a48313\",\"type\":\"ColumnDataSource\"}},\"id\":\"a37668da-5893-4ecc-a4e9-c1dee717f0d8\",\"type\":\"CDSView\"},{\"attributes\":{},\"id\":\"29f0fb61-4693-4f16-8bd3-2bf4e3e13280\",\"type\":\"Selection\"},{\"attributes\":{},\"id\":\"76698b5c-b5a2-4811-ac02-1eeda305eaa2\",\"type\":\"UnionRenderers\"},{\"attributes\":{\"below\":[{\"id\":\"d568cf67-168e-4b3d-869d-a738f469f76b\",\"type\":\"CategoricalAxis\"}],\"left\":[{\"id\":\"e448d692-5f4e-4a5a-9a70-c65f8626ed01\",\"type\":\"LinearAxis\"}],\"plot_height\":300,\"renderers\":[{\"id\":\"d568cf67-168e-4b3d-869d-a738f469f76b\",\"type\":\"CategoricalAxis\"},{\"id\":\"0e035fbb-5a32-4ce6-924c-a07d33979d88\",\"type\":\"Grid\"},{\"id\":\"e448d692-5f4e-4a5a-9a70-c65f8626ed01\",\"type\":\"LinearAxis\"},{\"id\":\"2c39c066-e0d4-460b-99dc-307c55822b86\",\"type\":\"Grid\"},{\"id\":\"c78c48c4-308e-4bd0-b12d-a08d24b2ab7a\",\"type\":\"BoxAnnotation\"},{\"id\":\"a6fecad5-cddb-429c-a8d2-8ced8a5a4e52\",\"type\":\"GlyphRenderer\"},{\"id\":\"a5502b1c-0ce2-40fd-bd78-41a274501b12\",\"type\":\"GlyphRenderer\"},{\"id\":\"0fc590a3-6226-42e9-af5b-1eedadafada8\",\"type\":\"GlyphRenderer\"}],\"title\":{\"id\":\"880059aa-7274-416d-b33e-4dfc6c8dced1\",\"type\":\"Title\"},\"toolbar\":{\"id\":\"361cb4df-55de-4cb1-8118-7b99a918fe66\",\"type\":\"Toolbar\"},\"x_range\":{\"id\":\"7dcd0f45-e4b8-4525-84fd-bce7ac1bc408\",\"type\":\"FactorRange\"},\"x_scale\":{\"id\":\"b4e07523-2db0-42ed-a809-f50bebaa7ca7\",\"type\":\"CategoricalScale\"},\"y_range\":{\"id\":\"b9126a4b-a1f0-4cf8-893d-4dbb446f07c6\",\"type\":\"DataRange1d\"},\"y_scale\":{\"id\":\"a2a27a79-9ed4-4eaa-bd79-5fa82e4c3242\",\"type\":\"LinearScale\"}},\"id\":\"5d427b45-76cf-4058-8e74-c3759ded0bed\",\"subtype\":\"Figure\",\"type\":\"Plot\"},{\"attributes\":{},\"id\":\"1cd874a5-d616-46ff-93e3-c9f4f4086a48\",\"type\":\"Selection\"},{\"attributes\":{\"plot\":null,\"text\":\"Wine Sales by Type and Year\"},\"id\":\"880059aa-7274-416d-b33e-4dfc6c8dced1\",\"type\":\"Title\"},{\"attributes\":{},\"id\":\"235d8146-61e5-47a3-b425-7429f6be2fe8\",\"type\":\"UnionRenderers\"},{\"attributes\":{\"active_drag\":\"auto\",\"active_inspect\":\"auto\",\"active_multi\":null,\"active_scroll\":\"auto\",\"active_tap\":\"auto\",\"tools\":[{\"id\":\"eb22730e-a308-407f-8cfb-e285fb402390\",\"type\":\"PanTool\"},{\"id\":\"b157646e-043d-47fd-a849-914785504592\",\"type\":\"WheelZoomTool\"},{\"id\":\"d5d343e4-147d-4fa0-8c69-5a7752f63377\",\"type\":\"BoxZoomTool\"},{\"id\":\"831c38f8-2cd4-4a23-b296-45f0f05f314c\",\"type\":\"SaveTool\"},{\"id\":\"24a11bdc-bc4a-4825-ac91-726d68208141\",\"type\":\"ResetTool\"},{\"id\":\"5c12dfee-b2ab-4bd9-b0b7-af6b3653e8e5\",\"type\":\"HelpTool\"}]},\"id\":\"361cb4df-55de-4cb1-8118-7b99a918fe66\",\"type\":\"Toolbar\"},{\"attributes\":{},\"id\":\"b4e07523-2db0-42ed-a809-f50bebaa7ca7\",\"type\":\"CategoricalScale\"},{\"attributes\":{},\"id\":\"b157646e-043d-47fd-a849-914785504592\",\"type\":\"WheelZoomTool\"},{\"attributes\":{\"plot\":{\"id\":\"5d427b45-76cf-4058-8e74-c3759ded0bed\",\"subtype\":\"Figure\",\"type\":\"Plot\"},\"ticker\":{\"id\":\"b3b6ae41-0652-4c40-a7fe-fe14c94d42e6\",\"type\":\"CategoricalTicker\"}},\"id\":\"0e035fbb-5a32-4ce6-924c-a07d33979d88\",\"type\":\"Grid\"},{\"attributes\":{\"formatter\":{\"id\":\"321c4e4a-29d6-4d1c-ae2d-a2acec3d0b64\",\"type\":\"CategoricalTickFormatter\"},\"plot\":{\"id\":\"5d427b45-76cf-4058-8e74-c3759ded0bed\",\"subtype\":\"Figure\",\"type\":\"Plot\"},\"ticker\":{\"id\":\"b3b6ae41-0652-4c40-a7fe-fe14c94d42e6\",\"type\":\"CategoricalTicker\"}},\"id\":\"d568cf67-168e-4b3d-869d-a738f469f76b\",\"type\":\"CategoricalAxis\"},{\"attributes\":{\"fields\":[]},\"id\":\"f8055a55-b79b-4cd5-9450-7aeba51feda1\",\"type\":\"Stack\"},{\"attributes\":{\"dimension\":1,\"plot\":{\"id\":\"5d427b45-76cf-4058-8e74-c3759ded0bed\",\"subtype\":\"Figure\",\"type\":\"Plot\"},\"ticker\":{\"id\":\"4773dcb7-0ef0-4715-930e-8d48e9c2571a\",\"type\":\"BasicTicker\"}},\"id\":\"2c39c066-e0d4-460b-99dc-307c55822b86\",\"type\":\"Grid\"},{\"attributes\":{\"data_source\":{\"id\":\"6d4192a4-b123-41be-b176-db9fc7a48313\",\"type\":\"ColumnDataSource\"},\"glyph\":{\"id\":\"d03750c6-66f2-4e58-ae61-ac4d3ba4b4ba\",\"type\":\"VBar\"},\"hover_glyph\":null,\"muted_glyph\":null,\"name\":\"Red\",\"nonselection_glyph\":{\"id\":\"3bb05fe9-512c-42ba-aace-41a184170953\",\"type\":\"VBar\"},\"selection_glyph\":null,\"view\":{\"id\":\"a37668da-5893-4ecc-a4e9-c1dee717f0d8\",\"type\":\"CDSView\"}},\"id\":\"a6fecad5-cddb-429c-a8d2-8ced8a5a4e52\",\"type\":\"GlyphRenderer\"},{\"attributes\":{\"formatter\":{\"id\":\"99770556-11d6-4672-a5f1-dffec4048c64\",\"type\":\"BasicTickFormatter\"},\"plot\":{\"id\":\"5d427b45-76cf-4058-8e74-c3759ded0bed\",\"subtype\":\"Figure\",\"type\":\"Plot\"},\"ticker\":{\"id\":\"4773dcb7-0ef0-4715-930e-8d48e9c2571a\",\"type\":\"BasicTicker\"}},\"id\":\"e448d692-5f4e-4a5a-9a70-c65f8626ed01\",\"type\":\"LinearAxis\"},{\"attributes\":{\"callback\":null,\"data\":{\"Origin\":[\"France\",\"Italy\",\"Australia\",\"USA\",\"Chile\"],\"Red\":[2500,2100,1300,2800,1700],\"Sparkling\":[1300,900,800,1100,600],\"White\":[2200,2600,1500,2100,1700]},\"selected\":{\"id\":\"29f0fb61-4693-4f16-8bd3-2bf4e3e13280\",\"type\":\"Selection\"},\"selection_policy\":{\"id\":\"76698b5c-b5a2-4811-ac02-1eeda305eaa2\",\"type\":\"UnionRenderers\"}},\"id\":\"b6c98310-418e-464a-ad8f-5dcf80ba8ce1\",\"type\":\"ColumnDataSource\"},{\"attributes\":{\"fields\":[\"Red\",\"White\"]},\"id\":\"f5c059b9-6283-4c6e-927b-1288fce3a320\",\"type\":\"Stack\"}],\"root_ids\":[\"5d427b45-76cf-4058-8e74-c3759ded0bed\"]},\"title\":\"Bokeh Application\",\"version\":\"0.13.0\"}};\n",
       "  var render_items = [{\"docid\":\"5589c95b-20f6-4d23-af85-54fe7f5c91a5\",\"roots\":{\"5d427b45-76cf-4058-8e74-c3759ded0bed\":\"6d3a9d09-1ada-474d-bf91-8b8ac9488971\"}}];\n",
       "  root.Bokeh.embed.embed_items_notebook(docs_json, render_items);\n",
       "\n",
       "  }\n",
       "  if (root.Bokeh !== undefined) {\n",
       "    embed_document(root);\n",
       "  } else {\n",
       "    var attempts = 0;\n",
       "    var timer = setInterval(function(root) {\n",
       "      if (root.Bokeh !== undefined) {\n",
       "        embed_document(root);\n",
       "        clearInterval(timer);\n",
       "      }\n",
       "      attempts++;\n",
       "      if (attempts > 100) {\n",
       "        console.log(\"Bokeh: ERROR: Unable to run BokehJS code because BokehJS library is missing\")\n",
       "        clearInterval(timer);\n",
       "      }\n",
       "    }, 10, root)\n",
       "  }\n",
       "})(window);"
      ],
      "application/vnd.bokehjs_exec.v0+json": ""
     },
     "metadata": {
      "application/vnd.bokehjs_exec.v0+json": {
       "id": "5d427b45-76cf-4058-8e74-c3759ded0bed"
      }
     },
     "output_type": "display_data"
    }
   ],
   "source": [
    "p.vbar_stack(stackers = sales['Type'].unique(), \n",
    "             \n",
    "             x = 'Origin', \n",
    "             \n",
    "             width=0.5, \n",
    "             \n",
    "             source = data_source,\n",
    "             \n",
    "             color = Spectral3          \n",
    "            )\n",
    "\n",
    "show(p)"
   ]
  },
  {
   "cell_type": "markdown",
   "metadata": {},
   "source": [
    "## Add a legend to the plot\n",
    "We will add a legend to identify the individual bars representing the types of wine. \n",
    "\n",
    "We need to create space for the legend for which we will extend the range of the axes - this requires the Range1d object.\n",
    "\n",
    "The value function will help us create a valuespec which we shall soon see."
   ]
  },
  {
   "cell_type": "code",
   "execution_count": 16,
   "metadata": {},
   "outputs": [],
   "source": [
    "from bokeh.core.properties import value\n",
    "from bokeh.models import Range1d"
   ]
  },
  {
   "cell_type": "markdown",
   "metadata": {},
   "source": [
    "#### Define our own color palette\n",
    "The colors will correspond more closely with the type of wine"
   ]
  },
  {
   "cell_type": "code",
   "execution_count": 17,
   "metadata": {},
   "outputs": [],
   "source": [
    "wine_colors = ['#800000', '#F0E68C', '#F7E7CE']"
   ]
  },
  {
   "cell_type": "markdown",
   "metadata": {},
   "source": [
    "#### Declare a valuespec fo the wine types\n",
    "A valuespec is a list dictionaries, each representing a value. In our example, we need a valuespec containing the values for our legend."
   ]
  },
  {
   "cell_type": "code",
   "execution_count": 18,
   "metadata": {},
   "outputs": [
    {
     "data": {
      "text/plain": [
       "[{'value': 'Red'}, {'value': 'White'}, {'value': 'Sparkling'}]"
      ]
     },
     "execution_count": 18,
     "metadata": {},
     "output_type": "execute_result"
    }
   ],
   "source": [
    "types_valuespec = [value(x) for x in sales['Type'].unique()]\n",
    "types_valuespec"
   ]
  },
  {
   "cell_type": "markdown",
   "metadata": {},
   "source": [
    "#### Define the figure\n",
    "We set a Y range such that we can place our legend on the top of the plot"
   ]
  },
  {
   "cell_type": "code",
   "execution_count": 19,
   "metadata": {},
   "outputs": [],
   "source": [
    "p = figure(x_range = origin_list,\n",
    "           \n",
    "           y_range = Range1d(0, 7000),\n",
    "           \n",
    "           plot_width = 600,\n",
    "           plot_height=300, \n",
    "           \n",
    "           title=\"Wine Sales by Type and Year\"\n",
    "          )"
   ]
  },
  {
   "cell_type": "markdown",
   "metadata": {},
   "source": [
    "#### Define the bars\n",
    "Here, we pass our own color palette instead of a factor_cmap and pass our valuespec to the legend attribute"
   ]
  },
  {
   "cell_type": "code",
   "execution_count": 20,
   "metadata": {},
   "outputs": [
    {
     "data": {
      "text/plain": [
       "[bokeh.models.renderers.GlyphRenderer(\n",
       "     id='c155a40f-0fd7-4ca4-9157-851901949812',\n",
       "     data_source=bokeh.models.sources.ColumnDataSource(\n",
       "         id='383781e5-3896-454b-90c1-b4b50b8fabbb',\n",
       "         callback=None,\n",
       "         data={'Sparkling': [1300, 900, 800, 1100, 600],\n",
       "          'Red': [2500, 2100, 1300, 2800, 1700],\n",
       "          'Origin': ['France', 'Italy', 'Australia', 'USA', 'Chile'],\n",
       "          'White': [2200, 2600, 1500, 2100, 1700]},\n",
       "         js_event_callbacks={},\n",
       "         js_property_callbacks={},\n",
       "         name=None,\n",
       "         selected=bokeh.models.selections.Selection(\n",
       "             id='e4d84a9c-2508-4575-8614-6d177f018553',\n",
       "             indices=[],\n",
       "             js_event_callbacks={},\n",
       "             js_property_callbacks={},\n",
       "             line_indices=[],\n",
       "             multiline_indices={},\n",
       "             name=None,\n",
       "             subscribed_events=[],\n",
       "             tags=[]),\n",
       "         selection_policy=bokeh.models.selections.UnionRenderers(\n",
       "             id='c5fdef79-b3e4-4132-ac11-30b3900a6f6e',\n",
       "             js_event_callbacks={},\n",
       "             js_property_callbacks={},\n",
       "             name=None,\n",
       "             subscribed_events=[],\n",
       "             tags=[]),\n",
       "         subscribed_events=[],\n",
       "         tags=[]),\n",
       "     glyph=bokeh.models.glyphs.VBar(\n",
       "         id='1ffb3630-f12e-4a5b-8847-4b3d68197c98',\n",
       "         bottom={'expr': bokeh.models.expressions.Stack(\n",
       "              id='015db738-326e-4c98-9060-bbc3b9285e94',\n",
       "              fields=(),\n",
       "              js_event_callbacks={},\n",
       "              js_property_callbacks={},\n",
       "              name=None,\n",
       "              subscribed_events=[],\n",
       "              tags=[])},\n",
       "         fill_alpha={'value': 1.0},\n",
       "         fill_color={'value': '#800000'},\n",
       "         js_event_callbacks={},\n",
       "         js_property_callbacks={},\n",
       "         line_alpha={'value': 1.0},\n",
       "         line_cap='butt',\n",
       "         line_color={'value': '#800000'},\n",
       "         line_dash=[],\n",
       "         line_dash_offset=0,\n",
       "         line_join='bevel',\n",
       "         line_width={'value': 1},\n",
       "         name=None,\n",
       "         subscribed_events=[],\n",
       "         tags=[],\n",
       "         top={'expr': bokeh.models.expressions.Stack(\n",
       "              id='af9e2d1a-ca75-4e10-99fe-d1908d61a3ab',\n",
       "              fields=('Red',),\n",
       "              js_event_callbacks={},\n",
       "              js_property_callbacks={},\n",
       "              name=None,\n",
       "              subscribed_events=[],\n",
       "              tags=[])},\n",
       "         width={'value': 0.5},\n",
       "         x={'field': 'Origin'}),\n",
       "     hover_glyph=None,\n",
       "     js_event_callbacks={},\n",
       "     js_property_callbacks={},\n",
       "     level='glyph',\n",
       "     muted=False,\n",
       "     muted_glyph=None,\n",
       "     name='Red',\n",
       "     nonselection_glyph=bokeh.models.glyphs.VBar(\n",
       "         id='33aa1713-740a-4c19-95d3-6eaa9bf07039',\n",
       "         bottom={'expr': bokeh.models.expressions.Stack(\n",
       "              id='015db738-326e-4c98-9060-bbc3b9285e94',\n",
       "              fields=(),\n",
       "              js_event_callbacks={},\n",
       "              js_property_callbacks={},\n",
       "              name=None,\n",
       "              subscribed_events=[],\n",
       "              tags=[])},\n",
       "         fill_alpha={'value': 0.1},\n",
       "         fill_color={'value': '#1f77b4'},\n",
       "         js_event_callbacks={},\n",
       "         js_property_callbacks={},\n",
       "         line_alpha={'value': 0.1},\n",
       "         line_cap='butt',\n",
       "         line_color={'value': '#1f77b4'},\n",
       "         line_dash=[],\n",
       "         line_dash_offset=0,\n",
       "         line_join='bevel',\n",
       "         line_width={'value': 1},\n",
       "         name=None,\n",
       "         subscribed_events=[],\n",
       "         tags=[],\n",
       "         top={'expr': bokeh.models.expressions.Stack(\n",
       "              id='af9e2d1a-ca75-4e10-99fe-d1908d61a3ab',\n",
       "              fields=('Red',),\n",
       "              js_event_callbacks={},\n",
       "              js_property_callbacks={},\n",
       "              name=None,\n",
       "              subscribed_events=[],\n",
       "              tags=[])},\n",
       "         width={'value': 0.5},\n",
       "         x={'field': 'Origin'}),\n",
       "     selection_glyph=None,\n",
       "     subscribed_events=[],\n",
       "     tags=[],\n",
       "     view=bokeh.models.sources.CDSView(\n",
       "         id='753922c6-d3e9-43ce-90ab-a1a5712710bd',\n",
       "         filters=[],\n",
       "         js_event_callbacks={},\n",
       "         js_property_callbacks={},\n",
       "         name=None,\n",
       "         source=bokeh.models.sources.ColumnDataSource(\n",
       "             id='383781e5-3896-454b-90c1-b4b50b8fabbb',\n",
       "             callback=None,\n",
       "             data={'Sparkling': [1300, 900, 800, 1100, 600],\n",
       "              'Red': [2500, 2100, 1300, 2800, 1700],\n",
       "              'Origin': ['France', 'Italy', 'Australia', 'USA', 'Chile'],\n",
       "              'White': [2200, 2600, 1500, 2100, 1700]},\n",
       "             js_event_callbacks={},\n",
       "             js_property_callbacks={},\n",
       "             name=None,\n",
       "             selected=bokeh.models.selections.Selection(\n",
       "                 id='e4d84a9c-2508-4575-8614-6d177f018553',\n",
       "                 indices=[],\n",
       "                 js_event_callbacks={},\n",
       "                 js_property_callbacks={},\n",
       "                 line_indices=[],\n",
       "                 multiline_indices={},\n",
       "                 name=None,\n",
       "                 subscribed_events=[],\n",
       "                 tags=[]),\n",
       "             selection_policy=bokeh.models.selections.UnionRenderers(\n",
       "                 id='c5fdef79-b3e4-4132-ac11-30b3900a6f6e',\n",
       "                 js_event_callbacks={},\n",
       "                 js_property_callbacks={},\n",
       "                 name=None,\n",
       "                 subscribed_events=[],\n",
       "                 tags=[]),\n",
       "             subscribed_events=[],\n",
       "             tags=[]),\n",
       "         subscribed_events=[],\n",
       "         tags=[]),\n",
       "     visible=True,\n",
       "     x_range_name='default',\n",
       "     y_range_name='default'),\n",
       " bokeh.models.renderers.GlyphRenderer(\n",
       "     id='8cba3284-f638-4285-af75-2a13dcd42f58',\n",
       "     data_source=bokeh.models.sources.ColumnDataSource(\n",
       "         id='3c3a702f-619a-4ceb-8910-15254f93c908',\n",
       "         callback=None,\n",
       "         data={'Sparkling': [1300, 900, 800, 1100, 600],\n",
       "          'Red': [2500, 2100, 1300, 2800, 1700],\n",
       "          'Origin': ['France', 'Italy', 'Australia', 'USA', 'Chile'],\n",
       "          'White': [2200, 2600, 1500, 2100, 1700]},\n",
       "         js_event_callbacks={},\n",
       "         js_property_callbacks={},\n",
       "         name=None,\n",
       "         selected=bokeh.models.selections.Selection(\n",
       "             id='d5326b3f-1216-42b0-a014-ca470c2140d5',\n",
       "             indices=[],\n",
       "             js_event_callbacks={},\n",
       "             js_property_callbacks={},\n",
       "             line_indices=[],\n",
       "             multiline_indices={},\n",
       "             name=None,\n",
       "             subscribed_events=[],\n",
       "             tags=[]),\n",
       "         selection_policy=bokeh.models.selections.UnionRenderers(\n",
       "             id='0c9ffdee-8db0-4dd9-8121-7ec07efb4c32',\n",
       "             js_event_callbacks={},\n",
       "             js_property_callbacks={},\n",
       "             name=None,\n",
       "             subscribed_events=[],\n",
       "             tags=[]),\n",
       "         subscribed_events=[],\n",
       "         tags=[]),\n",
       "     glyph=bokeh.models.glyphs.VBar(\n",
       "         id='f42061bb-3388-4fc4-89fe-cbfaab300329',\n",
       "         bottom={'expr': bokeh.models.expressions.Stack(\n",
       "              id='d00b695e-dffa-466c-a21c-e5aae111fd89',\n",
       "              fields=('Red',),\n",
       "              js_event_callbacks={},\n",
       "              js_property_callbacks={},\n",
       "              name=None,\n",
       "              subscribed_events=[],\n",
       "              tags=[])},\n",
       "         fill_alpha={'value': 1.0},\n",
       "         fill_color={'value': '#F0E68C'},\n",
       "         js_event_callbacks={},\n",
       "         js_property_callbacks={},\n",
       "         line_alpha={'value': 1.0},\n",
       "         line_cap='butt',\n",
       "         line_color={'value': '#F0E68C'},\n",
       "         line_dash=[],\n",
       "         line_dash_offset=0,\n",
       "         line_join='bevel',\n",
       "         line_width={'value': 1},\n",
       "         name=None,\n",
       "         subscribed_events=[],\n",
       "         tags=[],\n",
       "         top={'expr': bokeh.models.expressions.Stack(\n",
       "              id='ad3938bd-8d9a-47a8-80a4-35f8a60c4f3c',\n",
       "              fields=('Red', 'White'),\n",
       "              js_event_callbacks={},\n",
       "              js_property_callbacks={},\n",
       "              name=None,\n",
       "              subscribed_events=[],\n",
       "              tags=[])},\n",
       "         width={'value': 0.5},\n",
       "         x={'field': 'Origin'}),\n",
       "     hover_glyph=None,\n",
       "     js_event_callbacks={},\n",
       "     js_property_callbacks={},\n",
       "     level='glyph',\n",
       "     muted=False,\n",
       "     muted_glyph=None,\n",
       "     name='White',\n",
       "     nonselection_glyph=bokeh.models.glyphs.VBar(\n",
       "         id='82e4b9ad-90d1-4828-8ce2-58332353bef5',\n",
       "         bottom={'expr': bokeh.models.expressions.Stack(\n",
       "              id='d00b695e-dffa-466c-a21c-e5aae111fd89',\n",
       "              fields=('Red',),\n",
       "              js_event_callbacks={},\n",
       "              js_property_callbacks={},\n",
       "              name=None,\n",
       "              subscribed_events=[],\n",
       "              tags=[])},\n",
       "         fill_alpha={'value': 0.1},\n",
       "         fill_color={'value': '#1f77b4'},\n",
       "         js_event_callbacks={},\n",
       "         js_property_callbacks={},\n",
       "         line_alpha={'value': 0.1},\n",
       "         line_cap='butt',\n",
       "         line_color={'value': '#1f77b4'},\n",
       "         line_dash=[],\n",
       "         line_dash_offset=0,\n",
       "         line_join='bevel',\n",
       "         line_width={'value': 1},\n",
       "         name=None,\n",
       "         subscribed_events=[],\n",
       "         tags=[],\n",
       "         top={'expr': bokeh.models.expressions.Stack(\n",
       "              id='ad3938bd-8d9a-47a8-80a4-35f8a60c4f3c',\n",
       "              fields=('Red', 'White'),\n",
       "              js_event_callbacks={},\n",
       "              js_property_callbacks={},\n",
       "              name=None,\n",
       "              subscribed_events=[],\n",
       "              tags=[])},\n",
       "         width={'value': 0.5},\n",
       "         x={'field': 'Origin'}),\n",
       "     selection_glyph=None,\n",
       "     subscribed_events=[],\n",
       "     tags=[],\n",
       "     view=bokeh.models.sources.CDSView(\n",
       "         id='b0d25a0e-ef21-4df5-971d-31362a4b86c6',\n",
       "         filters=[],\n",
       "         js_event_callbacks={},\n",
       "         js_property_callbacks={},\n",
       "         name=None,\n",
       "         source=bokeh.models.sources.ColumnDataSource(\n",
       "             id='3c3a702f-619a-4ceb-8910-15254f93c908',\n",
       "             callback=None,\n",
       "             data={'Sparkling': [1300, 900, 800, 1100, 600],\n",
       "              'Red': [2500, 2100, 1300, 2800, 1700],\n",
       "              'Origin': ['France', 'Italy', 'Australia', 'USA', 'Chile'],\n",
       "              'White': [2200, 2600, 1500, 2100, 1700]},\n",
       "             js_event_callbacks={},\n",
       "             js_property_callbacks={},\n",
       "             name=None,\n",
       "             selected=bokeh.models.selections.Selection(\n",
       "                 id='d5326b3f-1216-42b0-a014-ca470c2140d5',\n",
       "                 indices=[],\n",
       "                 js_event_callbacks={},\n",
       "                 js_property_callbacks={},\n",
       "                 line_indices=[],\n",
       "                 multiline_indices={},\n",
       "                 name=None,\n",
       "                 subscribed_events=[],\n",
       "                 tags=[]),\n",
       "             selection_policy=bokeh.models.selections.UnionRenderers(\n",
       "                 id='0c9ffdee-8db0-4dd9-8121-7ec07efb4c32',\n",
       "                 js_event_callbacks={},\n",
       "                 js_property_callbacks={},\n",
       "                 name=None,\n",
       "                 subscribed_events=[],\n",
       "                 tags=[]),\n",
       "             subscribed_events=[],\n",
       "             tags=[]),\n",
       "         subscribed_events=[],\n",
       "         tags=[]),\n",
       "     visible=True,\n",
       "     x_range_name='default',\n",
       "     y_range_name='default'),\n",
       " bokeh.models.renderers.GlyphRenderer(\n",
       "     id='d55b9f39-71dc-4093-a634-443ce47826c3',\n",
       "     data_source=bokeh.models.sources.ColumnDataSource(\n",
       "         id='2bf11127-461b-46fa-afa5-810ce775c94d',\n",
       "         callback=None,\n",
       "         data={'Sparkling': [1300, 900, 800, 1100, 600],\n",
       "          'Red': [2500, 2100, 1300, 2800, 1700],\n",
       "          'Origin': ['France', 'Italy', 'Australia', 'USA', 'Chile'],\n",
       "          'White': [2200, 2600, 1500, 2100, 1700]},\n",
       "         js_event_callbacks={},\n",
       "         js_property_callbacks={},\n",
       "         name=None,\n",
       "         selected=bokeh.models.selections.Selection(\n",
       "             id='2a0e2c16-54d9-48c2-b2f9-a084ed9464c6',\n",
       "             indices=[],\n",
       "             js_event_callbacks={},\n",
       "             js_property_callbacks={},\n",
       "             line_indices=[],\n",
       "             multiline_indices={},\n",
       "             name=None,\n",
       "             subscribed_events=[],\n",
       "             tags=[]),\n",
       "         selection_policy=bokeh.models.selections.UnionRenderers(\n",
       "             id='a8e286a8-d25f-400f-8e6c-c9bd29fa3e4b',\n",
       "             js_event_callbacks={},\n",
       "             js_property_callbacks={},\n",
       "             name=None,\n",
       "             subscribed_events=[],\n",
       "             tags=[]),\n",
       "         subscribed_events=[],\n",
       "         tags=[]),\n",
       "     glyph=bokeh.models.glyphs.VBar(\n",
       "         id='c1d31eb6-58df-477e-8d07-119d4acd3868',\n",
       "         bottom={'expr': bokeh.models.expressions.Stack(\n",
       "              id='99ab6ad0-0a99-4650-88aa-e7783beb7ecf',\n",
       "              fields=('Red', 'White'),\n",
       "              js_event_callbacks={},\n",
       "              js_property_callbacks={},\n",
       "              name=None,\n",
       "              subscribed_events=[],\n",
       "              tags=[])},\n",
       "         fill_alpha={'value': 1.0},\n",
       "         fill_color={'value': '#F7E7CE'},\n",
       "         js_event_callbacks={},\n",
       "         js_property_callbacks={},\n",
       "         line_alpha={'value': 1.0},\n",
       "         line_cap='butt',\n",
       "         line_color={'value': '#F7E7CE'},\n",
       "         line_dash=[],\n",
       "         line_dash_offset=0,\n",
       "         line_join='bevel',\n",
       "         line_width={'value': 1},\n",
       "         name=None,\n",
       "         subscribed_events=[],\n",
       "         tags=[],\n",
       "         top={'expr': bokeh.models.expressions.Stack(\n",
       "              id='783c9216-f66e-4b96-a98b-e4d26f3dd44a',\n",
       "              fields=('Red', 'White', 'Sparkling'),\n",
       "              js_event_callbacks={},\n",
       "              js_property_callbacks={},\n",
       "              name=None,\n",
       "              subscribed_events=[],\n",
       "              tags=[])},\n",
       "         width={'value': 0.5},\n",
       "         x={'field': 'Origin'}),\n",
       "     hover_glyph=None,\n",
       "     js_event_callbacks={},\n",
       "     js_property_callbacks={},\n",
       "     level='glyph',\n",
       "     muted=False,\n",
       "     muted_glyph=None,\n",
       "     name='Sparkling',\n",
       "     nonselection_glyph=bokeh.models.glyphs.VBar(\n",
       "         id='93ba6a2f-2ed9-4e7a-9240-f73b8e39fe34',\n",
       "         bottom={'expr': bokeh.models.expressions.Stack(\n",
       "              id='99ab6ad0-0a99-4650-88aa-e7783beb7ecf',\n",
       "              fields=('Red', 'White'),\n",
       "              js_event_callbacks={},\n",
       "              js_property_callbacks={},\n",
       "              name=None,\n",
       "              subscribed_events=[],\n",
       "              tags=[])},\n",
       "         fill_alpha={'value': 0.1},\n",
       "         fill_color={'value': '#1f77b4'},\n",
       "         js_event_callbacks={},\n",
       "         js_property_callbacks={},\n",
       "         line_alpha={'value': 0.1},\n",
       "         line_cap='butt',\n",
       "         line_color={'value': '#1f77b4'},\n",
       "         line_dash=[],\n",
       "         line_dash_offset=0,\n",
       "         line_join='bevel',\n",
       "         line_width={'value': 1},\n",
       "         name=None,\n",
       "         subscribed_events=[],\n",
       "         tags=[],\n",
       "         top={'expr': bokeh.models.expressions.Stack(\n",
       "              id='783c9216-f66e-4b96-a98b-e4d26f3dd44a',\n",
       "              fields=('Red', 'White', 'Sparkling'),\n",
       "              js_event_callbacks={},\n",
       "              js_property_callbacks={},\n",
       "              name=None,\n",
       "              subscribed_events=[],\n",
       "              tags=[])},\n",
       "         width={'value': 0.5},\n",
       "         x={'field': 'Origin'}),\n",
       "     selection_glyph=None,\n",
       "     subscribed_events=[],\n",
       "     tags=[],\n",
       "     view=bokeh.models.sources.CDSView(\n",
       "         id='d63c6690-a571-4b73-bfc8-5ec060104191',\n",
       "         filters=[],\n",
       "         js_event_callbacks={},\n",
       "         js_property_callbacks={},\n",
       "         name=None,\n",
       "         source=bokeh.models.sources.ColumnDataSource(\n",
       "             id='2bf11127-461b-46fa-afa5-810ce775c94d',\n",
       "             callback=None,\n",
       "             data={'Sparkling': [1300, 900, 800, 1100, 600],\n",
       "              'Red': [2500, 2100, 1300, 2800, 1700],\n",
       "              'Origin': ['France', 'Italy', 'Australia', 'USA', 'Chile'],\n",
       "              'White': [2200, 2600, 1500, 2100, 1700]},\n",
       "             js_event_callbacks={},\n",
       "             js_property_callbacks={},\n",
       "             name=None,\n",
       "             selected=bokeh.models.selections.Selection(\n",
       "                 id='2a0e2c16-54d9-48c2-b2f9-a084ed9464c6',\n",
       "                 indices=[],\n",
       "                 js_event_callbacks={},\n",
       "                 js_property_callbacks={},\n",
       "                 line_indices=[],\n",
       "                 multiline_indices={},\n",
       "                 name=None,\n",
       "                 subscribed_events=[],\n",
       "                 tags=[]),\n",
       "             selection_policy=bokeh.models.selections.UnionRenderers(\n",
       "                 id='a8e286a8-d25f-400f-8e6c-c9bd29fa3e4b',\n",
       "                 js_event_callbacks={},\n",
       "                 js_property_callbacks={},\n",
       "                 name=None,\n",
       "                 subscribed_events=[],\n",
       "                 tags=[]),\n",
       "             subscribed_events=[],\n",
       "             tags=[]),\n",
       "         subscribed_events=[],\n",
       "         tags=[]),\n",
       "     visible=True,\n",
       "     x_range_name='default',\n",
       "     y_range_name='default')]"
      ]
     },
     "execution_count": 20,
     "metadata": {},
     "output_type": "execute_result"
    }
   ],
   "source": [
    "p.vbar_stack(stackers = sales['Type'].unique(), \n",
    "             x = 'Origin', \n",
    "             width=0.5, \n",
    "             \n",
    "             source = data_source,\n",
    "             \n",
    "             color = wine_colors,\n",
    "             \n",
    "             legend = types_valuespec\n",
    "            )"
   ]
  },
  {
   "cell_type": "markdown",
   "metadata": {},
   "source": [
    "#### Place the legend on the plot\n",
    "* the orientation can be a vertical list or a horizontal one\n",
    "* the legend location can be one from a combination of (top, bottom) and (left, right)"
   ]
  },
  {
   "cell_type": "code",
   "execution_count": 21,
   "metadata": {},
   "outputs": [],
   "source": [
    "p.legend.orientation = 'vertical'\n",
    "p.legend.location = 'top_right'"
   ]
  },
  {
   "cell_type": "code",
   "execution_count": 22,
   "metadata": {},
   "outputs": [
    {
     "data": {
      "text/html": [
       "\n",
       "\n",
       "\n",
       "\n",
       "\n",
       "\n",
       "  <div class=\"bk-root\" id=\"22d920ad-3137-4320-a821-6c080354e39c\"></div>\n"
      ]
     },
     "metadata": {},
     "output_type": "display_data"
    },
    {
     "data": {
      "application/javascript": [
       "(function(root) {\n",
       "  function embed_document(root) {\n",
       "    \n",
       "  var docs_json = {\"fe8e045a-1e4f-40cf-b455-2beae545ab1b\":{\"roots\":{\"references\":[{\"attributes\":{\"source\":{\"id\":\"3c3a702f-619a-4ceb-8910-15254f93c908\",\"type\":\"ColumnDataSource\"}},\"id\":\"b0d25a0e-ef21-4df5-971d-31362a4b86c6\",\"type\":\"CDSView\"},{\"attributes\":{\"fields\":[\"Red\",\"White\",\"Sparkling\"]},\"id\":\"783c9216-f66e-4b96-a98b-e4d26f3dd44a\",\"type\":\"Stack\"},{\"attributes\":{\"bottom\":{\"expr\":{\"id\":\"015db738-326e-4c98-9060-bbc3b9285e94\",\"type\":\"Stack\"}},\"fill_color\":{\"value\":\"#800000\"},\"line_color\":{\"value\":\"#800000\"},\"top\":{\"expr\":{\"id\":\"af9e2d1a-ca75-4e10-99fe-d1908d61a3ab\",\"type\":\"Stack\"}},\"width\":{\"value\":0.5},\"x\":{\"field\":\"Origin\"}},\"id\":\"1ffb3630-f12e-4a5b-8847-4b3d68197c98\",\"type\":\"VBar\"},{\"attributes\":{\"bottom\":{\"expr\":{\"id\":\"99ab6ad0-0a99-4650-88aa-e7783beb7ecf\",\"type\":\"Stack\"}},\"fill_color\":{\"value\":\"#F7E7CE\"},\"line_color\":{\"value\":\"#F7E7CE\"},\"top\":{\"expr\":{\"id\":\"783c9216-f66e-4b96-a98b-e4d26f3dd44a\",\"type\":\"Stack\"}},\"width\":{\"value\":0.5},\"x\":{\"field\":\"Origin\"}},\"id\":\"c1d31eb6-58df-477e-8d07-119d4acd3868\",\"type\":\"VBar\"},{\"attributes\":{\"indices\":[],\"line_indices\":[]},\"id\":\"e4d84a9c-2508-4575-8614-6d177f018553\",\"type\":\"Selection\"},{\"attributes\":{\"callback\":null,\"end\":7000},\"id\":\"bcf59ec1-c151-4910-aa6a-cfea69507a58\",\"type\":\"Range1d\"},{\"attributes\":{},\"id\":\"c5fdef79-b3e4-4132-ac11-30b3900a6f6e\",\"type\":\"UnionRenderers\"},{\"attributes\":{},\"id\":\"dbabe262-c963-4032-98ca-781d9194cae3\",\"type\":\"BasicTickFormatter\"},{\"attributes\":{\"bottom\":{\"expr\":{\"id\":\"99ab6ad0-0a99-4650-88aa-e7783beb7ecf\",\"type\":\"Stack\"}},\"fill_alpha\":{\"value\":0.1},\"fill_color\":{\"value\":\"#1f77b4\"},\"line_alpha\":{\"value\":0.1},\"line_color\":{\"value\":\"#1f77b4\"},\"top\":{\"expr\":{\"id\":\"783c9216-f66e-4b96-a98b-e4d26f3dd44a\",\"type\":\"Stack\"}},\"width\":{\"value\":0.5},\"x\":{\"field\":\"Origin\"}},\"id\":\"93ba6a2f-2ed9-4e7a-9240-f73b8e39fe34\",\"type\":\"VBar\"},{\"attributes\":{\"items\":[{\"id\":\"1a95b865-7050-453d-91e1-ebd64bf2bf45\",\"type\":\"LegendItem\"},{\"id\":\"48ac5497-6adf-4f42-b0ce-859b6770a9e5\",\"type\":\"LegendItem\"},{\"id\":\"0faab704-9848-43bc-88cd-a24ef307d911\",\"type\":\"LegendItem\"}],\"plot\":{\"id\":\"a3a1673a-38d5-4c66-97db-80d2150c2335\",\"subtype\":\"Figure\",\"type\":\"Plot\"}},\"id\":\"dc33753a-4ea9-4a4e-be82-f9af4ac182af\",\"type\":\"Legend\"},{\"attributes\":{\"data_source\":{\"id\":\"3c3a702f-619a-4ceb-8910-15254f93c908\",\"type\":\"ColumnDataSource\"},\"glyph\":{\"id\":\"f42061bb-3388-4fc4-89fe-cbfaab300329\",\"type\":\"VBar\"},\"hover_glyph\":null,\"muted_glyph\":null,\"name\":\"White\",\"nonselection_glyph\":{\"id\":\"82e4b9ad-90d1-4828-8ce2-58332353bef5\",\"type\":\"VBar\"},\"selection_glyph\":null,\"view\":{\"id\":\"b0d25a0e-ef21-4df5-971d-31362a4b86c6\",\"type\":\"CDSView\"}},\"id\":\"8cba3284-f638-4285-af75-2a13dcd42f58\",\"type\":\"GlyphRenderer\"},{\"attributes\":{\"data_source\":{\"id\":\"2bf11127-461b-46fa-afa5-810ce775c94d\",\"type\":\"ColumnDataSource\"},\"glyph\":{\"id\":\"c1d31eb6-58df-477e-8d07-119d4acd3868\",\"type\":\"VBar\"},\"hover_glyph\":null,\"muted_glyph\":null,\"name\":\"Sparkling\",\"nonselection_glyph\":{\"id\":\"93ba6a2f-2ed9-4e7a-9240-f73b8e39fe34\",\"type\":\"VBar\"},\"selection_glyph\":null,\"view\":{\"id\":\"d63c6690-a571-4b73-bfc8-5ec060104191\",\"type\":\"CDSView\"}},\"id\":\"d55b9f39-71dc-4093-a634-443ce47826c3\",\"type\":\"GlyphRenderer\"},{\"attributes\":{\"source\":{\"id\":\"2bf11127-461b-46fa-afa5-810ce775c94d\",\"type\":\"ColumnDataSource\"}},\"id\":\"d63c6690-a571-4b73-bfc8-5ec060104191\",\"type\":\"CDSView\"},{\"attributes\":{\"bottom\":{\"expr\":{\"id\":\"d00b695e-dffa-466c-a21c-e5aae111fd89\",\"type\":\"Stack\"}},\"fill_color\":{\"value\":\"#F0E68C\"},\"line_color\":{\"value\":\"#F0E68C\"},\"top\":{\"expr\":{\"id\":\"ad3938bd-8d9a-47a8-80a4-35f8a60c4f3c\",\"type\":\"Stack\"}},\"width\":{\"value\":0.5},\"x\":{\"field\":\"Origin\"}},\"id\":\"f42061bb-3388-4fc4-89fe-cbfaab300329\",\"type\":\"VBar\"},{\"attributes\":{\"callback\":null,\"data\":{\"Origin\":[\"France\",\"Italy\",\"Australia\",\"USA\",\"Chile\"],\"Red\":[2500,2100,1300,2800,1700],\"Sparkling\":[1300,900,800,1100,600],\"White\":[2200,2600,1500,2100,1700]},\"selected\":{\"id\":\"d5326b3f-1216-42b0-a014-ca470c2140d5\",\"type\":\"Selection\"},\"selection_policy\":{\"id\":\"0c9ffdee-8db0-4dd9-8121-7ec07efb4c32\",\"type\":\"UnionRenderers\"}},\"id\":\"3c3a702f-619a-4ceb-8910-15254f93c908\",\"type\":\"ColumnDataSource\"},{\"attributes\":{\"indices\":[],\"line_indices\":[]},\"id\":\"d5326b3f-1216-42b0-a014-ca470c2140d5\",\"type\":\"Selection\"},{\"attributes\":{},\"id\":\"0c9ffdee-8db0-4dd9-8121-7ec07efb4c32\",\"type\":\"UnionRenderers\"},{\"attributes\":{},\"id\":\"a8e286a8-d25f-400f-8e6c-c9bd29fa3e4b\",\"type\":\"UnionRenderers\"},{\"attributes\":{\"label\":{\"value\":\"Sparkling\"},\"renderers\":[{\"id\":\"d55b9f39-71dc-4093-a634-443ce47826c3\",\"type\":\"GlyphRenderer\"}]},\"id\":\"0faab704-9848-43bc-88cd-a24ef307d911\",\"type\":\"LegendItem\"},{\"attributes\":{},\"id\":\"1a2ff2b6-a801-4565-80d6-4dc1d715f411\",\"type\":\"CategoricalTicker\"},{\"attributes\":{\"bottom\":{\"expr\":{\"id\":\"015db738-326e-4c98-9060-bbc3b9285e94\",\"type\":\"Stack\"}},\"fill_alpha\":{\"value\":0.1},\"fill_color\":{\"value\":\"#1f77b4\"},\"line_alpha\":{\"value\":0.1},\"line_color\":{\"value\":\"#1f77b4\"},\"top\":{\"expr\":{\"id\":\"af9e2d1a-ca75-4e10-99fe-d1908d61a3ab\",\"type\":\"Stack\"}},\"width\":{\"value\":0.5},\"x\":{\"field\":\"Origin\"}},\"id\":\"33aa1713-740a-4c19-95d3-6eaa9bf07039\",\"type\":\"VBar\"},{\"attributes\":{},\"id\":\"9569ffe3-badb-4b2c-9fa2-fad415ba4438\",\"type\":\"LinearScale\"},{\"attributes\":{},\"id\":\"17feecb9-bf66-40fe-91e7-1edeb2e19e86\",\"type\":\"CategoricalTickFormatter\"},{\"attributes\":{\"plot\":{\"id\":\"a3a1673a-38d5-4c66-97db-80d2150c2335\",\"subtype\":\"Figure\",\"type\":\"Plot\"},\"ticker\":{\"id\":\"1a2ff2b6-a801-4565-80d6-4dc1d715f411\",\"type\":\"CategoricalTicker\"}},\"id\":\"01e49f55-e50f-41b7-8fec-a063cdb8ee0f\",\"type\":\"Grid\"},{\"attributes\":{\"callback\":null,\"data\":{\"Origin\":[\"France\",\"Italy\",\"Australia\",\"USA\",\"Chile\"],\"Red\":[2500,2100,1300,2800,1700],\"Sparkling\":[1300,900,800,1100,600],\"White\":[2200,2600,1500,2100,1700]},\"selected\":{\"id\":\"2a0e2c16-54d9-48c2-b2f9-a084ed9464c6\",\"type\":\"Selection\"},\"selection_policy\":{\"id\":\"a8e286a8-d25f-400f-8e6c-c9bd29fa3e4b\",\"type\":\"UnionRenderers\"}},\"id\":\"2bf11127-461b-46fa-afa5-810ce775c94d\",\"type\":\"ColumnDataSource\"},{\"attributes\":{\"formatter\":{\"id\":\"17feecb9-bf66-40fe-91e7-1edeb2e19e86\",\"type\":\"CategoricalTickFormatter\"},\"plot\":{\"id\":\"a3a1673a-38d5-4c66-97db-80d2150c2335\",\"subtype\":\"Figure\",\"type\":\"Plot\"},\"ticker\":{\"id\":\"1a2ff2b6-a801-4565-80d6-4dc1d715f411\",\"type\":\"CategoricalTicker\"}},\"id\":\"45d5fa12-45b6-4dff-89db-cead4a148316\",\"type\":\"CategoricalAxis\"},{\"attributes\":{\"dimension\":1,\"plot\":{\"id\":\"a3a1673a-38d5-4c66-97db-80d2150c2335\",\"subtype\":\"Figure\",\"type\":\"Plot\"},\"ticker\":{\"id\":\"e4fdfb57-3b4f-4985-8945-8d7fa8eb5445\",\"type\":\"BasicTicker\"}},\"id\":\"63b1afc8-ebd8-4ddf-9491-1cd1ed098997\",\"type\":\"Grid\"},{\"attributes\":{\"plot\":null,\"text\":\"Wine Sales by Type and Year\"},\"id\":\"99fcf140-210f-496b-b91c-18b2dc9c157e\",\"type\":\"Title\"},{\"attributes\":{\"fields\":[\"Red\"]},\"id\":\"d00b695e-dffa-466c-a21c-e5aae111fd89\",\"type\":\"Stack\"},{\"attributes\":{\"formatter\":{\"id\":\"dbabe262-c963-4032-98ca-781d9194cae3\",\"type\":\"BasicTickFormatter\"},\"plot\":{\"id\":\"a3a1673a-38d5-4c66-97db-80d2150c2335\",\"subtype\":\"Figure\",\"type\":\"Plot\"},\"ticker\":{\"id\":\"e4fdfb57-3b4f-4985-8945-8d7fa8eb5445\",\"type\":\"BasicTicker\"}},\"id\":\"46359634-1f2d-48a1-a750-a9a034ea5d6a\",\"type\":\"LinearAxis\"},{\"attributes\":{\"fields\":[]},\"id\":\"015db738-326e-4c98-9060-bbc3b9285e94\",\"type\":\"Stack\"},{\"attributes\":{\"data_source\":{\"id\":\"383781e5-3896-454b-90c1-b4b50b8fabbb\",\"type\":\"ColumnDataSource\"},\"glyph\":{\"id\":\"1ffb3630-f12e-4a5b-8847-4b3d68197c98\",\"type\":\"VBar\"},\"hover_glyph\":null,\"muted_glyph\":null,\"name\":\"Red\",\"nonselection_glyph\":{\"id\":\"33aa1713-740a-4c19-95d3-6eaa9bf07039\",\"type\":\"VBar\"},\"selection_glyph\":null,\"view\":{\"id\":\"753922c6-d3e9-43ce-90ab-a1a5712710bd\",\"type\":\"CDSView\"}},\"id\":\"c155a40f-0fd7-4ca4-9157-851901949812\",\"type\":\"GlyphRenderer\"},{\"attributes\":{},\"id\":\"1f321682-f526-4b4d-916c-db85d70ef7ca\",\"type\":\"HelpTool\"},{\"attributes\":{\"callback\":null,\"data\":{\"Origin\":[\"France\",\"Italy\",\"Australia\",\"USA\",\"Chile\"],\"Red\":[2500,2100,1300,2800,1700],\"Sparkling\":[1300,900,800,1100,600],\"White\":[2200,2600,1500,2100,1700]},\"selected\":{\"id\":\"e4d84a9c-2508-4575-8614-6d177f018553\",\"type\":\"Selection\"},\"selection_policy\":{\"id\":\"c5fdef79-b3e4-4132-ac11-30b3900a6f6e\",\"type\":\"UnionRenderers\"}},\"id\":\"383781e5-3896-454b-90c1-b4b50b8fabbb\",\"type\":\"ColumnDataSource\"},{\"attributes\":{\"bottom\":{\"expr\":{\"id\":\"d00b695e-dffa-466c-a21c-e5aae111fd89\",\"type\":\"Stack\"}},\"fill_alpha\":{\"value\":0.1},\"fill_color\":{\"value\":\"#1f77b4\"},\"line_alpha\":{\"value\":0.1},\"line_color\":{\"value\":\"#1f77b4\"},\"top\":{\"expr\":{\"id\":\"ad3938bd-8d9a-47a8-80a4-35f8a60c4f3c\",\"type\":\"Stack\"}},\"width\":{\"value\":0.5},\"x\":{\"field\":\"Origin\"}},\"id\":\"82e4b9ad-90d1-4828-8ce2-58332353bef5\",\"type\":\"VBar\"},{\"attributes\":{},\"id\":\"775af19a-d815-4d14-9442-089dce111305\",\"type\":\"PanTool\"},{\"attributes\":{\"indices\":[],\"line_indices\":[]},\"id\":\"2a0e2c16-54d9-48c2-b2f9-a084ed9464c6\",\"type\":\"Selection\"},{\"attributes\":{},\"id\":\"2d336892-e85d-4157-aec4-d6e53e54507b\",\"type\":\"CategoricalScale\"},{\"attributes\":{\"fields\":[\"Red\",\"White\"]},\"id\":\"99ab6ad0-0a99-4650-88aa-e7783beb7ecf\",\"type\":\"Stack\"},{\"attributes\":{\"below\":[{\"id\":\"45d5fa12-45b6-4dff-89db-cead4a148316\",\"type\":\"CategoricalAxis\"}],\"left\":[{\"id\":\"46359634-1f2d-48a1-a750-a9a034ea5d6a\",\"type\":\"LinearAxis\"}],\"plot_height\":300,\"renderers\":[{\"id\":\"45d5fa12-45b6-4dff-89db-cead4a148316\",\"type\":\"CategoricalAxis\"},{\"id\":\"01e49f55-e50f-41b7-8fec-a063cdb8ee0f\",\"type\":\"Grid\"},{\"id\":\"46359634-1f2d-48a1-a750-a9a034ea5d6a\",\"type\":\"LinearAxis\"},{\"id\":\"63b1afc8-ebd8-4ddf-9491-1cd1ed098997\",\"type\":\"Grid\"},{\"id\":\"e34a04eb-386d-4107-a704-eb89e6fa73f2\",\"type\":\"BoxAnnotation\"},{\"id\":\"dc33753a-4ea9-4a4e-be82-f9af4ac182af\",\"type\":\"Legend\"},{\"id\":\"c155a40f-0fd7-4ca4-9157-851901949812\",\"type\":\"GlyphRenderer\"},{\"id\":\"8cba3284-f638-4285-af75-2a13dcd42f58\",\"type\":\"GlyphRenderer\"},{\"id\":\"d55b9f39-71dc-4093-a634-443ce47826c3\",\"type\":\"GlyphRenderer\"}],\"title\":{\"id\":\"99fcf140-210f-496b-b91c-18b2dc9c157e\",\"type\":\"Title\"},\"toolbar\":{\"id\":\"63ab5964-1e86-4a73-845f-0887680a8932\",\"type\":\"Toolbar\"},\"x_range\":{\"id\":\"758a1e92-cc8c-42b5-8934-12257728b317\",\"type\":\"FactorRange\"},\"x_scale\":{\"id\":\"2d336892-e85d-4157-aec4-d6e53e54507b\",\"type\":\"CategoricalScale\"},\"y_range\":{\"id\":\"bcf59ec1-c151-4910-aa6a-cfea69507a58\",\"type\":\"Range1d\"},\"y_scale\":{\"id\":\"9569ffe3-badb-4b2c-9fa2-fad415ba4438\",\"type\":\"LinearScale\"}},\"id\":\"a3a1673a-38d5-4c66-97db-80d2150c2335\",\"subtype\":\"Figure\",\"type\":\"Plot\"},{\"attributes\":{\"label\":{\"value\":\"White\"},\"renderers\":[{\"id\":\"8cba3284-f638-4285-af75-2a13dcd42f58\",\"type\":\"GlyphRenderer\"}]},\"id\":\"48ac5497-6adf-4f42-b0ce-859b6770a9e5\",\"type\":\"LegendItem\"},{\"attributes\":{},\"id\":\"010c467a-00e7-4f96-a944-d8aa4f33c4d2\",\"type\":\"WheelZoomTool\"},{\"attributes\":{\"overlay\":{\"id\":\"e34a04eb-386d-4107-a704-eb89e6fa73f2\",\"type\":\"BoxAnnotation\"}},\"id\":\"105604c8-7077-41e6-b35f-c037e32ddd20\",\"type\":\"BoxZoomTool\"},{\"attributes\":{\"label\":{\"value\":\"Red\"},\"renderers\":[{\"id\":\"c155a40f-0fd7-4ca4-9157-851901949812\",\"type\":\"GlyphRenderer\"}]},\"id\":\"1a95b865-7050-453d-91e1-ebd64bf2bf45\",\"type\":\"LegendItem\"},{\"attributes\":{},\"id\":\"4f6b84db-1b42-4cea-87fa-fd6435487a99\",\"type\":\"SaveTool\"},{\"attributes\":{\"source\":{\"id\":\"383781e5-3896-454b-90c1-b4b50b8fabbb\",\"type\":\"ColumnDataSource\"}},\"id\":\"753922c6-d3e9-43ce-90ab-a1a5712710bd\",\"type\":\"CDSView\"},{\"attributes\":{},\"id\":\"96ff8f2a-fcb1-44ba-bd7b-dd9300e9f7ee\",\"type\":\"ResetTool\"},{\"attributes\":{\"callback\":null,\"factors\":[\"France\",\"Italy\",\"Australia\",\"USA\",\"Chile\"]},\"id\":\"758a1e92-cc8c-42b5-8934-12257728b317\",\"type\":\"FactorRange\"},{\"attributes\":{},\"id\":\"e4fdfb57-3b4f-4985-8945-8d7fa8eb5445\",\"type\":\"BasicTicker\"},{\"attributes\":{\"fields\":[\"Red\"]},\"id\":\"af9e2d1a-ca75-4e10-99fe-d1908d61a3ab\",\"type\":\"Stack\"},{\"attributes\":{\"fields\":[\"Red\",\"White\"]},\"id\":\"ad3938bd-8d9a-47a8-80a4-35f8a60c4f3c\",\"type\":\"Stack\"},{\"attributes\":{\"active_drag\":\"auto\",\"active_inspect\":\"auto\",\"active_multi\":null,\"active_scroll\":\"auto\",\"active_tap\":\"auto\",\"tools\":[{\"id\":\"775af19a-d815-4d14-9442-089dce111305\",\"type\":\"PanTool\"},{\"id\":\"010c467a-00e7-4f96-a944-d8aa4f33c4d2\",\"type\":\"WheelZoomTool\"},{\"id\":\"105604c8-7077-41e6-b35f-c037e32ddd20\",\"type\":\"BoxZoomTool\"},{\"id\":\"4f6b84db-1b42-4cea-87fa-fd6435487a99\",\"type\":\"SaveTool\"},{\"id\":\"96ff8f2a-fcb1-44ba-bd7b-dd9300e9f7ee\",\"type\":\"ResetTool\"},{\"id\":\"1f321682-f526-4b4d-916c-db85d70ef7ca\",\"type\":\"HelpTool\"}]},\"id\":\"63ab5964-1e86-4a73-845f-0887680a8932\",\"type\":\"Toolbar\"},{\"attributes\":{\"bottom_units\":\"screen\",\"fill_alpha\":{\"value\":0.5},\"fill_color\":{\"value\":\"lightgrey\"},\"left_units\":\"screen\",\"level\":\"overlay\",\"line_alpha\":{\"value\":1.0},\"line_color\":{\"value\":\"black\"},\"line_dash\":[4,4],\"line_width\":{\"value\":2},\"plot\":null,\"render_mode\":\"css\",\"right_units\":\"screen\",\"top_units\":\"screen\"},\"id\":\"e34a04eb-386d-4107-a704-eb89e6fa73f2\",\"type\":\"BoxAnnotation\"}],\"root_ids\":[\"a3a1673a-38d5-4c66-97db-80d2150c2335\"]},\"title\":\"Bokeh Application\",\"version\":\"0.13.0\"}};\n",
       "  var render_items = [{\"docid\":\"fe8e045a-1e4f-40cf-b455-2beae545ab1b\",\"roots\":{\"a3a1673a-38d5-4c66-97db-80d2150c2335\":\"22d920ad-3137-4320-a821-6c080354e39c\"}}];\n",
       "  root.Bokeh.embed.embed_items_notebook(docs_json, render_items);\n",
       "\n",
       "  }\n",
       "  if (root.Bokeh !== undefined) {\n",
       "    embed_document(root);\n",
       "  } else {\n",
       "    var attempts = 0;\n",
       "    var timer = setInterval(function(root) {\n",
       "      if (root.Bokeh !== undefined) {\n",
       "        embed_document(root);\n",
       "        clearInterval(timer);\n",
       "      }\n",
       "      attempts++;\n",
       "      if (attempts > 100) {\n",
       "        console.log(\"Bokeh: ERROR: Unable to run BokehJS code because BokehJS library is missing\")\n",
       "        clearInterval(timer);\n",
       "      }\n",
       "    }, 10, root)\n",
       "  }\n",
       "})(window);"
      ],
      "application/vnd.bokehjs_exec.v0+json": ""
     },
     "metadata": {
      "application/vnd.bokehjs_exec.v0+json": {
       "id": "a3a1673a-38d5-4c66-97db-80d2150c2335"
      }
     },
     "output_type": "display_data"
    }
   ],
   "source": [
    "show(p)"
   ]
  },
  {
   "cell_type": "code",
   "execution_count": null,
   "metadata": {},
   "outputs": [],
   "source": []
  }
 ],
 "metadata": {
  "kernelspec": {
   "display_name": "Python 3",
   "language": "python",
   "name": "python3"
  },
  "language_info": {
   "codemirror_mode": {
    "name": "ipython",
    "version": 3
   },
   "file_extension": ".py",
   "mimetype": "text/x-python",
   "name": "python",
   "nbconvert_exporter": "python",
   "pygments_lexer": "ipython3",
   "version": "3.6.4"
  }
 },
 "nbformat": 4,
 "nbformat_minor": 2
}
