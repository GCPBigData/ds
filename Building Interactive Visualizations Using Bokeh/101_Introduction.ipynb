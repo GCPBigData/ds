{
 "cells": [
  {
   "cell_type": "markdown",
   "metadata": {},
   "source": [
    "# Bokeh\n",
    "Bokeh is an interactive web plotting tool for Python. Here are some useful resources: <br />\n",
    "<b>User guide: </b>https://bokeh.pydata.org/en/latest/docs/user_guide.html <br />\n",
    "<b>Bokeh reference: </b>https://bokeh.pydata.org/en/latest/docs/reference.html <br />\n",
    "<b>Source code: </b>https://github.com/bokeh/bokeh "
   ]
  },
  {
   "cell_type": "markdown",
   "metadata": {},
   "source": [
    "#### Install Bokeh using pip"
   ]
  },
  {
   "cell_type": "code",
   "execution_count": 1,
   "metadata": {},
   "outputs": [
    {
     "name": "stdout",
     "output_type": "stream",
     "text": [
      "Requirement already up-to-date: bokeh in /anaconda3/lib/python3.6/site-packages (0.13.0)\n",
      "Requirement not upgraded as not directly required: Jinja2>=2.7 in /anaconda3/lib/python3.6/site-packages (from bokeh) (2.10)\n",
      "Requirement not upgraded as not directly required: numpy>=1.7.1 in /anaconda3/lib/python3.6/site-packages (from bokeh) (1.14.3)\n",
      "Requirement not upgraded as not directly required: tornado>=4.3 in /anaconda3/lib/python3.6/site-packages (from bokeh) (5.0.2)\n",
      "Requirement not upgraded as not directly required: PyYAML>=3.10 in /anaconda3/lib/python3.6/site-packages (from bokeh) (3.12)\n",
      "Requirement not upgraded as not directly required: six>=1.5.2 in /anaconda3/lib/python3.6/site-packages (from bokeh) (1.11.0)\n",
      "Requirement not upgraded as not directly required: python-dateutil>=2.1 in /anaconda3/lib/python3.6/site-packages (from bokeh) (2.7.3)\n",
      "Requirement not upgraded as not directly required: packaging>=16.8 in /anaconda3/lib/python3.6/site-packages (from bokeh) (17.1)\n",
      "Requirement not upgraded as not directly required: MarkupSafe>=0.23 in /anaconda3/lib/python3.6/site-packages (from Jinja2>=2.7->bokeh) (1.0)\n",
      "Requirement not upgraded as not directly required: pyparsing>=2.0.2 in /anaconda3/lib/python3.6/site-packages (from packaging>=16.8->bokeh) (2.2.0)\n",
      "\u001b[31mdistributed 1.21.8 requires msgpack, which is not installed.\u001b[0m\n"
     ]
    }
   ],
   "source": [
    "! pip install bokeh --upgrade"
   ]
  },
  {
   "cell_type": "markdown",
   "metadata": {},
   "source": [
    "#### Check the Bokeh version"
   ]
  },
  {
   "cell_type": "code",
   "execution_count": 2,
   "metadata": {},
   "outputs": [
    {
     "data": {
      "text/plain": [
       "'0.13.0'"
      ]
     },
     "execution_count": 2,
     "metadata": {},
     "output_type": "execute_result"
    }
   ],
   "source": [
    "import bokeh\n",
    "\n",
    "bokeh.__version__"
   ]
  },
  {
   "cell_type": "markdown",
   "metadata": {},
   "source": [
    "### Plotting a line\n",
    "We start off by plotting a simple line. The x and y coordinates of the points which make up the line are specified here in two lists. The points will be (1,7), (2,5) etc."
   ]
  },
  {
   "cell_type": "code",
   "execution_count": 3,
   "metadata": {},
   "outputs": [],
   "source": [
    "x = [1, 2, 3, 4, 5]\n",
    "y = [6, 5, 4, 6, 5]"
   ]
  },
  {
   "cell_type": "markdown",
   "metadata": {},
   "source": [
    "#### A Bokeh figure\n",
    "Each plot in Bokeh is a figure object. We import the figure first"
   ]
  },
  {
   "cell_type": "code",
   "execution_count": 4,
   "metadata": {},
   "outputs": [],
   "source": [
    "from bokeh.plotting import figure"
   ]
  },
  {
   "cell_type": "markdown",
   "metadata": {},
   "source": [
    "#### Declare a figure\n",
    "The plot width and height are optional arguments. We set these properties here as the default values (closer to 800x800) are rather large and may not fit on the screen"
   ]
  },
  {
   "cell_type": "code",
   "execution_count": 5,
   "metadata": {},
   "outputs": [],
   "source": [
    "p = figure(plot_width=600, \n",
    "           plot_height=300)"
   ]
  },
  {
   "cell_type": "markdown",
   "metadata": {},
   "source": [
    "#### Plot a line in the figure\n",
    "The figure includes several functions to draw different kinds of graphical objects - glyphs in Bokeh terminology. A full list of these glyphs can be found here: <br />\n",
    "https://bokeh.pydata.org/en/latest/docs/reference/plotting.html\n",
    "\n",
    "In our example, the glyph we create is a line. Note that this produces a GlyphRenderer object."
   ]
  },
  {
   "cell_type": "code",
   "execution_count": 6,
   "metadata": {},
   "outputs": [
    {
     "data": {
      "text/html": [
       "<div style=\"display: table;\"><div style=\"display: table-row;\"><div style=\"display: table-cell;\"><b title=\"bokeh.models.renderers.GlyphRenderer\">GlyphRenderer</b>(</div><div style=\"display: table-cell;\">id&nbsp;=&nbsp;'6451fadf-f641-4338-b2a4-0c6372ddca06', <span id=\"6c9e54a3-b2d3-4794-b89a-97e77f28ad7d\" style=\"cursor: pointer;\">&hellip;)</span></div></div><div class=\"f823408c-13ca-4260-b479-8be7cb8a8cf1\" style=\"display: none;\"><div style=\"display: table-cell;\"></div><div style=\"display: table-cell;\">data_source&nbsp;=&nbsp;ColumnDataSource(id='70d81f88-5838-40b0-ba04-6760a0dbf015', ...),</div></div><div class=\"f823408c-13ca-4260-b479-8be7cb8a8cf1\" style=\"display: none;\"><div style=\"display: table-cell;\"></div><div style=\"display: table-cell;\">glyph&nbsp;=&nbsp;Line(id='d68bb506-7b2f-4108-9ce5-8b0b0c55aced', ...),</div></div><div class=\"f823408c-13ca-4260-b479-8be7cb8a8cf1\" style=\"display: none;\"><div style=\"display: table-cell;\"></div><div style=\"display: table-cell;\">hover_glyph&nbsp;=&nbsp;None,</div></div><div class=\"f823408c-13ca-4260-b479-8be7cb8a8cf1\" style=\"display: none;\"><div style=\"display: table-cell;\"></div><div style=\"display: table-cell;\">js_event_callbacks&nbsp;=&nbsp;{},</div></div><div class=\"f823408c-13ca-4260-b479-8be7cb8a8cf1\" style=\"display: none;\"><div style=\"display: table-cell;\"></div><div style=\"display: table-cell;\">js_property_callbacks&nbsp;=&nbsp;{},</div></div><div class=\"f823408c-13ca-4260-b479-8be7cb8a8cf1\" style=\"display: none;\"><div style=\"display: table-cell;\"></div><div style=\"display: table-cell;\">level&nbsp;=&nbsp;'glyph',</div></div><div class=\"f823408c-13ca-4260-b479-8be7cb8a8cf1\" style=\"display: none;\"><div style=\"display: table-cell;\"></div><div style=\"display: table-cell;\">muted&nbsp;=&nbsp;False,</div></div><div class=\"f823408c-13ca-4260-b479-8be7cb8a8cf1\" style=\"display: none;\"><div style=\"display: table-cell;\"></div><div style=\"display: table-cell;\">muted_glyph&nbsp;=&nbsp;None,</div></div><div class=\"f823408c-13ca-4260-b479-8be7cb8a8cf1\" style=\"display: none;\"><div style=\"display: table-cell;\"></div><div style=\"display: table-cell;\">name&nbsp;=&nbsp;None,</div></div><div class=\"f823408c-13ca-4260-b479-8be7cb8a8cf1\" style=\"display: none;\"><div style=\"display: table-cell;\"></div><div style=\"display: table-cell;\">nonselection_glyph&nbsp;=&nbsp;Line(id='a5af1422-0f77-4b36-8a53-4f5a87a78a08', ...),</div></div><div class=\"f823408c-13ca-4260-b479-8be7cb8a8cf1\" style=\"display: none;\"><div style=\"display: table-cell;\"></div><div style=\"display: table-cell;\">selection_glyph&nbsp;=&nbsp;None,</div></div><div class=\"f823408c-13ca-4260-b479-8be7cb8a8cf1\" style=\"display: none;\"><div style=\"display: table-cell;\"></div><div style=\"display: table-cell;\">subscribed_events&nbsp;=&nbsp;[],</div></div><div class=\"f823408c-13ca-4260-b479-8be7cb8a8cf1\" style=\"display: none;\"><div style=\"display: table-cell;\"></div><div style=\"display: table-cell;\">tags&nbsp;=&nbsp;[],</div></div><div class=\"f823408c-13ca-4260-b479-8be7cb8a8cf1\" style=\"display: none;\"><div style=\"display: table-cell;\"></div><div style=\"display: table-cell;\">view&nbsp;=&nbsp;CDSView(id='7d38b26e-c3ef-437c-bed7-f612fa5124af', ...),</div></div><div class=\"f823408c-13ca-4260-b479-8be7cb8a8cf1\" style=\"display: none;\"><div style=\"display: table-cell;\"></div><div style=\"display: table-cell;\">visible&nbsp;=&nbsp;True,</div></div><div class=\"f823408c-13ca-4260-b479-8be7cb8a8cf1\" style=\"display: none;\"><div style=\"display: table-cell;\"></div><div style=\"display: table-cell;\">x_range_name&nbsp;=&nbsp;'default',</div></div><div class=\"f823408c-13ca-4260-b479-8be7cb8a8cf1\" style=\"display: none;\"><div style=\"display: table-cell;\"></div><div style=\"display: table-cell;\">y_range_name&nbsp;=&nbsp;'default')</div></div></div>\n",
       "<script>\n",
       "(function() {\n",
       "  var expanded = false;\n",
       "  var ellipsis = document.getElementById(\"6c9e54a3-b2d3-4794-b89a-97e77f28ad7d\");\n",
       "  ellipsis.addEventListener(\"click\", function() {\n",
       "    var rows = document.getElementsByClassName(\"f823408c-13ca-4260-b479-8be7cb8a8cf1\");\n",
       "    for (var i = 0; i < rows.length; i++) {\n",
       "      var el = rows[i];\n",
       "      el.style.display = expanded ? \"none\" : \"table-row\";\n",
       "    }\n",
       "    ellipsis.innerHTML = expanded ? \"&hellip;)\" : \"&lsaquo;&lsaquo;&lsaquo;\";\n",
       "    expanded = !expanded;\n",
       "  });\n",
       "})();\n",
       "</script>\n"
      ],
      "text/plain": [
       "bokeh.models.renderers.GlyphRenderer(\n",
       "    id='6451fadf-f641-4338-b2a4-0c6372ddca06',\n",
       "    data_source=bokeh.models.sources.ColumnDataSource(\n",
       "        id='70d81f88-5838-40b0-ba04-6760a0dbf015',\n",
       "        callback=None,\n",
       "        data={'y': [6, 5, 4, 6, 5], 'x': [1, 2, 3, 4, 5]},\n",
       "        js_event_callbacks={},\n",
       "        js_property_callbacks={},\n",
       "        name=None,\n",
       "        selected=bokeh.models.selections.Selection(\n",
       "            id='b12564d6-d7d2-4422-a808-fc064cbe552d',\n",
       "            indices=[],\n",
       "            js_event_callbacks={},\n",
       "            js_property_callbacks={},\n",
       "            line_indices=[],\n",
       "            multiline_indices={},\n",
       "            name=None,\n",
       "            subscribed_events=[],\n",
       "            tags=[]),\n",
       "        selection_policy=bokeh.models.selections.UnionRenderers(\n",
       "            id='7ade3549-438b-4c43-855a-aef6f405ae1f',\n",
       "            js_event_callbacks={},\n",
       "            js_property_callbacks={},\n",
       "            name=None,\n",
       "            subscribed_events=[],\n",
       "            tags=[]),\n",
       "        subscribed_events=[],\n",
       "        tags=[]),\n",
       "    glyph=bokeh.models.glyphs.Line(\n",
       "        id='d68bb506-7b2f-4108-9ce5-8b0b0c55aced',\n",
       "        js_event_callbacks={},\n",
       "        js_property_callbacks={},\n",
       "        line_alpha=1.0,\n",
       "        line_cap='butt',\n",
       "        line_color='#1f77b4',\n",
       "        line_dash=[],\n",
       "        line_dash_offset=0,\n",
       "        line_join='bevel',\n",
       "        line_width=1,\n",
       "        name=None,\n",
       "        subscribed_events=[],\n",
       "        tags=[],\n",
       "        x={'field': 'x'},\n",
       "        y={'field': 'y'}),\n",
       "    hover_glyph=None,\n",
       "    js_event_callbacks={},\n",
       "    js_property_callbacks={},\n",
       "    level='glyph',\n",
       "    muted=False,\n",
       "    muted_glyph=None,\n",
       "    name=None,\n",
       "    nonselection_glyph=bokeh.models.glyphs.Line(\n",
       "        id='a5af1422-0f77-4b36-8a53-4f5a87a78a08',\n",
       "        js_event_callbacks={},\n",
       "        js_property_callbacks={},\n",
       "        line_alpha=0.1,\n",
       "        line_cap='butt',\n",
       "        line_color='#1f77b4',\n",
       "        line_dash=[],\n",
       "        line_dash_offset=0,\n",
       "        line_join='bevel',\n",
       "        line_width=1,\n",
       "        name=None,\n",
       "        subscribed_events=[],\n",
       "        tags=[],\n",
       "        x={'field': 'x'},\n",
       "        y={'field': 'y'}),\n",
       "    selection_glyph=None,\n",
       "    subscribed_events=[],\n",
       "    tags=[],\n",
       "    view=bokeh.models.sources.CDSView(\n",
       "        id='7d38b26e-c3ef-437c-bed7-f612fa5124af',\n",
       "        filters=[],\n",
       "        js_event_callbacks={},\n",
       "        js_property_callbacks={},\n",
       "        name=None,\n",
       "        source=bokeh.models.sources.ColumnDataSource(\n",
       "            id='70d81f88-5838-40b0-ba04-6760a0dbf015',\n",
       "            callback=None,\n",
       "            data={'y': [6, 5, 4, 6, 5], 'x': [1, 2, 3, 4, 5]},\n",
       "            js_event_callbacks={},\n",
       "            js_property_callbacks={},\n",
       "            name=None,\n",
       "            selected=bokeh.models.selections.Selection(\n",
       "                id='b12564d6-d7d2-4422-a808-fc064cbe552d',\n",
       "                indices=[],\n",
       "                js_event_callbacks={},\n",
       "                js_property_callbacks={},\n",
       "                line_indices=[],\n",
       "                multiline_indices={},\n",
       "                name=None,\n",
       "                subscribed_events=[],\n",
       "                tags=[]),\n",
       "            selection_policy=bokeh.models.selections.UnionRenderers(\n",
       "                id='7ade3549-438b-4c43-855a-aef6f405ae1f',\n",
       "                js_event_callbacks={},\n",
       "                js_property_callbacks={},\n",
       "                name=None,\n",
       "                subscribed_events=[],\n",
       "                tags=[]),\n",
       "            subscribed_events=[],\n",
       "            tags=[]),\n",
       "        subscribed_events=[],\n",
       "        tags=[]),\n",
       "    visible=True,\n",
       "    x_range_name='default',\n",
       "    y_range_name='default')"
      ]
     },
     "execution_count": 6,
     "metadata": {},
     "output_type": "execute_result"
    }
   ],
   "source": [
    "p.line(x, y)"
   ]
  },
  {
   "cell_type": "markdown",
   "metadata": {},
   "source": [
    "#### Import the show function to view the figure\n",
    "This is what will render the plot"
   ]
  },
  {
   "cell_type": "code",
   "execution_count": 7,
   "metadata": {},
   "outputs": [],
   "source": [
    "from bokeh.io import show"
   ]
  },
  {
   "cell_type": "markdown",
   "metadata": {},
   "source": [
    "#### Running show() will display the plot in a browser tab\n",
    "This is because the default behaviour is to save the figure in an html file and then open it"
   ]
  },
  {
   "cell_type": "code",
   "execution_count": 8,
   "metadata": {},
   "outputs": [],
   "source": [
    "show(p)"
   ]
  },
  {
   "cell_type": "markdown",
   "metadata": {},
   "source": [
    "#### Import the output_notebook function\n",
    "This will configure the default output state to generate output in notebook cells when show() is called"
   ]
  },
  {
   "cell_type": "code",
   "execution_count": 9,
   "metadata": {},
   "outputs": [],
   "source": [
    "from bokeh.io import output_notebook"
   ]
  },
  {
   "cell_type": "markdown",
   "metadata": {},
   "source": [
    "#### Run output_notebook()"
   ]
  },
  {
   "cell_type": "code",
   "execution_count": 10,
   "metadata": {},
   "outputs": [
    {
     "data": {
      "text/html": [
       "\n",
       "    <div class=\"bk-root\">\n",
       "        <a href=\"https://bokeh.pydata.org\" target=\"_blank\" class=\"bk-logo bk-logo-small bk-logo-notebook\"></a>\n",
       "        <span id=\"e9e41e07-236f-4de5-bf60-b36973f0280e\">Loading BokehJS ...</span>\n",
       "    </div>"
      ]
     },
     "metadata": {},
     "output_type": "display_data"
    },
    {
     "data": {
      "application/javascript": [
       "\n",
       "(function(root) {\n",
       "  function now() {\n",
       "    return new Date();\n",
       "  }\n",
       "\n",
       "  var force = true;\n",
       "\n",
       "  if (typeof (root._bokeh_onload_callbacks) === \"undefined\" || force === true) {\n",
       "    root._bokeh_onload_callbacks = [];\n",
       "    root._bokeh_is_loading = undefined;\n",
       "  }\n",
       "\n",
       "  var JS_MIME_TYPE = 'application/javascript';\n",
       "  var HTML_MIME_TYPE = 'text/html';\n",
       "  var EXEC_MIME_TYPE = 'application/vnd.bokehjs_exec.v0+json';\n",
       "  var CLASS_NAME = 'output_bokeh rendered_html';\n",
       "\n",
       "  /**\n",
       "   * Render data to the DOM node\n",
       "   */\n",
       "  function render(props, node) {\n",
       "    var script = document.createElement(\"script\");\n",
       "    node.appendChild(script);\n",
       "  }\n",
       "\n",
       "  /**\n",
       "   * Handle when an output is cleared or removed\n",
       "   */\n",
       "  function handleClearOutput(event, handle) {\n",
       "    var cell = handle.cell;\n",
       "\n",
       "    var id = cell.output_area._bokeh_element_id;\n",
       "    var server_id = cell.output_area._bokeh_server_id;\n",
       "    // Clean up Bokeh references\n",
       "    if (id != null && id in Bokeh.index) {\n",
       "      Bokeh.index[id].model.document.clear();\n",
       "      delete Bokeh.index[id];\n",
       "    }\n",
       "\n",
       "    if (server_id !== undefined) {\n",
       "      // Clean up Bokeh references\n",
       "      var cmd = \"from bokeh.io.state import curstate; print(curstate().uuid_to_server['\" + server_id + \"'].get_sessions()[0].document.roots[0]._id)\";\n",
       "      cell.notebook.kernel.execute(cmd, {\n",
       "        iopub: {\n",
       "          output: function(msg) {\n",
       "            var id = msg.content.text.trim();\n",
       "            if (id in Bokeh.index) {\n",
       "              Bokeh.index[id].model.document.clear();\n",
       "              delete Bokeh.index[id];\n",
       "            }\n",
       "          }\n",
       "        }\n",
       "      });\n",
       "      // Destroy server and session\n",
       "      var cmd = \"import bokeh.io.notebook as ion; ion.destroy_server('\" + server_id + \"')\";\n",
       "      cell.notebook.kernel.execute(cmd);\n",
       "    }\n",
       "  }\n",
       "\n",
       "  /**\n",
       "   * Handle when a new output is added\n",
       "   */\n",
       "  function handleAddOutput(event, handle) {\n",
       "    var output_area = handle.output_area;\n",
       "    var output = handle.output;\n",
       "\n",
       "    // limit handleAddOutput to display_data with EXEC_MIME_TYPE content only\n",
       "    if ((output.output_type != \"display_data\") || (!output.data.hasOwnProperty(EXEC_MIME_TYPE))) {\n",
       "      return\n",
       "    }\n",
       "\n",
       "    var toinsert = output_area.element.find(\".\" + CLASS_NAME.split(' ')[0]);\n",
       "\n",
       "    if (output.metadata[EXEC_MIME_TYPE][\"id\"] !== undefined) {\n",
       "      toinsert[toinsert.length - 1].firstChild.textContent = output.data[JS_MIME_TYPE];\n",
       "      // store reference to embed id on output_area\n",
       "      output_area._bokeh_element_id = output.metadata[EXEC_MIME_TYPE][\"id\"];\n",
       "    }\n",
       "    if (output.metadata[EXEC_MIME_TYPE][\"server_id\"] !== undefined) {\n",
       "      var bk_div = document.createElement(\"div\");\n",
       "      bk_div.innerHTML = output.data[HTML_MIME_TYPE];\n",
       "      var script_attrs = bk_div.children[0].attributes;\n",
       "      for (var i = 0; i < script_attrs.length; i++) {\n",
       "        toinsert[toinsert.length - 1].firstChild.setAttribute(script_attrs[i].name, script_attrs[i].value);\n",
       "      }\n",
       "      // store reference to server id on output_area\n",
       "      output_area._bokeh_server_id = output.metadata[EXEC_MIME_TYPE][\"server_id\"];\n",
       "    }\n",
       "  }\n",
       "\n",
       "  function register_renderer(events, OutputArea) {\n",
       "\n",
       "    function append_mime(data, metadata, element) {\n",
       "      // create a DOM node to render to\n",
       "      var toinsert = this.create_output_subarea(\n",
       "        metadata,\n",
       "        CLASS_NAME,\n",
       "        EXEC_MIME_TYPE\n",
       "      );\n",
       "      this.keyboard_manager.register_events(toinsert);\n",
       "      // Render to node\n",
       "      var props = {data: data, metadata: metadata[EXEC_MIME_TYPE]};\n",
       "      render(props, toinsert[toinsert.length - 1]);\n",
       "      element.append(toinsert);\n",
       "      return toinsert\n",
       "    }\n",
       "\n",
       "    /* Handle when an output is cleared or removed */\n",
       "    events.on('clear_output.CodeCell', handleClearOutput);\n",
       "    events.on('delete.Cell', handleClearOutput);\n",
       "\n",
       "    /* Handle when a new output is added */\n",
       "    events.on('output_added.OutputArea', handleAddOutput);\n",
       "\n",
       "    /**\n",
       "     * Register the mime type and append_mime function with output_area\n",
       "     */\n",
       "    OutputArea.prototype.register_mime_type(EXEC_MIME_TYPE, append_mime, {\n",
       "      /* Is output safe? */\n",
       "      safe: true,\n",
       "      /* Index of renderer in `output_area.display_order` */\n",
       "      index: 0\n",
       "    });\n",
       "  }\n",
       "\n",
       "  // register the mime type if in Jupyter Notebook environment and previously unregistered\n",
       "  if (root.Jupyter !== undefined) {\n",
       "    var events = require('base/js/events');\n",
       "    var OutputArea = require('notebook/js/outputarea').OutputArea;\n",
       "\n",
       "    if (OutputArea.prototype.mime_types().indexOf(EXEC_MIME_TYPE) == -1) {\n",
       "      register_renderer(events, OutputArea);\n",
       "    }\n",
       "  }\n",
       "\n",
       "  \n",
       "  if (typeof (root._bokeh_timeout) === \"undefined\" || force === true) {\n",
       "    root._bokeh_timeout = Date.now() + 5000;\n",
       "    root._bokeh_failed_load = false;\n",
       "  }\n",
       "\n",
       "  var NB_LOAD_WARNING = {'data': {'text/html':\n",
       "     \"<div style='background-color: #fdd'>\\n\"+\n",
       "     \"<p>\\n\"+\n",
       "     \"BokehJS does not appear to have successfully loaded. If loading BokehJS from CDN, this \\n\"+\n",
       "     \"may be due to a slow or bad network connection. Possible fixes:\\n\"+\n",
       "     \"</p>\\n\"+\n",
       "     \"<ul>\\n\"+\n",
       "     \"<li>re-rerun `output_notebook()` to attempt to load from CDN again, or</li>\\n\"+\n",
       "     \"<li>use INLINE resources instead, as so:</li>\\n\"+\n",
       "     \"</ul>\\n\"+\n",
       "     \"<code>\\n\"+\n",
       "     \"from bokeh.resources import INLINE\\n\"+\n",
       "     \"output_notebook(resources=INLINE)\\n\"+\n",
       "     \"</code>\\n\"+\n",
       "     \"</div>\"}};\n",
       "\n",
       "  function display_loaded() {\n",
       "    var el = document.getElementById(\"e9e41e07-236f-4de5-bf60-b36973f0280e\");\n",
       "    if (el != null) {\n",
       "      el.textContent = \"BokehJS is loading...\";\n",
       "    }\n",
       "    if (root.Bokeh !== undefined) {\n",
       "      if (el != null) {\n",
       "        el.textContent = \"BokehJS \" + root.Bokeh.version + \" successfully loaded.\";\n",
       "      }\n",
       "    } else if (Date.now() < root._bokeh_timeout) {\n",
       "      setTimeout(display_loaded, 100)\n",
       "    }\n",
       "  }\n",
       "\n",
       "\n",
       "  function run_callbacks() {\n",
       "    try {\n",
       "      root._bokeh_onload_callbacks.forEach(function(callback) { callback() });\n",
       "    }\n",
       "    finally {\n",
       "      delete root._bokeh_onload_callbacks\n",
       "    }\n",
       "    console.info(\"Bokeh: all callbacks have finished\");\n",
       "  }\n",
       "\n",
       "  function load_libs(js_urls, callback) {\n",
       "    root._bokeh_onload_callbacks.push(callback);\n",
       "    if (root._bokeh_is_loading > 0) {\n",
       "      console.log(\"Bokeh: BokehJS is being loaded, scheduling callback at\", now());\n",
       "      return null;\n",
       "    }\n",
       "    if (js_urls == null || js_urls.length === 0) {\n",
       "      run_callbacks();\n",
       "      return null;\n",
       "    }\n",
       "    console.log(\"Bokeh: BokehJS not loaded, scheduling load and callback at\", now());\n",
       "    root._bokeh_is_loading = js_urls.length;\n",
       "    for (var i = 0; i < js_urls.length; i++) {\n",
       "      var url = js_urls[i];\n",
       "      var s = document.createElement('script');\n",
       "      s.src = url;\n",
       "      s.async = false;\n",
       "      s.onreadystatechange = s.onload = function() {\n",
       "        root._bokeh_is_loading--;\n",
       "        if (root._bokeh_is_loading === 0) {\n",
       "          console.log(\"Bokeh: all BokehJS libraries loaded\");\n",
       "          run_callbacks()\n",
       "        }\n",
       "      };\n",
       "      s.onerror = function() {\n",
       "        console.warn(\"failed to load library \" + url);\n",
       "      };\n",
       "      console.log(\"Bokeh: injecting script tag for BokehJS library: \", url);\n",
       "      document.getElementsByTagName(\"head\")[0].appendChild(s);\n",
       "    }\n",
       "  };var element = document.getElementById(\"e9e41e07-236f-4de5-bf60-b36973f0280e\");\n",
       "  if (element == null) {\n",
       "    console.log(\"Bokeh: ERROR: autoload.js configured with elementid 'e9e41e07-236f-4de5-bf60-b36973f0280e' but no matching script tag was found. \")\n",
       "    return false;\n",
       "  }\n",
       "\n",
       "  var js_urls = [\"https://cdn.pydata.org/bokeh/release/bokeh-0.13.0.min.js\", \"https://cdn.pydata.org/bokeh/release/bokeh-widgets-0.13.0.min.js\", \"https://cdn.pydata.org/bokeh/release/bokeh-tables-0.13.0.min.js\", \"https://cdn.pydata.org/bokeh/release/bokeh-gl-0.13.0.min.js\"];\n",
       "\n",
       "  var inline_js = [\n",
       "    function(Bokeh) {\n",
       "      Bokeh.set_log_level(\"info\");\n",
       "    },\n",
       "    \n",
       "    function(Bokeh) {\n",
       "      \n",
       "    },\n",
       "    function(Bokeh) {\n",
       "      console.log(\"Bokeh: injecting CSS: https://cdn.pydata.org/bokeh/release/bokeh-0.13.0.min.css\");\n",
       "      Bokeh.embed.inject_css(\"https://cdn.pydata.org/bokeh/release/bokeh-0.13.0.min.css\");\n",
       "      console.log(\"Bokeh: injecting CSS: https://cdn.pydata.org/bokeh/release/bokeh-widgets-0.13.0.min.css\");\n",
       "      Bokeh.embed.inject_css(\"https://cdn.pydata.org/bokeh/release/bokeh-widgets-0.13.0.min.css\");\n",
       "      console.log(\"Bokeh: injecting CSS: https://cdn.pydata.org/bokeh/release/bokeh-tables-0.13.0.min.css\");\n",
       "      Bokeh.embed.inject_css(\"https://cdn.pydata.org/bokeh/release/bokeh-tables-0.13.0.min.css\");\n",
       "    }\n",
       "  ];\n",
       "\n",
       "  function run_inline_js() {\n",
       "    \n",
       "    if ((root.Bokeh !== undefined) || (force === true)) {\n",
       "      for (var i = 0; i < inline_js.length; i++) {\n",
       "        inline_js[i].call(root, root.Bokeh);\n",
       "      }if (force === true) {\n",
       "        display_loaded();\n",
       "      }} else if (Date.now() < root._bokeh_timeout) {\n",
       "      setTimeout(run_inline_js, 100);\n",
       "    } else if (!root._bokeh_failed_load) {\n",
       "      console.log(\"Bokeh: BokehJS failed to load within specified timeout.\");\n",
       "      root._bokeh_failed_load = true;\n",
       "    } else if (force !== true) {\n",
       "      var cell = $(document.getElementById(\"e9e41e07-236f-4de5-bf60-b36973f0280e\")).parents('.cell').data().cell;\n",
       "      cell.output_area.append_execute_result(NB_LOAD_WARNING)\n",
       "    }\n",
       "\n",
       "  }\n",
       "\n",
       "  if (root._bokeh_is_loading === 0) {\n",
       "    console.log(\"Bokeh: BokehJS loaded, going straight to plotting\");\n",
       "    run_inline_js();\n",
       "  } else {\n",
       "    load_libs(js_urls, function() {\n",
       "      console.log(\"Bokeh: BokehJS plotting callback run at\", now());\n",
       "      run_inline_js();\n",
       "    });\n",
       "  }\n",
       "}(window));"
      ],
      "application/vnd.bokehjs_load.v0+json": "\n(function(root) {\n  function now() {\n    return new Date();\n  }\n\n  var force = true;\n\n  if (typeof (root._bokeh_onload_callbacks) === \"undefined\" || force === true) {\n    root._bokeh_onload_callbacks = [];\n    root._bokeh_is_loading = undefined;\n  }\n\n  \n\n  \n  if (typeof (root._bokeh_timeout) === \"undefined\" || force === true) {\n    root._bokeh_timeout = Date.now() + 5000;\n    root._bokeh_failed_load = false;\n  }\n\n  var NB_LOAD_WARNING = {'data': {'text/html':\n     \"<div style='background-color: #fdd'>\\n\"+\n     \"<p>\\n\"+\n     \"BokehJS does not appear to have successfully loaded. If loading BokehJS from CDN, this \\n\"+\n     \"may be due to a slow or bad network connection. Possible fixes:\\n\"+\n     \"</p>\\n\"+\n     \"<ul>\\n\"+\n     \"<li>re-rerun `output_notebook()` to attempt to load from CDN again, or</li>\\n\"+\n     \"<li>use INLINE resources instead, as so:</li>\\n\"+\n     \"</ul>\\n\"+\n     \"<code>\\n\"+\n     \"from bokeh.resources import INLINE\\n\"+\n     \"output_notebook(resources=INLINE)\\n\"+\n     \"</code>\\n\"+\n     \"</div>\"}};\n\n  function display_loaded() {\n    var el = document.getElementById(\"e9e41e07-236f-4de5-bf60-b36973f0280e\");\n    if (el != null) {\n      el.textContent = \"BokehJS is loading...\";\n    }\n    if (root.Bokeh !== undefined) {\n      if (el != null) {\n        el.textContent = \"BokehJS \" + root.Bokeh.version + \" successfully loaded.\";\n      }\n    } else if (Date.now() < root._bokeh_timeout) {\n      setTimeout(display_loaded, 100)\n    }\n  }\n\n\n  function run_callbacks() {\n    try {\n      root._bokeh_onload_callbacks.forEach(function(callback) { callback() });\n    }\n    finally {\n      delete root._bokeh_onload_callbacks\n    }\n    console.info(\"Bokeh: all callbacks have finished\");\n  }\n\n  function load_libs(js_urls, callback) {\n    root._bokeh_onload_callbacks.push(callback);\n    if (root._bokeh_is_loading > 0) {\n      console.log(\"Bokeh: BokehJS is being loaded, scheduling callback at\", now());\n      return null;\n    }\n    if (js_urls == null || js_urls.length === 0) {\n      run_callbacks();\n      return null;\n    }\n    console.log(\"Bokeh: BokehJS not loaded, scheduling load and callback at\", now());\n    root._bokeh_is_loading = js_urls.length;\n    for (var i = 0; i < js_urls.length; i++) {\n      var url = js_urls[i];\n      var s = document.createElement('script');\n      s.src = url;\n      s.async = false;\n      s.onreadystatechange = s.onload = function() {\n        root._bokeh_is_loading--;\n        if (root._bokeh_is_loading === 0) {\n          console.log(\"Bokeh: all BokehJS libraries loaded\");\n          run_callbacks()\n        }\n      };\n      s.onerror = function() {\n        console.warn(\"failed to load library \" + url);\n      };\n      console.log(\"Bokeh: injecting script tag for BokehJS library: \", url);\n      document.getElementsByTagName(\"head\")[0].appendChild(s);\n    }\n  };var element = document.getElementById(\"e9e41e07-236f-4de5-bf60-b36973f0280e\");\n  if (element == null) {\n    console.log(\"Bokeh: ERROR: autoload.js configured with elementid 'e9e41e07-236f-4de5-bf60-b36973f0280e' but no matching script tag was found. \")\n    return false;\n  }\n\n  var js_urls = [\"https://cdn.pydata.org/bokeh/release/bokeh-0.13.0.min.js\", \"https://cdn.pydata.org/bokeh/release/bokeh-widgets-0.13.0.min.js\", \"https://cdn.pydata.org/bokeh/release/bokeh-tables-0.13.0.min.js\", \"https://cdn.pydata.org/bokeh/release/bokeh-gl-0.13.0.min.js\"];\n\n  var inline_js = [\n    function(Bokeh) {\n      Bokeh.set_log_level(\"info\");\n    },\n    \n    function(Bokeh) {\n      \n    },\n    function(Bokeh) {\n      console.log(\"Bokeh: injecting CSS: https://cdn.pydata.org/bokeh/release/bokeh-0.13.0.min.css\");\n      Bokeh.embed.inject_css(\"https://cdn.pydata.org/bokeh/release/bokeh-0.13.0.min.css\");\n      console.log(\"Bokeh: injecting CSS: https://cdn.pydata.org/bokeh/release/bokeh-widgets-0.13.0.min.css\");\n      Bokeh.embed.inject_css(\"https://cdn.pydata.org/bokeh/release/bokeh-widgets-0.13.0.min.css\");\n      console.log(\"Bokeh: injecting CSS: https://cdn.pydata.org/bokeh/release/bokeh-tables-0.13.0.min.css\");\n      Bokeh.embed.inject_css(\"https://cdn.pydata.org/bokeh/release/bokeh-tables-0.13.0.min.css\");\n    }\n  ];\n\n  function run_inline_js() {\n    \n    if ((root.Bokeh !== undefined) || (force === true)) {\n      for (var i = 0; i < inline_js.length; i++) {\n        inline_js[i].call(root, root.Bokeh);\n      }if (force === true) {\n        display_loaded();\n      }} else if (Date.now() < root._bokeh_timeout) {\n      setTimeout(run_inline_js, 100);\n    } else if (!root._bokeh_failed_load) {\n      console.log(\"Bokeh: BokehJS failed to load within specified timeout.\");\n      root._bokeh_failed_load = true;\n    } else if (force !== true) {\n      var cell = $(document.getElementById(\"e9e41e07-236f-4de5-bf60-b36973f0280e\")).parents('.cell').data().cell;\n      cell.output_area.append_execute_result(NB_LOAD_WARNING)\n    }\n\n  }\n\n  if (root._bokeh_is_loading === 0) {\n    console.log(\"Bokeh: BokehJS loaded, going straight to plotting\");\n    run_inline_js();\n  } else {\n    load_libs(js_urls, function() {\n      console.log(\"Bokeh: BokehJS plotting callback run at\", now());\n      run_inline_js();\n    });\n  }\n}(window));"
     },
     "metadata": {},
     "output_type": "display_data"
    }
   ],
   "source": [
    "output_notebook()"
   ]
  },
  {
   "cell_type": "markdown",
   "metadata": {},
   "source": [
    "#### This time show() will generate the plot inline\n",
    "Notice a few details:\n",
    "* The axis dimensions have adjusted automatically to fit the plot\n",
    "* There is a toolbar on the top right presenting a number of options for the plot\n",
    "* Grid lines appear by default"
   ]
  },
  {
   "cell_type": "code",
   "execution_count": 11,
   "metadata": {},
   "outputs": [
    {
     "data": {
      "text/html": [
       "\n",
       "\n",
       "\n",
       "\n",
       "\n",
       "\n",
       "  <div class=\"bk-root\" id=\"a5501d1f-fd74-4868-91df-04d1b4f18a47\"></div>\n"
      ]
     },
     "metadata": {},
     "output_type": "display_data"
    },
    {
     "data": {
      "application/javascript": [
       "(function(root) {\n",
       "  function embed_document(root) {\n",
       "    \n",
       "  var docs_json = {\"76b3520d-2345-4cf0-a77c-788c8ce9a0da\":{\"roots\":{\"references\":[{\"attributes\":{\"plot\":{\"id\":\"960127fb-8b77-415c-9dd8-a56a90e4713f\",\"subtype\":\"Figure\",\"type\":\"Plot\"},\"ticker\":{\"id\":\"ece68e96-19b2-4422-94d0-097c51029902\",\"type\":\"BasicTicker\"}},\"id\":\"93654f4e-97c2-4979-8dcf-428e84a55925\",\"type\":\"Grid\"},{\"attributes\":{\"data_source\":{\"id\":\"70d81f88-5838-40b0-ba04-6760a0dbf015\",\"type\":\"ColumnDataSource\"},\"glyph\":{\"id\":\"d68bb506-7b2f-4108-9ce5-8b0b0c55aced\",\"type\":\"Line\"},\"hover_glyph\":null,\"muted_glyph\":null,\"nonselection_glyph\":{\"id\":\"a5af1422-0f77-4b36-8a53-4f5a87a78a08\",\"type\":\"Line\"},\"selection_glyph\":null,\"view\":{\"id\":\"7d38b26e-c3ef-437c-bed7-f612fa5124af\",\"type\":\"CDSView\"}},\"id\":\"6451fadf-f641-4338-b2a4-0c6372ddca06\",\"type\":\"GlyphRenderer\"},{\"attributes\":{\"formatter\":{\"id\":\"1660eeff-b79b-4a3f-a1f5-58d3fb0927e7\",\"type\":\"BasicTickFormatter\"},\"plot\":{\"id\":\"960127fb-8b77-415c-9dd8-a56a90e4713f\",\"subtype\":\"Figure\",\"type\":\"Plot\"},\"ticker\":{\"id\":\"8e79e255-4027-4536-b2be-671fcff1e2af\",\"type\":\"BasicTicker\"}},\"id\":\"d9ec0772-d21e-4d97-92ac-86f0d1c71659\",\"type\":\"LinearAxis\"},{\"attributes\":{},\"id\":\"8e79e255-4027-4536-b2be-671fcff1e2af\",\"type\":\"BasicTicker\"},{\"attributes\":{\"callback\":null,\"data\":{\"x\":[1,2,3,4,5],\"y\":[6,5,4,6,5]},\"selected\":{\"id\":\"b12564d6-d7d2-4422-a808-fc064cbe552d\",\"type\":\"Selection\"},\"selection_policy\":{\"id\":\"7ade3549-438b-4c43-855a-aef6f405ae1f\",\"type\":\"UnionRenderers\"}},\"id\":\"70d81f88-5838-40b0-ba04-6760a0dbf015\",\"type\":\"ColumnDataSource\"},{\"attributes\":{},\"id\":\"1660eeff-b79b-4a3f-a1f5-58d3fb0927e7\",\"type\":\"BasicTickFormatter\"},{\"attributes\":{\"plot\":null,\"text\":\"\"},\"id\":\"0e66a262-37e7-444d-b5c5-31db8feda739\",\"type\":\"Title\"},{\"attributes\":{\"line_alpha\":0.1,\"line_color\":\"#1f77b4\",\"x\":{\"field\":\"x\"},\"y\":{\"field\":\"y\"}},\"id\":\"a5af1422-0f77-4b36-8a53-4f5a87a78a08\",\"type\":\"Line\"},{\"attributes\":{\"bottom_units\":\"screen\",\"fill_alpha\":{\"value\":0.5},\"fill_color\":{\"value\":\"lightgrey\"},\"left_units\":\"screen\",\"level\":\"overlay\",\"line_alpha\":{\"value\":1.0},\"line_color\":{\"value\":\"black\"},\"line_dash\":[4,4],\"line_width\":{\"value\":2},\"plot\":null,\"render_mode\":\"css\",\"right_units\":\"screen\",\"top_units\":\"screen\"},\"id\":\"64af095d-f766-45bf-b91c-4add830bc1b8\",\"type\":\"BoxAnnotation\"},{\"attributes\":{\"source\":{\"id\":\"70d81f88-5838-40b0-ba04-6760a0dbf015\",\"type\":\"ColumnDataSource\"}},\"id\":\"7d38b26e-c3ef-437c-bed7-f612fa5124af\",\"type\":\"CDSView\"},{\"attributes\":{\"active_drag\":\"auto\",\"active_inspect\":\"auto\",\"active_multi\":null,\"active_scroll\":\"auto\",\"active_tap\":\"auto\",\"tools\":[{\"id\":\"59acbd33-cca9-40bf-976a-df4566f37e35\",\"type\":\"PanTool\"},{\"id\":\"cf513f01-03f7-4b78-b0ec-47b1e342a84b\",\"type\":\"WheelZoomTool\"},{\"id\":\"0df87e6a-2ac7-4775-b133-e7118d8329fc\",\"type\":\"BoxZoomTool\"},{\"id\":\"320d0726-8588-4a15-a2e6-4da5caee5f8e\",\"type\":\"SaveTool\"},{\"id\":\"174e65b1-832f-48db-bc5a-ebe7d1800b09\",\"type\":\"ResetTool\"},{\"id\":\"f452c63b-c2d2-43f5-be58-3981f90535c5\",\"type\":\"HelpTool\"}]},\"id\":\"f65ee181-0dfe-4550-baa1-cab4163172d2\",\"type\":\"Toolbar\"},{\"attributes\":{},\"id\":\"59acbd33-cca9-40bf-976a-df4566f37e35\",\"type\":\"PanTool\"},{\"attributes\":{},\"id\":\"ece68e96-19b2-4422-94d0-097c51029902\",\"type\":\"BasicTicker\"},{\"attributes\":{},\"id\":\"cf513f01-03f7-4b78-b0ec-47b1e342a84b\",\"type\":\"WheelZoomTool\"},{\"attributes\":{\"overlay\":{\"id\":\"64af095d-f766-45bf-b91c-4add830bc1b8\",\"type\":\"BoxAnnotation\"}},\"id\":\"0df87e6a-2ac7-4775-b133-e7118d8329fc\",\"type\":\"BoxZoomTool\"},{\"attributes\":{\"callback\":null},\"id\":\"33d58884-39a4-4b9b-a08f-9b4a7113dda6\",\"type\":\"DataRange1d\"},{\"attributes\":{\"indices\":[],\"line_indices\":[]},\"id\":\"b12564d6-d7d2-4422-a808-fc064cbe552d\",\"type\":\"Selection\"},{\"attributes\":{},\"id\":\"320d0726-8588-4a15-a2e6-4da5caee5f8e\",\"type\":\"SaveTool\"},{\"attributes\":{},\"id\":\"e1246ed0-ffd1-4f69-817f-add7d9a9d934\",\"type\":\"BasicTickFormatter\"},{\"attributes\":{\"callback\":null},\"id\":\"7345685f-aec8-4a13-b192-8ef1b6871070\",\"type\":\"DataRange1d\"},{\"attributes\":{},\"id\":\"f452c63b-c2d2-43f5-be58-3981f90535c5\",\"type\":\"HelpTool\"},{\"attributes\":{},\"id\":\"174e65b1-832f-48db-bc5a-ebe7d1800b09\",\"type\":\"ResetTool\"},{\"attributes\":{\"dimension\":1,\"plot\":{\"id\":\"960127fb-8b77-415c-9dd8-a56a90e4713f\",\"subtype\":\"Figure\",\"type\":\"Plot\"},\"ticker\":{\"id\":\"8e79e255-4027-4536-b2be-671fcff1e2af\",\"type\":\"BasicTicker\"}},\"id\":\"8f583fea-b195-456c-914b-c20a8ecacc27\",\"type\":\"Grid\"},{\"attributes\":{},\"id\":\"7ade3549-438b-4c43-855a-aef6f405ae1f\",\"type\":\"UnionRenderers\"},{\"attributes\":{\"line_color\":\"#1f77b4\",\"x\":{\"field\":\"x\"},\"y\":{\"field\":\"y\"}},\"id\":\"d68bb506-7b2f-4108-9ce5-8b0b0c55aced\",\"type\":\"Line\"},{\"attributes\":{},\"id\":\"e9c9261a-2547-46b2-b32e-ac5d8c9059ab\",\"type\":\"LinearScale\"},{\"attributes\":{\"below\":[{\"id\":\"dfd2d5fa-2bc8-4a68-9057-8fb465f9dbcd\",\"type\":\"LinearAxis\"}],\"left\":[{\"id\":\"d9ec0772-d21e-4d97-92ac-86f0d1c71659\",\"type\":\"LinearAxis\"}],\"plot_height\":300,\"renderers\":[{\"id\":\"dfd2d5fa-2bc8-4a68-9057-8fb465f9dbcd\",\"type\":\"LinearAxis\"},{\"id\":\"93654f4e-97c2-4979-8dcf-428e84a55925\",\"type\":\"Grid\"},{\"id\":\"d9ec0772-d21e-4d97-92ac-86f0d1c71659\",\"type\":\"LinearAxis\"},{\"id\":\"8f583fea-b195-456c-914b-c20a8ecacc27\",\"type\":\"Grid\"},{\"id\":\"64af095d-f766-45bf-b91c-4add830bc1b8\",\"type\":\"BoxAnnotation\"},{\"id\":\"6451fadf-f641-4338-b2a4-0c6372ddca06\",\"type\":\"GlyphRenderer\"}],\"title\":{\"id\":\"0e66a262-37e7-444d-b5c5-31db8feda739\",\"type\":\"Title\"},\"toolbar\":{\"id\":\"f65ee181-0dfe-4550-baa1-cab4163172d2\",\"type\":\"Toolbar\"},\"x_range\":{\"id\":\"33d58884-39a4-4b9b-a08f-9b4a7113dda6\",\"type\":\"DataRange1d\"},\"x_scale\":{\"id\":\"e9c9261a-2547-46b2-b32e-ac5d8c9059ab\",\"type\":\"LinearScale\"},\"y_range\":{\"id\":\"7345685f-aec8-4a13-b192-8ef1b6871070\",\"type\":\"DataRange1d\"},\"y_scale\":{\"id\":\"f879d0ac-fea0-4c7b-9b32-152da1f1a2c2\",\"type\":\"LinearScale\"}},\"id\":\"960127fb-8b77-415c-9dd8-a56a90e4713f\",\"subtype\":\"Figure\",\"type\":\"Plot\"},{\"attributes\":{},\"id\":\"f879d0ac-fea0-4c7b-9b32-152da1f1a2c2\",\"type\":\"LinearScale\"},{\"attributes\":{\"formatter\":{\"id\":\"e1246ed0-ffd1-4f69-817f-add7d9a9d934\",\"type\":\"BasicTickFormatter\"},\"plot\":{\"id\":\"960127fb-8b77-415c-9dd8-a56a90e4713f\",\"subtype\":\"Figure\",\"type\":\"Plot\"},\"ticker\":{\"id\":\"ece68e96-19b2-4422-94d0-097c51029902\",\"type\":\"BasicTicker\"}},\"id\":\"dfd2d5fa-2bc8-4a68-9057-8fb465f9dbcd\",\"type\":\"LinearAxis\"}],\"root_ids\":[\"960127fb-8b77-415c-9dd8-a56a90e4713f\"]},\"title\":\"Bokeh Application\",\"version\":\"0.13.0\"}};\n",
       "  var render_items = [{\"docid\":\"76b3520d-2345-4cf0-a77c-788c8ce9a0da\",\"roots\":{\"960127fb-8b77-415c-9dd8-a56a90e4713f\":\"a5501d1f-fd74-4868-91df-04d1b4f18a47\"}}];\n",
       "  root.Bokeh.embed.embed_items_notebook(docs_json, render_items);\n",
       "\n",
       "  }\n",
       "  if (root.Bokeh !== undefined) {\n",
       "    embed_document(root);\n",
       "  } else {\n",
       "    var attempts = 0;\n",
       "    var timer = setInterval(function(root) {\n",
       "      if (root.Bokeh !== undefined) {\n",
       "        embed_document(root);\n",
       "        clearInterval(timer);\n",
       "      }\n",
       "      attempts++;\n",
       "      if (attempts > 100) {\n",
       "        console.log(\"Bokeh: ERROR: Unable to run BokehJS code because BokehJS library is missing\")\n",
       "        clearInterval(timer);\n",
       "      }\n",
       "    }, 10, root)\n",
       "  }\n",
       "})(window);"
      ],
      "application/vnd.bokehjs_exec.v0+json": ""
     },
     "metadata": {
      "application/vnd.bokehjs_exec.v0+json": {
       "id": "960127fb-8b77-415c-9dd8-a56a90e4713f"
      }
     },
     "output_type": "display_data"
    }
   ],
   "source": [
    "show(p)"
   ]
  },
  {
   "cell_type": "markdown",
   "metadata": {},
   "source": [
    "#### Exporting the plot to a file\n",
    "The output_file() method can be used to export a plot to a specific file. This export is triggered when show() is called."
   ]
  },
  {
   "cell_type": "code",
   "execution_count": 12,
   "metadata": {},
   "outputs": [],
   "source": [
    "from bokeh.io import output_file\n",
    "\n",
    "output_file('line.html')"
   ]
  },
  {
   "cell_type": "markdown",
   "metadata": {},
   "source": [
    "#### Display the plot using show()\n",
    "Now that we have executed output_file(), this will result in the file being saved to the specified location on disk. However, this has not overridden the effect of the output_notebook() call - so the plot will be exported to file AND displayed inline "
   ]
  },
  {
   "cell_type": "code",
   "execution_count": 13,
   "metadata": {},
   "outputs": [
    {
     "data": {
      "text/html": [
       "\n",
       "\n",
       "\n",
       "\n",
       "\n",
       "\n",
       "  <div class=\"bk-root\" id=\"e08ab4f6-66e2-428a-96a8-4762eb930ed0\"></div>\n"
      ]
     },
     "metadata": {},
     "output_type": "display_data"
    },
    {
     "data": {
      "application/javascript": [
       "(function(root) {\n",
       "  function embed_document(root) {\n",
       "    \n",
       "  var docs_json = {\"3bd2eceb-3146-4676-af60-664f8a858913\":{\"roots\":{\"references\":[{\"attributes\":{\"plot\":{\"id\":\"960127fb-8b77-415c-9dd8-a56a90e4713f\",\"subtype\":\"Figure\",\"type\":\"Plot\"},\"ticker\":{\"id\":\"ece68e96-19b2-4422-94d0-097c51029902\",\"type\":\"BasicTicker\"}},\"id\":\"93654f4e-97c2-4979-8dcf-428e84a55925\",\"type\":\"Grid\"},{\"attributes\":{\"data_source\":{\"id\":\"70d81f88-5838-40b0-ba04-6760a0dbf015\",\"type\":\"ColumnDataSource\"},\"glyph\":{\"id\":\"d68bb506-7b2f-4108-9ce5-8b0b0c55aced\",\"type\":\"Line\"},\"hover_glyph\":null,\"muted_glyph\":null,\"nonselection_glyph\":{\"id\":\"a5af1422-0f77-4b36-8a53-4f5a87a78a08\",\"type\":\"Line\"},\"selection_glyph\":null,\"view\":{\"id\":\"7d38b26e-c3ef-437c-bed7-f612fa5124af\",\"type\":\"CDSView\"}},\"id\":\"6451fadf-f641-4338-b2a4-0c6372ddca06\",\"type\":\"GlyphRenderer\"},{\"attributes\":{\"formatter\":{\"id\":\"1660eeff-b79b-4a3f-a1f5-58d3fb0927e7\",\"type\":\"BasicTickFormatter\"},\"plot\":{\"id\":\"960127fb-8b77-415c-9dd8-a56a90e4713f\",\"subtype\":\"Figure\",\"type\":\"Plot\"},\"ticker\":{\"id\":\"8e79e255-4027-4536-b2be-671fcff1e2af\",\"type\":\"BasicTicker\"}},\"id\":\"d9ec0772-d21e-4d97-92ac-86f0d1c71659\",\"type\":\"LinearAxis\"},{\"attributes\":{},\"id\":\"8e79e255-4027-4536-b2be-671fcff1e2af\",\"type\":\"BasicTicker\"},{\"attributes\":{\"callback\":null,\"data\":{\"x\":[1,2,3,4,5],\"y\":[6,5,4,6,5]},\"selected\":{\"id\":\"b12564d6-d7d2-4422-a808-fc064cbe552d\",\"type\":\"Selection\"},\"selection_policy\":{\"id\":\"7ade3549-438b-4c43-855a-aef6f405ae1f\",\"type\":\"UnionRenderers\"}},\"id\":\"70d81f88-5838-40b0-ba04-6760a0dbf015\",\"type\":\"ColumnDataSource\"},{\"attributes\":{},\"id\":\"1660eeff-b79b-4a3f-a1f5-58d3fb0927e7\",\"type\":\"BasicTickFormatter\"},{\"attributes\":{\"plot\":null,\"text\":\"\"},\"id\":\"0e66a262-37e7-444d-b5c5-31db8feda739\",\"type\":\"Title\"},{\"attributes\":{\"line_alpha\":0.1,\"line_color\":\"#1f77b4\",\"x\":{\"field\":\"x\"},\"y\":{\"field\":\"y\"}},\"id\":\"a5af1422-0f77-4b36-8a53-4f5a87a78a08\",\"type\":\"Line\"},{\"attributes\":{\"bottom_units\":\"screen\",\"fill_alpha\":{\"value\":0.5},\"fill_color\":{\"value\":\"lightgrey\"},\"left_units\":\"screen\",\"level\":\"overlay\",\"line_alpha\":{\"value\":1.0},\"line_color\":{\"value\":\"black\"},\"line_dash\":[4,4],\"line_width\":{\"value\":2},\"plot\":null,\"render_mode\":\"css\",\"right_units\":\"screen\",\"top_units\":\"screen\"},\"id\":\"64af095d-f766-45bf-b91c-4add830bc1b8\",\"type\":\"BoxAnnotation\"},{\"attributes\":{\"source\":{\"id\":\"70d81f88-5838-40b0-ba04-6760a0dbf015\",\"type\":\"ColumnDataSource\"}},\"id\":\"7d38b26e-c3ef-437c-bed7-f612fa5124af\",\"type\":\"CDSView\"},{\"attributes\":{\"active_drag\":\"auto\",\"active_inspect\":\"auto\",\"active_multi\":null,\"active_scroll\":\"auto\",\"active_tap\":\"auto\",\"tools\":[{\"id\":\"59acbd33-cca9-40bf-976a-df4566f37e35\",\"type\":\"PanTool\"},{\"id\":\"cf513f01-03f7-4b78-b0ec-47b1e342a84b\",\"type\":\"WheelZoomTool\"},{\"id\":\"0df87e6a-2ac7-4775-b133-e7118d8329fc\",\"type\":\"BoxZoomTool\"},{\"id\":\"320d0726-8588-4a15-a2e6-4da5caee5f8e\",\"type\":\"SaveTool\"},{\"id\":\"174e65b1-832f-48db-bc5a-ebe7d1800b09\",\"type\":\"ResetTool\"},{\"id\":\"f452c63b-c2d2-43f5-be58-3981f90535c5\",\"type\":\"HelpTool\"}]},\"id\":\"f65ee181-0dfe-4550-baa1-cab4163172d2\",\"type\":\"Toolbar\"},{\"attributes\":{},\"id\":\"59acbd33-cca9-40bf-976a-df4566f37e35\",\"type\":\"PanTool\"},{\"attributes\":{},\"id\":\"ece68e96-19b2-4422-94d0-097c51029902\",\"type\":\"BasicTicker\"},{\"attributes\":{},\"id\":\"cf513f01-03f7-4b78-b0ec-47b1e342a84b\",\"type\":\"WheelZoomTool\"},{\"attributes\":{\"overlay\":{\"id\":\"64af095d-f766-45bf-b91c-4add830bc1b8\",\"type\":\"BoxAnnotation\"}},\"id\":\"0df87e6a-2ac7-4775-b133-e7118d8329fc\",\"type\":\"BoxZoomTool\"},{\"attributes\":{\"callback\":null},\"id\":\"33d58884-39a4-4b9b-a08f-9b4a7113dda6\",\"type\":\"DataRange1d\"},{\"attributes\":{\"indices\":[],\"line_indices\":[]},\"id\":\"b12564d6-d7d2-4422-a808-fc064cbe552d\",\"type\":\"Selection\"},{\"attributes\":{},\"id\":\"320d0726-8588-4a15-a2e6-4da5caee5f8e\",\"type\":\"SaveTool\"},{\"attributes\":{},\"id\":\"e1246ed0-ffd1-4f69-817f-add7d9a9d934\",\"type\":\"BasicTickFormatter\"},{\"attributes\":{\"callback\":null},\"id\":\"7345685f-aec8-4a13-b192-8ef1b6871070\",\"type\":\"DataRange1d\"},{\"attributes\":{},\"id\":\"f452c63b-c2d2-43f5-be58-3981f90535c5\",\"type\":\"HelpTool\"},{\"attributes\":{},\"id\":\"174e65b1-832f-48db-bc5a-ebe7d1800b09\",\"type\":\"ResetTool\"},{\"attributes\":{\"dimension\":1,\"plot\":{\"id\":\"960127fb-8b77-415c-9dd8-a56a90e4713f\",\"subtype\":\"Figure\",\"type\":\"Plot\"},\"ticker\":{\"id\":\"8e79e255-4027-4536-b2be-671fcff1e2af\",\"type\":\"BasicTicker\"}},\"id\":\"8f583fea-b195-456c-914b-c20a8ecacc27\",\"type\":\"Grid\"},{\"attributes\":{},\"id\":\"7ade3549-438b-4c43-855a-aef6f405ae1f\",\"type\":\"UnionRenderers\"},{\"attributes\":{\"line_color\":\"#1f77b4\",\"x\":{\"field\":\"x\"},\"y\":{\"field\":\"y\"}},\"id\":\"d68bb506-7b2f-4108-9ce5-8b0b0c55aced\",\"type\":\"Line\"},{\"attributes\":{},\"id\":\"e9c9261a-2547-46b2-b32e-ac5d8c9059ab\",\"type\":\"LinearScale\"},{\"attributes\":{\"below\":[{\"id\":\"dfd2d5fa-2bc8-4a68-9057-8fb465f9dbcd\",\"type\":\"LinearAxis\"}],\"left\":[{\"id\":\"d9ec0772-d21e-4d97-92ac-86f0d1c71659\",\"type\":\"LinearAxis\"}],\"plot_height\":300,\"renderers\":[{\"id\":\"dfd2d5fa-2bc8-4a68-9057-8fb465f9dbcd\",\"type\":\"LinearAxis\"},{\"id\":\"93654f4e-97c2-4979-8dcf-428e84a55925\",\"type\":\"Grid\"},{\"id\":\"d9ec0772-d21e-4d97-92ac-86f0d1c71659\",\"type\":\"LinearAxis\"},{\"id\":\"8f583fea-b195-456c-914b-c20a8ecacc27\",\"type\":\"Grid\"},{\"id\":\"64af095d-f766-45bf-b91c-4add830bc1b8\",\"type\":\"BoxAnnotation\"},{\"id\":\"6451fadf-f641-4338-b2a4-0c6372ddca06\",\"type\":\"GlyphRenderer\"}],\"title\":{\"id\":\"0e66a262-37e7-444d-b5c5-31db8feda739\",\"type\":\"Title\"},\"toolbar\":{\"id\":\"f65ee181-0dfe-4550-baa1-cab4163172d2\",\"type\":\"Toolbar\"},\"x_range\":{\"id\":\"33d58884-39a4-4b9b-a08f-9b4a7113dda6\",\"type\":\"DataRange1d\"},\"x_scale\":{\"id\":\"e9c9261a-2547-46b2-b32e-ac5d8c9059ab\",\"type\":\"LinearScale\"},\"y_range\":{\"id\":\"7345685f-aec8-4a13-b192-8ef1b6871070\",\"type\":\"DataRange1d\"},\"y_scale\":{\"id\":\"f879d0ac-fea0-4c7b-9b32-152da1f1a2c2\",\"type\":\"LinearScale\"}},\"id\":\"960127fb-8b77-415c-9dd8-a56a90e4713f\",\"subtype\":\"Figure\",\"type\":\"Plot\"},{\"attributes\":{},\"id\":\"f879d0ac-fea0-4c7b-9b32-152da1f1a2c2\",\"type\":\"LinearScale\"},{\"attributes\":{\"formatter\":{\"id\":\"e1246ed0-ffd1-4f69-817f-add7d9a9d934\",\"type\":\"BasicTickFormatter\"},\"plot\":{\"id\":\"960127fb-8b77-415c-9dd8-a56a90e4713f\",\"subtype\":\"Figure\",\"type\":\"Plot\"},\"ticker\":{\"id\":\"ece68e96-19b2-4422-94d0-097c51029902\",\"type\":\"BasicTicker\"}},\"id\":\"dfd2d5fa-2bc8-4a68-9057-8fb465f9dbcd\",\"type\":\"LinearAxis\"}],\"root_ids\":[\"960127fb-8b77-415c-9dd8-a56a90e4713f\"]},\"title\":\"Bokeh Application\",\"version\":\"0.13.0\"}};\n",
       "  var render_items = [{\"docid\":\"3bd2eceb-3146-4676-af60-664f8a858913\",\"roots\":{\"960127fb-8b77-415c-9dd8-a56a90e4713f\":\"e08ab4f6-66e2-428a-96a8-4762eb930ed0\"}}];\n",
       "  root.Bokeh.embed.embed_items_notebook(docs_json, render_items);\n",
       "\n",
       "  }\n",
       "  if (root.Bokeh !== undefined) {\n",
       "    embed_document(root);\n",
       "  } else {\n",
       "    var attempts = 0;\n",
       "    var timer = setInterval(function(root) {\n",
       "      if (root.Bokeh !== undefined) {\n",
       "        embed_document(root);\n",
       "        clearInterval(timer);\n",
       "      }\n",
       "      attempts++;\n",
       "      if (attempts > 100) {\n",
       "        console.log(\"Bokeh: ERROR: Unable to run BokehJS code because BokehJS library is missing\")\n",
       "        clearInterval(timer);\n",
       "      }\n",
       "    }, 10, root)\n",
       "  }\n",
       "})(window);"
      ],
      "application/vnd.bokehjs_exec.v0+json": ""
     },
     "metadata": {
      "application/vnd.bokehjs_exec.v0+json": {
       "id": "960127fb-8b77-415c-9dd8-a56a90e4713f"
      }
     },
     "output_type": "display_data"
    }
   ],
   "source": [
    "show(p)"
   ]
  },
  {
   "cell_type": "markdown",
   "metadata": {},
   "source": [
    "#### Reset the plot output settings\n",
    "reset_output() will disable all the settings for how a plot output should be displayed"
   ]
  },
  {
   "cell_type": "code",
   "execution_count": 14,
   "metadata": {},
   "outputs": [],
   "source": [
    "from bokeh.io import reset_output\n",
    "\n",
    "reset_output()"
   ]
  },
  {
   "cell_type": "markdown",
   "metadata": {},
   "source": [
    "#### Write the output only to a file\n",
    "This time, running show() after output_file() will not cause the output to be rendered inline. "
   ]
  },
  {
   "cell_type": "code",
   "execution_count": 15,
   "metadata": {},
   "outputs": [],
   "source": [
    "output_file('line.html')"
   ]
  },
  {
   "cell_type": "code",
   "execution_count": 16,
   "metadata": {},
   "outputs": [],
   "source": [
    "p = figure(plot_width=600, \n",
    "           plot_height=300)\n",
    "\n",
    "p.line(x, y)\n",
    "\n",
    "show(p)"
   ]
  },
  {
   "cell_type": "code",
   "execution_count": null,
   "metadata": {},
   "outputs": [],
   "source": []
  },
  {
   "cell_type": "code",
   "execution_count": null,
   "metadata": {},
   "outputs": [],
   "source": []
  }
 ],
 "metadata": {
  "kernelspec": {
   "display_name": "Python 3",
   "language": "python",
   "name": "python3"
  },
  "language_info": {
   "codemirror_mode": {
    "name": "ipython",
    "version": 3
   },
   "file_extension": ".py",
   "mimetype": "text/x-python",
   "name": "python",
   "nbconvert_exporter": "python",
   "pygments_lexer": "ipython3",
   "version": "3.6.4"
  }
 },
 "nbformat": 4,
 "nbformat_minor": 2
}
