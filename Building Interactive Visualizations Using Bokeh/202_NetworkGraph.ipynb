{
 "cells": [
  {
   "cell_type": "code",
   "execution_count": 1,
   "metadata": {},
   "outputs": [
    {
     "data": {
      "text/html": [
       "\n",
       "    <div class=\"bk-root\">\n",
       "        <a href=\"https://bokeh.pydata.org\" target=\"_blank\" class=\"bk-logo bk-logo-small bk-logo-notebook\"></a>\n",
       "        <span id=\"20611f57-863d-417c-b3a6-cef63fe9aaa2\">Loading BokehJS ...</span>\n",
       "    </div>"
      ]
     },
     "metadata": {},
     "output_type": "display_data"
    },
    {
     "data": {
      "application/javascript": [
       "\n",
       "(function(root) {\n",
       "  function now() {\n",
       "    return new Date();\n",
       "  }\n",
       "\n",
       "  var force = true;\n",
       "\n",
       "  if (typeof (root._bokeh_onload_callbacks) === \"undefined\" || force === true) {\n",
       "    root._bokeh_onload_callbacks = [];\n",
       "    root._bokeh_is_loading = undefined;\n",
       "  }\n",
       "\n",
       "  var JS_MIME_TYPE = 'application/javascript';\n",
       "  var HTML_MIME_TYPE = 'text/html';\n",
       "  var EXEC_MIME_TYPE = 'application/vnd.bokehjs_exec.v0+json';\n",
       "  var CLASS_NAME = 'output_bokeh rendered_html';\n",
       "\n",
       "  /**\n",
       "   * Render data to the DOM node\n",
       "   */\n",
       "  function render(props, node) {\n",
       "    var script = document.createElement(\"script\");\n",
       "    node.appendChild(script);\n",
       "  }\n",
       "\n",
       "  /**\n",
       "   * Handle when an output is cleared or removed\n",
       "   */\n",
       "  function handleClearOutput(event, handle) {\n",
       "    var cell = handle.cell;\n",
       "\n",
       "    var id = cell.output_area._bokeh_element_id;\n",
       "    var server_id = cell.output_area._bokeh_server_id;\n",
       "    // Clean up Bokeh references\n",
       "    if (id != null && id in Bokeh.index) {\n",
       "      Bokeh.index[id].model.document.clear();\n",
       "      delete Bokeh.index[id];\n",
       "    }\n",
       "\n",
       "    if (server_id !== undefined) {\n",
       "      // Clean up Bokeh references\n",
       "      var cmd = \"from bokeh.io.state import curstate; print(curstate().uuid_to_server['\" + server_id + \"'].get_sessions()[0].document.roots[0]._id)\";\n",
       "      cell.notebook.kernel.execute(cmd, {\n",
       "        iopub: {\n",
       "          output: function(msg) {\n",
       "            var id = msg.content.text.trim();\n",
       "            if (id in Bokeh.index) {\n",
       "              Bokeh.index[id].model.document.clear();\n",
       "              delete Bokeh.index[id];\n",
       "            }\n",
       "          }\n",
       "        }\n",
       "      });\n",
       "      // Destroy server and session\n",
       "      var cmd = \"import bokeh.io.notebook as ion; ion.destroy_server('\" + server_id + \"')\";\n",
       "      cell.notebook.kernel.execute(cmd);\n",
       "    }\n",
       "  }\n",
       "\n",
       "  /**\n",
       "   * Handle when a new output is added\n",
       "   */\n",
       "  function handleAddOutput(event, handle) {\n",
       "    var output_area = handle.output_area;\n",
       "    var output = handle.output;\n",
       "\n",
       "    // limit handleAddOutput to display_data with EXEC_MIME_TYPE content only\n",
       "    if ((output.output_type != \"display_data\") || (!output.data.hasOwnProperty(EXEC_MIME_TYPE))) {\n",
       "      return\n",
       "    }\n",
       "\n",
       "    var toinsert = output_area.element.find(\".\" + CLASS_NAME.split(' ')[0]);\n",
       "\n",
       "    if (output.metadata[EXEC_MIME_TYPE][\"id\"] !== undefined) {\n",
       "      toinsert[toinsert.length - 1].firstChild.textContent = output.data[JS_MIME_TYPE];\n",
       "      // store reference to embed id on output_area\n",
       "      output_area._bokeh_element_id = output.metadata[EXEC_MIME_TYPE][\"id\"];\n",
       "    }\n",
       "    if (output.metadata[EXEC_MIME_TYPE][\"server_id\"] !== undefined) {\n",
       "      var bk_div = document.createElement(\"div\");\n",
       "      bk_div.innerHTML = output.data[HTML_MIME_TYPE];\n",
       "      var script_attrs = bk_div.children[0].attributes;\n",
       "      for (var i = 0; i < script_attrs.length; i++) {\n",
       "        toinsert[toinsert.length - 1].firstChild.setAttribute(script_attrs[i].name, script_attrs[i].value);\n",
       "      }\n",
       "      // store reference to server id on output_area\n",
       "      output_area._bokeh_server_id = output.metadata[EXEC_MIME_TYPE][\"server_id\"];\n",
       "    }\n",
       "  }\n",
       "\n",
       "  function register_renderer(events, OutputArea) {\n",
       "\n",
       "    function append_mime(data, metadata, element) {\n",
       "      // create a DOM node to render to\n",
       "      var toinsert = this.create_output_subarea(\n",
       "        metadata,\n",
       "        CLASS_NAME,\n",
       "        EXEC_MIME_TYPE\n",
       "      );\n",
       "      this.keyboard_manager.register_events(toinsert);\n",
       "      // Render to node\n",
       "      var props = {data: data, metadata: metadata[EXEC_MIME_TYPE]};\n",
       "      render(props, toinsert[toinsert.length - 1]);\n",
       "      element.append(toinsert);\n",
       "      return toinsert\n",
       "    }\n",
       "\n",
       "    /* Handle when an output is cleared or removed */\n",
       "    events.on('clear_output.CodeCell', handleClearOutput);\n",
       "    events.on('delete.Cell', handleClearOutput);\n",
       "\n",
       "    /* Handle when a new output is added */\n",
       "    events.on('output_added.OutputArea', handleAddOutput);\n",
       "\n",
       "    /**\n",
       "     * Register the mime type and append_mime function with output_area\n",
       "     */\n",
       "    OutputArea.prototype.register_mime_type(EXEC_MIME_TYPE, append_mime, {\n",
       "      /* Is output safe? */\n",
       "      safe: true,\n",
       "      /* Index of renderer in `output_area.display_order` */\n",
       "      index: 0\n",
       "    });\n",
       "  }\n",
       "\n",
       "  // register the mime type if in Jupyter Notebook environment and previously unregistered\n",
       "  if (root.Jupyter !== undefined) {\n",
       "    var events = require('base/js/events');\n",
       "    var OutputArea = require('notebook/js/outputarea').OutputArea;\n",
       "\n",
       "    if (OutputArea.prototype.mime_types().indexOf(EXEC_MIME_TYPE) == -1) {\n",
       "      register_renderer(events, OutputArea);\n",
       "    }\n",
       "  }\n",
       "\n",
       "  \n",
       "  if (typeof (root._bokeh_timeout) === \"undefined\" || force === true) {\n",
       "    root._bokeh_timeout = Date.now() + 5000;\n",
       "    root._bokeh_failed_load = false;\n",
       "  }\n",
       "\n",
       "  var NB_LOAD_WARNING = {'data': {'text/html':\n",
       "     \"<div style='background-color: #fdd'>\\n\"+\n",
       "     \"<p>\\n\"+\n",
       "     \"BokehJS does not appear to have successfully loaded. If loading BokehJS from CDN, this \\n\"+\n",
       "     \"may be due to a slow or bad network connection. Possible fixes:\\n\"+\n",
       "     \"</p>\\n\"+\n",
       "     \"<ul>\\n\"+\n",
       "     \"<li>re-rerun `output_notebook()` to attempt to load from CDN again, or</li>\\n\"+\n",
       "     \"<li>use INLINE resources instead, as so:</li>\\n\"+\n",
       "     \"</ul>\\n\"+\n",
       "     \"<code>\\n\"+\n",
       "     \"from bokeh.resources import INLINE\\n\"+\n",
       "     \"output_notebook(resources=INLINE)\\n\"+\n",
       "     \"</code>\\n\"+\n",
       "     \"</div>\"}};\n",
       "\n",
       "  function display_loaded() {\n",
       "    var el = document.getElementById(\"20611f57-863d-417c-b3a6-cef63fe9aaa2\");\n",
       "    if (el != null) {\n",
       "      el.textContent = \"BokehJS is loading...\";\n",
       "    }\n",
       "    if (root.Bokeh !== undefined) {\n",
       "      if (el != null) {\n",
       "        el.textContent = \"BokehJS \" + root.Bokeh.version + \" successfully loaded.\";\n",
       "      }\n",
       "    } else if (Date.now() < root._bokeh_timeout) {\n",
       "      setTimeout(display_loaded, 100)\n",
       "    }\n",
       "  }\n",
       "\n",
       "\n",
       "  function run_callbacks() {\n",
       "    try {\n",
       "      root._bokeh_onload_callbacks.forEach(function(callback) { callback() });\n",
       "    }\n",
       "    finally {\n",
       "      delete root._bokeh_onload_callbacks\n",
       "    }\n",
       "    console.info(\"Bokeh: all callbacks have finished\");\n",
       "  }\n",
       "\n",
       "  function load_libs(js_urls, callback) {\n",
       "    root._bokeh_onload_callbacks.push(callback);\n",
       "    if (root._bokeh_is_loading > 0) {\n",
       "      console.log(\"Bokeh: BokehJS is being loaded, scheduling callback at\", now());\n",
       "      return null;\n",
       "    }\n",
       "    if (js_urls == null || js_urls.length === 0) {\n",
       "      run_callbacks();\n",
       "      return null;\n",
       "    }\n",
       "    console.log(\"Bokeh: BokehJS not loaded, scheduling load and callback at\", now());\n",
       "    root._bokeh_is_loading = js_urls.length;\n",
       "    for (var i = 0; i < js_urls.length; i++) {\n",
       "      var url = js_urls[i];\n",
       "      var s = document.createElement('script');\n",
       "      s.src = url;\n",
       "      s.async = false;\n",
       "      s.onreadystatechange = s.onload = function() {\n",
       "        root._bokeh_is_loading--;\n",
       "        if (root._bokeh_is_loading === 0) {\n",
       "          console.log(\"Bokeh: all BokehJS libraries loaded\");\n",
       "          run_callbacks()\n",
       "        }\n",
       "      };\n",
       "      s.onerror = function() {\n",
       "        console.warn(\"failed to load library \" + url);\n",
       "      };\n",
       "      console.log(\"Bokeh: injecting script tag for BokehJS library: \", url);\n",
       "      document.getElementsByTagName(\"head\")[0].appendChild(s);\n",
       "    }\n",
       "  };var element = document.getElementById(\"20611f57-863d-417c-b3a6-cef63fe9aaa2\");\n",
       "  if (element == null) {\n",
       "    console.log(\"Bokeh: ERROR: autoload.js configured with elementid '20611f57-863d-417c-b3a6-cef63fe9aaa2' but no matching script tag was found. \")\n",
       "    return false;\n",
       "  }\n",
       "\n",
       "  var js_urls = [\"https://cdn.pydata.org/bokeh/release/bokeh-0.13.0.min.js\", \"https://cdn.pydata.org/bokeh/release/bokeh-widgets-0.13.0.min.js\", \"https://cdn.pydata.org/bokeh/release/bokeh-tables-0.13.0.min.js\", \"https://cdn.pydata.org/bokeh/release/bokeh-gl-0.13.0.min.js\"];\n",
       "\n",
       "  var inline_js = [\n",
       "    function(Bokeh) {\n",
       "      Bokeh.set_log_level(\"info\");\n",
       "    },\n",
       "    \n",
       "    function(Bokeh) {\n",
       "      \n",
       "    },\n",
       "    function(Bokeh) {\n",
       "      console.log(\"Bokeh: injecting CSS: https://cdn.pydata.org/bokeh/release/bokeh-0.13.0.min.css\");\n",
       "      Bokeh.embed.inject_css(\"https://cdn.pydata.org/bokeh/release/bokeh-0.13.0.min.css\");\n",
       "      console.log(\"Bokeh: injecting CSS: https://cdn.pydata.org/bokeh/release/bokeh-widgets-0.13.0.min.css\");\n",
       "      Bokeh.embed.inject_css(\"https://cdn.pydata.org/bokeh/release/bokeh-widgets-0.13.0.min.css\");\n",
       "      console.log(\"Bokeh: injecting CSS: https://cdn.pydata.org/bokeh/release/bokeh-tables-0.13.0.min.css\");\n",
       "      Bokeh.embed.inject_css(\"https://cdn.pydata.org/bokeh/release/bokeh-tables-0.13.0.min.css\");\n",
       "    }\n",
       "  ];\n",
       "\n",
       "  function run_inline_js() {\n",
       "    \n",
       "    if ((root.Bokeh !== undefined) || (force === true)) {\n",
       "      for (var i = 0; i < inline_js.length; i++) {\n",
       "        inline_js[i].call(root, root.Bokeh);\n",
       "      }if (force === true) {\n",
       "        display_loaded();\n",
       "      }} else if (Date.now() < root._bokeh_timeout) {\n",
       "      setTimeout(run_inline_js, 100);\n",
       "    } else if (!root._bokeh_failed_load) {\n",
       "      console.log(\"Bokeh: BokehJS failed to load within specified timeout.\");\n",
       "      root._bokeh_failed_load = true;\n",
       "    } else if (force !== true) {\n",
       "      var cell = $(document.getElementById(\"20611f57-863d-417c-b3a6-cef63fe9aaa2\")).parents('.cell').data().cell;\n",
       "      cell.output_area.append_execute_result(NB_LOAD_WARNING)\n",
       "    }\n",
       "\n",
       "  }\n",
       "\n",
       "  if (root._bokeh_is_loading === 0) {\n",
       "    console.log(\"Bokeh: BokehJS loaded, going straight to plotting\");\n",
       "    run_inline_js();\n",
       "  } else {\n",
       "    load_libs(js_urls, function() {\n",
       "      console.log(\"Bokeh: BokehJS plotting callback run at\", now());\n",
       "      run_inline_js();\n",
       "    });\n",
       "  }\n",
       "}(window));"
      ],
      "application/vnd.bokehjs_load.v0+json": "\n(function(root) {\n  function now() {\n    return new Date();\n  }\n\n  var force = true;\n\n  if (typeof (root._bokeh_onload_callbacks) === \"undefined\" || force === true) {\n    root._bokeh_onload_callbacks = [];\n    root._bokeh_is_loading = undefined;\n  }\n\n  \n\n  \n  if (typeof (root._bokeh_timeout) === \"undefined\" || force === true) {\n    root._bokeh_timeout = Date.now() + 5000;\n    root._bokeh_failed_load = false;\n  }\n\n  var NB_LOAD_WARNING = {'data': {'text/html':\n     \"<div style='background-color: #fdd'>\\n\"+\n     \"<p>\\n\"+\n     \"BokehJS does not appear to have successfully loaded. If loading BokehJS from CDN, this \\n\"+\n     \"may be due to a slow or bad network connection. Possible fixes:\\n\"+\n     \"</p>\\n\"+\n     \"<ul>\\n\"+\n     \"<li>re-rerun `output_notebook()` to attempt to load from CDN again, or</li>\\n\"+\n     \"<li>use INLINE resources instead, as so:</li>\\n\"+\n     \"</ul>\\n\"+\n     \"<code>\\n\"+\n     \"from bokeh.resources import INLINE\\n\"+\n     \"output_notebook(resources=INLINE)\\n\"+\n     \"</code>\\n\"+\n     \"</div>\"}};\n\n  function display_loaded() {\n    var el = document.getElementById(\"20611f57-863d-417c-b3a6-cef63fe9aaa2\");\n    if (el != null) {\n      el.textContent = \"BokehJS is loading...\";\n    }\n    if (root.Bokeh !== undefined) {\n      if (el != null) {\n        el.textContent = \"BokehJS \" + root.Bokeh.version + \" successfully loaded.\";\n      }\n    } else if (Date.now() < root._bokeh_timeout) {\n      setTimeout(display_loaded, 100)\n    }\n  }\n\n\n  function run_callbacks() {\n    try {\n      root._bokeh_onload_callbacks.forEach(function(callback) { callback() });\n    }\n    finally {\n      delete root._bokeh_onload_callbacks\n    }\n    console.info(\"Bokeh: all callbacks have finished\");\n  }\n\n  function load_libs(js_urls, callback) {\n    root._bokeh_onload_callbacks.push(callback);\n    if (root._bokeh_is_loading > 0) {\n      console.log(\"Bokeh: BokehJS is being loaded, scheduling callback at\", now());\n      return null;\n    }\n    if (js_urls == null || js_urls.length === 0) {\n      run_callbacks();\n      return null;\n    }\n    console.log(\"Bokeh: BokehJS not loaded, scheduling load and callback at\", now());\n    root._bokeh_is_loading = js_urls.length;\n    for (var i = 0; i < js_urls.length; i++) {\n      var url = js_urls[i];\n      var s = document.createElement('script');\n      s.src = url;\n      s.async = false;\n      s.onreadystatechange = s.onload = function() {\n        root._bokeh_is_loading--;\n        if (root._bokeh_is_loading === 0) {\n          console.log(\"Bokeh: all BokehJS libraries loaded\");\n          run_callbacks()\n        }\n      };\n      s.onerror = function() {\n        console.warn(\"failed to load library \" + url);\n      };\n      console.log(\"Bokeh: injecting script tag for BokehJS library: \", url);\n      document.getElementsByTagName(\"head\")[0].appendChild(s);\n    }\n  };var element = document.getElementById(\"20611f57-863d-417c-b3a6-cef63fe9aaa2\");\n  if (element == null) {\n    console.log(\"Bokeh: ERROR: autoload.js configured with elementid '20611f57-863d-417c-b3a6-cef63fe9aaa2' but no matching script tag was found. \")\n    return false;\n  }\n\n  var js_urls = [\"https://cdn.pydata.org/bokeh/release/bokeh-0.13.0.min.js\", \"https://cdn.pydata.org/bokeh/release/bokeh-widgets-0.13.0.min.js\", \"https://cdn.pydata.org/bokeh/release/bokeh-tables-0.13.0.min.js\", \"https://cdn.pydata.org/bokeh/release/bokeh-gl-0.13.0.min.js\"];\n\n  var inline_js = [\n    function(Bokeh) {\n      Bokeh.set_log_level(\"info\");\n    },\n    \n    function(Bokeh) {\n      \n    },\n    function(Bokeh) {\n      console.log(\"Bokeh: injecting CSS: https://cdn.pydata.org/bokeh/release/bokeh-0.13.0.min.css\");\n      Bokeh.embed.inject_css(\"https://cdn.pydata.org/bokeh/release/bokeh-0.13.0.min.css\");\n      console.log(\"Bokeh: injecting CSS: https://cdn.pydata.org/bokeh/release/bokeh-widgets-0.13.0.min.css\");\n      Bokeh.embed.inject_css(\"https://cdn.pydata.org/bokeh/release/bokeh-widgets-0.13.0.min.css\");\n      console.log(\"Bokeh: injecting CSS: https://cdn.pydata.org/bokeh/release/bokeh-tables-0.13.0.min.css\");\n      Bokeh.embed.inject_css(\"https://cdn.pydata.org/bokeh/release/bokeh-tables-0.13.0.min.css\");\n    }\n  ];\n\n  function run_inline_js() {\n    \n    if ((root.Bokeh !== undefined) || (force === true)) {\n      for (var i = 0; i < inline_js.length; i++) {\n        inline_js[i].call(root, root.Bokeh);\n      }if (force === true) {\n        display_loaded();\n      }} else if (Date.now() < root._bokeh_timeout) {\n      setTimeout(run_inline_js, 100);\n    } else if (!root._bokeh_failed_load) {\n      console.log(\"Bokeh: BokehJS failed to load within specified timeout.\");\n      root._bokeh_failed_load = true;\n    } else if (force !== true) {\n      var cell = $(document.getElementById(\"20611f57-863d-417c-b3a6-cef63fe9aaa2\")).parents('.cell').data().cell;\n      cell.output_area.append_execute_result(NB_LOAD_WARNING)\n    }\n\n  }\n\n  if (root._bokeh_is_loading === 0) {\n    console.log(\"Bokeh: BokehJS loaded, going straight to plotting\");\n    run_inline_js();\n  } else {\n    load_libs(js_urls, function() {\n      console.log(\"Bokeh: BokehJS plotting callback run at\", now());\n      run_inline_js();\n    });\n  }\n}(window));"
     },
     "metadata": {},
     "output_type": "display_data"
    }
   ],
   "source": [
    "from bokeh.io import output_notebook, show\n",
    "from bokeh.plotting import figure\n",
    "import pandas as pd\n",
    "\n",
    "output_notebook()"
   ]
  },
  {
   "cell_type": "markdown",
   "metadata": {},
   "source": [
    "#### A list of nodes along with their coordinates\n",
    "In our network graph, we will plot a set of nodes. For this example, the nodes, along with their x,y coordinates are obtained from a file"
   ]
  },
  {
   "cell_type": "code",
   "execution_count": 2,
   "metadata": {},
   "outputs": [
    {
     "data": {
      "text/html": [
       "<div>\n",
       "<style scoped>\n",
       "    .dataframe tbody tr th:only-of-type {\n",
       "        vertical-align: middle;\n",
       "    }\n",
       "\n",
       "    .dataframe tbody tr th {\n",
       "        vertical-align: top;\n",
       "    }\n",
       "\n",
       "    .dataframe thead th {\n",
       "        text-align: right;\n",
       "    }\n",
       "</style>\n",
       "<table border=\"1\" class=\"dataframe\">\n",
       "  <thead>\n",
       "    <tr style=\"text-align: right;\">\n",
       "      <th></th>\n",
       "      <th>Node</th>\n",
       "      <th>x</th>\n",
       "      <th>y</th>\n",
       "    </tr>\n",
       "  </thead>\n",
       "  <tbody>\n",
       "    <tr>\n",
       "      <th>0</th>\n",
       "      <td>A</td>\n",
       "      <td>1</td>\n",
       "      <td>3</td>\n",
       "    </tr>\n",
       "    <tr>\n",
       "      <th>1</th>\n",
       "      <td>B</td>\n",
       "      <td>1</td>\n",
       "      <td>1</td>\n",
       "    </tr>\n",
       "    <tr>\n",
       "      <th>2</th>\n",
       "      <td>C</td>\n",
       "      <td>3</td>\n",
       "      <td>2</td>\n",
       "    </tr>\n",
       "    <tr>\n",
       "      <th>3</th>\n",
       "      <td>D</td>\n",
       "      <td>4</td>\n",
       "      <td>4</td>\n",
       "    </tr>\n",
       "  </tbody>\n",
       "</table>\n",
       "</div>"
      ],
      "text/plain": [
       "  Node  x  y\n",
       "0    A  1  3\n",
       "1    B  1  1\n",
       "2    C  3  2\n",
       "3    D  4  4"
      ]
     },
     "execution_count": 2,
     "metadata": {},
     "output_type": "execute_result"
    }
   ],
   "source": [
    "nodes_df = pd.read_csv('datasets/nodes.csv')\n",
    "nodes_df"
   ]
  },
  {
   "cell_type": "markdown",
   "metadata": {},
   "source": [
    "#### Create a dictionary for the nodes\n",
    "The Bokeh network graph gets its node data from a dictionary which we will now create"
   ]
  },
  {
   "cell_type": "code",
   "execution_count": 3,
   "metadata": {},
   "outputs": [],
   "source": [
    "nodes = {}"
   ]
  },
  {
   "cell_type": "markdown",
   "metadata": {},
   "source": [
    "#### Populate the dictionary\n",
    "The keys of the dictionary are the node names, and the corresponding values represent the node coordinates in a tuple"
   ]
  },
  {
   "cell_type": "code",
   "execution_count": 4,
   "metadata": {},
   "outputs": [
    {
     "data": {
      "text/plain": [
       "{'A': (1, 3), 'B': (1, 1), 'C': (3, 2), 'D': (4, 4)}"
      ]
     },
     "execution_count": 4,
     "metadata": {},
     "output_type": "execute_result"
    }
   ],
   "source": [
    "for index, row in nodes_df.iterrows():\n",
    "    nodes[row['Node']] = (row['x'], row['y'])\n",
    "    \n",
    "nodes"
   ]
  },
  {
   "cell_type": "markdown",
   "metadata": {},
   "source": [
    "#### Import the objects we require to display the nodes\n",
    "This includes a color palette to color the 4 nodes"
   ]
  },
  {
   "cell_type": "code",
   "execution_count": 5,
   "metadata": {},
   "outputs": [],
   "source": [
    "from bokeh.models import GraphRenderer, StaticLayoutProvider, Oval\n",
    "from bokeh.palettes import Viridis4\n",
    "from bokeh.models import LabelSet, ColumnDataSource"
   ]
  },
  {
   "cell_type": "markdown",
   "metadata": {},
   "source": [
    "#### Define the figure for our graph\n",
    "We set the X and Y ranges to ensure that all the nodes are properly displayed"
   ]
  },
  {
   "cell_type": "code",
   "execution_count": 6,
   "metadata": {},
   "outputs": [],
   "source": [
    "p = figure(plot_width = 600, \n",
    "           plot_height = 300, \n",
    "           \n",
    "           x_range = (0, 5), \n",
    "           y_range = (0, 5)\n",
    "          )"
   ]
  },
  {
   "cell_type": "markdown",
   "metadata": {},
   "source": [
    "#### Initialize the GraphRenderer\n",
    "This object will be used to define each aspect of our network graph"
   ]
  },
  {
   "cell_type": "code",
   "execution_count": 7,
   "metadata": {},
   "outputs": [],
   "source": [
    "graph = GraphRenderer()"
   ]
  },
  {
   "cell_type": "markdown",
   "metadata": {},
   "source": [
    "#### Set the data source for the graph\n",
    "The set of nodes is contained in the keys of our nodes dictionary. This is set as the 'index' of the data source for our graph"
   ]
  },
  {
   "cell_type": "code",
   "execution_count": 8,
   "metadata": {},
   "outputs": [
    {
     "data": {
      "text/plain": [
       "'index'"
      ]
     },
     "execution_count": 8,
     "metadata": {},
     "output_type": "execute_result"
    }
   ],
   "source": [
    "graph.node_renderer.data_source.add(list(nodes.keys()), 'index')"
   ]
  },
  {
   "cell_type": "markdown",
   "metadata": {},
   "source": [
    "#### Plot the nodes using the StaticLayoutProvider\n",
    "This will accept the dictionary we created and plot the nodes on the graph at their x,y coordinates"
   ]
  },
  {
   "cell_type": "code",
   "execution_count": 9,
   "metadata": {},
   "outputs": [],
   "source": [
    "graph.layout_provider = StaticLayoutProvider(graph_layout = nodes)"
   ]
  },
  {
   "cell_type": "markdown",
   "metadata": {},
   "source": [
    "#### Add the GraphRenderer object to the figure "
   ]
  },
  {
   "cell_type": "code",
   "execution_count": 10,
   "metadata": {},
   "outputs": [],
   "source": [
    "p.renderers.append(graph)"
   ]
  },
  {
   "cell_type": "markdown",
   "metadata": {},
   "source": [
    "#### View the nodes which have been plotted\n",
    "The nodes are denoted by tiny markers. We can now format these to make the nodes more prominent"
   ]
  },
  {
   "cell_type": "code",
   "execution_count": 11,
   "metadata": {},
   "outputs": [
    {
     "data": {
      "text/html": [
       "\n",
       "\n",
       "\n",
       "\n",
       "\n",
       "\n",
       "  <div class=\"bk-root\" id=\"8f0fe905-f891-49af-bbda-4aa502d775ef\"></div>\n"
      ]
     },
     "metadata": {},
     "output_type": "display_data"
    },
    {
     "data": {
      "application/javascript": [
       "(function(root) {\n",
       "  function embed_document(root) {\n",
       "    \n",
       "  var docs_json = {\"0fe04172-943b-4176-a29a-ae11b27ce761\":{\"roots\":{\"references\":[{\"attributes\":{},\"id\":\"8bb694ab-f233-44c9-befa-e0510bf8dac3\",\"type\":\"BasicTickFormatter\"},{\"attributes\":{},\"id\":\"f215ddde-1de5-4f30-a09c-ed7b4167bab9\",\"type\":\"PanTool\"},{\"attributes\":{},\"id\":\"220e904d-0ee7-4c99-8b06-c3a5a5d56618\",\"type\":\"BasicTickFormatter\"},{\"attributes\":{},\"id\":\"e79e704a-b3ac-42a1-bca9-da5367529403\",\"type\":\"HelpTool\"},{\"attributes\":{\"source\":{\"id\":\"b7c42464-f4b9-45ee-8643-5d57dad13f4b\",\"type\":\"ColumnDataSource\"}},\"id\":\"13668360-c4be-4789-b45b-9b5b205c5ade\",\"type\":\"CDSView\"},{\"attributes\":{},\"id\":\"44e39e8b-1e02-4d31-9c9a-3b63d52c7932\",\"type\":\"Selection\"},{\"attributes\":{},\"id\":\"ea24caba-a55b-4757-9bc1-e3054851c6fd\",\"type\":\"UnionRenderers\"},{\"attributes\":{},\"id\":\"fca5529d-21a7-4a9f-a17d-ce7cbc411813\",\"type\":\"Selection\"},{\"attributes\":{},\"id\":\"38875b65-4b0e-4b19-a129-6826f1a0b4e0\",\"type\":\"UnionRenderers\"},{\"attributes\":{},\"id\":\"913659fa-5627-4ca1-a67a-05e1a1a8a868\",\"type\":\"ResetTool\"},{\"attributes\":{\"data_source\":{\"id\":\"b7c42464-f4b9-45ee-8643-5d57dad13f4b\",\"type\":\"ColumnDataSource\"},\"glyph\":{\"id\":\"8f15578f-94d5-4d79-8be9-19168959f1fb\",\"type\":\"Circle\"},\"hover_glyph\":null,\"muted_glyph\":null,\"view\":{\"id\":\"13668360-c4be-4789-b45b-9b5b205c5ade\",\"type\":\"CDSView\"}},\"id\":\"bde3eeda-af65-41a7-9f5c-4d92e11a59e7\",\"type\":\"GlyphRenderer\"},{\"attributes\":{\"callback\":null,\"data\":{\"end\":[],\"start\":[]},\"selected\":{\"id\":\"44e39e8b-1e02-4d31-9c9a-3b63d52c7932\",\"type\":\"Selection\"},\"selection_policy\":{\"id\":\"ea24caba-a55b-4757-9bc1-e3054851c6fd\",\"type\":\"UnionRenderers\"}},\"id\":\"0042a1ad-20e0-4c1a-b71f-1ae76f013505\",\"type\":\"ColumnDataSource\"},{\"attributes\":{},\"id\":\"8f15578f-94d5-4d79-8be9-19168959f1fb\",\"type\":\"Circle\"},{\"attributes\":{\"edge_renderer\":{\"id\":\"afd8e4e6-0eee-4564-ac7d-568cdbafa063\",\"type\":\"GlyphRenderer\"},\"inspection_policy\":{\"id\":\"8967c5a2-51d8-43c6-86f1-aa7d5c30e637\",\"type\":\"NodesOnly\"},\"layout_provider\":{\"id\":\"b0629f29-5a0a-43e7-9d2b-188529772777\",\"type\":\"StaticLayoutProvider\"},\"node_renderer\":{\"id\":\"bde3eeda-af65-41a7-9f5c-4d92e11a59e7\",\"type\":\"GlyphRenderer\"},\"selection_policy\":{\"id\":\"e5a32176-4dce-4b22-900e-b03ce5f09638\",\"type\":\"NodesOnly\"}},\"id\":\"5c317e49-dae4-4a16-b834-39787a2453ec\",\"type\":\"GraphRenderer\"},{\"attributes\":{\"plot\":{\"id\":\"a0b261b9-d01f-48da-952b-bf6f4bd25ead\",\"subtype\":\"Figure\",\"type\":\"Plot\"},\"ticker\":{\"id\":\"f202866e-3e4d-4847-b963-a96665b49f7c\",\"type\":\"BasicTicker\"}},\"id\":\"0d74c854-5afd-481d-baee-be26155c97c0\",\"type\":\"Grid\"},{\"attributes\":{\"graph_layout\":{\"A\":[1,3],\"B\":[1,1],\"C\":[3,2],\"D\":[4,4]}},\"id\":\"b0629f29-5a0a-43e7-9d2b-188529772777\",\"type\":\"StaticLayoutProvider\"},{\"attributes\":{\"plot\":null,\"text\":\"\"},\"id\":\"d9530900-cc42-4d3e-9656-2a7251e1197e\",\"type\":\"Title\"},{\"attributes\":{},\"id\":\"f202866e-3e4d-4847-b963-a96665b49f7c\",\"type\":\"BasicTicker\"},{\"attributes\":{\"callback\":null,\"data\":{\"index\":[\"A\",\"B\",\"C\",\"D\"]},\"selected\":{\"id\":\"fca5529d-21a7-4a9f-a17d-ce7cbc411813\",\"type\":\"Selection\"},\"selection_policy\":{\"id\":\"38875b65-4b0e-4b19-a129-6826f1a0b4e0\",\"type\":\"UnionRenderers\"}},\"id\":\"b7c42464-f4b9-45ee-8643-5d57dad13f4b\",\"type\":\"ColumnDataSource\"},{\"attributes\":{\"below\":[{\"id\":\"26e9519b-c367-43ea-8655-65981aff7488\",\"type\":\"LinearAxis\"}],\"left\":[{\"id\":\"67982237-d9f4-40bd-8552-ec690042de37\",\"type\":\"LinearAxis\"}],\"plot_height\":300,\"renderers\":[{\"id\":\"26e9519b-c367-43ea-8655-65981aff7488\",\"type\":\"LinearAxis\"},{\"id\":\"0d74c854-5afd-481d-baee-be26155c97c0\",\"type\":\"Grid\"},{\"id\":\"67982237-d9f4-40bd-8552-ec690042de37\",\"type\":\"LinearAxis\"},{\"id\":\"11c0289f-d6e6-47fb-ba95-825587c008da\",\"type\":\"Grid\"},{\"id\":\"0afd4fc7-a91f-4384-9e84-0f603b258228\",\"type\":\"BoxAnnotation\"},{\"id\":\"5c317e49-dae4-4a16-b834-39787a2453ec\",\"type\":\"GraphRenderer\"}],\"title\":{\"id\":\"d9530900-cc42-4d3e-9656-2a7251e1197e\",\"type\":\"Title\"},\"toolbar\":{\"id\":\"c0de42cd-1915-4467-8dcb-1afb650dc749\",\"type\":\"Toolbar\"},\"x_range\":{\"id\":\"4ee79c68-c0bf-462d-b202-d3953c347801\",\"type\":\"Range1d\"},\"x_scale\":{\"id\":\"a211bc1c-dd84-44ee-8aa2-d630c58037d6\",\"type\":\"LinearScale\"},\"y_range\":{\"id\":\"be464e76-ad63-4e66-93ae-e3a0ba47676b\",\"type\":\"Range1d\"},\"y_scale\":{\"id\":\"ecfaa444-b656-45e5-a0e6-c9110b3a533d\",\"type\":\"LinearScale\"}},\"id\":\"a0b261b9-d01f-48da-952b-bf6f4bd25ead\",\"subtype\":\"Figure\",\"type\":\"Plot\"},{\"attributes\":{},\"id\":\"de062973-9e19-4b82-81f4-a35f552f43cd\",\"type\":\"MultiLine\"},{\"attributes\":{\"data_source\":{\"id\":\"0042a1ad-20e0-4c1a-b71f-1ae76f013505\",\"type\":\"ColumnDataSource\"},\"glyph\":{\"id\":\"de062973-9e19-4b82-81f4-a35f552f43cd\",\"type\":\"MultiLine\"},\"hover_glyph\":null,\"muted_glyph\":null,\"view\":{\"id\":\"9f0fa3f3-3346-4f63-95b8-6207ec435754\",\"type\":\"CDSView\"}},\"id\":\"afd8e4e6-0eee-4564-ac7d-568cdbafa063\",\"type\":\"GlyphRenderer\"},{\"attributes\":{\"active_drag\":\"auto\",\"active_inspect\":\"auto\",\"active_multi\":null,\"active_scroll\":\"auto\",\"active_tap\":\"auto\",\"tools\":[{\"id\":\"f215ddde-1de5-4f30-a09c-ed7b4167bab9\",\"type\":\"PanTool\"},{\"id\":\"3e40d852-0a9b-46ce-81a9-36bfe7472a91\",\"type\":\"WheelZoomTool\"},{\"id\":\"66aeacf4-5558-408e-a82f-fab049d61e60\",\"type\":\"BoxZoomTool\"},{\"id\":\"79d37c59-c120-491d-bbe8-bb980fb3ab30\",\"type\":\"SaveTool\"},{\"id\":\"913659fa-5627-4ca1-a67a-05e1a1a8a868\",\"type\":\"ResetTool\"},{\"id\":\"e79e704a-b3ac-42a1-bca9-da5367529403\",\"type\":\"HelpTool\"}]},\"id\":\"c0de42cd-1915-4467-8dcb-1afb650dc749\",\"type\":\"Toolbar\"},{\"attributes\":{\"dimension\":1,\"plot\":{\"id\":\"a0b261b9-d01f-48da-952b-bf6f4bd25ead\",\"subtype\":\"Figure\",\"type\":\"Plot\"},\"ticker\":{\"id\":\"010ba7e6-e3e6-4ee0-a933-f035e5a88107\",\"type\":\"BasicTicker\"}},\"id\":\"11c0289f-d6e6-47fb-ba95-825587c008da\",\"type\":\"Grid\"},{\"attributes\":{\"formatter\":{\"id\":\"220e904d-0ee7-4c99-8b06-c3a5a5d56618\",\"type\":\"BasicTickFormatter\"},\"plot\":{\"id\":\"a0b261b9-d01f-48da-952b-bf6f4bd25ead\",\"subtype\":\"Figure\",\"type\":\"Plot\"},\"ticker\":{\"id\":\"010ba7e6-e3e6-4ee0-a933-f035e5a88107\",\"type\":\"BasicTicker\"}},\"id\":\"67982237-d9f4-40bd-8552-ec690042de37\",\"type\":\"LinearAxis\"},{\"attributes\":{},\"id\":\"010ba7e6-e3e6-4ee0-a933-f035e5a88107\",\"type\":\"BasicTicker\"},{\"attributes\":{\"source\":{\"id\":\"0042a1ad-20e0-4c1a-b71f-1ae76f013505\",\"type\":\"ColumnDataSource\"}},\"id\":\"9f0fa3f3-3346-4f63-95b8-6207ec435754\",\"type\":\"CDSView\"},{\"attributes\":{\"callback\":null,\"end\":5},\"id\":\"4ee79c68-c0bf-462d-b202-d3953c347801\",\"type\":\"Range1d\"},{\"attributes\":{\"callback\":null,\"end\":5},\"id\":\"be464e76-ad63-4e66-93ae-e3a0ba47676b\",\"type\":\"Range1d\"},{\"attributes\":{\"bottom_units\":\"screen\",\"fill_alpha\":{\"value\":0.5},\"fill_color\":{\"value\":\"lightgrey\"},\"left_units\":\"screen\",\"level\":\"overlay\",\"line_alpha\":{\"value\":1.0},\"line_color\":{\"value\":\"black\"},\"line_dash\":[4,4],\"line_width\":{\"value\":2},\"plot\":null,\"render_mode\":\"css\",\"right_units\":\"screen\",\"top_units\":\"screen\"},\"id\":\"0afd4fc7-a91f-4384-9e84-0f603b258228\",\"type\":\"BoxAnnotation\"},{\"attributes\":{\"overlay\":{\"id\":\"0afd4fc7-a91f-4384-9e84-0f603b258228\",\"type\":\"BoxAnnotation\"}},\"id\":\"66aeacf4-5558-408e-a82f-fab049d61e60\",\"type\":\"BoxZoomTool\"},{\"attributes\":{\"formatter\":{\"id\":\"8bb694ab-f233-44c9-befa-e0510bf8dac3\",\"type\":\"BasicTickFormatter\"},\"plot\":{\"id\":\"a0b261b9-d01f-48da-952b-bf6f4bd25ead\",\"subtype\":\"Figure\",\"type\":\"Plot\"},\"ticker\":{\"id\":\"f202866e-3e4d-4847-b963-a96665b49f7c\",\"type\":\"BasicTicker\"}},\"id\":\"26e9519b-c367-43ea-8655-65981aff7488\",\"type\":\"LinearAxis\"},{\"attributes\":{},\"id\":\"79d37c59-c120-491d-bbe8-bb980fb3ab30\",\"type\":\"SaveTool\"},{\"attributes\":{},\"id\":\"a211bc1c-dd84-44ee-8aa2-d630c58037d6\",\"type\":\"LinearScale\"},{\"attributes\":{},\"id\":\"8967c5a2-51d8-43c6-86f1-aa7d5c30e637\",\"type\":\"NodesOnly\"},{\"attributes\":{},\"id\":\"3e40d852-0a9b-46ce-81a9-36bfe7472a91\",\"type\":\"WheelZoomTool\"},{\"attributes\":{},\"id\":\"e5a32176-4dce-4b22-900e-b03ce5f09638\",\"type\":\"NodesOnly\"},{\"attributes\":{},\"id\":\"ecfaa444-b656-45e5-a0e6-c9110b3a533d\",\"type\":\"LinearScale\"}],\"root_ids\":[\"a0b261b9-d01f-48da-952b-bf6f4bd25ead\"]},\"title\":\"Bokeh Application\",\"version\":\"0.13.0\"}};\n",
       "  var render_items = [{\"docid\":\"0fe04172-943b-4176-a29a-ae11b27ce761\",\"roots\":{\"a0b261b9-d01f-48da-952b-bf6f4bd25ead\":\"8f0fe905-f891-49af-bbda-4aa502d775ef\"}}];\n",
       "  root.Bokeh.embed.embed_items_notebook(docs_json, render_items);\n",
       "\n",
       "  }\n",
       "  if (root.Bokeh !== undefined) {\n",
       "    embed_document(root);\n",
       "  } else {\n",
       "    var attempts = 0;\n",
       "    var timer = setInterval(function(root) {\n",
       "      if (root.Bokeh !== undefined) {\n",
       "        embed_document(root);\n",
       "        clearInterval(timer);\n",
       "      }\n",
       "      attempts++;\n",
       "      if (attempts > 100) {\n",
       "        console.log(\"Bokeh: ERROR: Unable to run BokehJS code because BokehJS library is missing\")\n",
       "        clearInterval(timer);\n",
       "      }\n",
       "    }, 10, root)\n",
       "  }\n",
       "})(window);"
      ],
      "application/vnd.bokehjs_exec.v0+json": ""
     },
     "metadata": {
      "application/vnd.bokehjs_exec.v0+json": {
       "id": "a0b261b9-d01f-48da-952b-bf6f4bd25ead"
      }
     },
     "output_type": "display_data"
    }
   ],
   "source": [
    "show(p)"
   ]
  },
  {
   "cell_type": "markdown",
   "metadata": {},
   "source": [
    "#### Set a color palette for the graph\n",
    "The 'color' data source of the graph is set to our color palette comprising 4 colors - one for each node in the graph"
   ]
  },
  {
   "cell_type": "code",
   "execution_count": 12,
   "metadata": {},
   "outputs": [
    {
     "data": {
      "text/plain": [
       "'color'"
      ]
     },
     "execution_count": 12,
     "metadata": {},
     "output_type": "execute_result"
    }
   ],
   "source": [
    "graph.node_renderer.data_source.add(Viridis4, 'color')"
   ]
  },
  {
   "cell_type": "markdown",
   "metadata": {},
   "source": [
    "#### Define the shape of the nodes using the node_renderer\n",
    "An oval shape will be used to mark the nodes. The colors of these shapes will be obtained from the 'color' field in the graph's data source - which we had set in the previous cell"
   ]
  },
  {
   "cell_type": "code",
   "execution_count": 13,
   "metadata": {},
   "outputs": [],
   "source": [
    "graph.node_renderer.glyph = Oval(height=0.3, \n",
    "                                 width=0.5, \n",
    "                                 \n",
    "                                 fill_color='color')"
   ]
  },
  {
   "cell_type": "markdown",
   "metadata": {},
   "source": [
    "#### Add the updated graph to the figure"
   ]
  },
  {
   "cell_type": "code",
   "execution_count": 14,
   "metadata": {},
   "outputs": [],
   "source": [
    "p.renderers.append(graph)"
   ]
  },
  {
   "cell_type": "markdown",
   "metadata": {},
   "source": [
    "#### To add labels for the nodes, we create a ColumnDataSource from our dataframe"
   ]
  },
  {
   "cell_type": "code",
   "execution_count": 15,
   "metadata": {},
   "outputs": [],
   "source": [
    "cds_data = ColumnDataSource(nodes_df)"
   ]
  },
  {
   "cell_type": "markdown",
   "metadata": {},
   "source": [
    "#### Define the labels\n",
    "The coordinates are obtained from the ColumnDataSource object along with the node labels. We attach the labels just outside the ovals using an offset"
   ]
  },
  {
   "cell_type": "code",
   "execution_count": 16,
   "metadata": {},
   "outputs": [],
   "source": [
    "labels = LabelSet(x = 'x', \n",
    "                  y = 'y', \n",
    "                  \n",
    "                  text = 'Node',\n",
    "                  \n",
    "                  x_offset=5, \n",
    "                  y_offset=5,\n",
    "                  \n",
    "                  source = cds_data\n",
    "                 )"
   ]
  },
  {
   "cell_type": "markdown",
   "metadata": {},
   "source": [
    "#### Add the labels to the figure"
   ]
  },
  {
   "cell_type": "code",
   "execution_count": 17,
   "metadata": {},
   "outputs": [],
   "source": [
    "p.add_layout(labels)"
   ]
  },
  {
   "cell_type": "markdown",
   "metadata": {},
   "source": [
    "#### View the updated graph\n",
    "We now see our nodes denoted by colorful markers"
   ]
  },
  {
   "cell_type": "code",
   "execution_count": 18,
   "metadata": {},
   "outputs": [
    {
     "data": {
      "text/html": [
       "\n",
       "\n",
       "\n",
       "\n",
       "\n",
       "\n",
       "  <div class=\"bk-root\" id=\"c58f756e-3bf5-49df-8d46-7bc86b31e7d4\"></div>\n"
      ]
     },
     "metadata": {},
     "output_type": "display_data"
    },
    {
     "data": {
      "application/javascript": [
       "(function(root) {\n",
       "  function embed_document(root) {\n",
       "    \n",
       "  var docs_json = {\"e19e795c-7c8d-4c8c-96e8-bc89220f4556\":{\"roots\":{\"references\":[{\"attributes\":{},\"id\":\"8bb694ab-f233-44c9-befa-e0510bf8dac3\",\"type\":\"BasicTickFormatter\"},{\"attributes\":{},\"id\":\"f215ddde-1de5-4f30-a09c-ed7b4167bab9\",\"type\":\"PanTool\"},{\"attributes\":{},\"id\":\"220e904d-0ee7-4c99-8b06-c3a5a5d56618\",\"type\":\"BasicTickFormatter\"},{\"attributes\":{},\"id\":\"e79e704a-b3ac-42a1-bca9-da5367529403\",\"type\":\"HelpTool\"},{\"attributes\":{\"source\":{\"id\":\"b7c42464-f4b9-45ee-8643-5d57dad13f4b\",\"type\":\"ColumnDataSource\"}},\"id\":\"13668360-c4be-4789-b45b-9b5b205c5ade\",\"type\":\"CDSView\"},{\"attributes\":{},\"id\":\"44e39e8b-1e02-4d31-9c9a-3b63d52c7932\",\"type\":\"Selection\"},{\"attributes\":{},\"id\":\"ea24caba-a55b-4757-9bc1-e3054851c6fd\",\"type\":\"UnionRenderers\"},{\"attributes\":{\"fill_color\":{\"field\":\"color\"},\"height\":{\"units\":\"data\",\"value\":0.3},\"width\":{\"units\":\"data\",\"value\":0.5}},\"id\":\"ca9488a5-d1b1-4307-98b5-e13b6e7ddaab\",\"type\":\"Oval\"},{\"attributes\":{},\"id\":\"fca5529d-21a7-4a9f-a17d-ce7cbc411813\",\"type\":\"Selection\"},{\"attributes\":{},\"id\":\"38875b65-4b0e-4b19-a129-6826f1a0b4e0\",\"type\":\"UnionRenderers\"},{\"attributes\":{},\"id\":\"913659fa-5627-4ca1-a67a-05e1a1a8a868\",\"type\":\"ResetTool\"},{\"attributes\":{\"data_source\":{\"id\":\"b7c42464-f4b9-45ee-8643-5d57dad13f4b\",\"type\":\"ColumnDataSource\"},\"glyph\":{\"id\":\"ca9488a5-d1b1-4307-98b5-e13b6e7ddaab\",\"type\":\"Oval\"},\"hover_glyph\":null,\"muted_glyph\":null,\"view\":{\"id\":\"13668360-c4be-4789-b45b-9b5b205c5ade\",\"type\":\"CDSView\"}},\"id\":\"bde3eeda-af65-41a7-9f5c-4d92e11a59e7\",\"type\":\"GlyphRenderer\"},{\"attributes\":{\"callback\":null,\"data\":{\"end\":[],\"start\":[]},\"selected\":{\"id\":\"44e39e8b-1e02-4d31-9c9a-3b63d52c7932\",\"type\":\"Selection\"},\"selection_policy\":{\"id\":\"ea24caba-a55b-4757-9bc1-e3054851c6fd\",\"type\":\"UnionRenderers\"}},\"id\":\"0042a1ad-20e0-4c1a-b71f-1ae76f013505\",\"type\":\"ColumnDataSource\"},{\"attributes\":{},\"id\":\"06a0401b-5725-44b4-a7e5-22f11910ecb1\",\"type\":\"Selection\"},{\"attributes\":{\"edge_renderer\":{\"id\":\"afd8e4e6-0eee-4564-ac7d-568cdbafa063\",\"type\":\"GlyphRenderer\"},\"inspection_policy\":{\"id\":\"8967c5a2-51d8-43c6-86f1-aa7d5c30e637\",\"type\":\"NodesOnly\"},\"layout_provider\":{\"id\":\"b0629f29-5a0a-43e7-9d2b-188529772777\",\"type\":\"StaticLayoutProvider\"},\"node_renderer\":{\"id\":\"bde3eeda-af65-41a7-9f5c-4d92e11a59e7\",\"type\":\"GlyphRenderer\"},\"selection_policy\":{\"id\":\"e5a32176-4dce-4b22-900e-b03ce5f09638\",\"type\":\"NodesOnly\"}},\"id\":\"5c317e49-dae4-4a16-b834-39787a2453ec\",\"type\":\"GraphRenderer\"},{\"attributes\":{\"plot\":{\"id\":\"a0b261b9-d01f-48da-952b-bf6f4bd25ead\",\"subtype\":\"Figure\",\"type\":\"Plot\"},\"ticker\":{\"id\":\"f202866e-3e4d-4847-b963-a96665b49f7c\",\"type\":\"BasicTicker\"}},\"id\":\"0d74c854-5afd-481d-baee-be26155c97c0\",\"type\":\"Grid\"},{\"attributes\":{\"graph_layout\":{\"A\":[1,3],\"B\":[1,1],\"C\":[3,2],\"D\":[4,4]}},\"id\":\"b0629f29-5a0a-43e7-9d2b-188529772777\",\"type\":\"StaticLayoutProvider\"},{\"attributes\":{\"plot\":null,\"text\":\"\"},\"id\":\"d9530900-cc42-4d3e-9656-2a7251e1197e\",\"type\":\"Title\"},{\"attributes\":{},\"id\":\"f202866e-3e4d-4847-b963-a96665b49f7c\",\"type\":\"BasicTicker\"},{\"attributes\":{\"callback\":null,\"data\":{\"color\":[\"#440154\",\"#30678D\",\"#35B778\",\"#FDE724\"],\"index\":[\"A\",\"B\",\"C\",\"D\"]},\"selected\":{\"id\":\"fca5529d-21a7-4a9f-a17d-ce7cbc411813\",\"type\":\"Selection\"},\"selection_policy\":{\"id\":\"38875b65-4b0e-4b19-a129-6826f1a0b4e0\",\"type\":\"UnionRenderers\"}},\"id\":\"b7c42464-f4b9-45ee-8643-5d57dad13f4b\",\"type\":\"ColumnDataSource\"},{\"attributes\":{\"below\":[{\"id\":\"26e9519b-c367-43ea-8655-65981aff7488\",\"type\":\"LinearAxis\"}],\"left\":[{\"id\":\"67982237-d9f4-40bd-8552-ec690042de37\",\"type\":\"LinearAxis\"}],\"plot_height\":300,\"renderers\":[{\"id\":\"26e9519b-c367-43ea-8655-65981aff7488\",\"type\":\"LinearAxis\"},{\"id\":\"0d74c854-5afd-481d-baee-be26155c97c0\",\"type\":\"Grid\"},{\"id\":\"67982237-d9f4-40bd-8552-ec690042de37\",\"type\":\"LinearAxis\"},{\"id\":\"11c0289f-d6e6-47fb-ba95-825587c008da\",\"type\":\"Grid\"},{\"id\":\"0afd4fc7-a91f-4384-9e84-0f603b258228\",\"type\":\"BoxAnnotation\"},{\"id\":\"5c317e49-dae4-4a16-b834-39787a2453ec\",\"type\":\"GraphRenderer\"},{\"id\":\"5c317e49-dae4-4a16-b834-39787a2453ec\",\"type\":\"GraphRenderer\"},{\"id\":\"1f8cd595-0626-43ea-a3c3-9d76e5123ec8\",\"type\":\"LabelSet\"}],\"title\":{\"id\":\"d9530900-cc42-4d3e-9656-2a7251e1197e\",\"type\":\"Title\"},\"toolbar\":{\"id\":\"c0de42cd-1915-4467-8dcb-1afb650dc749\",\"type\":\"Toolbar\"},\"x_range\":{\"id\":\"4ee79c68-c0bf-462d-b202-d3953c347801\",\"type\":\"Range1d\"},\"x_scale\":{\"id\":\"a211bc1c-dd84-44ee-8aa2-d630c58037d6\",\"type\":\"LinearScale\"},\"y_range\":{\"id\":\"be464e76-ad63-4e66-93ae-e3a0ba47676b\",\"type\":\"Range1d\"},\"y_scale\":{\"id\":\"ecfaa444-b656-45e5-a0e6-c9110b3a533d\",\"type\":\"LinearScale\"}},\"id\":\"a0b261b9-d01f-48da-952b-bf6f4bd25ead\",\"subtype\":\"Figure\",\"type\":\"Plot\"},{\"attributes\":{},\"id\":\"de062973-9e19-4b82-81f4-a35f552f43cd\",\"type\":\"MultiLine\"},{\"attributes\":{\"data_source\":{\"id\":\"0042a1ad-20e0-4c1a-b71f-1ae76f013505\",\"type\":\"ColumnDataSource\"},\"glyph\":{\"id\":\"de062973-9e19-4b82-81f4-a35f552f43cd\",\"type\":\"MultiLine\"},\"hover_glyph\":null,\"muted_glyph\":null,\"view\":{\"id\":\"9f0fa3f3-3346-4f63-95b8-6207ec435754\",\"type\":\"CDSView\"}},\"id\":\"afd8e4e6-0eee-4564-ac7d-568cdbafa063\",\"type\":\"GlyphRenderer\"},{\"attributes\":{\"active_drag\":\"auto\",\"active_inspect\":\"auto\",\"active_multi\":null,\"active_scroll\":\"auto\",\"active_tap\":\"auto\",\"tools\":[{\"id\":\"f215ddde-1de5-4f30-a09c-ed7b4167bab9\",\"type\":\"PanTool\"},{\"id\":\"3e40d852-0a9b-46ce-81a9-36bfe7472a91\",\"type\":\"WheelZoomTool\"},{\"id\":\"66aeacf4-5558-408e-a82f-fab049d61e60\",\"type\":\"BoxZoomTool\"},{\"id\":\"79d37c59-c120-491d-bbe8-bb980fb3ab30\",\"type\":\"SaveTool\"},{\"id\":\"913659fa-5627-4ca1-a67a-05e1a1a8a868\",\"type\":\"ResetTool\"},{\"id\":\"e79e704a-b3ac-42a1-bca9-da5367529403\",\"type\":\"HelpTool\"}]},\"id\":\"c0de42cd-1915-4467-8dcb-1afb650dc749\",\"type\":\"Toolbar\"},{\"attributes\":{\"dimension\":1,\"plot\":{\"id\":\"a0b261b9-d01f-48da-952b-bf6f4bd25ead\",\"subtype\":\"Figure\",\"type\":\"Plot\"},\"ticker\":{\"id\":\"010ba7e6-e3e6-4ee0-a933-f035e5a88107\",\"type\":\"BasicTicker\"}},\"id\":\"11c0289f-d6e6-47fb-ba95-825587c008da\",\"type\":\"Grid\"},{\"attributes\":{\"formatter\":{\"id\":\"220e904d-0ee7-4c99-8b06-c3a5a5d56618\",\"type\":\"BasicTickFormatter\"},\"plot\":{\"id\":\"a0b261b9-d01f-48da-952b-bf6f4bd25ead\",\"subtype\":\"Figure\",\"type\":\"Plot\"},\"ticker\":{\"id\":\"010ba7e6-e3e6-4ee0-a933-f035e5a88107\",\"type\":\"BasicTicker\"}},\"id\":\"67982237-d9f4-40bd-8552-ec690042de37\",\"type\":\"LinearAxis\"},{\"attributes\":{},\"id\":\"010ba7e6-e3e6-4ee0-a933-f035e5a88107\",\"type\":\"BasicTicker\"},{\"attributes\":{\"source\":{\"id\":\"0042a1ad-20e0-4c1a-b71f-1ae76f013505\",\"type\":\"ColumnDataSource\"}},\"id\":\"9f0fa3f3-3346-4f63-95b8-6207ec435754\",\"type\":\"CDSView\"},{\"attributes\":{\"callback\":null,\"end\":5},\"id\":\"4ee79c68-c0bf-462d-b202-d3953c347801\",\"type\":\"Range1d\"},{\"attributes\":{\"callback\":null,\"end\":5},\"id\":\"be464e76-ad63-4e66-93ae-e3a0ba47676b\",\"type\":\"Range1d\"},{\"attributes\":{\"bottom_units\":\"screen\",\"fill_alpha\":{\"value\":0.5},\"fill_color\":{\"value\":\"lightgrey\"},\"left_units\":\"screen\",\"level\":\"overlay\",\"line_alpha\":{\"value\":1.0},\"line_color\":{\"value\":\"black\"},\"line_dash\":[4,4],\"line_width\":{\"value\":2},\"plot\":null,\"render_mode\":\"css\",\"right_units\":\"screen\",\"top_units\":\"screen\"},\"id\":\"0afd4fc7-a91f-4384-9e84-0f603b258228\",\"type\":\"BoxAnnotation\"},{\"attributes\":{\"overlay\":{\"id\":\"0afd4fc7-a91f-4384-9e84-0f603b258228\",\"type\":\"BoxAnnotation\"}},\"id\":\"66aeacf4-5558-408e-a82f-fab049d61e60\",\"type\":\"BoxZoomTool\"},{\"attributes\":{\"formatter\":{\"id\":\"8bb694ab-f233-44c9-befa-e0510bf8dac3\",\"type\":\"BasicTickFormatter\"},\"plot\":{\"id\":\"a0b261b9-d01f-48da-952b-bf6f4bd25ead\",\"subtype\":\"Figure\",\"type\":\"Plot\"},\"ticker\":{\"id\":\"f202866e-3e4d-4847-b963-a96665b49f7c\",\"type\":\"BasicTicker\"}},\"id\":\"26e9519b-c367-43ea-8655-65981aff7488\",\"type\":\"LinearAxis\"},{\"attributes\":{},\"id\":\"79d37c59-c120-491d-bbe8-bb980fb3ab30\",\"type\":\"SaveTool\"},{\"attributes\":{\"callback\":null,\"data\":{\"Node\":[\"A\",\"B\",\"C\",\"D\"],\"index\":[0,1,2,3],\"x\":[1,1,3,4],\"y\":[3,1,2,4]},\"selected\":{\"id\":\"06a0401b-5725-44b4-a7e5-22f11910ecb1\",\"type\":\"Selection\"},\"selection_policy\":{\"id\":\"bbdbe802-9280-4b87-9c0c-da5f40e37e02\",\"type\":\"UnionRenderers\"}},\"id\":\"e4ef0ab2-be49-4609-84ea-93bb148583f3\",\"type\":\"ColumnDataSource\"},{\"attributes\":{\"plot\":{\"id\":\"a0b261b9-d01f-48da-952b-bf6f4bd25ead\",\"subtype\":\"Figure\",\"type\":\"Plot\"},\"source\":{\"id\":\"e4ef0ab2-be49-4609-84ea-93bb148583f3\",\"type\":\"ColumnDataSource\"},\"text\":{\"field\":\"Node\"},\"x\":{\"field\":\"x\"},\"x_offset\":{\"value\":5},\"y\":{\"field\":\"y\"},\"y_offset\":{\"value\":5}},\"id\":\"1f8cd595-0626-43ea-a3c3-9d76e5123ec8\",\"type\":\"LabelSet\"},{\"attributes\":{},\"id\":\"a211bc1c-dd84-44ee-8aa2-d630c58037d6\",\"type\":\"LinearScale\"},{\"attributes\":{},\"id\":\"8967c5a2-51d8-43c6-86f1-aa7d5c30e637\",\"type\":\"NodesOnly\"},{\"attributes\":{},\"id\":\"bbdbe802-9280-4b87-9c0c-da5f40e37e02\",\"type\":\"UnionRenderers\"},{\"attributes\":{},\"id\":\"3e40d852-0a9b-46ce-81a9-36bfe7472a91\",\"type\":\"WheelZoomTool\"},{\"attributes\":{},\"id\":\"e5a32176-4dce-4b22-900e-b03ce5f09638\",\"type\":\"NodesOnly\"},{\"attributes\":{},\"id\":\"ecfaa444-b656-45e5-a0e6-c9110b3a533d\",\"type\":\"LinearScale\"}],\"root_ids\":[\"a0b261b9-d01f-48da-952b-bf6f4bd25ead\"]},\"title\":\"Bokeh Application\",\"version\":\"0.13.0\"}};\n",
       "  var render_items = [{\"docid\":\"e19e795c-7c8d-4c8c-96e8-bc89220f4556\",\"roots\":{\"a0b261b9-d01f-48da-952b-bf6f4bd25ead\":\"c58f756e-3bf5-49df-8d46-7bc86b31e7d4\"}}];\n",
       "  root.Bokeh.embed.embed_items_notebook(docs_json, render_items);\n",
       "\n",
       "  }\n",
       "  if (root.Bokeh !== undefined) {\n",
       "    embed_document(root);\n",
       "  } else {\n",
       "    var attempts = 0;\n",
       "    var timer = setInterval(function(root) {\n",
       "      if (root.Bokeh !== undefined) {\n",
       "        embed_document(root);\n",
       "        clearInterval(timer);\n",
       "      }\n",
       "      attempts++;\n",
       "      if (attempts > 100) {\n",
       "        console.log(\"Bokeh: ERROR: Unable to run BokehJS code because BokehJS library is missing\")\n",
       "        clearInterval(timer);\n",
       "      }\n",
       "    }, 10, root)\n",
       "  }\n",
       "})(window);"
      ],
      "application/vnd.bokehjs_exec.v0+json": ""
     },
     "metadata": {
      "application/vnd.bokehjs_exec.v0+json": {
       "id": "a0b261b9-d01f-48da-952b-bf6f4bd25ead"
      }
     },
     "output_type": "display_data"
    }
   ],
   "source": [
    "show(p)"
   ]
  },
  {
   "cell_type": "markdown",
   "metadata": {},
   "source": [
    "#### Get the information about the graph edges\n",
    "We have stored the connections in a csv file"
   ]
  },
  {
   "cell_type": "code",
   "execution_count": 19,
   "metadata": {},
   "outputs": [
    {
     "data": {
      "text/html": [
       "<div>\n",
       "<style scoped>\n",
       "    .dataframe tbody tr th:only-of-type {\n",
       "        vertical-align: middle;\n",
       "    }\n",
       "\n",
       "    .dataframe tbody tr th {\n",
       "        vertical-align: top;\n",
       "    }\n",
       "\n",
       "    .dataframe thead th {\n",
       "        text-align: right;\n",
       "    }\n",
       "</style>\n",
       "<table border=\"1\" class=\"dataframe\">\n",
       "  <thead>\n",
       "    <tr style=\"text-align: right;\">\n",
       "      <th></th>\n",
       "      <th>Source</th>\n",
       "      <th>Destination</th>\n",
       "    </tr>\n",
       "  </thead>\n",
       "  <tbody>\n",
       "    <tr>\n",
       "      <th>0</th>\n",
       "      <td>A</td>\n",
       "      <td>B</td>\n",
       "    </tr>\n",
       "    <tr>\n",
       "      <th>1</th>\n",
       "      <td>A</td>\n",
       "      <td>C</td>\n",
       "    </tr>\n",
       "    <tr>\n",
       "      <th>2</th>\n",
       "      <td>A</td>\n",
       "      <td>D</td>\n",
       "    </tr>\n",
       "    <tr>\n",
       "      <th>3</th>\n",
       "      <td>D</td>\n",
       "      <td>B</td>\n",
       "    </tr>\n",
       "  </tbody>\n",
       "</table>\n",
       "</div>"
      ],
      "text/plain": [
       "  Source Destination\n",
       "0      A           B\n",
       "1      A           C\n",
       "2      A           D\n",
       "3      D           B"
      ]
     },
     "execution_count": 19,
     "metadata": {},
     "output_type": "execute_result"
    }
   ],
   "source": [
    "edges = pd.read_csv('datasets/edges.csv')\n",
    "edges"
   ]
  },
  {
   "cell_type": "markdown",
   "metadata": {},
   "source": [
    "#### Define the edges using the edge_renderer\n",
    "The starting and end points for the edges are added to the graph. Note that Bokeh network graphs do not support directed edges yet, so we need to assume that these are bi-directional"
   ]
  },
  {
   "cell_type": "code",
   "execution_count": 20,
   "metadata": {},
   "outputs": [],
   "source": [
    "graph.edge_renderer.data_source.data = dict(start=list(edges['Source']),\n",
    "                                            end=list(edges['Destination'])\n",
    "                                           )"
   ]
  },
  {
   "cell_type": "markdown",
   "metadata": {},
   "source": [
    "#### View the graph with the nodes and edges"
   ]
  },
  {
   "cell_type": "code",
   "execution_count": 21,
   "metadata": {
    "scrolled": true
   },
   "outputs": [
    {
     "data": {
      "text/html": [
       "\n",
       "\n",
       "\n",
       "\n",
       "\n",
       "\n",
       "  <div class=\"bk-root\" id=\"e2bccd6f-4b89-4f84-8fb2-b24b481e48cf\"></div>\n"
      ]
     },
     "metadata": {},
     "output_type": "display_data"
    },
    {
     "data": {
      "application/javascript": [
       "(function(root) {\n",
       "  function embed_document(root) {\n",
       "    \n",
       "  var docs_json = {\"4b4fec72-01b8-428c-8aa1-cfcf2c8b463b\":{\"roots\":{\"references\":[{\"attributes\":{},\"id\":\"8bb694ab-f233-44c9-befa-e0510bf8dac3\",\"type\":\"BasicTickFormatter\"},{\"attributes\":{},\"id\":\"f215ddde-1de5-4f30-a09c-ed7b4167bab9\",\"type\":\"PanTool\"},{\"attributes\":{},\"id\":\"220e904d-0ee7-4c99-8b06-c3a5a5d56618\",\"type\":\"BasicTickFormatter\"},{\"attributes\":{},\"id\":\"e79e704a-b3ac-42a1-bca9-da5367529403\",\"type\":\"HelpTool\"},{\"attributes\":{\"source\":{\"id\":\"b7c42464-f4b9-45ee-8643-5d57dad13f4b\",\"type\":\"ColumnDataSource\"}},\"id\":\"13668360-c4be-4789-b45b-9b5b205c5ade\",\"type\":\"CDSView\"},{\"attributes\":{},\"id\":\"44e39e8b-1e02-4d31-9c9a-3b63d52c7932\",\"type\":\"Selection\"},{\"attributes\":{},\"id\":\"ea24caba-a55b-4757-9bc1-e3054851c6fd\",\"type\":\"UnionRenderers\"},{\"attributes\":{\"fill_color\":{\"field\":\"color\"},\"height\":{\"units\":\"data\",\"value\":0.3},\"width\":{\"units\":\"data\",\"value\":0.5}},\"id\":\"ca9488a5-d1b1-4307-98b5-e13b6e7ddaab\",\"type\":\"Oval\"},{\"attributes\":{},\"id\":\"fca5529d-21a7-4a9f-a17d-ce7cbc411813\",\"type\":\"Selection\"},{\"attributes\":{},\"id\":\"38875b65-4b0e-4b19-a129-6826f1a0b4e0\",\"type\":\"UnionRenderers\"},{\"attributes\":{},\"id\":\"913659fa-5627-4ca1-a67a-05e1a1a8a868\",\"type\":\"ResetTool\"},{\"attributes\":{\"data_source\":{\"id\":\"b7c42464-f4b9-45ee-8643-5d57dad13f4b\",\"type\":\"ColumnDataSource\"},\"glyph\":{\"id\":\"ca9488a5-d1b1-4307-98b5-e13b6e7ddaab\",\"type\":\"Oval\"},\"hover_glyph\":null,\"muted_glyph\":null,\"view\":{\"id\":\"13668360-c4be-4789-b45b-9b5b205c5ade\",\"type\":\"CDSView\"}},\"id\":\"bde3eeda-af65-41a7-9f5c-4d92e11a59e7\",\"type\":\"GlyphRenderer\"},{\"attributes\":{\"callback\":null,\"data\":{\"end\":[\"B\",\"C\",\"D\",\"B\"],\"start\":[\"A\",\"A\",\"A\",\"D\"]},\"selected\":{\"id\":\"44e39e8b-1e02-4d31-9c9a-3b63d52c7932\",\"type\":\"Selection\"},\"selection_policy\":{\"id\":\"ea24caba-a55b-4757-9bc1-e3054851c6fd\",\"type\":\"UnionRenderers\"}},\"id\":\"0042a1ad-20e0-4c1a-b71f-1ae76f013505\",\"type\":\"ColumnDataSource\"},{\"attributes\":{},\"id\":\"06a0401b-5725-44b4-a7e5-22f11910ecb1\",\"type\":\"Selection\"},{\"attributes\":{\"edge_renderer\":{\"id\":\"afd8e4e6-0eee-4564-ac7d-568cdbafa063\",\"type\":\"GlyphRenderer\"},\"inspection_policy\":{\"id\":\"8967c5a2-51d8-43c6-86f1-aa7d5c30e637\",\"type\":\"NodesOnly\"},\"layout_provider\":{\"id\":\"b0629f29-5a0a-43e7-9d2b-188529772777\",\"type\":\"StaticLayoutProvider\"},\"node_renderer\":{\"id\":\"bde3eeda-af65-41a7-9f5c-4d92e11a59e7\",\"type\":\"GlyphRenderer\"},\"selection_policy\":{\"id\":\"e5a32176-4dce-4b22-900e-b03ce5f09638\",\"type\":\"NodesOnly\"}},\"id\":\"5c317e49-dae4-4a16-b834-39787a2453ec\",\"type\":\"GraphRenderer\"},{\"attributes\":{\"plot\":{\"id\":\"a0b261b9-d01f-48da-952b-bf6f4bd25ead\",\"subtype\":\"Figure\",\"type\":\"Plot\"},\"ticker\":{\"id\":\"f202866e-3e4d-4847-b963-a96665b49f7c\",\"type\":\"BasicTicker\"}},\"id\":\"0d74c854-5afd-481d-baee-be26155c97c0\",\"type\":\"Grid\"},{\"attributes\":{\"graph_layout\":{\"A\":[1,3],\"B\":[1,1],\"C\":[3,2],\"D\":[4,4]}},\"id\":\"b0629f29-5a0a-43e7-9d2b-188529772777\",\"type\":\"StaticLayoutProvider\"},{\"attributes\":{\"plot\":null,\"text\":\"\"},\"id\":\"d9530900-cc42-4d3e-9656-2a7251e1197e\",\"type\":\"Title\"},{\"attributes\":{},\"id\":\"f202866e-3e4d-4847-b963-a96665b49f7c\",\"type\":\"BasicTicker\"},{\"attributes\":{\"callback\":null,\"data\":{\"color\":[\"#440154\",\"#30678D\",\"#35B778\",\"#FDE724\"],\"index\":[\"A\",\"B\",\"C\",\"D\"]},\"selected\":{\"id\":\"fca5529d-21a7-4a9f-a17d-ce7cbc411813\",\"type\":\"Selection\"},\"selection_policy\":{\"id\":\"38875b65-4b0e-4b19-a129-6826f1a0b4e0\",\"type\":\"UnionRenderers\"}},\"id\":\"b7c42464-f4b9-45ee-8643-5d57dad13f4b\",\"type\":\"ColumnDataSource\"},{\"attributes\":{\"below\":[{\"id\":\"26e9519b-c367-43ea-8655-65981aff7488\",\"type\":\"LinearAxis\"}],\"left\":[{\"id\":\"67982237-d9f4-40bd-8552-ec690042de37\",\"type\":\"LinearAxis\"}],\"plot_height\":300,\"renderers\":[{\"id\":\"26e9519b-c367-43ea-8655-65981aff7488\",\"type\":\"LinearAxis\"},{\"id\":\"0d74c854-5afd-481d-baee-be26155c97c0\",\"type\":\"Grid\"},{\"id\":\"67982237-d9f4-40bd-8552-ec690042de37\",\"type\":\"LinearAxis\"},{\"id\":\"11c0289f-d6e6-47fb-ba95-825587c008da\",\"type\":\"Grid\"},{\"id\":\"0afd4fc7-a91f-4384-9e84-0f603b258228\",\"type\":\"BoxAnnotation\"},{\"id\":\"5c317e49-dae4-4a16-b834-39787a2453ec\",\"type\":\"GraphRenderer\"},{\"id\":\"5c317e49-dae4-4a16-b834-39787a2453ec\",\"type\":\"GraphRenderer\"},{\"id\":\"1f8cd595-0626-43ea-a3c3-9d76e5123ec8\",\"type\":\"LabelSet\"},{\"id\":\"5c317e49-dae4-4a16-b834-39787a2453ec\",\"type\":\"GraphRenderer\"}],\"title\":{\"id\":\"d9530900-cc42-4d3e-9656-2a7251e1197e\",\"type\":\"Title\"},\"toolbar\":{\"id\":\"c0de42cd-1915-4467-8dcb-1afb650dc749\",\"type\":\"Toolbar\"},\"x_range\":{\"id\":\"4ee79c68-c0bf-462d-b202-d3953c347801\",\"type\":\"Range1d\"},\"x_scale\":{\"id\":\"a211bc1c-dd84-44ee-8aa2-d630c58037d6\",\"type\":\"LinearScale\"},\"y_range\":{\"id\":\"be464e76-ad63-4e66-93ae-e3a0ba47676b\",\"type\":\"Range1d\"},\"y_scale\":{\"id\":\"ecfaa444-b656-45e5-a0e6-c9110b3a533d\",\"type\":\"LinearScale\"}},\"id\":\"a0b261b9-d01f-48da-952b-bf6f4bd25ead\",\"subtype\":\"Figure\",\"type\":\"Plot\"},{\"attributes\":{},\"id\":\"de062973-9e19-4b82-81f4-a35f552f43cd\",\"type\":\"MultiLine\"},{\"attributes\":{\"data_source\":{\"id\":\"0042a1ad-20e0-4c1a-b71f-1ae76f013505\",\"type\":\"ColumnDataSource\"},\"glyph\":{\"id\":\"de062973-9e19-4b82-81f4-a35f552f43cd\",\"type\":\"MultiLine\"},\"hover_glyph\":null,\"muted_glyph\":null,\"view\":{\"id\":\"9f0fa3f3-3346-4f63-95b8-6207ec435754\",\"type\":\"CDSView\"}},\"id\":\"afd8e4e6-0eee-4564-ac7d-568cdbafa063\",\"type\":\"GlyphRenderer\"},{\"attributes\":{\"active_drag\":\"auto\",\"active_inspect\":\"auto\",\"active_multi\":null,\"active_scroll\":\"auto\",\"active_tap\":\"auto\",\"tools\":[{\"id\":\"f215ddde-1de5-4f30-a09c-ed7b4167bab9\",\"type\":\"PanTool\"},{\"id\":\"3e40d852-0a9b-46ce-81a9-36bfe7472a91\",\"type\":\"WheelZoomTool\"},{\"id\":\"66aeacf4-5558-408e-a82f-fab049d61e60\",\"type\":\"BoxZoomTool\"},{\"id\":\"79d37c59-c120-491d-bbe8-bb980fb3ab30\",\"type\":\"SaveTool\"},{\"id\":\"913659fa-5627-4ca1-a67a-05e1a1a8a868\",\"type\":\"ResetTool\"},{\"id\":\"e79e704a-b3ac-42a1-bca9-da5367529403\",\"type\":\"HelpTool\"}]},\"id\":\"c0de42cd-1915-4467-8dcb-1afb650dc749\",\"type\":\"Toolbar\"},{\"attributes\":{\"dimension\":1,\"plot\":{\"id\":\"a0b261b9-d01f-48da-952b-bf6f4bd25ead\",\"subtype\":\"Figure\",\"type\":\"Plot\"},\"ticker\":{\"id\":\"010ba7e6-e3e6-4ee0-a933-f035e5a88107\",\"type\":\"BasicTicker\"}},\"id\":\"11c0289f-d6e6-47fb-ba95-825587c008da\",\"type\":\"Grid\"},{\"attributes\":{\"formatter\":{\"id\":\"220e904d-0ee7-4c99-8b06-c3a5a5d56618\",\"type\":\"BasicTickFormatter\"},\"plot\":{\"id\":\"a0b261b9-d01f-48da-952b-bf6f4bd25ead\",\"subtype\":\"Figure\",\"type\":\"Plot\"},\"ticker\":{\"id\":\"010ba7e6-e3e6-4ee0-a933-f035e5a88107\",\"type\":\"BasicTicker\"}},\"id\":\"67982237-d9f4-40bd-8552-ec690042de37\",\"type\":\"LinearAxis\"},{\"attributes\":{},\"id\":\"010ba7e6-e3e6-4ee0-a933-f035e5a88107\",\"type\":\"BasicTicker\"},{\"attributes\":{\"source\":{\"id\":\"0042a1ad-20e0-4c1a-b71f-1ae76f013505\",\"type\":\"ColumnDataSource\"}},\"id\":\"9f0fa3f3-3346-4f63-95b8-6207ec435754\",\"type\":\"CDSView\"},{\"attributes\":{\"callback\":null,\"end\":5},\"id\":\"4ee79c68-c0bf-462d-b202-d3953c347801\",\"type\":\"Range1d\"},{\"attributes\":{\"callback\":null,\"end\":5},\"id\":\"be464e76-ad63-4e66-93ae-e3a0ba47676b\",\"type\":\"Range1d\"},{\"attributes\":{\"bottom_units\":\"screen\",\"fill_alpha\":{\"value\":0.5},\"fill_color\":{\"value\":\"lightgrey\"},\"left_units\":\"screen\",\"level\":\"overlay\",\"line_alpha\":{\"value\":1.0},\"line_color\":{\"value\":\"black\"},\"line_dash\":[4,4],\"line_width\":{\"value\":2},\"plot\":null,\"render_mode\":\"css\",\"right_units\":\"screen\",\"top_units\":\"screen\"},\"id\":\"0afd4fc7-a91f-4384-9e84-0f603b258228\",\"type\":\"BoxAnnotation\"},{\"attributes\":{\"overlay\":{\"id\":\"0afd4fc7-a91f-4384-9e84-0f603b258228\",\"type\":\"BoxAnnotation\"}},\"id\":\"66aeacf4-5558-408e-a82f-fab049d61e60\",\"type\":\"BoxZoomTool\"},{\"attributes\":{\"formatter\":{\"id\":\"8bb694ab-f233-44c9-befa-e0510bf8dac3\",\"type\":\"BasicTickFormatter\"},\"plot\":{\"id\":\"a0b261b9-d01f-48da-952b-bf6f4bd25ead\",\"subtype\":\"Figure\",\"type\":\"Plot\"},\"ticker\":{\"id\":\"f202866e-3e4d-4847-b963-a96665b49f7c\",\"type\":\"BasicTicker\"}},\"id\":\"26e9519b-c367-43ea-8655-65981aff7488\",\"type\":\"LinearAxis\"},{\"attributes\":{},\"id\":\"79d37c59-c120-491d-bbe8-bb980fb3ab30\",\"type\":\"SaveTool\"},{\"attributes\":{\"callback\":null,\"data\":{\"Node\":[\"A\",\"B\",\"C\",\"D\"],\"index\":[0,1,2,3],\"x\":[1,1,3,4],\"y\":[3,1,2,4]},\"selected\":{\"id\":\"06a0401b-5725-44b4-a7e5-22f11910ecb1\",\"type\":\"Selection\"},\"selection_policy\":{\"id\":\"bbdbe802-9280-4b87-9c0c-da5f40e37e02\",\"type\":\"UnionRenderers\"}},\"id\":\"e4ef0ab2-be49-4609-84ea-93bb148583f3\",\"type\":\"ColumnDataSource\"},{\"attributes\":{\"plot\":{\"id\":\"a0b261b9-d01f-48da-952b-bf6f4bd25ead\",\"subtype\":\"Figure\",\"type\":\"Plot\"},\"source\":{\"id\":\"e4ef0ab2-be49-4609-84ea-93bb148583f3\",\"type\":\"ColumnDataSource\"},\"text\":{\"field\":\"Node\"},\"x\":{\"field\":\"x\"},\"x_offset\":{\"value\":5},\"y\":{\"field\":\"y\"},\"y_offset\":{\"value\":5}},\"id\":\"1f8cd595-0626-43ea-a3c3-9d76e5123ec8\",\"type\":\"LabelSet\"},{\"attributes\":{},\"id\":\"a211bc1c-dd84-44ee-8aa2-d630c58037d6\",\"type\":\"LinearScale\"},{\"attributes\":{},\"id\":\"8967c5a2-51d8-43c6-86f1-aa7d5c30e637\",\"type\":\"NodesOnly\"},{\"attributes\":{},\"id\":\"bbdbe802-9280-4b87-9c0c-da5f40e37e02\",\"type\":\"UnionRenderers\"},{\"attributes\":{},\"id\":\"3e40d852-0a9b-46ce-81a9-36bfe7472a91\",\"type\":\"WheelZoomTool\"},{\"attributes\":{},\"id\":\"e5a32176-4dce-4b22-900e-b03ce5f09638\",\"type\":\"NodesOnly\"},{\"attributes\":{},\"id\":\"ecfaa444-b656-45e5-a0e6-c9110b3a533d\",\"type\":\"LinearScale\"}],\"root_ids\":[\"a0b261b9-d01f-48da-952b-bf6f4bd25ead\"]},\"title\":\"Bokeh Application\",\"version\":\"0.13.0\"}};\n",
       "  var render_items = [{\"docid\":\"4b4fec72-01b8-428c-8aa1-cfcf2c8b463b\",\"roots\":{\"a0b261b9-d01f-48da-952b-bf6f4bd25ead\":\"e2bccd6f-4b89-4f84-8fb2-b24b481e48cf\"}}];\n",
       "  root.Bokeh.embed.embed_items_notebook(docs_json, render_items);\n",
       "\n",
       "  }\n",
       "  if (root.Bokeh !== undefined) {\n",
       "    embed_document(root);\n",
       "  } else {\n",
       "    var attempts = 0;\n",
       "    var timer = setInterval(function(root) {\n",
       "      if (root.Bokeh !== undefined) {\n",
       "        embed_document(root);\n",
       "        clearInterval(timer);\n",
       "      }\n",
       "      attempts++;\n",
       "      if (attempts > 100) {\n",
       "        console.log(\"Bokeh: ERROR: Unable to run BokehJS code because BokehJS library is missing\")\n",
       "        clearInterval(timer);\n",
       "      }\n",
       "    }, 10, root)\n",
       "  }\n",
       "})(window);"
      ],
      "application/vnd.bokehjs_exec.v0+json": ""
     },
     "metadata": {
      "application/vnd.bokehjs_exec.v0+json": {
       "id": "a0b261b9-d01f-48da-952b-bf6f4bd25ead"
      }
     },
     "output_type": "display_data"
    }
   ],
   "source": [
    "p.renderers.append(graph)\n",
    "\n",
    "show(p)"
   ]
  }
 ],
 "metadata": {
  "kernelspec": {
   "display_name": "Python 3",
   "language": "python",
   "name": "python3"
  },
  "language_info": {
   "codemirror_mode": {
    "name": "ipython",
    "version": 3
   },
   "file_extension": ".py",
   "mimetype": "text/x-python",
   "name": "python",
   "nbconvert_exporter": "python",
   "pygments_lexer": "ipython3",
   "version": "3.6.4"
  }
 },
 "nbformat": 4,
 "nbformat_minor": 2
}
