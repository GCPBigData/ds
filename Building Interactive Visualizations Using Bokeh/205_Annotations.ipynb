{
 "cells": [
  {
   "cell_type": "code",
   "execution_count": 1,
   "metadata": {},
   "outputs": [
    {
     "data": {
      "text/html": [
       "\n",
       "    <div class=\"bk-root\">\n",
       "        <a href=\"https://bokeh.pydata.org\" target=\"_blank\" class=\"bk-logo bk-logo-small bk-logo-notebook\"></a>\n",
       "        <span id=\"307a1246-890a-4f25-9b11-48c18d57ce1a\">Loading BokehJS ...</span>\n",
       "    </div>"
      ]
     },
     "metadata": {},
     "output_type": "display_data"
    },
    {
     "data": {
      "application/javascript": [
       "\n",
       "(function(root) {\n",
       "  function now() {\n",
       "    return new Date();\n",
       "  }\n",
       "\n",
       "  var force = true;\n",
       "\n",
       "  if (typeof (root._bokeh_onload_callbacks) === \"undefined\" || force === true) {\n",
       "    root._bokeh_onload_callbacks = [];\n",
       "    root._bokeh_is_loading = undefined;\n",
       "  }\n",
       "\n",
       "  var JS_MIME_TYPE = 'application/javascript';\n",
       "  var HTML_MIME_TYPE = 'text/html';\n",
       "  var EXEC_MIME_TYPE = 'application/vnd.bokehjs_exec.v0+json';\n",
       "  var CLASS_NAME = 'output_bokeh rendered_html';\n",
       "\n",
       "  /**\n",
       "   * Render data to the DOM node\n",
       "   */\n",
       "  function render(props, node) {\n",
       "    var script = document.createElement(\"script\");\n",
       "    node.appendChild(script);\n",
       "  }\n",
       "\n",
       "  /**\n",
       "   * Handle when an output is cleared or removed\n",
       "   */\n",
       "  function handleClearOutput(event, handle) {\n",
       "    var cell = handle.cell;\n",
       "\n",
       "    var id = cell.output_area._bokeh_element_id;\n",
       "    var server_id = cell.output_area._bokeh_server_id;\n",
       "    // Clean up Bokeh references\n",
       "    if (id != null && id in Bokeh.index) {\n",
       "      Bokeh.index[id].model.document.clear();\n",
       "      delete Bokeh.index[id];\n",
       "    }\n",
       "\n",
       "    if (server_id !== undefined) {\n",
       "      // Clean up Bokeh references\n",
       "      var cmd = \"from bokeh.io.state import curstate; print(curstate().uuid_to_server['\" + server_id + \"'].get_sessions()[0].document.roots[0]._id)\";\n",
       "      cell.notebook.kernel.execute(cmd, {\n",
       "        iopub: {\n",
       "          output: function(msg) {\n",
       "            var id = msg.content.text.trim();\n",
       "            if (id in Bokeh.index) {\n",
       "              Bokeh.index[id].model.document.clear();\n",
       "              delete Bokeh.index[id];\n",
       "            }\n",
       "          }\n",
       "        }\n",
       "      });\n",
       "      // Destroy server and session\n",
       "      var cmd = \"import bokeh.io.notebook as ion; ion.destroy_server('\" + server_id + \"')\";\n",
       "      cell.notebook.kernel.execute(cmd);\n",
       "    }\n",
       "  }\n",
       "\n",
       "  /**\n",
       "   * Handle when a new output is added\n",
       "   */\n",
       "  function handleAddOutput(event, handle) {\n",
       "    var output_area = handle.output_area;\n",
       "    var output = handle.output;\n",
       "\n",
       "    // limit handleAddOutput to display_data with EXEC_MIME_TYPE content only\n",
       "    if ((output.output_type != \"display_data\") || (!output.data.hasOwnProperty(EXEC_MIME_TYPE))) {\n",
       "      return\n",
       "    }\n",
       "\n",
       "    var toinsert = output_area.element.find(\".\" + CLASS_NAME.split(' ')[0]);\n",
       "\n",
       "    if (output.metadata[EXEC_MIME_TYPE][\"id\"] !== undefined) {\n",
       "      toinsert[toinsert.length - 1].firstChild.textContent = output.data[JS_MIME_TYPE];\n",
       "      // store reference to embed id on output_area\n",
       "      output_area._bokeh_element_id = output.metadata[EXEC_MIME_TYPE][\"id\"];\n",
       "    }\n",
       "    if (output.metadata[EXEC_MIME_TYPE][\"server_id\"] !== undefined) {\n",
       "      var bk_div = document.createElement(\"div\");\n",
       "      bk_div.innerHTML = output.data[HTML_MIME_TYPE];\n",
       "      var script_attrs = bk_div.children[0].attributes;\n",
       "      for (var i = 0; i < script_attrs.length; i++) {\n",
       "        toinsert[toinsert.length - 1].firstChild.setAttribute(script_attrs[i].name, script_attrs[i].value);\n",
       "      }\n",
       "      // store reference to server id on output_area\n",
       "      output_area._bokeh_server_id = output.metadata[EXEC_MIME_TYPE][\"server_id\"];\n",
       "    }\n",
       "  }\n",
       "\n",
       "  function register_renderer(events, OutputArea) {\n",
       "\n",
       "    function append_mime(data, metadata, element) {\n",
       "      // create a DOM node to render to\n",
       "      var toinsert = this.create_output_subarea(\n",
       "        metadata,\n",
       "        CLASS_NAME,\n",
       "        EXEC_MIME_TYPE\n",
       "      );\n",
       "      this.keyboard_manager.register_events(toinsert);\n",
       "      // Render to node\n",
       "      var props = {data: data, metadata: metadata[EXEC_MIME_TYPE]};\n",
       "      render(props, toinsert[toinsert.length - 1]);\n",
       "      element.append(toinsert);\n",
       "      return toinsert\n",
       "    }\n",
       "\n",
       "    /* Handle when an output is cleared or removed */\n",
       "    events.on('clear_output.CodeCell', handleClearOutput);\n",
       "    events.on('delete.Cell', handleClearOutput);\n",
       "\n",
       "    /* Handle when a new output is added */\n",
       "    events.on('output_added.OutputArea', handleAddOutput);\n",
       "\n",
       "    /**\n",
       "     * Register the mime type and append_mime function with output_area\n",
       "     */\n",
       "    OutputArea.prototype.register_mime_type(EXEC_MIME_TYPE, append_mime, {\n",
       "      /* Is output safe? */\n",
       "      safe: true,\n",
       "      /* Index of renderer in `output_area.display_order` */\n",
       "      index: 0\n",
       "    });\n",
       "  }\n",
       "\n",
       "  // register the mime type if in Jupyter Notebook environment and previously unregistered\n",
       "  if (root.Jupyter !== undefined) {\n",
       "    var events = require('base/js/events');\n",
       "    var OutputArea = require('notebook/js/outputarea').OutputArea;\n",
       "\n",
       "    if (OutputArea.prototype.mime_types().indexOf(EXEC_MIME_TYPE) == -1) {\n",
       "      register_renderer(events, OutputArea);\n",
       "    }\n",
       "  }\n",
       "\n",
       "  \n",
       "  if (typeof (root._bokeh_timeout) === \"undefined\" || force === true) {\n",
       "    root._bokeh_timeout = Date.now() + 5000;\n",
       "    root._bokeh_failed_load = false;\n",
       "  }\n",
       "\n",
       "  var NB_LOAD_WARNING = {'data': {'text/html':\n",
       "     \"<div style='background-color: #fdd'>\\n\"+\n",
       "     \"<p>\\n\"+\n",
       "     \"BokehJS does not appear to have successfully loaded. If loading BokehJS from CDN, this \\n\"+\n",
       "     \"may be due to a slow or bad network connection. Possible fixes:\\n\"+\n",
       "     \"</p>\\n\"+\n",
       "     \"<ul>\\n\"+\n",
       "     \"<li>re-rerun `output_notebook()` to attempt to load from CDN again, or</li>\\n\"+\n",
       "     \"<li>use INLINE resources instead, as so:</li>\\n\"+\n",
       "     \"</ul>\\n\"+\n",
       "     \"<code>\\n\"+\n",
       "     \"from bokeh.resources import INLINE\\n\"+\n",
       "     \"output_notebook(resources=INLINE)\\n\"+\n",
       "     \"</code>\\n\"+\n",
       "     \"</div>\"}};\n",
       "\n",
       "  function display_loaded() {\n",
       "    var el = document.getElementById(\"307a1246-890a-4f25-9b11-48c18d57ce1a\");\n",
       "    if (el != null) {\n",
       "      el.textContent = \"BokehJS is loading...\";\n",
       "    }\n",
       "    if (root.Bokeh !== undefined) {\n",
       "      if (el != null) {\n",
       "        el.textContent = \"BokehJS \" + root.Bokeh.version + \" successfully loaded.\";\n",
       "      }\n",
       "    } else if (Date.now() < root._bokeh_timeout) {\n",
       "      setTimeout(display_loaded, 100)\n",
       "    }\n",
       "  }\n",
       "\n",
       "\n",
       "  function run_callbacks() {\n",
       "    try {\n",
       "      root._bokeh_onload_callbacks.forEach(function(callback) { callback() });\n",
       "    }\n",
       "    finally {\n",
       "      delete root._bokeh_onload_callbacks\n",
       "    }\n",
       "    console.info(\"Bokeh: all callbacks have finished\");\n",
       "  }\n",
       "\n",
       "  function load_libs(js_urls, callback) {\n",
       "    root._bokeh_onload_callbacks.push(callback);\n",
       "    if (root._bokeh_is_loading > 0) {\n",
       "      console.log(\"Bokeh: BokehJS is being loaded, scheduling callback at\", now());\n",
       "      return null;\n",
       "    }\n",
       "    if (js_urls == null || js_urls.length === 0) {\n",
       "      run_callbacks();\n",
       "      return null;\n",
       "    }\n",
       "    console.log(\"Bokeh: BokehJS not loaded, scheduling load and callback at\", now());\n",
       "    root._bokeh_is_loading = js_urls.length;\n",
       "    for (var i = 0; i < js_urls.length; i++) {\n",
       "      var url = js_urls[i];\n",
       "      var s = document.createElement('script');\n",
       "      s.src = url;\n",
       "      s.async = false;\n",
       "      s.onreadystatechange = s.onload = function() {\n",
       "        root._bokeh_is_loading--;\n",
       "        if (root._bokeh_is_loading === 0) {\n",
       "          console.log(\"Bokeh: all BokehJS libraries loaded\");\n",
       "          run_callbacks()\n",
       "        }\n",
       "      };\n",
       "      s.onerror = function() {\n",
       "        console.warn(\"failed to load library \" + url);\n",
       "      };\n",
       "      console.log(\"Bokeh: injecting script tag for BokehJS library: \", url);\n",
       "      document.getElementsByTagName(\"head\")[0].appendChild(s);\n",
       "    }\n",
       "  };var element = document.getElementById(\"307a1246-890a-4f25-9b11-48c18d57ce1a\");\n",
       "  if (element == null) {\n",
       "    console.log(\"Bokeh: ERROR: autoload.js configured with elementid '307a1246-890a-4f25-9b11-48c18d57ce1a' but no matching script tag was found. \")\n",
       "    return false;\n",
       "  }\n",
       "\n",
       "  var js_urls = [\"https://cdn.pydata.org/bokeh/release/bokeh-0.13.0.min.js\", \"https://cdn.pydata.org/bokeh/release/bokeh-widgets-0.13.0.min.js\", \"https://cdn.pydata.org/bokeh/release/bokeh-tables-0.13.0.min.js\", \"https://cdn.pydata.org/bokeh/release/bokeh-gl-0.13.0.min.js\"];\n",
       "\n",
       "  var inline_js = [\n",
       "    function(Bokeh) {\n",
       "      Bokeh.set_log_level(\"info\");\n",
       "    },\n",
       "    \n",
       "    function(Bokeh) {\n",
       "      \n",
       "    },\n",
       "    function(Bokeh) {\n",
       "      console.log(\"Bokeh: injecting CSS: https://cdn.pydata.org/bokeh/release/bokeh-0.13.0.min.css\");\n",
       "      Bokeh.embed.inject_css(\"https://cdn.pydata.org/bokeh/release/bokeh-0.13.0.min.css\");\n",
       "      console.log(\"Bokeh: injecting CSS: https://cdn.pydata.org/bokeh/release/bokeh-widgets-0.13.0.min.css\");\n",
       "      Bokeh.embed.inject_css(\"https://cdn.pydata.org/bokeh/release/bokeh-widgets-0.13.0.min.css\");\n",
       "      console.log(\"Bokeh: injecting CSS: https://cdn.pydata.org/bokeh/release/bokeh-tables-0.13.0.min.css\");\n",
       "      Bokeh.embed.inject_css(\"https://cdn.pydata.org/bokeh/release/bokeh-tables-0.13.0.min.css\");\n",
       "    }\n",
       "  ];\n",
       "\n",
       "  function run_inline_js() {\n",
       "    \n",
       "    if ((root.Bokeh !== undefined) || (force === true)) {\n",
       "      for (var i = 0; i < inline_js.length; i++) {\n",
       "        inline_js[i].call(root, root.Bokeh);\n",
       "      }if (force === true) {\n",
       "        display_loaded();\n",
       "      }} else if (Date.now() < root._bokeh_timeout) {\n",
       "      setTimeout(run_inline_js, 100);\n",
       "    } else if (!root._bokeh_failed_load) {\n",
       "      console.log(\"Bokeh: BokehJS failed to load within specified timeout.\");\n",
       "      root._bokeh_failed_load = true;\n",
       "    } else if (force !== true) {\n",
       "      var cell = $(document.getElementById(\"307a1246-890a-4f25-9b11-48c18d57ce1a\")).parents('.cell').data().cell;\n",
       "      cell.output_area.append_execute_result(NB_LOAD_WARNING)\n",
       "    }\n",
       "\n",
       "  }\n",
       "\n",
       "  if (root._bokeh_is_loading === 0) {\n",
       "    console.log(\"Bokeh: BokehJS loaded, going straight to plotting\");\n",
       "    run_inline_js();\n",
       "  } else {\n",
       "    load_libs(js_urls, function() {\n",
       "      console.log(\"Bokeh: BokehJS plotting callback run at\", now());\n",
       "      run_inline_js();\n",
       "    });\n",
       "  }\n",
       "}(window));"
      ],
      "application/vnd.bokehjs_load.v0+json": "\n(function(root) {\n  function now() {\n    return new Date();\n  }\n\n  var force = true;\n\n  if (typeof (root._bokeh_onload_callbacks) === \"undefined\" || force === true) {\n    root._bokeh_onload_callbacks = [];\n    root._bokeh_is_loading = undefined;\n  }\n\n  \n\n  \n  if (typeof (root._bokeh_timeout) === \"undefined\" || force === true) {\n    root._bokeh_timeout = Date.now() + 5000;\n    root._bokeh_failed_load = false;\n  }\n\n  var NB_LOAD_WARNING = {'data': {'text/html':\n     \"<div style='background-color: #fdd'>\\n\"+\n     \"<p>\\n\"+\n     \"BokehJS does not appear to have successfully loaded. If loading BokehJS from CDN, this \\n\"+\n     \"may be due to a slow or bad network connection. Possible fixes:\\n\"+\n     \"</p>\\n\"+\n     \"<ul>\\n\"+\n     \"<li>re-rerun `output_notebook()` to attempt to load from CDN again, or</li>\\n\"+\n     \"<li>use INLINE resources instead, as so:</li>\\n\"+\n     \"</ul>\\n\"+\n     \"<code>\\n\"+\n     \"from bokeh.resources import INLINE\\n\"+\n     \"output_notebook(resources=INLINE)\\n\"+\n     \"</code>\\n\"+\n     \"</div>\"}};\n\n  function display_loaded() {\n    var el = document.getElementById(\"307a1246-890a-4f25-9b11-48c18d57ce1a\");\n    if (el != null) {\n      el.textContent = \"BokehJS is loading...\";\n    }\n    if (root.Bokeh !== undefined) {\n      if (el != null) {\n        el.textContent = \"BokehJS \" + root.Bokeh.version + \" successfully loaded.\";\n      }\n    } else if (Date.now() < root._bokeh_timeout) {\n      setTimeout(display_loaded, 100)\n    }\n  }\n\n\n  function run_callbacks() {\n    try {\n      root._bokeh_onload_callbacks.forEach(function(callback) { callback() });\n    }\n    finally {\n      delete root._bokeh_onload_callbacks\n    }\n    console.info(\"Bokeh: all callbacks have finished\");\n  }\n\n  function load_libs(js_urls, callback) {\n    root._bokeh_onload_callbacks.push(callback);\n    if (root._bokeh_is_loading > 0) {\n      console.log(\"Bokeh: BokehJS is being loaded, scheduling callback at\", now());\n      return null;\n    }\n    if (js_urls == null || js_urls.length === 0) {\n      run_callbacks();\n      return null;\n    }\n    console.log(\"Bokeh: BokehJS not loaded, scheduling load and callback at\", now());\n    root._bokeh_is_loading = js_urls.length;\n    for (var i = 0; i < js_urls.length; i++) {\n      var url = js_urls[i];\n      var s = document.createElement('script');\n      s.src = url;\n      s.async = false;\n      s.onreadystatechange = s.onload = function() {\n        root._bokeh_is_loading--;\n        if (root._bokeh_is_loading === 0) {\n          console.log(\"Bokeh: all BokehJS libraries loaded\");\n          run_callbacks()\n        }\n      };\n      s.onerror = function() {\n        console.warn(\"failed to load library \" + url);\n      };\n      console.log(\"Bokeh: injecting script tag for BokehJS library: \", url);\n      document.getElementsByTagName(\"head\")[0].appendChild(s);\n    }\n  };var element = document.getElementById(\"307a1246-890a-4f25-9b11-48c18d57ce1a\");\n  if (element == null) {\n    console.log(\"Bokeh: ERROR: autoload.js configured with elementid '307a1246-890a-4f25-9b11-48c18d57ce1a' but no matching script tag was found. \")\n    return false;\n  }\n\n  var js_urls = [\"https://cdn.pydata.org/bokeh/release/bokeh-0.13.0.min.js\", \"https://cdn.pydata.org/bokeh/release/bokeh-widgets-0.13.0.min.js\", \"https://cdn.pydata.org/bokeh/release/bokeh-tables-0.13.0.min.js\", \"https://cdn.pydata.org/bokeh/release/bokeh-gl-0.13.0.min.js\"];\n\n  var inline_js = [\n    function(Bokeh) {\n      Bokeh.set_log_level(\"info\");\n    },\n    \n    function(Bokeh) {\n      \n    },\n    function(Bokeh) {\n      console.log(\"Bokeh: injecting CSS: https://cdn.pydata.org/bokeh/release/bokeh-0.13.0.min.css\");\n      Bokeh.embed.inject_css(\"https://cdn.pydata.org/bokeh/release/bokeh-0.13.0.min.css\");\n      console.log(\"Bokeh: injecting CSS: https://cdn.pydata.org/bokeh/release/bokeh-widgets-0.13.0.min.css\");\n      Bokeh.embed.inject_css(\"https://cdn.pydata.org/bokeh/release/bokeh-widgets-0.13.0.min.css\");\n      console.log(\"Bokeh: injecting CSS: https://cdn.pydata.org/bokeh/release/bokeh-tables-0.13.0.min.css\");\n      Bokeh.embed.inject_css(\"https://cdn.pydata.org/bokeh/release/bokeh-tables-0.13.0.min.css\");\n    }\n  ];\n\n  function run_inline_js() {\n    \n    if ((root.Bokeh !== undefined) || (force === true)) {\n      for (var i = 0; i < inline_js.length; i++) {\n        inline_js[i].call(root, root.Bokeh);\n      }if (force === true) {\n        display_loaded();\n      }} else if (Date.now() < root._bokeh_timeout) {\n      setTimeout(run_inline_js, 100);\n    } else if (!root._bokeh_failed_load) {\n      console.log(\"Bokeh: BokehJS failed to load within specified timeout.\");\n      root._bokeh_failed_load = true;\n    } else if (force !== true) {\n      var cell = $(document.getElementById(\"307a1246-890a-4f25-9b11-48c18d57ce1a\")).parents('.cell').data().cell;\n      cell.output_area.append_execute_result(NB_LOAD_WARNING)\n    }\n\n  }\n\n  if (root._bokeh_is_loading === 0) {\n    console.log(\"Bokeh: BokehJS loaded, going straight to plotting\");\n    run_inline_js();\n  } else {\n    load_libs(js_urls, function() {\n      console.log(\"Bokeh: BokehJS plotting callback run at\", now());\n      run_inline_js();\n    });\n  }\n}(window));"
     },
     "metadata": {},
     "output_type": "display_data"
    }
   ],
   "source": [
    "from bokeh.plotting import figure\n",
    "from bokeh.io import output_notebook, output_file, show\n",
    "import pandas as pd\n",
    "from bokeh.models.sources import ColumnDataSource\n",
    "from datetime import datetime as dt\n",
    "\n",
    "output_notebook()"
   ]
  },
  {
   "cell_type": "markdown",
   "metadata": {},
   "source": [
    "#### Corn prices dataset.\n",
    "Download the dataset here: https://www.kaggle.com/nickwong64/corn2015-2017#corn2015-2017.txt\n",
    "\n",
    "This lists the price of one bushel of corn in the United States between 2015 and 2017. "
   ]
  },
  {
   "cell_type": "code",
   "execution_count": 2,
   "metadata": {},
   "outputs": [
    {
     "data": {
      "text/html": [
       "<div>\n",
       "<style scoped>\n",
       "    .dataframe tbody tr th:only-of-type {\n",
       "        vertical-align: middle;\n",
       "    }\n",
       "\n",
       "    .dataframe tbody tr th {\n",
       "        vertical-align: top;\n",
       "    }\n",
       "\n",
       "    .dataframe thead th {\n",
       "        text-align: right;\n",
       "    }\n",
       "</style>\n",
       "<table border=\"1\" class=\"dataframe\">\n",
       "  <thead>\n",
       "    <tr style=\"text-align: right;\">\n",
       "      <th></th>\n",
       "      <th>Date</th>\n",
       "      <th>Price</th>\n",
       "    </tr>\n",
       "  </thead>\n",
       "  <tbody>\n",
       "    <tr>\n",
       "      <th>0</th>\n",
       "      <td>2015-01-04</td>\n",
       "      <td>5.21365</td>\n",
       "    </tr>\n",
       "    <tr>\n",
       "      <th>1</th>\n",
       "      <td>2015-01-11</td>\n",
       "      <td>5.18130</td>\n",
       "    </tr>\n",
       "    <tr>\n",
       "      <th>2</th>\n",
       "      <td>2015-01-18</td>\n",
       "      <td>5.00922</td>\n",
       "    </tr>\n",
       "    <tr>\n",
       "      <th>3</th>\n",
       "      <td>2015-01-25</td>\n",
       "      <td>5.00600</td>\n",
       "    </tr>\n",
       "    <tr>\n",
       "      <th>4</th>\n",
       "      <td>2015-02-01</td>\n",
       "      <td>4.87080</td>\n",
       "    </tr>\n",
       "  </tbody>\n",
       "</table>\n",
       "</div>"
      ],
      "text/plain": [
       "         Date    Price\n",
       "0  2015-01-04  5.21365\n",
       "1  2015-01-11  5.18130\n",
       "2  2015-01-18  5.00922\n",
       "3  2015-01-25  5.00600\n",
       "4  2015-02-01  4.87080"
      ]
     },
     "execution_count": 2,
     "metadata": {},
     "output_type": "execute_result"
    }
   ],
   "source": [
    "corn = pd.read_csv('datasets/corn_prices.csv')\n",
    "corn.head()"
   ]
  },
  {
   "cell_type": "markdown",
   "metadata": {},
   "source": [
    "#### Convert the date to datetime format\n",
    "This will be required for us to be able to use the dates in a time series plot. If we don't do this, the dates will be treated as strings which will be interpreted as categorical values"
   ]
  },
  {
   "cell_type": "code",
   "execution_count": 3,
   "metadata": {},
   "outputs": [
    {
     "data": {
      "text/html": [
       "<div>\n",
       "<style scoped>\n",
       "    .dataframe tbody tr th:only-of-type {\n",
       "        vertical-align: middle;\n",
       "    }\n",
       "\n",
       "    .dataframe tbody tr th {\n",
       "        vertical-align: top;\n",
       "    }\n",
       "\n",
       "    .dataframe thead th {\n",
       "        text-align: right;\n",
       "    }\n",
       "</style>\n",
       "<table border=\"1\" class=\"dataframe\">\n",
       "  <thead>\n",
       "    <tr style=\"text-align: right;\">\n",
       "      <th></th>\n",
       "      <th>Date</th>\n",
       "      <th>Price</th>\n",
       "      <th>FormattedDate</th>\n",
       "    </tr>\n",
       "  </thead>\n",
       "  <tbody>\n",
       "    <tr>\n",
       "      <th>0</th>\n",
       "      <td>2015-01-04</td>\n",
       "      <td>5.21365</td>\n",
       "      <td>2015-01-04</td>\n",
       "    </tr>\n",
       "    <tr>\n",
       "      <th>1</th>\n",
       "      <td>2015-01-11</td>\n",
       "      <td>5.18130</td>\n",
       "      <td>2015-01-11</td>\n",
       "    </tr>\n",
       "    <tr>\n",
       "      <th>2</th>\n",
       "      <td>2015-01-18</td>\n",
       "      <td>5.00922</td>\n",
       "      <td>2015-01-18</td>\n",
       "    </tr>\n",
       "    <tr>\n",
       "      <th>3</th>\n",
       "      <td>2015-01-25</td>\n",
       "      <td>5.00600</td>\n",
       "      <td>2015-01-25</td>\n",
       "    </tr>\n",
       "    <tr>\n",
       "      <th>4</th>\n",
       "      <td>2015-02-01</td>\n",
       "      <td>4.87080</td>\n",
       "      <td>2015-02-01</td>\n",
       "    </tr>\n",
       "  </tbody>\n",
       "</table>\n",
       "</div>"
      ],
      "text/plain": [
       "         Date    Price FormattedDate\n",
       "0  2015-01-04  5.21365    2015-01-04\n",
       "1  2015-01-11  5.18130    2015-01-11\n",
       "2  2015-01-18  5.00922    2015-01-18\n",
       "3  2015-01-25  5.00600    2015-01-25\n",
       "4  2015-02-01  4.87080    2015-02-01"
      ]
     },
     "execution_count": 3,
     "metadata": {},
     "output_type": "execute_result"
    }
   ],
   "source": [
    "corn['FormattedDate'] = pd.to_datetime(corn['Date'])\n",
    "corn.head()"
   ]
  },
  {
   "cell_type": "markdown",
   "metadata": {},
   "source": [
    "#### Examine the data\n",
    "We are interested in knowing the range of data. Among other things, it will help us define the range for the axes"
   ]
  },
  {
   "cell_type": "code",
   "execution_count": 4,
   "metadata": {},
   "outputs": [
    {
     "data": {
      "text/html": [
       "<div>\n",
       "<style scoped>\n",
       "    .dataframe tbody tr th:only-of-type {\n",
       "        vertical-align: middle;\n",
       "    }\n",
       "\n",
       "    .dataframe tbody tr th {\n",
       "        vertical-align: top;\n",
       "    }\n",
       "\n",
       "    .dataframe thead th {\n",
       "        text-align: right;\n",
       "    }\n",
       "</style>\n",
       "<table border=\"1\" class=\"dataframe\">\n",
       "  <thead>\n",
       "    <tr style=\"text-align: right;\">\n",
       "      <th></th>\n",
       "      <th>Date</th>\n",
       "      <th>Price</th>\n",
       "      <th>FormattedDate</th>\n",
       "    </tr>\n",
       "  </thead>\n",
       "  <tbody>\n",
       "    <tr>\n",
       "      <th>count</th>\n",
       "      <td>144</td>\n",
       "      <td>144.000000</td>\n",
       "      <td>144</td>\n",
       "    </tr>\n",
       "    <tr>\n",
       "      <th>unique</th>\n",
       "      <td>144</td>\n",
       "      <td>NaN</td>\n",
       "      <td>144</td>\n",
       "    </tr>\n",
       "    <tr>\n",
       "      <th>top</th>\n",
       "      <td>2016-01-17</td>\n",
       "      <td>NaN</td>\n",
       "      <td>2015-07-19 00:00:00</td>\n",
       "    </tr>\n",
       "    <tr>\n",
       "      <th>freq</th>\n",
       "      <td>1</td>\n",
       "      <td>NaN</td>\n",
       "      <td>1</td>\n",
       "    </tr>\n",
       "    <tr>\n",
       "      <th>first</th>\n",
       "      <td>NaN</td>\n",
       "      <td>NaN</td>\n",
       "      <td>2015-01-04 00:00:00</td>\n",
       "    </tr>\n",
       "    <tr>\n",
       "      <th>last</th>\n",
       "      <td>NaN</td>\n",
       "      <td>NaN</td>\n",
       "      <td>2017-10-01 00:00:00</td>\n",
       "    </tr>\n",
       "    <tr>\n",
       "      <th>mean</th>\n",
       "      <td>NaN</td>\n",
       "      <td>4.260489</td>\n",
       "      <td>NaN</td>\n",
       "    </tr>\n",
       "    <tr>\n",
       "      <th>std</th>\n",
       "      <td>NaN</td>\n",
       "      <td>0.437833</td>\n",
       "      <td>NaN</td>\n",
       "    </tr>\n",
       "    <tr>\n",
       "      <th>min</th>\n",
       "      <td>NaN</td>\n",
       "      <td>3.507000</td>\n",
       "      <td>NaN</td>\n",
       "    </tr>\n",
       "    <tr>\n",
       "      <th>25%</th>\n",
       "      <td>NaN</td>\n",
       "      <td>3.895335</td>\n",
       "      <td>NaN</td>\n",
       "    </tr>\n",
       "    <tr>\n",
       "      <th>50%</th>\n",
       "      <td>NaN</td>\n",
       "      <td>4.258167</td>\n",
       "      <td>NaN</td>\n",
       "    </tr>\n",
       "    <tr>\n",
       "      <th>75%</th>\n",
       "      <td>NaN</td>\n",
       "      <td>4.558045</td>\n",
       "      <td>NaN</td>\n",
       "    </tr>\n",
       "    <tr>\n",
       "      <th>max</th>\n",
       "      <td>NaN</td>\n",
       "      <td>5.296720</td>\n",
       "      <td>NaN</td>\n",
       "    </tr>\n",
       "  </tbody>\n",
       "</table>\n",
       "</div>"
      ],
      "text/plain": [
       "              Date       Price        FormattedDate\n",
       "count          144  144.000000                  144\n",
       "unique         144         NaN                  144\n",
       "top     2016-01-17         NaN  2015-07-19 00:00:00\n",
       "freq             1         NaN                    1\n",
       "first          NaN         NaN  2015-01-04 00:00:00\n",
       "last           NaN         NaN  2017-10-01 00:00:00\n",
       "mean           NaN    4.260489                  NaN\n",
       "std            NaN    0.437833                  NaN\n",
       "min            NaN    3.507000                  NaN\n",
       "25%            NaN    3.895335                  NaN\n",
       "50%            NaN    4.258167                  NaN\n",
       "75%            NaN    4.558045                  NaN\n",
       "max            NaN    5.296720                  NaN"
      ]
     },
     "execution_count": 4,
     "metadata": {},
     "output_type": "execute_result"
    }
   ],
   "source": [
    "corn.describe(include='all')"
   ]
  },
  {
   "cell_type": "markdown",
   "metadata": {},
   "source": [
    "#### Create a ColumnDataSource from the data\n",
    "This will make it easier for us to use the data in our plot"
   ]
  },
  {
   "cell_type": "code",
   "execution_count": 5,
   "metadata": {},
   "outputs": [],
   "source": [
    "data_source = ColumnDataSource(corn)"
   ]
  },
  {
   "cell_type": "markdown",
   "metadata": {},
   "source": [
    "#### Define a tooltip for the plot\n",
    "We would like the plot to display the Date and Price when we hover over a particular point on the plot. For this, we define a tooltip which comprises a list of tuples. \n",
    "\n",
    "Each tuple contains a title for the field followed by a reference to a field in the data source. Note that we are referencing the 'Date' field in the data source rather than 'FormattedDate'. This is because the formatted date will not be in human readable form."
   ]
  },
  {
   "cell_type": "code",
   "execution_count": 6,
   "metadata": {},
   "outputs": [],
   "source": [
    "tooltips = [('Date', '@Date'),\n",
    "            ('Price', '@Price')\n",
    "           ]"
   ]
  },
  {
   "cell_type": "markdown",
   "metadata": {},
   "source": [
    "#### Get the indexes for the maximum and minimum prices in the series\n",
    "We will mark the maximum and minimum prices on our plot"
   ]
  },
  {
   "cell_type": "code",
   "execution_count": 7,
   "metadata": {},
   "outputs": [
    {
     "name": "stdout",
     "output_type": "stream",
     "text": [
      "28\n",
      "142\n"
     ]
    }
   ],
   "source": [
    "max_index = corn['Price'].idxmax() \n",
    "min_index = corn['Price'].idxmin() \n",
    "\n",
    "print(max_index)\n",
    "print(min_index)"
   ]
  },
  {
   "cell_type": "markdown",
   "metadata": {},
   "source": [
    "#### Define the figure\n",
    "* we specify the <b>X axis range</b> in datetime format. We leave some extra space on the right of our plot\n",
    "* the <b>Y range</b> is set by our knowledge of the range of corn prices in our dataset\n",
    "* for Bokeh to know that the X axis values are in datetime format, we set <b>x_axis_type</b> to be 'datetime'\n",
    "* the <b>tooltips</b> we defined are added to the plot\n",
    "* a <b>title</b> is set for our plot"
   ]
  },
  {
   "cell_type": "code",
   "execution_count": 8,
   "metadata": {},
   "outputs": [],
   "source": [
    "p = figure(plot_width = 600, \n",
    "           plot_height = 300,\n",
    "           \n",
    "           x_range = (dt(2015,1,1), \n",
    "                      dt(2017,11,30)), \n",
    "           y_range = (3, 6),\n",
    "           \n",
    "           x_axis_type = 'datetime',\n",
    "           \n",
    "           tooltips = tooltips,\n",
    "           \n",
    "           title = 'Corn Prices')"
   ]
  },
  {
   "cell_type": "markdown",
   "metadata": {},
   "source": [
    "#### Draw a line tracing the corn prices\n",
    "* the X values are obtained from the FormattedDate field which is in datetime format\n",
    "* the corn prices are represented by the Y axis\n",
    "* we format the line by setting its width and color\n",
    "* the source for the data is the ColumnDataSource we created\n",
    "\n",
    "Hover over different points in the line to view the hovertext we have set with our tooltip"
   ]
  },
  {
   "cell_type": "code",
   "execution_count": 9,
   "metadata": {
    "scrolled": true
   },
   "outputs": [
    {
     "data": {
      "text/html": [
       "\n",
       "\n",
       "\n",
       "\n",
       "\n",
       "\n",
       "  <div class=\"bk-root\" id=\"0d14f090-94e6-4926-8e46-5de8a3d54c3c\"></div>\n"
      ]
     },
     "metadata": {},
     "output_type": "display_data"
    },
    {
     "data": {
      "application/javascript": [
       "(function(root) {\n",
       "  function embed_document(root) {\n",
       "    \n",
       "  var docs_json = {\"7559eed7-0f4f-4bdd-9033-538feaa5277a\":{\"roots\":{\"references\":[{\"attributes\":{\"callback\":null,\"end\":6,\"start\":3},\"id\":\"428cdd04-3158-4142-a89e-95f5172331c0\",\"type\":\"Range1d\"},{\"attributes\":{},\"id\":\"e347caa2-6fb6-4d90-b432-6113c8be90ea\",\"type\":\"LinearScale\"},{\"attributes\":{\"active_drag\":\"auto\",\"active_inspect\":\"auto\",\"active_multi\":null,\"active_scroll\":\"auto\",\"active_tap\":\"auto\",\"tools\":[{\"id\":\"3b6199a0-55e3-4662-940f-4ca1c88404a5\",\"type\":\"PanTool\"},{\"id\":\"3f6ef06a-3dd8-44ee-91fa-f845675cb40c\",\"type\":\"WheelZoomTool\"},{\"id\":\"b68710c2-9c21-48c0-a3ba-47ae35d57ec8\",\"type\":\"BoxZoomTool\"},{\"id\":\"d82e73df-1727-45e2-8276-e33a91a52905\",\"type\":\"SaveTool\"},{\"id\":\"096d120c-0310-4ff0-890c-d412c86c1d85\",\"type\":\"ResetTool\"},{\"id\":\"51200231-0e95-4bcf-89a0-e282144bd287\",\"type\":\"HelpTool\"},{\"id\":\"bbedd724-15cc-4e7a-85d7-031f3f6ed657\",\"type\":\"HoverTool\"}]},\"id\":\"35a995d8-4b29-4e38-8557-a062dac5be61\",\"type\":\"Toolbar\"},{\"attributes\":{\"dimension\":1,\"plot\":{\"id\":\"e4c093d1-6199-4ffc-8eee-8d124f5b30c2\",\"subtype\":\"Figure\",\"type\":\"Plot\"},\"ticker\":{\"id\":\"f9c90d91-3803-43b7-b1be-43238dce38f0\",\"type\":\"BasicTicker\"}},\"id\":\"71fd284e-70e7-47af-953a-a922221bd672\",\"type\":\"Grid\"},{\"attributes\":{\"formatter\":{\"id\":\"5465926d-4519-40fe-a691-45f8adc0b31c\",\"type\":\"DatetimeTickFormatter\"},\"plot\":{\"id\":\"e4c093d1-6199-4ffc-8eee-8d124f5b30c2\",\"subtype\":\"Figure\",\"type\":\"Plot\"},\"ticker\":{\"id\":\"aef07fe4-9d6a-4867-bea8-b78bcd017d92\",\"type\":\"DatetimeTicker\"}},\"id\":\"50e7b9e1-c3b2-4d3d-9d42-c04403ca0267\",\"type\":\"DatetimeAxis\"},{\"attributes\":{},\"id\":\"f9c90d91-3803-43b7-b1be-43238dce38f0\",\"type\":\"BasicTicker\"},{\"attributes\":{\"bottom_units\":\"screen\",\"fill_alpha\":{\"value\":0.5},\"fill_color\":{\"value\":\"lightgrey\"},\"left_units\":\"screen\",\"level\":\"overlay\",\"line_alpha\":{\"value\":1.0},\"line_color\":{\"value\":\"black\"},\"line_dash\":[4,4],\"line_width\":{\"value\":2},\"plot\":null,\"render_mode\":\"css\",\"right_units\":\"screen\",\"top_units\":\"screen\"},\"id\":\"6e78b15f-b37f-4836-af54-cbd3c0dfbf0e\",\"type\":\"BoxAnnotation\"},{\"attributes\":{},\"id\":\"5465926d-4519-40fe-a691-45f8adc0b31c\",\"type\":\"DatetimeTickFormatter\"},{\"attributes\":{\"days\":[1,4,7,10,13,16,19,22,25,28]},\"id\":\"6f19d902-703a-4338-9d69-7166318028e9\",\"type\":\"DaysTicker\"},{\"attributes\":{\"num_minor_ticks\":5,\"tickers\":[{\"id\":\"fb7ba10a-41e3-4309-94e5-99188eba83a9\",\"type\":\"AdaptiveTicker\"},{\"id\":\"b662276e-a2c2-4ec5-82c2-6b7b56587444\",\"type\":\"AdaptiveTicker\"},{\"id\":\"c9ad22ca-5b05-4468-9541-e97d901e36cf\",\"type\":\"AdaptiveTicker\"},{\"id\":\"095759fd-5daa-44b3-9f43-c2f08e104835\",\"type\":\"DaysTicker\"},{\"id\":\"6f19d902-703a-4338-9d69-7166318028e9\",\"type\":\"DaysTicker\"},{\"id\":\"299f2009-add2-49d3-8007-b3071e8fb5ac\",\"type\":\"DaysTicker\"},{\"id\":\"ca1fd282-f265-4f0e-852b-3c8fcc13db7a\",\"type\":\"DaysTicker\"},{\"id\":\"745f254d-f024-4cb1-9be9-b465632a4651\",\"type\":\"MonthsTicker\"},{\"id\":\"528bc457-da79-42a9-9c19-d4e1477b14f7\",\"type\":\"MonthsTicker\"},{\"id\":\"ec14a013-9650-4423-88af-3aa877a2d573\",\"type\":\"MonthsTicker\"},{\"id\":\"a7d0db92-5cd1-4f05-a82c-701d0764ea59\",\"type\":\"MonthsTicker\"},{\"id\":\"ee1c4c70-a74b-4b48-a28e-fd33c3056f20\",\"type\":\"YearsTicker\"}]},\"id\":\"aef07fe4-9d6a-4867-bea8-b78bcd017d92\",\"type\":\"DatetimeTicker\"},{\"attributes\":{\"days\":[1,15]},\"id\":\"ca1fd282-f265-4f0e-852b-3c8fcc13db7a\",\"type\":\"DaysTicker\"},{\"attributes\":{},\"id\":\"25840369-fd37-43c4-97b2-e2c261aee198\",\"type\":\"BasicTickFormatter\"},{\"attributes\":{\"days\":[1,2,3,4,5,6,7,8,9,10,11,12,13,14,15,16,17,18,19,20,21,22,23,24,25,26,27,28,29,30,31]},\"id\":\"095759fd-5daa-44b3-9f43-c2f08e104835\",\"type\":\"DaysTicker\"},{\"attributes\":{\"base\":60,\"mantissas\":[1,2,5,10,15,20,30],\"max_interval\":1800000.0,\"min_interval\":1000.0,\"num_minor_ticks\":0},\"id\":\"b662276e-a2c2-4ec5-82c2-6b7b56587444\",\"type\":\"AdaptiveTicker\"},{\"attributes\":{},\"id\":\"3b6199a0-55e3-4662-940f-4ca1c88404a5\",\"type\":\"PanTool\"},{\"attributes\":{\"base\":24,\"mantissas\":[1,2,4,6,8,12],\"max_interval\":43200000.0,\"min_interval\":3600000.0,\"num_minor_ticks\":0},\"id\":\"c9ad22ca-5b05-4468-9541-e97d901e36cf\",\"type\":\"AdaptiveTicker\"},{\"attributes\":{\"months\":[0,2,4,6,8,10]},\"id\":\"528bc457-da79-42a9-9c19-d4e1477b14f7\",\"type\":\"MonthsTicker\"},{\"attributes\":{},\"id\":\"3f6ef06a-3dd8-44ee-91fa-f845675cb40c\",\"type\":\"WheelZoomTool\"},{\"attributes\":{\"overlay\":{\"id\":\"6e78b15f-b37f-4836-af54-cbd3c0dfbf0e\",\"type\":\"BoxAnnotation\"}},\"id\":\"b68710c2-9c21-48c0-a3ba-47ae35d57ec8\",\"type\":\"BoxZoomTool\"},{\"attributes\":{},\"id\":\"d82e73df-1727-45e2-8276-e33a91a52905\",\"type\":\"SaveTool\"},{\"attributes\":{},\"id\":\"096d120c-0310-4ff0-890c-d412c86c1d85\",\"type\":\"ResetTool\"},{\"attributes\":{},\"id\":\"51200231-0e95-4bcf-89a0-e282144bd287\",\"type\":\"HelpTool\"},{\"attributes\":{\"callback\":null,\"renderers\":\"auto\",\"tooltips\":[[\"Date\",\"@Date\"],[\"Price\",\"@Price\"]]},\"id\":\"bbedd724-15cc-4e7a-85d7-031f3f6ed657\",\"type\":\"HoverTool\"},{\"attributes\":{\"months\":[0,4,8]},\"id\":\"ec14a013-9650-4423-88af-3aa877a2d573\",\"type\":\"MonthsTicker\"},{\"attributes\":{},\"id\":\"ee1c4c70-a74b-4b48-a28e-fd33c3056f20\",\"type\":\"YearsTicker\"},{\"attributes\":{\"months\":[0,6]},\"id\":\"a7d0db92-5cd1-4f05-a82c-701d0764ea59\",\"type\":\"MonthsTicker\"},{\"attributes\":{},\"id\":\"c77f76fe-a739-493c-8418-196b00ffd822\",\"type\":\"UnionRenderers\"},{\"attributes\":{},\"id\":\"e115fe54-9784-4624-b8ae-185e40a30f50\",\"type\":\"Selection\"},{\"attributes\":{\"source\":{\"id\":\"c6a1b3aa-cf8d-470d-b9b9-64d0d5ed402a\",\"type\":\"ColumnDataSource\"}},\"id\":\"8e65503e-14d4-411a-abd8-56f473a65011\",\"type\":\"CDSView\"},{\"attributes\":{\"line_alpha\":0.1,\"line_color\":\"#1f77b4\",\"line_width\":2,\"x\":{\"field\":\"FormattedDate\"},\"y\":{\"field\":\"Price\"}},\"id\":\"5ffb416e-ce31-4909-b116-d4186f24a6bf\",\"type\":\"Line\"},{\"attributes\":{\"line_color\":\"#FFD700\",\"line_width\":2,\"x\":{\"field\":\"FormattedDate\"},\"y\":{\"field\":\"Price\"}},\"id\":\"ebe444c1-a6a1-4898-9184-e2ccc6195300\",\"type\":\"Line\"},{\"attributes\":{\"below\":[{\"id\":\"50e7b9e1-c3b2-4d3d-9d42-c04403ca0267\",\"type\":\"DatetimeAxis\"}],\"left\":[{\"id\":\"bc816b21-00dc-4e61-b173-53d84a83df2c\",\"type\":\"LinearAxis\"}],\"plot_height\":300,\"renderers\":[{\"id\":\"50e7b9e1-c3b2-4d3d-9d42-c04403ca0267\",\"type\":\"DatetimeAxis\"},{\"id\":\"b6cc0367-43e8-4221-9b58-faffd4f06cc9\",\"type\":\"Grid\"},{\"id\":\"bc816b21-00dc-4e61-b173-53d84a83df2c\",\"type\":\"LinearAxis\"},{\"id\":\"71fd284e-70e7-47af-953a-a922221bd672\",\"type\":\"Grid\"},{\"id\":\"6e78b15f-b37f-4836-af54-cbd3c0dfbf0e\",\"type\":\"BoxAnnotation\"},{\"id\":\"690f1303-9862-4c68-adc0-ebabf2b93721\",\"type\":\"GlyphRenderer\"}],\"title\":{\"id\":\"a59822e2-9102-4cdb-b45c-4108f92893ea\",\"type\":\"Title\"},\"toolbar\":{\"id\":\"35a995d8-4b29-4e38-8557-a062dac5be61\",\"type\":\"Toolbar\"},\"x_range\":{\"id\":\"f441e1fc-c461-4988-8995-1a4015a83323\",\"type\":\"Range1d\"},\"x_scale\":{\"id\":\"6fd3c6c4-d4ec-4203-a437-0424f2d53039\",\"type\":\"LinearScale\"},\"y_range\":{\"id\":\"428cdd04-3158-4142-a89e-95f5172331c0\",\"type\":\"Range1d\"},\"y_scale\":{\"id\":\"e347caa2-6fb6-4d90-b432-6113c8be90ea\",\"type\":\"LinearScale\"}},\"id\":\"e4c093d1-6199-4ffc-8eee-8d124f5b30c2\",\"subtype\":\"Figure\",\"type\":\"Plot\"},{\"attributes\":{\"data_source\":{\"id\":\"c6a1b3aa-cf8d-470d-b9b9-64d0d5ed402a\",\"type\":\"ColumnDataSource\"},\"glyph\":{\"id\":\"ebe444c1-a6a1-4898-9184-e2ccc6195300\",\"type\":\"Line\"},\"hover_glyph\":null,\"muted_glyph\":null,\"nonselection_glyph\":{\"id\":\"5ffb416e-ce31-4909-b116-d4186f24a6bf\",\"type\":\"Line\"},\"selection_glyph\":null,\"view\":{\"id\":\"8e65503e-14d4-411a-abd8-56f473a65011\",\"type\":\"CDSView\"}},\"id\":\"690f1303-9862-4c68-adc0-ebabf2b93721\",\"type\":\"GlyphRenderer\"},{\"attributes\":{\"months\":[0,1,2,3,4,5,6,7,8,9,10,11]},\"id\":\"745f254d-f024-4cb1-9be9-b465632a4651\",\"type\":\"MonthsTicker\"},{\"attributes\":{\"plot\":null,\"text\":\"Corn Prices\"},\"id\":\"a59822e2-9102-4cdb-b45c-4108f92893ea\",\"type\":\"Title\"},{\"attributes\":{\"callback\":null,\"data\":{\"Date\":[\"2015-01-04\",\"2015-01-11\",\"2015-01-18\",\"2015-01-25\",\"2015-02-01\",\"2015-02-08\",\"2015-02-15\",\"2015-02-22\",\"2015-03-01\",\"2015-03-08\",\"2015-03-15\",\"2015-03-22\",\"2015-03-29\",\"2015-04-05\",\"2015-04-12\",\"2015-04-19\",\"2015-04-26\",\"2015-05-03\",\"2015-05-10\",\"2015-05-17\",\"2015-05-24\",\"2015-05-31\",\"2015-06-07\",\"2015-06-14\",\"2015-06-21\",\"2015-06-28\",\"2015-07-05\",\"2015-07-12\",\"2015-07-19\",\"2015-07-26\",\"2015-08-02\",\"2015-08-09\",\"2015-08-16\",\"2015-08-23\",\"2015-08-30\",\"2015-09-06\",\"2015-09-13\",\"2015-09-20\",\"2015-09-27\",\"2015-10-04\",\"2015-10-11\",\"2015-10-18\",\"2015-10-25\",\"2015-11-01\",\"2015-11-08\",\"2015-11-15\",\"2015-11-22\",\"2015-11-29\",\"2015-12-06\",\"2015-12-13\",\"2015-12-20\",\"2015-12-27\",\"2016-01-03\",\"2016-01-10\",\"2016-01-17\",\"2016-01-24\",\"2016-01-31\",\"2016-02-07\",\"2016-02-14\",\"2016-02-21\",\"2016-02-28\",\"2016-03-06\",\"2016-03-13\",\"2016-03-20\",\"2016-03-27\",\"2016-04-03\",\"2016-04-10\",\"2016-04-17\",\"2016-04-24\",\"2016-05-01\",\"2016-05-08\",\"2016-05-15\",\"2016-05-22\",\"2016-05-29\",\"2016-06-05\",\"2016-06-12\",\"2016-06-19\",\"2016-06-26\",\"2016-07-03\",\"2016-07-10\",\"2016-07-17\",\"2016-07-24\",\"2016-07-31\",\"2016-08-07\",\"2016-08-14\",\"2016-08-21\",\"2016-08-28\",\"2016-09-04\",\"2016-09-11\",\"2016-09-18\",\"2016-09-25\",\"2016-10-02\",\"2016-10-09\",\"2016-10-16\",\"2016-10-23\",\"2016-10-30\",\"2016-11-06\",\"2016-11-13\",\"2016-11-20\",\"2016-11-27\",\"2016-12-04\",\"2016-12-11\",\"2016-12-18\",\"2016-12-25\",\"2017-01-01\",\"2017-01-08\",\"2017-01-15\",\"2017-01-22\",\"2017-01-29\",\"2017-02-05\",\"2017-02-12\",\"2017-02-19\",\"2017-02-26\",\"2017-03-05\",\"2017-03-12\",\"2017-03-19\",\"2017-03-26\",\"2017-04-02\",\"2017-04-09\",\"2017-04-16\",\"2017-04-23\",\"2017-04-30\",\"2017-05-07\",\"2017-05-14\",\"2017-05-21\",\"2017-05-28\",\"2017-06-04\",\"2017-06-11\",\"2017-06-18\",\"2017-06-25\",\"2017-07-02\",\"2017-07-09\",\"2017-07-16\",\"2017-07-23\",\"2017-07-30\",\"2017-08-06\",\"2017-08-13\",\"2017-08-20\",\"2017-08-27\",\"2017-09-03\",\"2017-09-10\",\"2017-09-17\",\"2017-09-24\",\"2017-10-01\"],\"FormattedDate\":{\"__ndarray__\":\"AABA3COrdEIAAICkZK10QgAAwGylr3RCAAAANeaxdEIAAED9JrR0QgAAgMVntnRCAADAjai4dEIAAABW6bp0QgAAQB4qvXRCAACA5mq/dEIAAMCuq8F0QgAAAHfsw3RCAABAPy3GdEIAAIAHbsh0QgAAwM+uynRCAAAAmO/MdEIAAEBgMM90QgAAgChx0XRCAADA8LHTdEIAAAC58tV0QgAAQIEz2HRCAACASXTadEIAAMARtdx0QgAAANr13nRCAABAojbhdEIAAIBqd+N0QgAAwDK45XRCAAAA+/jndEIAAEDDOep0QgAAgIt67HRCAADAU7vudEIAAAAc/PB0QgAAQOQ883RCAACArH31dEIAAMB0vvd0QgAAAD3/+XRCAABABUD8dEIAAIDNgP50QgAAwJXBAHVCAAAAXgIDdUIAAEAmQwV1QgAAgO6DB3VCAADAtsQJdUIAAAB/BQx1QgAAQEdGDnVCAACAD4cQdUIAAMDXxxJ1QgAAAKAIFXVCAABAaEkXdUIAAIAwihl1QgAAwPjKG3VCAAAAwQsedUIAAECJTCB1QgAAgFGNInVCAADAGc4kdUIAAADiDid1QgAAQKpPKXVCAACAcpArdUIAAMA60S11QgAAAAMSMHVCAABAy1IydUIAAICTkzR1QgAAwFvUNnVCAAAAJBU5dUIAAEDsVTt1QgAAgLSWPXVCAADAfNc/dUIAAABFGEJ1QgAAQA1ZRHVCAACA1ZlGdUIAAMCd2kh1QgAAAGYbS3VCAABALlxNdUIAAID2nE91QgAAwL7dUXVCAAAAhx5UdUIAAEBPX1Z1QgAAgBegWHVCAADA3+BadUIAAACoIV11QgAAQHBiX3VCAACAOKNhdUIAAMAA5GN1QgAAAMkkZnVCAABAkWVodUIAAIBZpmp1QgAAwCHnbHVCAAAA6idvdUIAAECyaHF1QgAAgHqpc3VCAADAQup1dUIAAAALK3h1QgAAQNNrenVCAACAm6x8dUIAAMBj7X51QgAAACwugXVCAABA9G6DdUIAAIC8r4V1QgAAwITwh3VCAAAATTGKdUIAAEAVcox1QgAAgN2yjnVCAADApfOQdUIAAABuNJN1QgAAQDZ1lXVCAACA/rWXdUIAAMDG9pl1QgAAAI83nHVCAABAV3iedUIAAIAfuaB1QgAAwOf5onVCAAAAsDqldUIAAEB4e6d1QgAAgEC8qXVCAADACP2rdUIAAADRPa51QgAAQJl+sHVCAACAYb+ydUIAAMApALV1QgAAAPJAt3VCAABAuoG5dUIAAICCwrt1QgAAwEoDvnVCAAAAE0TAdUIAAEDbhMJ1QgAAgKPFxHVCAADAawbHdUIAAAA0R8l1QgAAQPyHy3VCAACAxMjNdUIAAMCMCdB1QgAAAFVK0nVCAABAHYvUdUIAAIDly9Z1QgAAwK0M2XVCAAAAdk3bdUIAAEA+jt11QgAAgAbP33VCAADAzg/idUIAAACXUOR1QgAAQF+R5nVCAACAJ9LodUIAAMDvEut1QgAAALhT7XVC\",\"dtype\":\"float64\",\"shape\":[144]},\"Price\":{\"__ndarray__\":\"XynLEMfaFEAoDwu1prkUQGHgufdwCRRAoBov3SQGFEBdbcX+snsTQBefAmA8wxNA7uvAOSMKFEAJM23/ygoUQFYTRN0HoBNAcVXZd0WwE0DH155ZEqATQJ9ZEqCmFhNAs4AJ3LrbE0BcIEHxY3wTQL7BFyZTRRNAOpLLf0j/EkAXDoRkAdMSQJG4x9KHLhJA4PPDCOEREkAUChFwCBUSQOPHmLuWEBJAPwCpTZycEUA+6Nms+twRQDIge7374xFAMGR1q+ekEUCRs7CnHX4SQBk+IqZEkhRAhV/q500FFUDHRiBe1y8VQNXPm4pU2BNAf2WlSSloEkAa+ie4WFESQHL+JhQiYBJAkKD4MeYuEkCZgcr49xkSQL1vfO2ZpRFAhbGFIAflEUB/+zpwzogSQPj8MEJ4dBJA5EnSNZOvEkAmjdE6qtoSQAXAeAYNPRJACyk/qfYpEkADz72HS04SQJKRs7CnHRJA1JrmHadoEUAkKH6MuWsRQGXkLOxphxFAFOgTeZK0EUBgWWlSCroRQOscA7LXuxFASFD8GHNXEUDc14FzRgQRQLnCu1zEtxBAjBU1mIbhEECXOV0WE1sRQFoqb0c4bRFA7vDXZI16EUAGR8mrcwwRQJ83FakwNhFAcXfWbrsQEUBoHVVNELUQQPlJtU/H4xBAgzRj0XQ2EUDuWkI+6EkRQJGzsKcd/hBAnbryWZ7HEEC77UJznUYRQCL430p27BFAtdsuNNfpEUAkYkok0YsRQCRFZFjFmxFAs3bbheY6EkDKMsSxLq4SQIZyol2FFBNAe6AVGLK6E0D9MEJ4tPETQG1blNkgUxJAELQCQ1Y3EUBqTfOOU/QPQBzw+WGEMBBABa3AkNUtD0Ad5ssLsI8OQBgJbTmX4g1Afa62Yn/ZDUAhH/RsVn0OQJKzsKcd/g1As3bbhea6DEDpmsk329wNQDtY/+cw3w1AgXhdv2A3DkC4x9KHLqgNQCrB4nDm1w5AgRyUMNP2DkByEd+JWa8PQMe/z7hwoA9AvB3htOBFD0CppE5AE+EOQIxiuaXVkA5ABhIUP8ZcD0DEsS5uo4EOQEkp6PaSRg9AXRYTm49rD0APlxx3SocOQDeJQWDlsA5AxY8xdy1hD0CPNo5Yi08PQJ30vvG15w9ABVH3AUjtD0D7y+7Jw8IPQMYzaOifIBBAtyizQSZZEEA1KQXdXhIQQE8jLZW3IxBAlX1XBP/bD0D8pNqn4zEPQGx4eqUsww5AduCcEaW9DkBb07zjFB0PQLpJDAIrhw9A+RkXDoTkDkBy/iYUIuAOQMo88gcDTw9APu3w12QND0BVNUHUfQAPQOQUHcnlPw9AWMoyxLEuD0B6xyk6kgsQQGiWBKip5Q9A5QrvchHfDkD+SBEZVnEOQME5I0p7AxBANV66SQwCEEB/arx0k5gPQBBYObTI9g5ABoGVQ4tsDkDByqFFtnMOQMHKoUW2cw1Af2q8dJOYDECamZmZmRkMQFpkO99PjQxA16NwPQpXDEB1kxgEVg4MQD0K16NwPQxA\",\"dtype\":\"float64\",\"shape\":[144]},\"index\":[0,1,2,3,4,5,6,7,8,9,10,11,12,13,14,15,16,17,18,19,20,21,22,23,24,25,26,27,28,29,30,31,32,33,34,35,36,37,38,39,40,41,42,43,44,45,46,47,48,49,50,51,52,53,54,55,56,57,58,59,60,61,62,63,64,65,66,67,68,69,70,71,72,73,74,75,76,77,78,79,80,81,82,83,84,85,86,87,88,89,90,91,92,93,94,95,96,97,98,99,100,101,102,103,104,105,106,107,108,109,110,111,112,113,114,115,116,117,118,119,120,121,122,123,124,125,126,127,128,129,130,131,132,133,134,135,136,137,138,139,140,141,142,143]},\"selected\":{\"id\":\"e115fe54-9784-4624-b8ae-185e40a30f50\",\"type\":\"Selection\"},\"selection_policy\":{\"id\":\"c77f76fe-a739-493c-8418-196b00ffd822\",\"type\":\"UnionRenderers\"}},\"id\":\"c6a1b3aa-cf8d-470d-b9b9-64d0d5ed402a\",\"type\":\"ColumnDataSource\"},{\"attributes\":{\"callback\":null,\"end\":1512000000000.0,\"start\":1420070400000.0},\"id\":\"f441e1fc-c461-4988-8995-1a4015a83323\",\"type\":\"Range1d\"},{\"attributes\":{\"formatter\":{\"id\":\"25840369-fd37-43c4-97b2-e2c261aee198\",\"type\":\"BasicTickFormatter\"},\"plot\":{\"id\":\"e4c093d1-6199-4ffc-8eee-8d124f5b30c2\",\"subtype\":\"Figure\",\"type\":\"Plot\"},\"ticker\":{\"id\":\"f9c90d91-3803-43b7-b1be-43238dce38f0\",\"type\":\"BasicTicker\"}},\"id\":\"bc816b21-00dc-4e61-b173-53d84a83df2c\",\"type\":\"LinearAxis\"},{\"attributes\":{},\"id\":\"6fd3c6c4-d4ec-4203-a437-0424f2d53039\",\"type\":\"LinearScale\"},{\"attributes\":{\"days\":[1,8,15,22]},\"id\":\"299f2009-add2-49d3-8007-b3071e8fb5ac\",\"type\":\"DaysTicker\"},{\"attributes\":{\"mantissas\":[1,2,5],\"max_interval\":500.0,\"num_minor_ticks\":0},\"id\":\"fb7ba10a-41e3-4309-94e5-99188eba83a9\",\"type\":\"AdaptiveTicker\"},{\"attributes\":{\"plot\":{\"id\":\"e4c093d1-6199-4ffc-8eee-8d124f5b30c2\",\"subtype\":\"Figure\",\"type\":\"Plot\"},\"ticker\":{\"id\":\"aef07fe4-9d6a-4867-bea8-b78bcd017d92\",\"type\":\"DatetimeTicker\"}},\"id\":\"b6cc0367-43e8-4221-9b58-faffd4f06cc9\",\"type\":\"Grid\"}],\"root_ids\":[\"e4c093d1-6199-4ffc-8eee-8d124f5b30c2\"]},\"title\":\"Bokeh Application\",\"version\":\"0.13.0\"}};\n",
       "  var render_items = [{\"docid\":\"7559eed7-0f4f-4bdd-9033-538feaa5277a\",\"roots\":{\"e4c093d1-6199-4ffc-8eee-8d124f5b30c2\":\"0d14f090-94e6-4926-8e46-5de8a3d54c3c\"}}];\n",
       "  root.Bokeh.embed.embed_items_notebook(docs_json, render_items);\n",
       "\n",
       "  }\n",
       "  if (root.Bokeh !== undefined) {\n",
       "    embed_document(root);\n",
       "  } else {\n",
       "    var attempts = 0;\n",
       "    var timer = setInterval(function(root) {\n",
       "      if (root.Bokeh !== undefined) {\n",
       "        embed_document(root);\n",
       "        clearInterval(timer);\n",
       "      }\n",
       "      attempts++;\n",
       "      if (attempts > 100) {\n",
       "        console.log(\"Bokeh: ERROR: Unable to run BokehJS code because BokehJS library is missing\")\n",
       "        clearInterval(timer);\n",
       "      }\n",
       "    }, 10, root)\n",
       "  }\n",
       "})(window);"
      ],
      "application/vnd.bokehjs_exec.v0+json": ""
     },
     "metadata": {
      "application/vnd.bokehjs_exec.v0+json": {
       "id": "e4c093d1-6199-4ffc-8eee-8d124f5b30c2"
      }
     },
     "output_type": "display_data"
    }
   ],
   "source": [
    "p.line(x = 'FormattedDate', \n",
    "       y = 'Price', \n",
    "       \n",
    "       line_width=2,\n",
    "       color='#FFD700',\n",
    "       \n",
    "       source = data_source\n",
    "      )\n",
    "\n",
    "show(p)"
   ]
  },
  {
   "cell_type": "markdown",
   "metadata": {},
   "source": [
    "#### Get the dates when the highest and lowest prices were reached\n",
    "We get these in date format (as opposed to datetime) which we will use as the x values for all annotation objects"
   ]
  },
  {
   "cell_type": "code",
   "execution_count": 10,
   "metadata": {},
   "outputs": [
    {
     "name": "stdout",
     "output_type": "stream",
     "text": [
      "Max price date:  2015-07-19\n",
      "Min price date:  2017-09-24\n"
     ]
    }
   ],
   "source": [
    "maxpricedate = dt.date(corn['FormattedDate'].loc[max_index])\n",
    "minpricedate = dt.date(corn['FormattedDate'].loc[min_index])\n",
    "\n",
    "print('Max price date: ', maxpricedate)\n",
    "print('Min price date: ', minpricedate)"
   ]
  },
  {
   "cell_type": "markdown",
   "metadata": {},
   "source": [
    "#### Get the values of the maximum and minimum price\n",
    "These will be the Y values for our annotation objects"
   ]
  },
  {
   "cell_type": "code",
   "execution_count": 11,
   "metadata": {},
   "outputs": [
    {
     "name": "stdout",
     "output_type": "stream",
     "text": [
      "Max price:  5.29672\n",
      "Min price:  3.507\n"
     ]
    }
   ],
   "source": [
    "maxprice = corn['Price'].loc[max_index]\n",
    "minprice = corn['Price'].loc[min_index]\n",
    "\n",
    "print('Max price: ', maxprice)\n",
    "print('Min price: ', minprice)"
   ]
  },
  {
   "cell_type": "markdown",
   "metadata": {},
   "source": [
    "#### Mark the maximum and minimum price points with circles"
   ]
  },
  {
   "cell_type": "code",
   "execution_count": 12,
   "metadata": {},
   "outputs": [
    {
     "data": {
      "text/html": [
       "\n",
       "\n",
       "\n",
       "\n",
       "\n",
       "\n",
       "  <div class=\"bk-root\" id=\"e46a0755-73cf-449f-946b-f25aba3e8068\"></div>\n"
      ]
     },
     "metadata": {},
     "output_type": "display_data"
    },
    {
     "data": {
      "application/javascript": [
       "(function(root) {\n",
       "  function embed_document(root) {\n",
       "    \n",
       "  var docs_json = {\"f0b40fca-fa1c-4360-80d3-5adc9d0dcffa\":{\"roots\":{\"references\":[{\"attributes\":{\"callback\":null,\"end\":6,\"start\":3},\"id\":\"428cdd04-3158-4142-a89e-95f5172331c0\",\"type\":\"Range1d\"},{\"attributes\":{},\"id\":\"e347caa2-6fb6-4d90-b432-6113c8be90ea\",\"type\":\"LinearScale\"},{\"attributes\":{\"active_drag\":\"auto\",\"active_inspect\":\"auto\",\"active_multi\":null,\"active_scroll\":\"auto\",\"active_tap\":\"auto\",\"tools\":[{\"id\":\"3b6199a0-55e3-4662-940f-4ca1c88404a5\",\"type\":\"PanTool\"},{\"id\":\"3f6ef06a-3dd8-44ee-91fa-f845675cb40c\",\"type\":\"WheelZoomTool\"},{\"id\":\"b68710c2-9c21-48c0-a3ba-47ae35d57ec8\",\"type\":\"BoxZoomTool\"},{\"id\":\"d82e73df-1727-45e2-8276-e33a91a52905\",\"type\":\"SaveTool\"},{\"id\":\"096d120c-0310-4ff0-890c-d412c86c1d85\",\"type\":\"ResetTool\"},{\"id\":\"51200231-0e95-4bcf-89a0-e282144bd287\",\"type\":\"HelpTool\"},{\"id\":\"bbedd724-15cc-4e7a-85d7-031f3f6ed657\",\"type\":\"HoverTool\"}]},\"id\":\"35a995d8-4b29-4e38-8557-a062dac5be61\",\"type\":\"Toolbar\"},{\"attributes\":{\"dimension\":1,\"plot\":{\"id\":\"e4c093d1-6199-4ffc-8eee-8d124f5b30c2\",\"subtype\":\"Figure\",\"type\":\"Plot\"},\"ticker\":{\"id\":\"f9c90d91-3803-43b7-b1be-43238dce38f0\",\"type\":\"BasicTicker\"}},\"id\":\"71fd284e-70e7-47af-953a-a922221bd672\",\"type\":\"Grid\"},{\"attributes\":{\"formatter\":{\"id\":\"5465926d-4519-40fe-a691-45f8adc0b31c\",\"type\":\"DatetimeTickFormatter\"},\"plot\":{\"id\":\"e4c093d1-6199-4ffc-8eee-8d124f5b30c2\",\"subtype\":\"Figure\",\"type\":\"Plot\"},\"ticker\":{\"id\":\"aef07fe4-9d6a-4867-bea8-b78bcd017d92\",\"type\":\"DatetimeTicker\"}},\"id\":\"50e7b9e1-c3b2-4d3d-9d42-c04403ca0267\",\"type\":\"DatetimeAxis\"},{\"attributes\":{},\"id\":\"f9c90d91-3803-43b7-b1be-43238dce38f0\",\"type\":\"BasicTicker\"},{\"attributes\":{\"bottom_units\":\"screen\",\"fill_alpha\":{\"value\":0.5},\"fill_color\":{\"value\":\"lightgrey\"},\"left_units\":\"screen\",\"level\":\"overlay\",\"line_alpha\":{\"value\":1.0},\"line_color\":{\"value\":\"black\"},\"line_dash\":[4,4],\"line_width\":{\"value\":2},\"plot\":null,\"render_mode\":\"css\",\"right_units\":\"screen\",\"top_units\":\"screen\"},\"id\":\"6e78b15f-b37f-4836-af54-cbd3c0dfbf0e\",\"type\":\"BoxAnnotation\"},{\"attributes\":{},\"id\":\"5465926d-4519-40fe-a691-45f8adc0b31c\",\"type\":\"DatetimeTickFormatter\"},{\"attributes\":{\"days\":[1,4,7,10,13,16,19,22,25,28]},\"id\":\"6f19d902-703a-4338-9d69-7166318028e9\",\"type\":\"DaysTicker\"},{\"attributes\":{\"num_minor_ticks\":5,\"tickers\":[{\"id\":\"fb7ba10a-41e3-4309-94e5-99188eba83a9\",\"type\":\"AdaptiveTicker\"},{\"id\":\"b662276e-a2c2-4ec5-82c2-6b7b56587444\",\"type\":\"AdaptiveTicker\"},{\"id\":\"c9ad22ca-5b05-4468-9541-e97d901e36cf\",\"type\":\"AdaptiveTicker\"},{\"id\":\"095759fd-5daa-44b3-9f43-c2f08e104835\",\"type\":\"DaysTicker\"},{\"id\":\"6f19d902-703a-4338-9d69-7166318028e9\",\"type\":\"DaysTicker\"},{\"id\":\"299f2009-add2-49d3-8007-b3071e8fb5ac\",\"type\":\"DaysTicker\"},{\"id\":\"ca1fd282-f265-4f0e-852b-3c8fcc13db7a\",\"type\":\"DaysTicker\"},{\"id\":\"745f254d-f024-4cb1-9be9-b465632a4651\",\"type\":\"MonthsTicker\"},{\"id\":\"528bc457-da79-42a9-9c19-d4e1477b14f7\",\"type\":\"MonthsTicker\"},{\"id\":\"ec14a013-9650-4423-88af-3aa877a2d573\",\"type\":\"MonthsTicker\"},{\"id\":\"a7d0db92-5cd1-4f05-a82c-701d0764ea59\",\"type\":\"MonthsTicker\"},{\"id\":\"ee1c4c70-a74b-4b48-a28e-fd33c3056f20\",\"type\":\"YearsTicker\"}]},\"id\":\"aef07fe4-9d6a-4867-bea8-b78bcd017d92\",\"type\":\"DatetimeTicker\"},{\"attributes\":{\"days\":[1,15]},\"id\":\"ca1fd282-f265-4f0e-852b-3c8fcc13db7a\",\"type\":\"DaysTicker\"},{\"attributes\":{},\"id\":\"25840369-fd37-43c4-97b2-e2c261aee198\",\"type\":\"BasicTickFormatter\"},{\"attributes\":{\"days\":[1,2,3,4,5,6,7,8,9,10,11,12,13,14,15,16,17,18,19,20,21,22,23,24,25,26,27,28,29,30,31]},\"id\":\"095759fd-5daa-44b3-9f43-c2f08e104835\",\"type\":\"DaysTicker\"},{\"attributes\":{\"base\":60,\"mantissas\":[1,2,5,10,15,20,30],\"max_interval\":1800000.0,\"min_interval\":1000.0,\"num_minor_ticks\":0},\"id\":\"b662276e-a2c2-4ec5-82c2-6b7b56587444\",\"type\":\"AdaptiveTicker\"},{\"attributes\":{},\"id\":\"3b6199a0-55e3-4662-940f-4ca1c88404a5\",\"type\":\"PanTool\"},{\"attributes\":{\"base\":24,\"mantissas\":[1,2,4,6,8,12],\"max_interval\":43200000.0,\"min_interval\":3600000.0,\"num_minor_ticks\":0},\"id\":\"c9ad22ca-5b05-4468-9541-e97d901e36cf\",\"type\":\"AdaptiveTicker\"},{\"attributes\":{\"months\":[0,2,4,6,8,10]},\"id\":\"528bc457-da79-42a9-9c19-d4e1477b14f7\",\"type\":\"MonthsTicker\"},{\"attributes\":{},\"id\":\"3f6ef06a-3dd8-44ee-91fa-f845675cb40c\",\"type\":\"WheelZoomTool\"},{\"attributes\":{\"overlay\":{\"id\":\"6e78b15f-b37f-4836-af54-cbd3c0dfbf0e\",\"type\":\"BoxAnnotation\"}},\"id\":\"b68710c2-9c21-48c0-a3ba-47ae35d57ec8\",\"type\":\"BoxZoomTool\"},{\"attributes\":{},\"id\":\"daffd150-78c5-480f-b6b3-ae245059e502\",\"type\":\"UnionRenderers\"},{\"attributes\":{},\"id\":\"d82e73df-1727-45e2-8276-e33a91a52905\",\"type\":\"SaveTool\"},{\"attributes\":{},\"id\":\"096d120c-0310-4ff0-890c-d412c86c1d85\",\"type\":\"ResetTool\"},{\"attributes\":{},\"id\":\"51200231-0e95-4bcf-89a0-e282144bd287\",\"type\":\"HelpTool\"},{\"attributes\":{\"callback\":null,\"data\":{\"x\":[1437264000000.0,1506211200000.0],\"y\":[5.29672,3.507]},\"selected\":{\"id\":\"8c4262ba-bed9-42d3-b586-3950f3ea78c9\",\"type\":\"Selection\"},\"selection_policy\":{\"id\":\"daffd150-78c5-480f-b6b3-ae245059e502\",\"type\":\"UnionRenderers\"}},\"id\":\"67f02c8b-149f-415b-a261-21eebdd72e36\",\"type\":\"ColumnDataSource\"},{\"attributes\":{\"callback\":null,\"renderers\":\"auto\",\"tooltips\":[[\"Date\",\"@Date\"],[\"Price\",\"@Price\"]]},\"id\":\"bbedd724-15cc-4e7a-85d7-031f3f6ed657\",\"type\":\"HoverTool\"},{\"attributes\":{\"months\":[0,4,8]},\"id\":\"ec14a013-9650-4423-88af-3aa877a2d573\",\"type\":\"MonthsTicker\"},{\"attributes\":{},\"id\":\"ee1c4c70-a74b-4b48-a28e-fd33c3056f20\",\"type\":\"YearsTicker\"},{\"attributes\":{\"months\":[0,6]},\"id\":\"a7d0db92-5cd1-4f05-a82c-701d0764ea59\",\"type\":\"MonthsTicker\"},{\"attributes\":{},\"id\":\"c77f76fe-a739-493c-8418-196b00ffd822\",\"type\":\"UnionRenderers\"},{\"attributes\":{},\"id\":\"e115fe54-9784-4624-b8ae-185e40a30f50\",\"type\":\"Selection\"},{\"attributes\":{\"source\":{\"id\":\"c6a1b3aa-cf8d-470d-b9b9-64d0d5ed402a\",\"type\":\"ColumnDataSource\"}},\"id\":\"8e65503e-14d4-411a-abd8-56f473a65011\",\"type\":\"CDSView\"},{\"attributes\":{\"line_alpha\":0.1,\"line_color\":\"#1f77b4\",\"line_width\":2,\"x\":{\"field\":\"FormattedDate\"},\"y\":{\"field\":\"Price\"}},\"id\":\"5ffb416e-ce31-4909-b116-d4186f24a6bf\",\"type\":\"Line\"},{\"attributes\":{\"line_color\":\"#FFD700\",\"line_width\":2,\"x\":{\"field\":\"FormattedDate\"},\"y\":{\"field\":\"Price\"}},\"id\":\"ebe444c1-a6a1-4898-9184-e2ccc6195300\",\"type\":\"Line\"},{\"attributes\":{\"below\":[{\"id\":\"50e7b9e1-c3b2-4d3d-9d42-c04403ca0267\",\"type\":\"DatetimeAxis\"}],\"left\":[{\"id\":\"bc816b21-00dc-4e61-b173-53d84a83df2c\",\"type\":\"LinearAxis\"}],\"plot_height\":300,\"renderers\":[{\"id\":\"50e7b9e1-c3b2-4d3d-9d42-c04403ca0267\",\"type\":\"DatetimeAxis\"},{\"id\":\"b6cc0367-43e8-4221-9b58-faffd4f06cc9\",\"type\":\"Grid\"},{\"id\":\"bc816b21-00dc-4e61-b173-53d84a83df2c\",\"type\":\"LinearAxis\"},{\"id\":\"71fd284e-70e7-47af-953a-a922221bd672\",\"type\":\"Grid\"},{\"id\":\"6e78b15f-b37f-4836-af54-cbd3c0dfbf0e\",\"type\":\"BoxAnnotation\"},{\"id\":\"690f1303-9862-4c68-adc0-ebabf2b93721\",\"type\":\"GlyphRenderer\"},{\"id\":\"57e05cb2-1fcd-41ef-8c99-3187c04b0b05\",\"type\":\"GlyphRenderer\"}],\"title\":{\"id\":\"a59822e2-9102-4cdb-b45c-4108f92893ea\",\"type\":\"Title\"},\"toolbar\":{\"id\":\"35a995d8-4b29-4e38-8557-a062dac5be61\",\"type\":\"Toolbar\"},\"x_range\":{\"id\":\"f441e1fc-c461-4988-8995-1a4015a83323\",\"type\":\"Range1d\"},\"x_scale\":{\"id\":\"6fd3c6c4-d4ec-4203-a437-0424f2d53039\",\"type\":\"LinearScale\"},\"y_range\":{\"id\":\"428cdd04-3158-4142-a89e-95f5172331c0\",\"type\":\"Range1d\"},\"y_scale\":{\"id\":\"e347caa2-6fb6-4d90-b432-6113c8be90ea\",\"type\":\"LinearScale\"}},\"id\":\"e4c093d1-6199-4ffc-8eee-8d124f5b30c2\",\"subtype\":\"Figure\",\"type\":\"Plot\"},{\"attributes\":{\"data_source\":{\"id\":\"c6a1b3aa-cf8d-470d-b9b9-64d0d5ed402a\",\"type\":\"ColumnDataSource\"},\"glyph\":{\"id\":\"ebe444c1-a6a1-4898-9184-e2ccc6195300\",\"type\":\"Line\"},\"hover_glyph\":null,\"muted_glyph\":null,\"nonselection_glyph\":{\"id\":\"5ffb416e-ce31-4909-b116-d4186f24a6bf\",\"type\":\"Line\"},\"selection_glyph\":null,\"view\":{\"id\":\"8e65503e-14d4-411a-abd8-56f473a65011\",\"type\":\"CDSView\"}},\"id\":\"690f1303-9862-4c68-adc0-ebabf2b93721\",\"type\":\"GlyphRenderer\"},{\"attributes\":{\"months\":[0,1,2,3,4,5,6,7,8,9,10,11]},\"id\":\"745f254d-f024-4cb1-9be9-b465632a4651\",\"type\":\"MonthsTicker\"},{\"attributes\":{\"fill_alpha\":{\"value\":0.1},\"fill_color\":{\"value\":\"#1f77b4\"},\"line_alpha\":{\"value\":0.1},\"line_color\":{\"value\":\"#1f77b4\"},\"size\":{\"units\":\"screen\",\"value\":10},\"x\":{\"field\":\"x\"},\"y\":{\"field\":\"y\"}},\"id\":\"516203cd-c99f-4b24-b685-0c1fbe3a5a19\",\"type\":\"Circle\"},{\"attributes\":{\"plot\":null,\"text\":\"Corn Prices\"},\"id\":\"a59822e2-9102-4cdb-b45c-4108f92893ea\",\"type\":\"Title\"},{\"attributes\":{\"callback\":null,\"data\":{\"Date\":[\"2015-01-04\",\"2015-01-11\",\"2015-01-18\",\"2015-01-25\",\"2015-02-01\",\"2015-02-08\",\"2015-02-15\",\"2015-02-22\",\"2015-03-01\",\"2015-03-08\",\"2015-03-15\",\"2015-03-22\",\"2015-03-29\",\"2015-04-05\",\"2015-04-12\",\"2015-04-19\",\"2015-04-26\",\"2015-05-03\",\"2015-05-10\",\"2015-05-17\",\"2015-05-24\",\"2015-05-31\",\"2015-06-07\",\"2015-06-14\",\"2015-06-21\",\"2015-06-28\",\"2015-07-05\",\"2015-07-12\",\"2015-07-19\",\"2015-07-26\",\"2015-08-02\",\"2015-08-09\",\"2015-08-16\",\"2015-08-23\",\"2015-08-30\",\"2015-09-06\",\"2015-09-13\",\"2015-09-20\",\"2015-09-27\",\"2015-10-04\",\"2015-10-11\",\"2015-10-18\",\"2015-10-25\",\"2015-11-01\",\"2015-11-08\",\"2015-11-15\",\"2015-11-22\",\"2015-11-29\",\"2015-12-06\",\"2015-12-13\",\"2015-12-20\",\"2015-12-27\",\"2016-01-03\",\"2016-01-10\",\"2016-01-17\",\"2016-01-24\",\"2016-01-31\",\"2016-02-07\",\"2016-02-14\",\"2016-02-21\",\"2016-02-28\",\"2016-03-06\",\"2016-03-13\",\"2016-03-20\",\"2016-03-27\",\"2016-04-03\",\"2016-04-10\",\"2016-04-17\",\"2016-04-24\",\"2016-05-01\",\"2016-05-08\",\"2016-05-15\",\"2016-05-22\",\"2016-05-29\",\"2016-06-05\",\"2016-06-12\",\"2016-06-19\",\"2016-06-26\",\"2016-07-03\",\"2016-07-10\",\"2016-07-17\",\"2016-07-24\",\"2016-07-31\",\"2016-08-07\",\"2016-08-14\",\"2016-08-21\",\"2016-08-28\",\"2016-09-04\",\"2016-09-11\",\"2016-09-18\",\"2016-09-25\",\"2016-10-02\",\"2016-10-09\",\"2016-10-16\",\"2016-10-23\",\"2016-10-30\",\"2016-11-06\",\"2016-11-13\",\"2016-11-20\",\"2016-11-27\",\"2016-12-04\",\"2016-12-11\",\"2016-12-18\",\"2016-12-25\",\"2017-01-01\",\"2017-01-08\",\"2017-01-15\",\"2017-01-22\",\"2017-01-29\",\"2017-02-05\",\"2017-02-12\",\"2017-02-19\",\"2017-02-26\",\"2017-03-05\",\"2017-03-12\",\"2017-03-19\",\"2017-03-26\",\"2017-04-02\",\"2017-04-09\",\"2017-04-16\",\"2017-04-23\",\"2017-04-30\",\"2017-05-07\",\"2017-05-14\",\"2017-05-21\",\"2017-05-28\",\"2017-06-04\",\"2017-06-11\",\"2017-06-18\",\"2017-06-25\",\"2017-07-02\",\"2017-07-09\",\"2017-07-16\",\"2017-07-23\",\"2017-07-30\",\"2017-08-06\",\"2017-08-13\",\"2017-08-20\",\"2017-08-27\",\"2017-09-03\",\"2017-09-10\",\"2017-09-17\",\"2017-09-24\",\"2017-10-01\"],\"FormattedDate\":{\"__ndarray__\":\"AABA3COrdEIAAICkZK10QgAAwGylr3RCAAAANeaxdEIAAED9JrR0QgAAgMVntnRCAADAjai4dEIAAABW6bp0QgAAQB4qvXRCAACA5mq/dEIAAMCuq8F0QgAAAHfsw3RCAABAPy3GdEIAAIAHbsh0QgAAwM+uynRCAAAAmO/MdEIAAEBgMM90QgAAgChx0XRCAADA8LHTdEIAAAC58tV0QgAAQIEz2HRCAACASXTadEIAAMARtdx0QgAAANr13nRCAABAojbhdEIAAIBqd+N0QgAAwDK45XRCAAAA+/jndEIAAEDDOep0QgAAgIt67HRCAADAU7vudEIAAAAc/PB0QgAAQOQ883RCAACArH31dEIAAMB0vvd0QgAAAD3/+XRCAABABUD8dEIAAIDNgP50QgAAwJXBAHVCAAAAXgIDdUIAAEAmQwV1QgAAgO6DB3VCAADAtsQJdUIAAAB/BQx1QgAAQEdGDnVCAACAD4cQdUIAAMDXxxJ1QgAAAKAIFXVCAABAaEkXdUIAAIAwihl1QgAAwPjKG3VCAAAAwQsedUIAAECJTCB1QgAAgFGNInVCAADAGc4kdUIAAADiDid1QgAAQKpPKXVCAACAcpArdUIAAMA60S11QgAAAAMSMHVCAABAy1IydUIAAICTkzR1QgAAwFvUNnVCAAAAJBU5dUIAAEDsVTt1QgAAgLSWPXVCAADAfNc/dUIAAABFGEJ1QgAAQA1ZRHVCAACA1ZlGdUIAAMCd2kh1QgAAAGYbS3VCAABALlxNdUIAAID2nE91QgAAwL7dUXVCAAAAhx5UdUIAAEBPX1Z1QgAAgBegWHVCAADA3+BadUIAAACoIV11QgAAQHBiX3VCAACAOKNhdUIAAMAA5GN1QgAAAMkkZnVCAABAkWVodUIAAIBZpmp1QgAAwCHnbHVCAAAA6idvdUIAAECyaHF1QgAAgHqpc3VCAADAQup1dUIAAAALK3h1QgAAQNNrenVCAACAm6x8dUIAAMBj7X51QgAAACwugXVCAABA9G6DdUIAAIC8r4V1QgAAwITwh3VCAAAATTGKdUIAAEAVcox1QgAAgN2yjnVCAADApfOQdUIAAABuNJN1QgAAQDZ1lXVCAACA/rWXdUIAAMDG9pl1QgAAAI83nHVCAABAV3iedUIAAIAfuaB1QgAAwOf5onVCAAAAsDqldUIAAEB4e6d1QgAAgEC8qXVCAADACP2rdUIAAADRPa51QgAAQJl+sHVCAACAYb+ydUIAAMApALV1QgAAAPJAt3VCAABAuoG5dUIAAICCwrt1QgAAwEoDvnVCAAAAE0TAdUIAAEDbhMJ1QgAAgKPFxHVCAADAawbHdUIAAAA0R8l1QgAAQPyHy3VCAACAxMjNdUIAAMCMCdB1QgAAAFVK0nVCAABAHYvUdUIAAIDly9Z1QgAAwK0M2XVCAAAAdk3bdUIAAEA+jt11QgAAgAbP33VCAADAzg/idUIAAACXUOR1QgAAQF+R5nVCAACAJ9LodUIAAMDvEut1QgAAALhT7XVC\",\"dtype\":\"float64\",\"shape\":[144]},\"Price\":{\"__ndarray__\":\"XynLEMfaFEAoDwu1prkUQGHgufdwCRRAoBov3SQGFEBdbcX+snsTQBefAmA8wxNA7uvAOSMKFEAJM23/ygoUQFYTRN0HoBNAcVXZd0WwE0DH155ZEqATQJ9ZEqCmFhNAs4AJ3LrbE0BcIEHxY3wTQL7BFyZTRRNAOpLLf0j/EkAXDoRkAdMSQJG4x9KHLhJA4PPDCOEREkAUChFwCBUSQOPHmLuWEBJAPwCpTZycEUA+6Nms+twRQDIge7374xFAMGR1q+ekEUCRs7CnHX4SQBk+IqZEkhRAhV/q500FFUDHRiBe1y8VQNXPm4pU2BNAf2WlSSloEkAa+ie4WFESQHL+JhQiYBJAkKD4MeYuEkCZgcr49xkSQL1vfO2ZpRFAhbGFIAflEUB/+zpwzogSQPj8MEJ4dBJA5EnSNZOvEkAmjdE6qtoSQAXAeAYNPRJACyk/qfYpEkADz72HS04SQJKRs7CnHRJA1JrmHadoEUAkKH6MuWsRQGXkLOxphxFAFOgTeZK0EUBgWWlSCroRQOscA7LXuxFASFD8GHNXEUDc14FzRgQRQLnCu1zEtxBAjBU1mIbhEECXOV0WE1sRQFoqb0c4bRFA7vDXZI16EUAGR8mrcwwRQJ83FakwNhFAcXfWbrsQEUBoHVVNELUQQPlJtU/H4xBAgzRj0XQ2EUDuWkI+6EkRQJGzsKcd/hBAnbryWZ7HEEC77UJznUYRQCL430p27BFAtdsuNNfpEUAkYkok0YsRQCRFZFjFmxFAs3bbheY6EkDKMsSxLq4SQIZyol2FFBNAe6AVGLK6E0D9MEJ4tPETQG1blNkgUxJAELQCQ1Y3EUBqTfOOU/QPQBzw+WGEMBBABa3AkNUtD0Ad5ssLsI8OQBgJbTmX4g1Afa62Yn/ZDUAhH/RsVn0OQJKzsKcd/g1As3bbhea6DEDpmsk329wNQDtY/+cw3w1AgXhdv2A3DkC4x9KHLqgNQCrB4nDm1w5AgRyUMNP2DkByEd+JWa8PQMe/z7hwoA9AvB3htOBFD0CppE5AE+EOQIxiuaXVkA5ABhIUP8ZcD0DEsS5uo4EOQEkp6PaSRg9AXRYTm49rD0APlxx3SocOQDeJQWDlsA5AxY8xdy1hD0CPNo5Yi08PQJ30vvG15w9ABVH3AUjtD0D7y+7Jw8IPQMYzaOifIBBAtyizQSZZEEA1KQXdXhIQQE8jLZW3IxBAlX1XBP/bD0D8pNqn4zEPQGx4eqUsww5AduCcEaW9DkBb07zjFB0PQLpJDAIrhw9A+RkXDoTkDkBy/iYUIuAOQMo88gcDTw9APu3w12QND0BVNUHUfQAPQOQUHcnlPw9AWMoyxLEuD0B6xyk6kgsQQGiWBKip5Q9A5QrvchHfDkD+SBEZVnEOQME5I0p7AxBANV66SQwCEEB/arx0k5gPQBBYObTI9g5ABoGVQ4tsDkDByqFFtnMOQMHKoUW2cw1Af2q8dJOYDECamZmZmRkMQFpkO99PjQxA16NwPQpXDEB1kxgEVg4MQD0K16NwPQxA\",\"dtype\":\"float64\",\"shape\":[144]},\"index\":[0,1,2,3,4,5,6,7,8,9,10,11,12,13,14,15,16,17,18,19,20,21,22,23,24,25,26,27,28,29,30,31,32,33,34,35,36,37,38,39,40,41,42,43,44,45,46,47,48,49,50,51,52,53,54,55,56,57,58,59,60,61,62,63,64,65,66,67,68,69,70,71,72,73,74,75,76,77,78,79,80,81,82,83,84,85,86,87,88,89,90,91,92,93,94,95,96,97,98,99,100,101,102,103,104,105,106,107,108,109,110,111,112,113,114,115,116,117,118,119,120,121,122,123,124,125,126,127,128,129,130,131,132,133,134,135,136,137,138,139,140,141,142,143]},\"selected\":{\"id\":\"e115fe54-9784-4624-b8ae-185e40a30f50\",\"type\":\"Selection\"},\"selection_policy\":{\"id\":\"c77f76fe-a739-493c-8418-196b00ffd822\",\"type\":\"UnionRenderers\"}},\"id\":\"c6a1b3aa-cf8d-470d-b9b9-64d0d5ed402a\",\"type\":\"ColumnDataSource\"},{\"attributes\":{\"callback\":null,\"end\":1512000000000.0,\"start\":1420070400000.0},\"id\":\"f441e1fc-c461-4988-8995-1a4015a83323\",\"type\":\"Range1d\"},{\"attributes\":{\"formatter\":{\"id\":\"25840369-fd37-43c4-97b2-e2c261aee198\",\"type\":\"BasicTickFormatter\"},\"plot\":{\"id\":\"e4c093d1-6199-4ffc-8eee-8d124f5b30c2\",\"subtype\":\"Figure\",\"type\":\"Plot\"},\"ticker\":{\"id\":\"f9c90d91-3803-43b7-b1be-43238dce38f0\",\"type\":\"BasicTicker\"}},\"id\":\"bc816b21-00dc-4e61-b173-53d84a83df2c\",\"type\":\"LinearAxis\"},{\"attributes\":{\"mantissas\":[1,2,5],\"max_interval\":500.0,\"num_minor_ticks\":0},\"id\":\"fb7ba10a-41e3-4309-94e5-99188eba83a9\",\"type\":\"AdaptiveTicker\"},{\"attributes\":{\"source\":{\"id\":\"67f02c8b-149f-415b-a261-21eebdd72e36\",\"type\":\"ColumnDataSource\"}},\"id\":\"673d7303-cb16-40d6-b807-dc43ce74d9e0\",\"type\":\"CDSView\"},{\"attributes\":{\"fill_color\":{\"value\":\"#1f77b4\"},\"line_color\":{\"value\":\"#1f77b4\"},\"size\":{\"units\":\"screen\",\"value\":10},\"x\":{\"field\":\"x\"},\"y\":{\"field\":\"y\"}},\"id\":\"4d215c02-62ae-4ae4-8f0b-c56c2c3a7ecb\",\"type\":\"Circle\"},{\"attributes\":{},\"id\":\"6fd3c6c4-d4ec-4203-a437-0424f2d53039\",\"type\":\"LinearScale\"},{\"attributes\":{},\"id\":\"8c4262ba-bed9-42d3-b586-3950f3ea78c9\",\"type\":\"Selection\"},{\"attributes\":{\"days\":[1,8,15,22]},\"id\":\"299f2009-add2-49d3-8007-b3071e8fb5ac\",\"type\":\"DaysTicker\"},{\"attributes\":{\"data_source\":{\"id\":\"67f02c8b-149f-415b-a261-21eebdd72e36\",\"type\":\"ColumnDataSource\"},\"glyph\":{\"id\":\"4d215c02-62ae-4ae4-8f0b-c56c2c3a7ecb\",\"type\":\"Circle\"},\"hover_glyph\":null,\"muted_glyph\":null,\"nonselection_glyph\":{\"id\":\"516203cd-c99f-4b24-b685-0c1fbe3a5a19\",\"type\":\"Circle\"},\"selection_glyph\":null,\"view\":{\"id\":\"673d7303-cb16-40d6-b807-dc43ce74d9e0\",\"type\":\"CDSView\"}},\"id\":\"57e05cb2-1fcd-41ef-8c99-3187c04b0b05\",\"type\":\"GlyphRenderer\"},{\"attributes\":{\"plot\":{\"id\":\"e4c093d1-6199-4ffc-8eee-8d124f5b30c2\",\"subtype\":\"Figure\",\"type\":\"Plot\"},\"ticker\":{\"id\":\"aef07fe4-9d6a-4867-bea8-b78bcd017d92\",\"type\":\"DatetimeTicker\"}},\"id\":\"b6cc0367-43e8-4221-9b58-faffd4f06cc9\",\"type\":\"Grid\"}],\"root_ids\":[\"e4c093d1-6199-4ffc-8eee-8d124f5b30c2\"]},\"title\":\"Bokeh Application\",\"version\":\"0.13.0\"}};\n",
       "  var render_items = [{\"docid\":\"f0b40fca-fa1c-4360-80d3-5adc9d0dcffa\",\"roots\":{\"e4c093d1-6199-4ffc-8eee-8d124f5b30c2\":\"e46a0755-73cf-449f-946b-f25aba3e8068\"}}];\n",
       "  root.Bokeh.embed.embed_items_notebook(docs_json, render_items);\n",
       "\n",
       "  }\n",
       "  if (root.Bokeh !== undefined) {\n",
       "    embed_document(root);\n",
       "  } else {\n",
       "    var attempts = 0;\n",
       "    var timer = setInterval(function(root) {\n",
       "      if (root.Bokeh !== undefined) {\n",
       "        embed_document(root);\n",
       "        clearInterval(timer);\n",
       "      }\n",
       "      attempts++;\n",
       "      if (attempts > 100) {\n",
       "        console.log(\"Bokeh: ERROR: Unable to run BokehJS code because BokehJS library is missing\")\n",
       "        clearInterval(timer);\n",
       "      }\n",
       "    }, 10, root)\n",
       "  }\n",
       "})(window);"
      ],
      "application/vnd.bokehjs_exec.v0+json": ""
     },
     "metadata": {
      "application/vnd.bokehjs_exec.v0+json": {
       "id": "e4c093d1-6199-4ffc-8eee-8d124f5b30c2"
      }
     },
     "output_type": "display_data"
    }
   ],
   "source": [
    "p.circle(x = [maxpricedate, minpricedate], \n",
    "         y = [maxprice, minprice],\n",
    "         \n",
    "         size = 10\n",
    "        )\n",
    "\n",
    "show(p)"
   ]
  },
  {
   "cell_type": "markdown",
   "metadata": {},
   "source": [
    "### Labels\n",
    "We can use labels in order to add text annotation to our plot. Since we have more than one label, we will use a LabelSet object"
   ]
  },
  {
   "cell_type": "code",
   "execution_count": 13,
   "metadata": {},
   "outputs": [],
   "source": [
    "from bokeh.models import LabelSet"
   ]
  },
  {
   "cell_type": "markdown",
   "metadata": {
    "collapsed": true
   },
   "source": [
    "#### Define a dictionary for our labels\n",
    "This contains:\n",
    "* the X and Y coordinates of the labels\n",
    "* the text to display in the labels"
   ]
  },
  {
   "cell_type": "code",
   "execution_count": 14,
   "metadata": {},
   "outputs": [
    {
     "data": {
      "text/plain": [
       "{'x': [datetime.date(2015, 7, 19), datetime.date(2017, 9, 24)],\n",
       " 'y': [5.29672, 3.507],\n",
       " 'text': ['Max', 'Min']}"
      ]
     },
     "execution_count": 14,
     "metadata": {},
     "output_type": "execute_result"
    }
   ],
   "source": [
    "data=dict(x=[maxpricedate, minpricedate],\n",
    "          y=[maxprice, minprice],\n",
    "          text=['Max','Min'])\n",
    "data"
   ]
  },
  {
   "cell_type": "markdown",
   "metadata": {},
   "source": [
    "#### Create a ColumnDataSource from the dictionary"
   ]
  },
  {
   "cell_type": "code",
   "execution_count": 15,
   "metadata": {},
   "outputs": [],
   "source": [
    "label_source = ColumnDataSource(data)"
   ]
  },
  {
   "cell_type": "markdown",
   "metadata": {},
   "source": [
    "#### Define a LabelSet with our label data source\n",
    "We specify the fields in our data source from which the X and Y coordinates and the text will come from. \n",
    "\n",
    "The offset fields are needed to ensure that the labels do not overlap with the circle markers we have set previously. The offset values are in screen space units. Positive values mean that the labels will appear towards the right (due to x_offset) and top of the corresponding X and Y coordinates."
   ]
  },
  {
   "cell_type": "code",
   "execution_count": 16,
   "metadata": {},
   "outputs": [],
   "source": [
    "labels = LabelSet(x='x', \n",
    "                  y='y', \n",
    "                  text='text',\n",
    "                  \n",
    "                  x_offset=5, \n",
    "                  y_offset=5, \n",
    "                  \n",
    "                  source=label_source\n",
    "                                  \n",
    "                 )"
   ]
  },
  {
   "cell_type": "markdown",
   "metadata": {},
   "source": [
    "#### Add the labels to the figure's layout"
   ]
  },
  {
   "cell_type": "code",
   "execution_count": 17,
   "metadata": {},
   "outputs": [
    {
     "data": {
      "text/html": [
       "\n",
       "\n",
       "\n",
       "\n",
       "\n",
       "\n",
       "  <div class=\"bk-root\" id=\"4aa003ce-fb77-4768-b83b-b6d09f23a102\"></div>\n"
      ]
     },
     "metadata": {},
     "output_type": "display_data"
    },
    {
     "data": {
      "application/javascript": [
       "(function(root) {\n",
       "  function embed_document(root) {\n",
       "    \n",
       "  var docs_json = {\"ac00ebc5-e761-4787-9975-952ef1b612c4\":{\"roots\":{\"references\":[{\"attributes\":{\"callback\":null,\"end\":6,\"start\":3},\"id\":\"428cdd04-3158-4142-a89e-95f5172331c0\",\"type\":\"Range1d\"},{\"attributes\":{},\"id\":\"e347caa2-6fb6-4d90-b432-6113c8be90ea\",\"type\":\"LinearScale\"},{\"attributes\":{\"active_drag\":\"auto\",\"active_inspect\":\"auto\",\"active_multi\":null,\"active_scroll\":\"auto\",\"active_tap\":\"auto\",\"tools\":[{\"id\":\"3b6199a0-55e3-4662-940f-4ca1c88404a5\",\"type\":\"PanTool\"},{\"id\":\"3f6ef06a-3dd8-44ee-91fa-f845675cb40c\",\"type\":\"WheelZoomTool\"},{\"id\":\"b68710c2-9c21-48c0-a3ba-47ae35d57ec8\",\"type\":\"BoxZoomTool\"},{\"id\":\"d82e73df-1727-45e2-8276-e33a91a52905\",\"type\":\"SaveTool\"},{\"id\":\"096d120c-0310-4ff0-890c-d412c86c1d85\",\"type\":\"ResetTool\"},{\"id\":\"51200231-0e95-4bcf-89a0-e282144bd287\",\"type\":\"HelpTool\"},{\"id\":\"bbedd724-15cc-4e7a-85d7-031f3f6ed657\",\"type\":\"HoverTool\"}]},\"id\":\"35a995d8-4b29-4e38-8557-a062dac5be61\",\"type\":\"Toolbar\"},{\"attributes\":{\"dimension\":1,\"plot\":{\"id\":\"e4c093d1-6199-4ffc-8eee-8d124f5b30c2\",\"subtype\":\"Figure\",\"type\":\"Plot\"},\"ticker\":{\"id\":\"f9c90d91-3803-43b7-b1be-43238dce38f0\",\"type\":\"BasicTicker\"}},\"id\":\"71fd284e-70e7-47af-953a-a922221bd672\",\"type\":\"Grid\"},{\"attributes\":{\"formatter\":{\"id\":\"5465926d-4519-40fe-a691-45f8adc0b31c\",\"type\":\"DatetimeTickFormatter\"},\"plot\":{\"id\":\"e4c093d1-6199-4ffc-8eee-8d124f5b30c2\",\"subtype\":\"Figure\",\"type\":\"Plot\"},\"ticker\":{\"id\":\"aef07fe4-9d6a-4867-bea8-b78bcd017d92\",\"type\":\"DatetimeTicker\"}},\"id\":\"50e7b9e1-c3b2-4d3d-9d42-c04403ca0267\",\"type\":\"DatetimeAxis\"},{\"attributes\":{},\"id\":\"f9c90d91-3803-43b7-b1be-43238dce38f0\",\"type\":\"BasicTicker\"},{\"attributes\":{\"bottom_units\":\"screen\",\"fill_alpha\":{\"value\":0.5},\"fill_color\":{\"value\":\"lightgrey\"},\"left_units\":\"screen\",\"level\":\"overlay\",\"line_alpha\":{\"value\":1.0},\"line_color\":{\"value\":\"black\"},\"line_dash\":[4,4],\"line_width\":{\"value\":2},\"plot\":null,\"render_mode\":\"css\",\"right_units\":\"screen\",\"top_units\":\"screen\"},\"id\":\"6e78b15f-b37f-4836-af54-cbd3c0dfbf0e\",\"type\":\"BoxAnnotation\"},{\"attributes\":{},\"id\":\"5465926d-4519-40fe-a691-45f8adc0b31c\",\"type\":\"DatetimeTickFormatter\"},{\"attributes\":{\"days\":[1,4,7,10,13,16,19,22,25,28]},\"id\":\"6f19d902-703a-4338-9d69-7166318028e9\",\"type\":\"DaysTicker\"},{\"attributes\":{\"num_minor_ticks\":5,\"tickers\":[{\"id\":\"fb7ba10a-41e3-4309-94e5-99188eba83a9\",\"type\":\"AdaptiveTicker\"},{\"id\":\"b662276e-a2c2-4ec5-82c2-6b7b56587444\",\"type\":\"AdaptiveTicker\"},{\"id\":\"c9ad22ca-5b05-4468-9541-e97d901e36cf\",\"type\":\"AdaptiveTicker\"},{\"id\":\"095759fd-5daa-44b3-9f43-c2f08e104835\",\"type\":\"DaysTicker\"},{\"id\":\"6f19d902-703a-4338-9d69-7166318028e9\",\"type\":\"DaysTicker\"},{\"id\":\"299f2009-add2-49d3-8007-b3071e8fb5ac\",\"type\":\"DaysTicker\"},{\"id\":\"ca1fd282-f265-4f0e-852b-3c8fcc13db7a\",\"type\":\"DaysTicker\"},{\"id\":\"745f254d-f024-4cb1-9be9-b465632a4651\",\"type\":\"MonthsTicker\"},{\"id\":\"528bc457-da79-42a9-9c19-d4e1477b14f7\",\"type\":\"MonthsTicker\"},{\"id\":\"ec14a013-9650-4423-88af-3aa877a2d573\",\"type\":\"MonthsTicker\"},{\"id\":\"a7d0db92-5cd1-4f05-a82c-701d0764ea59\",\"type\":\"MonthsTicker\"},{\"id\":\"ee1c4c70-a74b-4b48-a28e-fd33c3056f20\",\"type\":\"YearsTicker\"}]},\"id\":\"aef07fe4-9d6a-4867-bea8-b78bcd017d92\",\"type\":\"DatetimeTicker\"},{\"attributes\":{\"days\":[1,15]},\"id\":\"ca1fd282-f265-4f0e-852b-3c8fcc13db7a\",\"type\":\"DaysTicker\"},{\"attributes\":{},\"id\":\"25840369-fd37-43c4-97b2-e2c261aee198\",\"type\":\"BasicTickFormatter\"},{\"attributes\":{\"days\":[1,2,3,4,5,6,7,8,9,10,11,12,13,14,15,16,17,18,19,20,21,22,23,24,25,26,27,28,29,30,31]},\"id\":\"095759fd-5daa-44b3-9f43-c2f08e104835\",\"type\":\"DaysTicker\"},{\"attributes\":{\"base\":60,\"mantissas\":[1,2,5,10,15,20,30],\"max_interval\":1800000.0,\"min_interval\":1000.0,\"num_minor_ticks\":0},\"id\":\"b662276e-a2c2-4ec5-82c2-6b7b56587444\",\"type\":\"AdaptiveTicker\"},{\"attributes\":{},\"id\":\"3b6199a0-55e3-4662-940f-4ca1c88404a5\",\"type\":\"PanTool\"},{\"attributes\":{\"base\":24,\"mantissas\":[1,2,4,6,8,12],\"max_interval\":43200000.0,\"min_interval\":3600000.0,\"num_minor_ticks\":0},\"id\":\"c9ad22ca-5b05-4468-9541-e97d901e36cf\",\"type\":\"AdaptiveTicker\"},{\"attributes\":{\"months\":[0,2,4,6,8,10]},\"id\":\"528bc457-da79-42a9-9c19-d4e1477b14f7\",\"type\":\"MonthsTicker\"},{\"attributes\":{},\"id\":\"3f6ef06a-3dd8-44ee-91fa-f845675cb40c\",\"type\":\"WheelZoomTool\"},{\"attributes\":{\"overlay\":{\"id\":\"6e78b15f-b37f-4836-af54-cbd3c0dfbf0e\",\"type\":\"BoxAnnotation\"}},\"id\":\"b68710c2-9c21-48c0-a3ba-47ae35d57ec8\",\"type\":\"BoxZoomTool\"},{\"attributes\":{},\"id\":\"daffd150-78c5-480f-b6b3-ae245059e502\",\"type\":\"UnionRenderers\"},{\"attributes\":{},\"id\":\"d82e73df-1727-45e2-8276-e33a91a52905\",\"type\":\"SaveTool\"},{\"attributes\":{},\"id\":\"096d120c-0310-4ff0-890c-d412c86c1d85\",\"type\":\"ResetTool\"},{\"attributes\":{},\"id\":\"51200231-0e95-4bcf-89a0-e282144bd287\",\"type\":\"HelpTool\"},{\"attributes\":{\"callback\":null,\"data\":{\"x\":[1437264000000.0,1506211200000.0],\"y\":[5.29672,3.507]},\"selected\":{\"id\":\"8c4262ba-bed9-42d3-b586-3950f3ea78c9\",\"type\":\"Selection\"},\"selection_policy\":{\"id\":\"daffd150-78c5-480f-b6b3-ae245059e502\",\"type\":\"UnionRenderers\"}},\"id\":\"67f02c8b-149f-415b-a261-21eebdd72e36\",\"type\":\"ColumnDataSource\"},{\"attributes\":{\"callback\":null,\"renderers\":\"auto\",\"tooltips\":[[\"Date\",\"@Date\"],[\"Price\",\"@Price\"]]},\"id\":\"bbedd724-15cc-4e7a-85d7-031f3f6ed657\",\"type\":\"HoverTool\"},{\"attributes\":{\"months\":[0,4,8]},\"id\":\"ec14a013-9650-4423-88af-3aa877a2d573\",\"type\":\"MonthsTicker\"},{\"attributes\":{},\"id\":\"ee1c4c70-a74b-4b48-a28e-fd33c3056f20\",\"type\":\"YearsTicker\"},{\"attributes\":{},\"id\":\"102ac34a-65bd-43ab-8cba-0f0e1b71ffd4\",\"type\":\"Selection\"},{\"attributes\":{\"months\":[0,6]},\"id\":\"a7d0db92-5cd1-4f05-a82c-701d0764ea59\",\"type\":\"MonthsTicker\"},{\"attributes\":{},\"id\":\"c77f76fe-a739-493c-8418-196b00ffd822\",\"type\":\"UnionRenderers\"},{\"attributes\":{},\"id\":\"9aa285e2-1975-4733-9d1a-f757dba8fa86\",\"type\":\"UnionRenderers\"},{\"attributes\":{},\"id\":\"e115fe54-9784-4624-b8ae-185e40a30f50\",\"type\":\"Selection\"},{\"attributes\":{\"source\":{\"id\":\"c6a1b3aa-cf8d-470d-b9b9-64d0d5ed402a\",\"type\":\"ColumnDataSource\"}},\"id\":\"8e65503e-14d4-411a-abd8-56f473a65011\",\"type\":\"CDSView\"},{\"attributes\":{\"line_alpha\":0.1,\"line_color\":\"#1f77b4\",\"line_width\":2,\"x\":{\"field\":\"FormattedDate\"},\"y\":{\"field\":\"Price\"}},\"id\":\"5ffb416e-ce31-4909-b116-d4186f24a6bf\",\"type\":\"Line\"},{\"attributes\":{\"plot\":{\"id\":\"e4c093d1-6199-4ffc-8eee-8d124f5b30c2\",\"subtype\":\"Figure\",\"type\":\"Plot\"},\"source\":{\"id\":\"ecf84cc3-bf44-432f-ab2c-dbb0775c25fb\",\"type\":\"ColumnDataSource\"},\"x\":{\"field\":\"x\"},\"x_offset\":{\"value\":5},\"y\":{\"field\":\"y\"},\"y_offset\":{\"value\":5}},\"id\":\"7d5e8d94-8e82-4198-abd4-a26413e80fe5\",\"type\":\"LabelSet\"},{\"attributes\":{\"line_color\":\"#FFD700\",\"line_width\":2,\"x\":{\"field\":\"FormattedDate\"},\"y\":{\"field\":\"Price\"}},\"id\":\"ebe444c1-a6a1-4898-9184-e2ccc6195300\",\"type\":\"Line\"},{\"attributes\":{\"below\":[{\"id\":\"50e7b9e1-c3b2-4d3d-9d42-c04403ca0267\",\"type\":\"DatetimeAxis\"}],\"left\":[{\"id\":\"bc816b21-00dc-4e61-b173-53d84a83df2c\",\"type\":\"LinearAxis\"}],\"plot_height\":300,\"renderers\":[{\"id\":\"50e7b9e1-c3b2-4d3d-9d42-c04403ca0267\",\"type\":\"DatetimeAxis\"},{\"id\":\"b6cc0367-43e8-4221-9b58-faffd4f06cc9\",\"type\":\"Grid\"},{\"id\":\"bc816b21-00dc-4e61-b173-53d84a83df2c\",\"type\":\"LinearAxis\"},{\"id\":\"71fd284e-70e7-47af-953a-a922221bd672\",\"type\":\"Grid\"},{\"id\":\"6e78b15f-b37f-4836-af54-cbd3c0dfbf0e\",\"type\":\"BoxAnnotation\"},{\"id\":\"690f1303-9862-4c68-adc0-ebabf2b93721\",\"type\":\"GlyphRenderer\"},{\"id\":\"57e05cb2-1fcd-41ef-8c99-3187c04b0b05\",\"type\":\"GlyphRenderer\"},{\"id\":\"7d5e8d94-8e82-4198-abd4-a26413e80fe5\",\"type\":\"LabelSet\"}],\"title\":{\"id\":\"a59822e2-9102-4cdb-b45c-4108f92893ea\",\"type\":\"Title\"},\"toolbar\":{\"id\":\"35a995d8-4b29-4e38-8557-a062dac5be61\",\"type\":\"Toolbar\"},\"x_range\":{\"id\":\"f441e1fc-c461-4988-8995-1a4015a83323\",\"type\":\"Range1d\"},\"x_scale\":{\"id\":\"6fd3c6c4-d4ec-4203-a437-0424f2d53039\",\"type\":\"LinearScale\"},\"y_range\":{\"id\":\"428cdd04-3158-4142-a89e-95f5172331c0\",\"type\":\"Range1d\"},\"y_scale\":{\"id\":\"e347caa2-6fb6-4d90-b432-6113c8be90ea\",\"type\":\"LinearScale\"}},\"id\":\"e4c093d1-6199-4ffc-8eee-8d124f5b30c2\",\"subtype\":\"Figure\",\"type\":\"Plot\"},{\"attributes\":{\"data_source\":{\"id\":\"c6a1b3aa-cf8d-470d-b9b9-64d0d5ed402a\",\"type\":\"ColumnDataSource\"},\"glyph\":{\"id\":\"ebe444c1-a6a1-4898-9184-e2ccc6195300\",\"type\":\"Line\"},\"hover_glyph\":null,\"muted_glyph\":null,\"nonselection_glyph\":{\"id\":\"5ffb416e-ce31-4909-b116-d4186f24a6bf\",\"type\":\"Line\"},\"selection_glyph\":null,\"view\":{\"id\":\"8e65503e-14d4-411a-abd8-56f473a65011\",\"type\":\"CDSView\"}},\"id\":\"690f1303-9862-4c68-adc0-ebabf2b93721\",\"type\":\"GlyphRenderer\"},{\"attributes\":{\"months\":[0,1,2,3,4,5,6,7,8,9,10,11]},\"id\":\"745f254d-f024-4cb1-9be9-b465632a4651\",\"type\":\"MonthsTicker\"},{\"attributes\":{\"fill_alpha\":{\"value\":0.1},\"fill_color\":{\"value\":\"#1f77b4\"},\"line_alpha\":{\"value\":0.1},\"line_color\":{\"value\":\"#1f77b4\"},\"size\":{\"units\":\"screen\",\"value\":10},\"x\":{\"field\":\"x\"},\"y\":{\"field\":\"y\"}},\"id\":\"516203cd-c99f-4b24-b685-0c1fbe3a5a19\",\"type\":\"Circle\"},{\"attributes\":{\"plot\":null,\"text\":\"Corn Prices\"},\"id\":\"a59822e2-9102-4cdb-b45c-4108f92893ea\",\"type\":\"Title\"},{\"attributes\":{\"callback\":null,\"end\":1512000000000.0,\"start\":1420070400000.0},\"id\":\"f441e1fc-c461-4988-8995-1a4015a83323\",\"type\":\"Range1d\"},{\"attributes\":{\"callback\":null,\"data\":{\"Date\":[\"2015-01-04\",\"2015-01-11\",\"2015-01-18\",\"2015-01-25\",\"2015-02-01\",\"2015-02-08\",\"2015-02-15\",\"2015-02-22\",\"2015-03-01\",\"2015-03-08\",\"2015-03-15\",\"2015-03-22\",\"2015-03-29\",\"2015-04-05\",\"2015-04-12\",\"2015-04-19\",\"2015-04-26\",\"2015-05-03\",\"2015-05-10\",\"2015-05-17\",\"2015-05-24\",\"2015-05-31\",\"2015-06-07\",\"2015-06-14\",\"2015-06-21\",\"2015-06-28\",\"2015-07-05\",\"2015-07-12\",\"2015-07-19\",\"2015-07-26\",\"2015-08-02\",\"2015-08-09\",\"2015-08-16\",\"2015-08-23\",\"2015-08-30\",\"2015-09-06\",\"2015-09-13\",\"2015-09-20\",\"2015-09-27\",\"2015-10-04\",\"2015-10-11\",\"2015-10-18\",\"2015-10-25\",\"2015-11-01\",\"2015-11-08\",\"2015-11-15\",\"2015-11-22\",\"2015-11-29\",\"2015-12-06\",\"2015-12-13\",\"2015-12-20\",\"2015-12-27\",\"2016-01-03\",\"2016-01-10\",\"2016-01-17\",\"2016-01-24\",\"2016-01-31\",\"2016-02-07\",\"2016-02-14\",\"2016-02-21\",\"2016-02-28\",\"2016-03-06\",\"2016-03-13\",\"2016-03-20\",\"2016-03-27\",\"2016-04-03\",\"2016-04-10\",\"2016-04-17\",\"2016-04-24\",\"2016-05-01\",\"2016-05-08\",\"2016-05-15\",\"2016-05-22\",\"2016-05-29\",\"2016-06-05\",\"2016-06-12\",\"2016-06-19\",\"2016-06-26\",\"2016-07-03\",\"2016-07-10\",\"2016-07-17\",\"2016-07-24\",\"2016-07-31\",\"2016-08-07\",\"2016-08-14\",\"2016-08-21\",\"2016-08-28\",\"2016-09-04\",\"2016-09-11\",\"2016-09-18\",\"2016-09-25\",\"2016-10-02\",\"2016-10-09\",\"2016-10-16\",\"2016-10-23\",\"2016-10-30\",\"2016-11-06\",\"2016-11-13\",\"2016-11-20\",\"2016-11-27\",\"2016-12-04\",\"2016-12-11\",\"2016-12-18\",\"2016-12-25\",\"2017-01-01\",\"2017-01-08\",\"2017-01-15\",\"2017-01-22\",\"2017-01-29\",\"2017-02-05\",\"2017-02-12\",\"2017-02-19\",\"2017-02-26\",\"2017-03-05\",\"2017-03-12\",\"2017-03-19\",\"2017-03-26\",\"2017-04-02\",\"2017-04-09\",\"2017-04-16\",\"2017-04-23\",\"2017-04-30\",\"2017-05-07\",\"2017-05-14\",\"2017-05-21\",\"2017-05-28\",\"2017-06-04\",\"2017-06-11\",\"2017-06-18\",\"2017-06-25\",\"2017-07-02\",\"2017-07-09\",\"2017-07-16\",\"2017-07-23\",\"2017-07-30\",\"2017-08-06\",\"2017-08-13\",\"2017-08-20\",\"2017-08-27\",\"2017-09-03\",\"2017-09-10\",\"2017-09-17\",\"2017-09-24\",\"2017-10-01\"],\"FormattedDate\":{\"__ndarray__\":\"AABA3COrdEIAAICkZK10QgAAwGylr3RCAAAANeaxdEIAAED9JrR0QgAAgMVntnRCAADAjai4dEIAAABW6bp0QgAAQB4qvXRCAACA5mq/dEIAAMCuq8F0QgAAAHfsw3RCAABAPy3GdEIAAIAHbsh0QgAAwM+uynRCAAAAmO/MdEIAAEBgMM90QgAAgChx0XRCAADA8LHTdEIAAAC58tV0QgAAQIEz2HRCAACASXTadEIAAMARtdx0QgAAANr13nRCAABAojbhdEIAAIBqd+N0QgAAwDK45XRCAAAA+/jndEIAAEDDOep0QgAAgIt67HRCAADAU7vudEIAAAAc/PB0QgAAQOQ883RCAACArH31dEIAAMB0vvd0QgAAAD3/+XRCAABABUD8dEIAAIDNgP50QgAAwJXBAHVCAAAAXgIDdUIAAEAmQwV1QgAAgO6DB3VCAADAtsQJdUIAAAB/BQx1QgAAQEdGDnVCAACAD4cQdUIAAMDXxxJ1QgAAAKAIFXVCAABAaEkXdUIAAIAwihl1QgAAwPjKG3VCAAAAwQsedUIAAECJTCB1QgAAgFGNInVCAADAGc4kdUIAAADiDid1QgAAQKpPKXVCAACAcpArdUIAAMA60S11QgAAAAMSMHVCAABAy1IydUIAAICTkzR1QgAAwFvUNnVCAAAAJBU5dUIAAEDsVTt1QgAAgLSWPXVCAADAfNc/dUIAAABFGEJ1QgAAQA1ZRHVCAACA1ZlGdUIAAMCd2kh1QgAAAGYbS3VCAABALlxNdUIAAID2nE91QgAAwL7dUXVCAAAAhx5UdUIAAEBPX1Z1QgAAgBegWHVCAADA3+BadUIAAACoIV11QgAAQHBiX3VCAACAOKNhdUIAAMAA5GN1QgAAAMkkZnVCAABAkWVodUIAAIBZpmp1QgAAwCHnbHVCAAAA6idvdUIAAECyaHF1QgAAgHqpc3VCAADAQup1dUIAAAALK3h1QgAAQNNrenVCAACAm6x8dUIAAMBj7X51QgAAACwugXVCAABA9G6DdUIAAIC8r4V1QgAAwITwh3VCAAAATTGKdUIAAEAVcox1QgAAgN2yjnVCAADApfOQdUIAAABuNJN1QgAAQDZ1lXVCAACA/rWXdUIAAMDG9pl1QgAAAI83nHVCAABAV3iedUIAAIAfuaB1QgAAwOf5onVCAAAAsDqldUIAAEB4e6d1QgAAgEC8qXVCAADACP2rdUIAAADRPa51QgAAQJl+sHVCAACAYb+ydUIAAMApALV1QgAAAPJAt3VCAABAuoG5dUIAAICCwrt1QgAAwEoDvnVCAAAAE0TAdUIAAEDbhMJ1QgAAgKPFxHVCAADAawbHdUIAAAA0R8l1QgAAQPyHy3VCAACAxMjNdUIAAMCMCdB1QgAAAFVK0nVCAABAHYvUdUIAAIDly9Z1QgAAwK0M2XVCAAAAdk3bdUIAAEA+jt11QgAAgAbP33VCAADAzg/idUIAAACXUOR1QgAAQF+R5nVCAACAJ9LodUIAAMDvEut1QgAAALhT7XVC\",\"dtype\":\"float64\",\"shape\":[144]},\"Price\":{\"__ndarray__\":\"XynLEMfaFEAoDwu1prkUQGHgufdwCRRAoBov3SQGFEBdbcX+snsTQBefAmA8wxNA7uvAOSMKFEAJM23/ygoUQFYTRN0HoBNAcVXZd0WwE0DH155ZEqATQJ9ZEqCmFhNAs4AJ3LrbE0BcIEHxY3wTQL7BFyZTRRNAOpLLf0j/EkAXDoRkAdMSQJG4x9KHLhJA4PPDCOEREkAUChFwCBUSQOPHmLuWEBJAPwCpTZycEUA+6Nms+twRQDIge7374xFAMGR1q+ekEUCRs7CnHX4SQBk+IqZEkhRAhV/q500FFUDHRiBe1y8VQNXPm4pU2BNAf2WlSSloEkAa+ie4WFESQHL+JhQiYBJAkKD4MeYuEkCZgcr49xkSQL1vfO2ZpRFAhbGFIAflEUB/+zpwzogSQPj8MEJ4dBJA5EnSNZOvEkAmjdE6qtoSQAXAeAYNPRJACyk/qfYpEkADz72HS04SQJKRs7CnHRJA1JrmHadoEUAkKH6MuWsRQGXkLOxphxFAFOgTeZK0EUBgWWlSCroRQOscA7LXuxFASFD8GHNXEUDc14FzRgQRQLnCu1zEtxBAjBU1mIbhEECXOV0WE1sRQFoqb0c4bRFA7vDXZI16EUAGR8mrcwwRQJ83FakwNhFAcXfWbrsQEUBoHVVNELUQQPlJtU/H4xBAgzRj0XQ2EUDuWkI+6EkRQJGzsKcd/hBAnbryWZ7HEEC77UJznUYRQCL430p27BFAtdsuNNfpEUAkYkok0YsRQCRFZFjFmxFAs3bbheY6EkDKMsSxLq4SQIZyol2FFBNAe6AVGLK6E0D9MEJ4tPETQG1blNkgUxJAELQCQ1Y3EUBqTfOOU/QPQBzw+WGEMBBABa3AkNUtD0Ad5ssLsI8OQBgJbTmX4g1Afa62Yn/ZDUAhH/RsVn0OQJKzsKcd/g1As3bbhea6DEDpmsk329wNQDtY/+cw3w1AgXhdv2A3DkC4x9KHLqgNQCrB4nDm1w5AgRyUMNP2DkByEd+JWa8PQMe/z7hwoA9AvB3htOBFD0CppE5AE+EOQIxiuaXVkA5ABhIUP8ZcD0DEsS5uo4EOQEkp6PaSRg9AXRYTm49rD0APlxx3SocOQDeJQWDlsA5AxY8xdy1hD0CPNo5Yi08PQJ30vvG15w9ABVH3AUjtD0D7y+7Jw8IPQMYzaOifIBBAtyizQSZZEEA1KQXdXhIQQE8jLZW3IxBAlX1XBP/bD0D8pNqn4zEPQGx4eqUsww5AduCcEaW9DkBb07zjFB0PQLpJDAIrhw9A+RkXDoTkDkBy/iYUIuAOQMo88gcDTw9APu3w12QND0BVNUHUfQAPQOQUHcnlPw9AWMoyxLEuD0B6xyk6kgsQQGiWBKip5Q9A5QrvchHfDkD+SBEZVnEOQME5I0p7AxBANV66SQwCEEB/arx0k5gPQBBYObTI9g5ABoGVQ4tsDkDByqFFtnMOQMHKoUW2cw1Af2q8dJOYDECamZmZmRkMQFpkO99PjQxA16NwPQpXDEB1kxgEVg4MQD0K16NwPQxA\",\"dtype\":\"float64\",\"shape\":[144]},\"index\":[0,1,2,3,4,5,6,7,8,9,10,11,12,13,14,15,16,17,18,19,20,21,22,23,24,25,26,27,28,29,30,31,32,33,34,35,36,37,38,39,40,41,42,43,44,45,46,47,48,49,50,51,52,53,54,55,56,57,58,59,60,61,62,63,64,65,66,67,68,69,70,71,72,73,74,75,76,77,78,79,80,81,82,83,84,85,86,87,88,89,90,91,92,93,94,95,96,97,98,99,100,101,102,103,104,105,106,107,108,109,110,111,112,113,114,115,116,117,118,119,120,121,122,123,124,125,126,127,128,129,130,131,132,133,134,135,136,137,138,139,140,141,142,143]},\"selected\":{\"id\":\"e115fe54-9784-4624-b8ae-185e40a30f50\",\"type\":\"Selection\"},\"selection_policy\":{\"id\":\"c77f76fe-a739-493c-8418-196b00ffd822\",\"type\":\"UnionRenderers\"}},\"id\":\"c6a1b3aa-cf8d-470d-b9b9-64d0d5ed402a\",\"type\":\"ColumnDataSource\"},{\"attributes\":{\"formatter\":{\"id\":\"25840369-fd37-43c4-97b2-e2c261aee198\",\"type\":\"BasicTickFormatter\"},\"plot\":{\"id\":\"e4c093d1-6199-4ffc-8eee-8d124f5b30c2\",\"subtype\":\"Figure\",\"type\":\"Plot\"},\"ticker\":{\"id\":\"f9c90d91-3803-43b7-b1be-43238dce38f0\",\"type\":\"BasicTicker\"}},\"id\":\"bc816b21-00dc-4e61-b173-53d84a83df2c\",\"type\":\"LinearAxis\"},{\"attributes\":{\"mantissas\":[1,2,5],\"max_interval\":500.0,\"num_minor_ticks\":0},\"id\":\"fb7ba10a-41e3-4309-94e5-99188eba83a9\",\"type\":\"AdaptiveTicker\"},{\"attributes\":{\"source\":{\"id\":\"67f02c8b-149f-415b-a261-21eebdd72e36\",\"type\":\"ColumnDataSource\"}},\"id\":\"673d7303-cb16-40d6-b807-dc43ce74d9e0\",\"type\":\"CDSView\"},{\"attributes\":{\"fill_color\":{\"value\":\"#1f77b4\"},\"line_color\":{\"value\":\"#1f77b4\"},\"size\":{\"units\":\"screen\",\"value\":10},\"x\":{\"field\":\"x\"},\"y\":{\"field\":\"y\"}},\"id\":\"4d215c02-62ae-4ae4-8f0b-c56c2c3a7ecb\",\"type\":\"Circle\"},{\"attributes\":{},\"id\":\"6fd3c6c4-d4ec-4203-a437-0424f2d53039\",\"type\":\"LinearScale\"},{\"attributes\":{},\"id\":\"8c4262ba-bed9-42d3-b586-3950f3ea78c9\",\"type\":\"Selection\"},{\"attributes\":{\"days\":[1,8,15,22]},\"id\":\"299f2009-add2-49d3-8007-b3071e8fb5ac\",\"type\":\"DaysTicker\"},{\"attributes\":{\"callback\":null,\"data\":{\"text\":[\"Max\",\"Min\"],\"x\":[1437264000000.0,1506211200000.0],\"y\":[5.29672,3.507]},\"selected\":{\"id\":\"102ac34a-65bd-43ab-8cba-0f0e1b71ffd4\",\"type\":\"Selection\"},\"selection_policy\":{\"id\":\"9aa285e2-1975-4733-9d1a-f757dba8fa86\",\"type\":\"UnionRenderers\"}},\"id\":\"ecf84cc3-bf44-432f-ab2c-dbb0775c25fb\",\"type\":\"ColumnDataSource\"},{\"attributes\":{\"data_source\":{\"id\":\"67f02c8b-149f-415b-a261-21eebdd72e36\",\"type\":\"ColumnDataSource\"},\"glyph\":{\"id\":\"4d215c02-62ae-4ae4-8f0b-c56c2c3a7ecb\",\"type\":\"Circle\"},\"hover_glyph\":null,\"muted_glyph\":null,\"nonselection_glyph\":{\"id\":\"516203cd-c99f-4b24-b685-0c1fbe3a5a19\",\"type\":\"Circle\"},\"selection_glyph\":null,\"view\":{\"id\":\"673d7303-cb16-40d6-b807-dc43ce74d9e0\",\"type\":\"CDSView\"}},\"id\":\"57e05cb2-1fcd-41ef-8c99-3187c04b0b05\",\"type\":\"GlyphRenderer\"},{\"attributes\":{\"plot\":{\"id\":\"e4c093d1-6199-4ffc-8eee-8d124f5b30c2\",\"subtype\":\"Figure\",\"type\":\"Plot\"},\"ticker\":{\"id\":\"aef07fe4-9d6a-4867-bea8-b78bcd017d92\",\"type\":\"DatetimeTicker\"}},\"id\":\"b6cc0367-43e8-4221-9b58-faffd4f06cc9\",\"type\":\"Grid\"}],\"root_ids\":[\"e4c093d1-6199-4ffc-8eee-8d124f5b30c2\"]},\"title\":\"Bokeh Application\",\"version\":\"0.13.0\"}};\n",
       "  var render_items = [{\"docid\":\"ac00ebc5-e761-4787-9975-952ef1b612c4\",\"roots\":{\"e4c093d1-6199-4ffc-8eee-8d124f5b30c2\":\"4aa003ce-fb77-4768-b83b-b6d09f23a102\"}}];\n",
       "  root.Bokeh.embed.embed_items_notebook(docs_json, render_items);\n",
       "\n",
       "  }\n",
       "  if (root.Bokeh !== undefined) {\n",
       "    embed_document(root);\n",
       "  } else {\n",
       "    var attempts = 0;\n",
       "    var timer = setInterval(function(root) {\n",
       "      if (root.Bokeh !== undefined) {\n",
       "        embed_document(root);\n",
       "        clearInterval(timer);\n",
       "      }\n",
       "      attempts++;\n",
       "      if (attempts > 100) {\n",
       "        console.log(\"Bokeh: ERROR: Unable to run BokehJS code because BokehJS library is missing\")\n",
       "        clearInterval(timer);\n",
       "      }\n",
       "    }, 10, root)\n",
       "  }\n",
       "})(window);"
      ],
      "application/vnd.bokehjs_exec.v0+json": ""
     },
     "metadata": {
      "application/vnd.bokehjs_exec.v0+json": {
       "id": "e4c093d1-6199-4ffc-8eee-8d124f5b30c2"
      }
     },
     "output_type": "display_data"
    }
   ],
   "source": [
    "p.add_layout(labels)\n",
    "\n",
    "show(p)"
   ]
  },
  {
   "cell_type": "markdown",
   "metadata": {},
   "source": [
    "### Span objects\n",
    "We can have lines span the entire width or height of the plot using the Span object. We will use this to represent the mean price in the duration of our dataset"
   ]
  },
  {
   "cell_type": "code",
   "execution_count": 18,
   "metadata": {},
   "outputs": [],
   "source": [
    "import numpy as np\n",
    "from bokeh.models import Span"
   ]
  },
  {
   "cell_type": "markdown",
   "metadata": {},
   "source": [
    "#### Calculate the mean price"
   ]
  },
  {
   "cell_type": "code",
   "execution_count": 19,
   "metadata": {},
   "outputs": [
    {
     "data": {
      "text/plain": [
       "4.260488611111109"
      ]
     },
     "execution_count": 19,
     "metadata": {},
     "output_type": "execute_result"
    }
   ],
   "source": [
    "price_mean = np.mean(corn['Price'])\n",
    "price_mean"
   ]
  },
  {
   "cell_type": "markdown",
   "metadata": {},
   "source": [
    "#### Draw a horizontal line using the Span object\n",
    "The location along with the dimension sets the X or Y value of the line which will span the plot. Here, we draw a horizontal line by specifying the dimension to be 'width' and the Y value will correspond to the value of the location property.\n",
    "\n",
    "Bokeh also supports a Slope object where we can define the sloped line rather than a simple horizontal or vertical line which can be created with Span.\n",
    "\n",
    "We can format this line as we do with any other line. \n",
    "\n",
    "A Span object is added to a figure by using the renderers.extend() function"
   ]
  },
  {
   "cell_type": "code",
   "execution_count": 20,
   "metadata": {},
   "outputs": [],
   "source": [
    "hline = Span(location=price_mean, \n",
    "             dimension='width', \n",
    "             \n",
    "             line_color='green', \n",
    "             line_width=1,\n",
    "             line_dash='dashed')\n",
    "\n",
    "p.renderers.extend([hline])"
   ]
  },
  {
   "cell_type": "code",
   "execution_count": 21,
   "metadata": {},
   "outputs": [
    {
     "data": {
      "text/html": [
       "\n",
       "\n",
       "\n",
       "\n",
       "\n",
       "\n",
       "  <div class=\"bk-root\" id=\"a46475b1-dbfc-4b61-b5f6-0624665a6cac\"></div>\n"
      ]
     },
     "metadata": {},
     "output_type": "display_data"
    },
    {
     "data": {
      "application/javascript": [
       "(function(root) {\n",
       "  function embed_document(root) {\n",
       "    \n",
       "  var docs_json = {\"60fb1412-58e5-4cd5-b42b-247cdd389a48\":{\"roots\":{\"references\":[{\"attributes\":{\"callback\":null,\"end\":6,\"start\":3},\"id\":\"428cdd04-3158-4142-a89e-95f5172331c0\",\"type\":\"Range1d\"},{\"attributes\":{},\"id\":\"e347caa2-6fb6-4d90-b432-6113c8be90ea\",\"type\":\"LinearScale\"},{\"attributes\":{\"active_drag\":\"auto\",\"active_inspect\":\"auto\",\"active_multi\":null,\"active_scroll\":\"auto\",\"active_tap\":\"auto\",\"tools\":[{\"id\":\"3b6199a0-55e3-4662-940f-4ca1c88404a5\",\"type\":\"PanTool\"},{\"id\":\"3f6ef06a-3dd8-44ee-91fa-f845675cb40c\",\"type\":\"WheelZoomTool\"},{\"id\":\"b68710c2-9c21-48c0-a3ba-47ae35d57ec8\",\"type\":\"BoxZoomTool\"},{\"id\":\"d82e73df-1727-45e2-8276-e33a91a52905\",\"type\":\"SaveTool\"},{\"id\":\"096d120c-0310-4ff0-890c-d412c86c1d85\",\"type\":\"ResetTool\"},{\"id\":\"51200231-0e95-4bcf-89a0-e282144bd287\",\"type\":\"HelpTool\"},{\"id\":\"bbedd724-15cc-4e7a-85d7-031f3f6ed657\",\"type\":\"HoverTool\"}]},\"id\":\"35a995d8-4b29-4e38-8557-a062dac5be61\",\"type\":\"Toolbar\"},{\"attributes\":{\"dimension\":1,\"plot\":{\"id\":\"e4c093d1-6199-4ffc-8eee-8d124f5b30c2\",\"subtype\":\"Figure\",\"type\":\"Plot\"},\"ticker\":{\"id\":\"f9c90d91-3803-43b7-b1be-43238dce38f0\",\"type\":\"BasicTicker\"}},\"id\":\"71fd284e-70e7-47af-953a-a922221bd672\",\"type\":\"Grid\"},{\"attributes\":{\"formatter\":{\"id\":\"5465926d-4519-40fe-a691-45f8adc0b31c\",\"type\":\"DatetimeTickFormatter\"},\"plot\":{\"id\":\"e4c093d1-6199-4ffc-8eee-8d124f5b30c2\",\"subtype\":\"Figure\",\"type\":\"Plot\"},\"ticker\":{\"id\":\"aef07fe4-9d6a-4867-bea8-b78bcd017d92\",\"type\":\"DatetimeTicker\"}},\"id\":\"50e7b9e1-c3b2-4d3d-9d42-c04403ca0267\",\"type\":\"DatetimeAxis\"},{\"attributes\":{\"line_color\":{\"value\":\"green\"},\"line_dash\":[6],\"location\":4.260488611111109,\"plot\":null},\"id\":\"7e223c5f-fc0b-479a-b655-5a765d403552\",\"type\":\"Span\"},{\"attributes\":{},\"id\":\"f9c90d91-3803-43b7-b1be-43238dce38f0\",\"type\":\"BasicTicker\"},{\"attributes\":{\"bottom_units\":\"screen\",\"fill_alpha\":{\"value\":0.5},\"fill_color\":{\"value\":\"lightgrey\"},\"left_units\":\"screen\",\"level\":\"overlay\",\"line_alpha\":{\"value\":1.0},\"line_color\":{\"value\":\"black\"},\"line_dash\":[4,4],\"line_width\":{\"value\":2},\"plot\":null,\"render_mode\":\"css\",\"right_units\":\"screen\",\"top_units\":\"screen\"},\"id\":\"6e78b15f-b37f-4836-af54-cbd3c0dfbf0e\",\"type\":\"BoxAnnotation\"},{\"attributes\":{},\"id\":\"5465926d-4519-40fe-a691-45f8adc0b31c\",\"type\":\"DatetimeTickFormatter\"},{\"attributes\":{\"days\":[1,4,7,10,13,16,19,22,25,28]},\"id\":\"6f19d902-703a-4338-9d69-7166318028e9\",\"type\":\"DaysTicker\"},{\"attributes\":{\"num_minor_ticks\":5,\"tickers\":[{\"id\":\"fb7ba10a-41e3-4309-94e5-99188eba83a9\",\"type\":\"AdaptiveTicker\"},{\"id\":\"b662276e-a2c2-4ec5-82c2-6b7b56587444\",\"type\":\"AdaptiveTicker\"},{\"id\":\"c9ad22ca-5b05-4468-9541-e97d901e36cf\",\"type\":\"AdaptiveTicker\"},{\"id\":\"095759fd-5daa-44b3-9f43-c2f08e104835\",\"type\":\"DaysTicker\"},{\"id\":\"6f19d902-703a-4338-9d69-7166318028e9\",\"type\":\"DaysTicker\"},{\"id\":\"299f2009-add2-49d3-8007-b3071e8fb5ac\",\"type\":\"DaysTicker\"},{\"id\":\"ca1fd282-f265-4f0e-852b-3c8fcc13db7a\",\"type\":\"DaysTicker\"},{\"id\":\"745f254d-f024-4cb1-9be9-b465632a4651\",\"type\":\"MonthsTicker\"},{\"id\":\"528bc457-da79-42a9-9c19-d4e1477b14f7\",\"type\":\"MonthsTicker\"},{\"id\":\"ec14a013-9650-4423-88af-3aa877a2d573\",\"type\":\"MonthsTicker\"},{\"id\":\"a7d0db92-5cd1-4f05-a82c-701d0764ea59\",\"type\":\"MonthsTicker\"},{\"id\":\"ee1c4c70-a74b-4b48-a28e-fd33c3056f20\",\"type\":\"YearsTicker\"}]},\"id\":\"aef07fe4-9d6a-4867-bea8-b78bcd017d92\",\"type\":\"DatetimeTicker\"},{\"attributes\":{\"days\":[1,15]},\"id\":\"ca1fd282-f265-4f0e-852b-3c8fcc13db7a\",\"type\":\"DaysTicker\"},{\"attributes\":{},\"id\":\"25840369-fd37-43c4-97b2-e2c261aee198\",\"type\":\"BasicTickFormatter\"},{\"attributes\":{\"days\":[1,2,3,4,5,6,7,8,9,10,11,12,13,14,15,16,17,18,19,20,21,22,23,24,25,26,27,28,29,30,31]},\"id\":\"095759fd-5daa-44b3-9f43-c2f08e104835\",\"type\":\"DaysTicker\"},{\"attributes\":{\"base\":60,\"mantissas\":[1,2,5,10,15,20,30],\"max_interval\":1800000.0,\"min_interval\":1000.0,\"num_minor_ticks\":0},\"id\":\"b662276e-a2c2-4ec5-82c2-6b7b56587444\",\"type\":\"AdaptiveTicker\"},{\"attributes\":{},\"id\":\"3b6199a0-55e3-4662-940f-4ca1c88404a5\",\"type\":\"PanTool\"},{\"attributes\":{\"base\":24,\"mantissas\":[1,2,4,6,8,12],\"max_interval\":43200000.0,\"min_interval\":3600000.0,\"num_minor_ticks\":0},\"id\":\"c9ad22ca-5b05-4468-9541-e97d901e36cf\",\"type\":\"AdaptiveTicker\"},{\"attributes\":{\"months\":[0,2,4,6,8,10]},\"id\":\"528bc457-da79-42a9-9c19-d4e1477b14f7\",\"type\":\"MonthsTicker\"},{\"attributes\":{},\"id\":\"3f6ef06a-3dd8-44ee-91fa-f845675cb40c\",\"type\":\"WheelZoomTool\"},{\"attributes\":{\"overlay\":{\"id\":\"6e78b15f-b37f-4836-af54-cbd3c0dfbf0e\",\"type\":\"BoxAnnotation\"}},\"id\":\"b68710c2-9c21-48c0-a3ba-47ae35d57ec8\",\"type\":\"BoxZoomTool\"},{\"attributes\":{},\"id\":\"daffd150-78c5-480f-b6b3-ae245059e502\",\"type\":\"UnionRenderers\"},{\"attributes\":{},\"id\":\"d82e73df-1727-45e2-8276-e33a91a52905\",\"type\":\"SaveTool\"},{\"attributes\":{},\"id\":\"096d120c-0310-4ff0-890c-d412c86c1d85\",\"type\":\"ResetTool\"},{\"attributes\":{},\"id\":\"51200231-0e95-4bcf-89a0-e282144bd287\",\"type\":\"HelpTool\"},{\"attributes\":{\"callback\":null,\"data\":{\"x\":[1437264000000.0,1506211200000.0],\"y\":[5.29672,3.507]},\"selected\":{\"id\":\"8c4262ba-bed9-42d3-b586-3950f3ea78c9\",\"type\":\"Selection\"},\"selection_policy\":{\"id\":\"daffd150-78c5-480f-b6b3-ae245059e502\",\"type\":\"UnionRenderers\"}},\"id\":\"67f02c8b-149f-415b-a261-21eebdd72e36\",\"type\":\"ColumnDataSource\"},{\"attributes\":{\"callback\":null,\"renderers\":\"auto\",\"tooltips\":[[\"Date\",\"@Date\"],[\"Price\",\"@Price\"]]},\"id\":\"bbedd724-15cc-4e7a-85d7-031f3f6ed657\",\"type\":\"HoverTool\"},{\"attributes\":{\"months\":[0,4,8]},\"id\":\"ec14a013-9650-4423-88af-3aa877a2d573\",\"type\":\"MonthsTicker\"},{\"attributes\":{},\"id\":\"ee1c4c70-a74b-4b48-a28e-fd33c3056f20\",\"type\":\"YearsTicker\"},{\"attributes\":{},\"id\":\"102ac34a-65bd-43ab-8cba-0f0e1b71ffd4\",\"type\":\"Selection\"},{\"attributes\":{\"months\":[0,6]},\"id\":\"a7d0db92-5cd1-4f05-a82c-701d0764ea59\",\"type\":\"MonthsTicker\"},{\"attributes\":{},\"id\":\"c77f76fe-a739-493c-8418-196b00ffd822\",\"type\":\"UnionRenderers\"},{\"attributes\":{},\"id\":\"9aa285e2-1975-4733-9d1a-f757dba8fa86\",\"type\":\"UnionRenderers\"},{\"attributes\":{},\"id\":\"e115fe54-9784-4624-b8ae-185e40a30f50\",\"type\":\"Selection\"},{\"attributes\":{\"source\":{\"id\":\"c6a1b3aa-cf8d-470d-b9b9-64d0d5ed402a\",\"type\":\"ColumnDataSource\"}},\"id\":\"8e65503e-14d4-411a-abd8-56f473a65011\",\"type\":\"CDSView\"},{\"attributes\":{\"line_alpha\":0.1,\"line_color\":\"#1f77b4\",\"line_width\":2,\"x\":{\"field\":\"FormattedDate\"},\"y\":{\"field\":\"Price\"}},\"id\":\"5ffb416e-ce31-4909-b116-d4186f24a6bf\",\"type\":\"Line\"},{\"attributes\":{\"plot\":{\"id\":\"e4c093d1-6199-4ffc-8eee-8d124f5b30c2\",\"subtype\":\"Figure\",\"type\":\"Plot\"},\"source\":{\"id\":\"ecf84cc3-bf44-432f-ab2c-dbb0775c25fb\",\"type\":\"ColumnDataSource\"},\"x\":{\"field\":\"x\"},\"x_offset\":{\"value\":5},\"y\":{\"field\":\"y\"},\"y_offset\":{\"value\":5}},\"id\":\"7d5e8d94-8e82-4198-abd4-a26413e80fe5\",\"type\":\"LabelSet\"},{\"attributes\":{\"line_color\":\"#FFD700\",\"line_width\":2,\"x\":{\"field\":\"FormattedDate\"},\"y\":{\"field\":\"Price\"}},\"id\":\"ebe444c1-a6a1-4898-9184-e2ccc6195300\",\"type\":\"Line\"},{\"attributes\":{\"below\":[{\"id\":\"50e7b9e1-c3b2-4d3d-9d42-c04403ca0267\",\"type\":\"DatetimeAxis\"}],\"left\":[{\"id\":\"bc816b21-00dc-4e61-b173-53d84a83df2c\",\"type\":\"LinearAxis\"}],\"plot_height\":300,\"renderers\":[{\"id\":\"50e7b9e1-c3b2-4d3d-9d42-c04403ca0267\",\"type\":\"DatetimeAxis\"},{\"id\":\"b6cc0367-43e8-4221-9b58-faffd4f06cc9\",\"type\":\"Grid\"},{\"id\":\"bc816b21-00dc-4e61-b173-53d84a83df2c\",\"type\":\"LinearAxis\"},{\"id\":\"71fd284e-70e7-47af-953a-a922221bd672\",\"type\":\"Grid\"},{\"id\":\"6e78b15f-b37f-4836-af54-cbd3c0dfbf0e\",\"type\":\"BoxAnnotation\"},{\"id\":\"690f1303-9862-4c68-adc0-ebabf2b93721\",\"type\":\"GlyphRenderer\"},{\"id\":\"57e05cb2-1fcd-41ef-8c99-3187c04b0b05\",\"type\":\"GlyphRenderer\"},{\"id\":\"7d5e8d94-8e82-4198-abd4-a26413e80fe5\",\"type\":\"LabelSet\"},{\"id\":\"7e223c5f-fc0b-479a-b655-5a765d403552\",\"type\":\"Span\"}],\"title\":{\"id\":\"a59822e2-9102-4cdb-b45c-4108f92893ea\",\"type\":\"Title\"},\"toolbar\":{\"id\":\"35a995d8-4b29-4e38-8557-a062dac5be61\",\"type\":\"Toolbar\"},\"x_range\":{\"id\":\"f441e1fc-c461-4988-8995-1a4015a83323\",\"type\":\"Range1d\"},\"x_scale\":{\"id\":\"6fd3c6c4-d4ec-4203-a437-0424f2d53039\",\"type\":\"LinearScale\"},\"y_range\":{\"id\":\"428cdd04-3158-4142-a89e-95f5172331c0\",\"type\":\"Range1d\"},\"y_scale\":{\"id\":\"e347caa2-6fb6-4d90-b432-6113c8be90ea\",\"type\":\"LinearScale\"}},\"id\":\"e4c093d1-6199-4ffc-8eee-8d124f5b30c2\",\"subtype\":\"Figure\",\"type\":\"Plot\"},{\"attributes\":{\"data_source\":{\"id\":\"c6a1b3aa-cf8d-470d-b9b9-64d0d5ed402a\",\"type\":\"ColumnDataSource\"},\"glyph\":{\"id\":\"ebe444c1-a6a1-4898-9184-e2ccc6195300\",\"type\":\"Line\"},\"hover_glyph\":null,\"muted_glyph\":null,\"nonselection_glyph\":{\"id\":\"5ffb416e-ce31-4909-b116-d4186f24a6bf\",\"type\":\"Line\"},\"selection_glyph\":null,\"view\":{\"id\":\"8e65503e-14d4-411a-abd8-56f473a65011\",\"type\":\"CDSView\"}},\"id\":\"690f1303-9862-4c68-adc0-ebabf2b93721\",\"type\":\"GlyphRenderer\"},{\"attributes\":{\"months\":[0,1,2,3,4,5,6,7,8,9,10,11]},\"id\":\"745f254d-f024-4cb1-9be9-b465632a4651\",\"type\":\"MonthsTicker\"},{\"attributes\":{\"fill_alpha\":{\"value\":0.1},\"fill_color\":{\"value\":\"#1f77b4\"},\"line_alpha\":{\"value\":0.1},\"line_color\":{\"value\":\"#1f77b4\"},\"size\":{\"units\":\"screen\",\"value\":10},\"x\":{\"field\":\"x\"},\"y\":{\"field\":\"y\"}},\"id\":\"516203cd-c99f-4b24-b685-0c1fbe3a5a19\",\"type\":\"Circle\"},{\"attributes\":{\"plot\":null,\"text\":\"Corn Prices\"},\"id\":\"a59822e2-9102-4cdb-b45c-4108f92893ea\",\"type\":\"Title\"},{\"attributes\":{\"callback\":null,\"end\":1512000000000.0,\"start\":1420070400000.0},\"id\":\"f441e1fc-c461-4988-8995-1a4015a83323\",\"type\":\"Range1d\"},{\"attributes\":{\"callback\":null,\"data\":{\"Date\":[\"2015-01-04\",\"2015-01-11\",\"2015-01-18\",\"2015-01-25\",\"2015-02-01\",\"2015-02-08\",\"2015-02-15\",\"2015-02-22\",\"2015-03-01\",\"2015-03-08\",\"2015-03-15\",\"2015-03-22\",\"2015-03-29\",\"2015-04-05\",\"2015-04-12\",\"2015-04-19\",\"2015-04-26\",\"2015-05-03\",\"2015-05-10\",\"2015-05-17\",\"2015-05-24\",\"2015-05-31\",\"2015-06-07\",\"2015-06-14\",\"2015-06-21\",\"2015-06-28\",\"2015-07-05\",\"2015-07-12\",\"2015-07-19\",\"2015-07-26\",\"2015-08-02\",\"2015-08-09\",\"2015-08-16\",\"2015-08-23\",\"2015-08-30\",\"2015-09-06\",\"2015-09-13\",\"2015-09-20\",\"2015-09-27\",\"2015-10-04\",\"2015-10-11\",\"2015-10-18\",\"2015-10-25\",\"2015-11-01\",\"2015-11-08\",\"2015-11-15\",\"2015-11-22\",\"2015-11-29\",\"2015-12-06\",\"2015-12-13\",\"2015-12-20\",\"2015-12-27\",\"2016-01-03\",\"2016-01-10\",\"2016-01-17\",\"2016-01-24\",\"2016-01-31\",\"2016-02-07\",\"2016-02-14\",\"2016-02-21\",\"2016-02-28\",\"2016-03-06\",\"2016-03-13\",\"2016-03-20\",\"2016-03-27\",\"2016-04-03\",\"2016-04-10\",\"2016-04-17\",\"2016-04-24\",\"2016-05-01\",\"2016-05-08\",\"2016-05-15\",\"2016-05-22\",\"2016-05-29\",\"2016-06-05\",\"2016-06-12\",\"2016-06-19\",\"2016-06-26\",\"2016-07-03\",\"2016-07-10\",\"2016-07-17\",\"2016-07-24\",\"2016-07-31\",\"2016-08-07\",\"2016-08-14\",\"2016-08-21\",\"2016-08-28\",\"2016-09-04\",\"2016-09-11\",\"2016-09-18\",\"2016-09-25\",\"2016-10-02\",\"2016-10-09\",\"2016-10-16\",\"2016-10-23\",\"2016-10-30\",\"2016-11-06\",\"2016-11-13\",\"2016-11-20\",\"2016-11-27\",\"2016-12-04\",\"2016-12-11\",\"2016-12-18\",\"2016-12-25\",\"2017-01-01\",\"2017-01-08\",\"2017-01-15\",\"2017-01-22\",\"2017-01-29\",\"2017-02-05\",\"2017-02-12\",\"2017-02-19\",\"2017-02-26\",\"2017-03-05\",\"2017-03-12\",\"2017-03-19\",\"2017-03-26\",\"2017-04-02\",\"2017-04-09\",\"2017-04-16\",\"2017-04-23\",\"2017-04-30\",\"2017-05-07\",\"2017-05-14\",\"2017-05-21\",\"2017-05-28\",\"2017-06-04\",\"2017-06-11\",\"2017-06-18\",\"2017-06-25\",\"2017-07-02\",\"2017-07-09\",\"2017-07-16\",\"2017-07-23\",\"2017-07-30\",\"2017-08-06\",\"2017-08-13\",\"2017-08-20\",\"2017-08-27\",\"2017-09-03\",\"2017-09-10\",\"2017-09-17\",\"2017-09-24\",\"2017-10-01\"],\"FormattedDate\":{\"__ndarray__\":\"AABA3COrdEIAAICkZK10QgAAwGylr3RCAAAANeaxdEIAAED9JrR0QgAAgMVntnRCAADAjai4dEIAAABW6bp0QgAAQB4qvXRCAACA5mq/dEIAAMCuq8F0QgAAAHfsw3RCAABAPy3GdEIAAIAHbsh0QgAAwM+uynRCAAAAmO/MdEIAAEBgMM90QgAAgChx0XRCAADA8LHTdEIAAAC58tV0QgAAQIEz2HRCAACASXTadEIAAMARtdx0QgAAANr13nRCAABAojbhdEIAAIBqd+N0QgAAwDK45XRCAAAA+/jndEIAAEDDOep0QgAAgIt67HRCAADAU7vudEIAAAAc/PB0QgAAQOQ883RCAACArH31dEIAAMB0vvd0QgAAAD3/+XRCAABABUD8dEIAAIDNgP50QgAAwJXBAHVCAAAAXgIDdUIAAEAmQwV1QgAAgO6DB3VCAADAtsQJdUIAAAB/BQx1QgAAQEdGDnVCAACAD4cQdUIAAMDXxxJ1QgAAAKAIFXVCAABAaEkXdUIAAIAwihl1QgAAwPjKG3VCAAAAwQsedUIAAECJTCB1QgAAgFGNInVCAADAGc4kdUIAAADiDid1QgAAQKpPKXVCAACAcpArdUIAAMA60S11QgAAAAMSMHVCAABAy1IydUIAAICTkzR1QgAAwFvUNnVCAAAAJBU5dUIAAEDsVTt1QgAAgLSWPXVCAADAfNc/dUIAAABFGEJ1QgAAQA1ZRHVCAACA1ZlGdUIAAMCd2kh1QgAAAGYbS3VCAABALlxNdUIAAID2nE91QgAAwL7dUXVCAAAAhx5UdUIAAEBPX1Z1QgAAgBegWHVCAADA3+BadUIAAACoIV11QgAAQHBiX3VCAACAOKNhdUIAAMAA5GN1QgAAAMkkZnVCAABAkWVodUIAAIBZpmp1QgAAwCHnbHVCAAAA6idvdUIAAECyaHF1QgAAgHqpc3VCAADAQup1dUIAAAALK3h1QgAAQNNrenVCAACAm6x8dUIAAMBj7X51QgAAACwugXVCAABA9G6DdUIAAIC8r4V1QgAAwITwh3VCAAAATTGKdUIAAEAVcox1QgAAgN2yjnVCAADApfOQdUIAAABuNJN1QgAAQDZ1lXVCAACA/rWXdUIAAMDG9pl1QgAAAI83nHVCAABAV3iedUIAAIAfuaB1QgAAwOf5onVCAAAAsDqldUIAAEB4e6d1QgAAgEC8qXVCAADACP2rdUIAAADRPa51QgAAQJl+sHVCAACAYb+ydUIAAMApALV1QgAAAPJAt3VCAABAuoG5dUIAAICCwrt1QgAAwEoDvnVCAAAAE0TAdUIAAEDbhMJ1QgAAgKPFxHVCAADAawbHdUIAAAA0R8l1QgAAQPyHy3VCAACAxMjNdUIAAMCMCdB1QgAAAFVK0nVCAABAHYvUdUIAAIDly9Z1QgAAwK0M2XVCAAAAdk3bdUIAAEA+jt11QgAAgAbP33VCAADAzg/idUIAAACXUOR1QgAAQF+R5nVCAACAJ9LodUIAAMDvEut1QgAAALhT7XVC\",\"dtype\":\"float64\",\"shape\":[144]},\"Price\":{\"__ndarray__\":\"XynLEMfaFEAoDwu1prkUQGHgufdwCRRAoBov3SQGFEBdbcX+snsTQBefAmA8wxNA7uvAOSMKFEAJM23/ygoUQFYTRN0HoBNAcVXZd0WwE0DH155ZEqATQJ9ZEqCmFhNAs4AJ3LrbE0BcIEHxY3wTQL7BFyZTRRNAOpLLf0j/EkAXDoRkAdMSQJG4x9KHLhJA4PPDCOEREkAUChFwCBUSQOPHmLuWEBJAPwCpTZycEUA+6Nms+twRQDIge7374xFAMGR1q+ekEUCRs7CnHX4SQBk+IqZEkhRAhV/q500FFUDHRiBe1y8VQNXPm4pU2BNAf2WlSSloEkAa+ie4WFESQHL+JhQiYBJAkKD4MeYuEkCZgcr49xkSQL1vfO2ZpRFAhbGFIAflEUB/+zpwzogSQPj8MEJ4dBJA5EnSNZOvEkAmjdE6qtoSQAXAeAYNPRJACyk/qfYpEkADz72HS04SQJKRs7CnHRJA1JrmHadoEUAkKH6MuWsRQGXkLOxphxFAFOgTeZK0EUBgWWlSCroRQOscA7LXuxFASFD8GHNXEUDc14FzRgQRQLnCu1zEtxBAjBU1mIbhEECXOV0WE1sRQFoqb0c4bRFA7vDXZI16EUAGR8mrcwwRQJ83FakwNhFAcXfWbrsQEUBoHVVNELUQQPlJtU/H4xBAgzRj0XQ2EUDuWkI+6EkRQJGzsKcd/hBAnbryWZ7HEEC77UJznUYRQCL430p27BFAtdsuNNfpEUAkYkok0YsRQCRFZFjFmxFAs3bbheY6EkDKMsSxLq4SQIZyol2FFBNAe6AVGLK6E0D9MEJ4tPETQG1blNkgUxJAELQCQ1Y3EUBqTfOOU/QPQBzw+WGEMBBABa3AkNUtD0Ad5ssLsI8OQBgJbTmX4g1Afa62Yn/ZDUAhH/RsVn0OQJKzsKcd/g1As3bbhea6DEDpmsk329wNQDtY/+cw3w1AgXhdv2A3DkC4x9KHLqgNQCrB4nDm1w5AgRyUMNP2DkByEd+JWa8PQMe/z7hwoA9AvB3htOBFD0CppE5AE+EOQIxiuaXVkA5ABhIUP8ZcD0DEsS5uo4EOQEkp6PaSRg9AXRYTm49rD0APlxx3SocOQDeJQWDlsA5AxY8xdy1hD0CPNo5Yi08PQJ30vvG15w9ABVH3AUjtD0D7y+7Jw8IPQMYzaOifIBBAtyizQSZZEEA1KQXdXhIQQE8jLZW3IxBAlX1XBP/bD0D8pNqn4zEPQGx4eqUsww5AduCcEaW9DkBb07zjFB0PQLpJDAIrhw9A+RkXDoTkDkBy/iYUIuAOQMo88gcDTw9APu3w12QND0BVNUHUfQAPQOQUHcnlPw9AWMoyxLEuD0B6xyk6kgsQQGiWBKip5Q9A5QrvchHfDkD+SBEZVnEOQME5I0p7AxBANV66SQwCEEB/arx0k5gPQBBYObTI9g5ABoGVQ4tsDkDByqFFtnMOQMHKoUW2cw1Af2q8dJOYDECamZmZmRkMQFpkO99PjQxA16NwPQpXDEB1kxgEVg4MQD0K16NwPQxA\",\"dtype\":\"float64\",\"shape\":[144]},\"index\":[0,1,2,3,4,5,6,7,8,9,10,11,12,13,14,15,16,17,18,19,20,21,22,23,24,25,26,27,28,29,30,31,32,33,34,35,36,37,38,39,40,41,42,43,44,45,46,47,48,49,50,51,52,53,54,55,56,57,58,59,60,61,62,63,64,65,66,67,68,69,70,71,72,73,74,75,76,77,78,79,80,81,82,83,84,85,86,87,88,89,90,91,92,93,94,95,96,97,98,99,100,101,102,103,104,105,106,107,108,109,110,111,112,113,114,115,116,117,118,119,120,121,122,123,124,125,126,127,128,129,130,131,132,133,134,135,136,137,138,139,140,141,142,143]},\"selected\":{\"id\":\"e115fe54-9784-4624-b8ae-185e40a30f50\",\"type\":\"Selection\"},\"selection_policy\":{\"id\":\"c77f76fe-a739-493c-8418-196b00ffd822\",\"type\":\"UnionRenderers\"}},\"id\":\"c6a1b3aa-cf8d-470d-b9b9-64d0d5ed402a\",\"type\":\"ColumnDataSource\"},{\"attributes\":{\"formatter\":{\"id\":\"25840369-fd37-43c4-97b2-e2c261aee198\",\"type\":\"BasicTickFormatter\"},\"plot\":{\"id\":\"e4c093d1-6199-4ffc-8eee-8d124f5b30c2\",\"subtype\":\"Figure\",\"type\":\"Plot\"},\"ticker\":{\"id\":\"f9c90d91-3803-43b7-b1be-43238dce38f0\",\"type\":\"BasicTicker\"}},\"id\":\"bc816b21-00dc-4e61-b173-53d84a83df2c\",\"type\":\"LinearAxis\"},{\"attributes\":{\"mantissas\":[1,2,5],\"max_interval\":500.0,\"num_minor_ticks\":0},\"id\":\"fb7ba10a-41e3-4309-94e5-99188eba83a9\",\"type\":\"AdaptiveTicker\"},{\"attributes\":{\"source\":{\"id\":\"67f02c8b-149f-415b-a261-21eebdd72e36\",\"type\":\"ColumnDataSource\"}},\"id\":\"673d7303-cb16-40d6-b807-dc43ce74d9e0\",\"type\":\"CDSView\"},{\"attributes\":{\"fill_color\":{\"value\":\"#1f77b4\"},\"line_color\":{\"value\":\"#1f77b4\"},\"size\":{\"units\":\"screen\",\"value\":10},\"x\":{\"field\":\"x\"},\"y\":{\"field\":\"y\"}},\"id\":\"4d215c02-62ae-4ae4-8f0b-c56c2c3a7ecb\",\"type\":\"Circle\"},{\"attributes\":{},\"id\":\"6fd3c6c4-d4ec-4203-a437-0424f2d53039\",\"type\":\"LinearScale\"},{\"attributes\":{},\"id\":\"8c4262ba-bed9-42d3-b586-3950f3ea78c9\",\"type\":\"Selection\"},{\"attributes\":{\"days\":[1,8,15,22]},\"id\":\"299f2009-add2-49d3-8007-b3071e8fb5ac\",\"type\":\"DaysTicker\"},{\"attributes\":{\"callback\":null,\"data\":{\"text\":[\"Max\",\"Min\"],\"x\":[1437264000000.0,1506211200000.0],\"y\":[5.29672,3.507]},\"selected\":{\"id\":\"102ac34a-65bd-43ab-8cba-0f0e1b71ffd4\",\"type\":\"Selection\"},\"selection_policy\":{\"id\":\"9aa285e2-1975-4733-9d1a-f757dba8fa86\",\"type\":\"UnionRenderers\"}},\"id\":\"ecf84cc3-bf44-432f-ab2c-dbb0775c25fb\",\"type\":\"ColumnDataSource\"},{\"attributes\":{\"data_source\":{\"id\":\"67f02c8b-149f-415b-a261-21eebdd72e36\",\"type\":\"ColumnDataSource\"},\"glyph\":{\"id\":\"4d215c02-62ae-4ae4-8f0b-c56c2c3a7ecb\",\"type\":\"Circle\"},\"hover_glyph\":null,\"muted_glyph\":null,\"nonselection_glyph\":{\"id\":\"516203cd-c99f-4b24-b685-0c1fbe3a5a19\",\"type\":\"Circle\"},\"selection_glyph\":null,\"view\":{\"id\":\"673d7303-cb16-40d6-b807-dc43ce74d9e0\",\"type\":\"CDSView\"}},\"id\":\"57e05cb2-1fcd-41ef-8c99-3187c04b0b05\",\"type\":\"GlyphRenderer\"},{\"attributes\":{\"plot\":{\"id\":\"e4c093d1-6199-4ffc-8eee-8d124f5b30c2\",\"subtype\":\"Figure\",\"type\":\"Plot\"},\"ticker\":{\"id\":\"aef07fe4-9d6a-4867-bea8-b78bcd017d92\",\"type\":\"DatetimeTicker\"}},\"id\":\"b6cc0367-43e8-4221-9b58-faffd4f06cc9\",\"type\":\"Grid\"}],\"root_ids\":[\"e4c093d1-6199-4ffc-8eee-8d124f5b30c2\"]},\"title\":\"Bokeh Application\",\"version\":\"0.13.0\"}};\n",
       "  var render_items = [{\"docid\":\"60fb1412-58e5-4cd5-b42b-247cdd389a48\",\"roots\":{\"e4c093d1-6199-4ffc-8eee-8d124f5b30c2\":\"a46475b1-dbfc-4b61-b5f6-0624665a6cac\"}}];\n",
       "  root.Bokeh.embed.embed_items_notebook(docs_json, render_items);\n",
       "\n",
       "  }\n",
       "  if (root.Bokeh !== undefined) {\n",
       "    embed_document(root);\n",
       "  } else {\n",
       "    var attempts = 0;\n",
       "    var timer = setInterval(function(root) {\n",
       "      if (root.Bokeh !== undefined) {\n",
       "        embed_document(root);\n",
       "        clearInterval(timer);\n",
       "      }\n",
       "      attempts++;\n",
       "      if (attempts > 100) {\n",
       "        console.log(\"Bokeh: ERROR: Unable to run BokehJS code because BokehJS library is missing\")\n",
       "        clearInterval(timer);\n",
       "      }\n",
       "    }, 10, root)\n",
       "  }\n",
       "})(window);"
      ],
      "application/vnd.bokehjs_exec.v0+json": ""
     },
     "metadata": {
      "application/vnd.bokehjs_exec.v0+json": {
       "id": "e4c093d1-6199-4ffc-8eee-8d124f5b30c2"
      }
     },
     "output_type": "display_data"
    }
   ],
   "source": [
    "show(p)"
   ]
  },
  {
   "cell_type": "markdown",
   "metadata": {},
   "source": [
    "### Box Annotations\n",
    "These are very useful to highlight a range of values within one's plot. In our plot, we use this to mark the range within one standard deviation of the mean"
   ]
  },
  {
   "cell_type": "code",
   "execution_count": 22,
   "metadata": {},
   "outputs": [],
   "source": [
    "from bokeh.models import BoxAnnotation"
   ]
  },
  {
   "cell_type": "markdown",
   "metadata": {},
   "source": [
    "#### Calculate the standard deviation"
   ]
  },
  {
   "cell_type": "code",
   "execution_count": 23,
   "metadata": {},
   "outputs": [
    {
     "data": {
      "text/plain": [
       "0.43631035086709263"
      ]
     },
     "execution_count": 23,
     "metadata": {},
     "output_type": "execute_result"
    }
   ],
   "source": [
    "price_stdev = np.std(corn['Price'])\n",
    "price_stdev"
   ]
  },
  {
   "cell_type": "markdown",
   "metadata": {},
   "source": [
    "#### Define a box annotation to highlight the range\n",
    "We set the box attributes to the range which we wish to highlight. Though we have only set the top and bottom, we can also define the left and right of the range if needed."
   ]
  },
  {
   "cell_type": "code",
   "execution_count": 24,
   "metadata": {},
   "outputs": [],
   "source": [
    "box = BoxAnnotation(bottom = price_mean - price_stdev, \n",
    "                    top = price_mean + price_stdev, \n",
    "                    \n",
    "                    fill_alpha=0.1, \n",
    "                    fill_color='green')\n",
    "\n",
    "p.add_layout(box)"
   ]
  },
  {
   "cell_type": "code",
   "execution_count": 25,
   "metadata": {},
   "outputs": [
    {
     "data": {
      "text/html": [
       "\n",
       "\n",
       "\n",
       "\n",
       "\n",
       "\n",
       "  <div class=\"bk-root\" id=\"5ac97513-6aa5-42c5-b32f-f2bd07465d37\"></div>\n"
      ]
     },
     "metadata": {},
     "output_type": "display_data"
    },
    {
     "data": {
      "application/javascript": [
       "(function(root) {\n",
       "  function embed_document(root) {\n",
       "    \n",
       "  var docs_json = {\"19c6b867-8636-45f8-8455-d1d3db5125d8\":{\"roots\":{\"references\":[{\"attributes\":{\"callback\":null,\"end\":6,\"start\":3},\"id\":\"428cdd04-3158-4142-a89e-95f5172331c0\",\"type\":\"Range1d\"},{\"attributes\":{},\"id\":\"e347caa2-6fb6-4d90-b432-6113c8be90ea\",\"type\":\"LinearScale\"},{\"attributes\":{\"active_drag\":\"auto\",\"active_inspect\":\"auto\",\"active_multi\":null,\"active_scroll\":\"auto\",\"active_tap\":\"auto\",\"tools\":[{\"id\":\"3b6199a0-55e3-4662-940f-4ca1c88404a5\",\"type\":\"PanTool\"},{\"id\":\"3f6ef06a-3dd8-44ee-91fa-f845675cb40c\",\"type\":\"WheelZoomTool\"},{\"id\":\"b68710c2-9c21-48c0-a3ba-47ae35d57ec8\",\"type\":\"BoxZoomTool\"},{\"id\":\"d82e73df-1727-45e2-8276-e33a91a52905\",\"type\":\"SaveTool\"},{\"id\":\"096d120c-0310-4ff0-890c-d412c86c1d85\",\"type\":\"ResetTool\"},{\"id\":\"51200231-0e95-4bcf-89a0-e282144bd287\",\"type\":\"HelpTool\"},{\"id\":\"bbedd724-15cc-4e7a-85d7-031f3f6ed657\",\"type\":\"HoverTool\"}]},\"id\":\"35a995d8-4b29-4e38-8557-a062dac5be61\",\"type\":\"Toolbar\"},{\"attributes\":{\"dimension\":1,\"plot\":{\"id\":\"e4c093d1-6199-4ffc-8eee-8d124f5b30c2\",\"subtype\":\"Figure\",\"type\":\"Plot\"},\"ticker\":{\"id\":\"f9c90d91-3803-43b7-b1be-43238dce38f0\",\"type\":\"BasicTicker\"}},\"id\":\"71fd284e-70e7-47af-953a-a922221bd672\",\"type\":\"Grid\"},{\"attributes\":{\"formatter\":{\"id\":\"5465926d-4519-40fe-a691-45f8adc0b31c\",\"type\":\"DatetimeTickFormatter\"},\"plot\":{\"id\":\"e4c093d1-6199-4ffc-8eee-8d124f5b30c2\",\"subtype\":\"Figure\",\"type\":\"Plot\"},\"ticker\":{\"id\":\"aef07fe4-9d6a-4867-bea8-b78bcd017d92\",\"type\":\"DatetimeTicker\"}},\"id\":\"50e7b9e1-c3b2-4d3d-9d42-c04403ca0267\",\"type\":\"DatetimeAxis\"},{\"attributes\":{\"line_color\":{\"value\":\"green\"},\"line_dash\":[6],\"location\":4.260488611111109,\"plot\":null},\"id\":\"7e223c5f-fc0b-479a-b655-5a765d403552\",\"type\":\"Span\"},{\"attributes\":{},\"id\":\"f9c90d91-3803-43b7-b1be-43238dce38f0\",\"type\":\"BasicTicker\"},{\"attributes\":{\"bottom_units\":\"screen\",\"fill_alpha\":{\"value\":0.5},\"fill_color\":{\"value\":\"lightgrey\"},\"left_units\":\"screen\",\"level\":\"overlay\",\"line_alpha\":{\"value\":1.0},\"line_color\":{\"value\":\"black\"},\"line_dash\":[4,4],\"line_width\":{\"value\":2},\"plot\":null,\"render_mode\":\"css\",\"right_units\":\"screen\",\"top_units\":\"screen\"},\"id\":\"6e78b15f-b37f-4836-af54-cbd3c0dfbf0e\",\"type\":\"BoxAnnotation\"},{\"attributes\":{},\"id\":\"5465926d-4519-40fe-a691-45f8adc0b31c\",\"type\":\"DatetimeTickFormatter\"},{\"attributes\":{\"bottom\":3.8241782602440164,\"fill_alpha\":{\"value\":0.1},\"fill_color\":{\"value\":\"green\"},\"plot\":{\"id\":\"e4c093d1-6199-4ffc-8eee-8d124f5b30c2\",\"subtype\":\"Figure\",\"type\":\"Plot\"},\"top\":4.696798961978201},\"id\":\"c81beadc-be6c-4e80-93c0-18efc4e8498c\",\"type\":\"BoxAnnotation\"},{\"attributes\":{\"days\":[1,4,7,10,13,16,19,22,25,28]},\"id\":\"6f19d902-703a-4338-9d69-7166318028e9\",\"type\":\"DaysTicker\"},{\"attributes\":{\"num_minor_ticks\":5,\"tickers\":[{\"id\":\"fb7ba10a-41e3-4309-94e5-99188eba83a9\",\"type\":\"AdaptiveTicker\"},{\"id\":\"b662276e-a2c2-4ec5-82c2-6b7b56587444\",\"type\":\"AdaptiveTicker\"},{\"id\":\"c9ad22ca-5b05-4468-9541-e97d901e36cf\",\"type\":\"AdaptiveTicker\"},{\"id\":\"095759fd-5daa-44b3-9f43-c2f08e104835\",\"type\":\"DaysTicker\"},{\"id\":\"6f19d902-703a-4338-9d69-7166318028e9\",\"type\":\"DaysTicker\"},{\"id\":\"299f2009-add2-49d3-8007-b3071e8fb5ac\",\"type\":\"DaysTicker\"},{\"id\":\"ca1fd282-f265-4f0e-852b-3c8fcc13db7a\",\"type\":\"DaysTicker\"},{\"id\":\"745f254d-f024-4cb1-9be9-b465632a4651\",\"type\":\"MonthsTicker\"},{\"id\":\"528bc457-da79-42a9-9c19-d4e1477b14f7\",\"type\":\"MonthsTicker\"},{\"id\":\"ec14a013-9650-4423-88af-3aa877a2d573\",\"type\":\"MonthsTicker\"},{\"id\":\"a7d0db92-5cd1-4f05-a82c-701d0764ea59\",\"type\":\"MonthsTicker\"},{\"id\":\"ee1c4c70-a74b-4b48-a28e-fd33c3056f20\",\"type\":\"YearsTicker\"}]},\"id\":\"aef07fe4-9d6a-4867-bea8-b78bcd017d92\",\"type\":\"DatetimeTicker\"},{\"attributes\":{\"days\":[1,15]},\"id\":\"ca1fd282-f265-4f0e-852b-3c8fcc13db7a\",\"type\":\"DaysTicker\"},{\"attributes\":{},\"id\":\"25840369-fd37-43c4-97b2-e2c261aee198\",\"type\":\"BasicTickFormatter\"},{\"attributes\":{\"days\":[1,2,3,4,5,6,7,8,9,10,11,12,13,14,15,16,17,18,19,20,21,22,23,24,25,26,27,28,29,30,31]},\"id\":\"095759fd-5daa-44b3-9f43-c2f08e104835\",\"type\":\"DaysTicker\"},{\"attributes\":{\"base\":60,\"mantissas\":[1,2,5,10,15,20,30],\"max_interval\":1800000.0,\"min_interval\":1000.0,\"num_minor_ticks\":0},\"id\":\"b662276e-a2c2-4ec5-82c2-6b7b56587444\",\"type\":\"AdaptiveTicker\"},{\"attributes\":{},\"id\":\"3b6199a0-55e3-4662-940f-4ca1c88404a5\",\"type\":\"PanTool\"},{\"attributes\":{\"base\":24,\"mantissas\":[1,2,4,6,8,12],\"max_interval\":43200000.0,\"min_interval\":3600000.0,\"num_minor_ticks\":0},\"id\":\"c9ad22ca-5b05-4468-9541-e97d901e36cf\",\"type\":\"AdaptiveTicker\"},{\"attributes\":{\"months\":[0,2,4,6,8,10]},\"id\":\"528bc457-da79-42a9-9c19-d4e1477b14f7\",\"type\":\"MonthsTicker\"},{\"attributes\":{},\"id\":\"3f6ef06a-3dd8-44ee-91fa-f845675cb40c\",\"type\":\"WheelZoomTool\"},{\"attributes\":{\"overlay\":{\"id\":\"6e78b15f-b37f-4836-af54-cbd3c0dfbf0e\",\"type\":\"BoxAnnotation\"}},\"id\":\"b68710c2-9c21-48c0-a3ba-47ae35d57ec8\",\"type\":\"BoxZoomTool\"},{\"attributes\":{},\"id\":\"daffd150-78c5-480f-b6b3-ae245059e502\",\"type\":\"UnionRenderers\"},{\"attributes\":{},\"id\":\"d82e73df-1727-45e2-8276-e33a91a52905\",\"type\":\"SaveTool\"},{\"attributes\":{},\"id\":\"096d120c-0310-4ff0-890c-d412c86c1d85\",\"type\":\"ResetTool\"},{\"attributes\":{},\"id\":\"51200231-0e95-4bcf-89a0-e282144bd287\",\"type\":\"HelpTool\"},{\"attributes\":{\"callback\":null,\"data\":{\"x\":[1437264000000.0,1506211200000.0],\"y\":[5.29672,3.507]},\"selected\":{\"id\":\"8c4262ba-bed9-42d3-b586-3950f3ea78c9\",\"type\":\"Selection\"},\"selection_policy\":{\"id\":\"daffd150-78c5-480f-b6b3-ae245059e502\",\"type\":\"UnionRenderers\"}},\"id\":\"67f02c8b-149f-415b-a261-21eebdd72e36\",\"type\":\"ColumnDataSource\"},{\"attributes\":{\"callback\":null,\"renderers\":\"auto\",\"tooltips\":[[\"Date\",\"@Date\"],[\"Price\",\"@Price\"]]},\"id\":\"bbedd724-15cc-4e7a-85d7-031f3f6ed657\",\"type\":\"HoverTool\"},{\"attributes\":{\"months\":[0,4,8]},\"id\":\"ec14a013-9650-4423-88af-3aa877a2d573\",\"type\":\"MonthsTicker\"},{\"attributes\":{},\"id\":\"ee1c4c70-a74b-4b48-a28e-fd33c3056f20\",\"type\":\"YearsTicker\"},{\"attributes\":{},\"id\":\"102ac34a-65bd-43ab-8cba-0f0e1b71ffd4\",\"type\":\"Selection\"},{\"attributes\":{\"months\":[0,6]},\"id\":\"a7d0db92-5cd1-4f05-a82c-701d0764ea59\",\"type\":\"MonthsTicker\"},{\"attributes\":{},\"id\":\"c77f76fe-a739-493c-8418-196b00ffd822\",\"type\":\"UnionRenderers\"},{\"attributes\":{},\"id\":\"9aa285e2-1975-4733-9d1a-f757dba8fa86\",\"type\":\"UnionRenderers\"},{\"attributes\":{},\"id\":\"e115fe54-9784-4624-b8ae-185e40a30f50\",\"type\":\"Selection\"},{\"attributes\":{\"source\":{\"id\":\"c6a1b3aa-cf8d-470d-b9b9-64d0d5ed402a\",\"type\":\"ColumnDataSource\"}},\"id\":\"8e65503e-14d4-411a-abd8-56f473a65011\",\"type\":\"CDSView\"},{\"attributes\":{\"line_alpha\":0.1,\"line_color\":\"#1f77b4\",\"line_width\":2,\"x\":{\"field\":\"FormattedDate\"},\"y\":{\"field\":\"Price\"}},\"id\":\"5ffb416e-ce31-4909-b116-d4186f24a6bf\",\"type\":\"Line\"},{\"attributes\":{\"plot\":{\"id\":\"e4c093d1-6199-4ffc-8eee-8d124f5b30c2\",\"subtype\":\"Figure\",\"type\":\"Plot\"},\"source\":{\"id\":\"ecf84cc3-bf44-432f-ab2c-dbb0775c25fb\",\"type\":\"ColumnDataSource\"},\"x\":{\"field\":\"x\"},\"x_offset\":{\"value\":5},\"y\":{\"field\":\"y\"},\"y_offset\":{\"value\":5}},\"id\":\"7d5e8d94-8e82-4198-abd4-a26413e80fe5\",\"type\":\"LabelSet\"},{\"attributes\":{\"line_color\":\"#FFD700\",\"line_width\":2,\"x\":{\"field\":\"FormattedDate\"},\"y\":{\"field\":\"Price\"}},\"id\":\"ebe444c1-a6a1-4898-9184-e2ccc6195300\",\"type\":\"Line\"},{\"attributes\":{\"below\":[{\"id\":\"50e7b9e1-c3b2-4d3d-9d42-c04403ca0267\",\"type\":\"DatetimeAxis\"}],\"left\":[{\"id\":\"bc816b21-00dc-4e61-b173-53d84a83df2c\",\"type\":\"LinearAxis\"}],\"plot_height\":300,\"renderers\":[{\"id\":\"50e7b9e1-c3b2-4d3d-9d42-c04403ca0267\",\"type\":\"DatetimeAxis\"},{\"id\":\"b6cc0367-43e8-4221-9b58-faffd4f06cc9\",\"type\":\"Grid\"},{\"id\":\"bc816b21-00dc-4e61-b173-53d84a83df2c\",\"type\":\"LinearAxis\"},{\"id\":\"71fd284e-70e7-47af-953a-a922221bd672\",\"type\":\"Grid\"},{\"id\":\"6e78b15f-b37f-4836-af54-cbd3c0dfbf0e\",\"type\":\"BoxAnnotation\"},{\"id\":\"690f1303-9862-4c68-adc0-ebabf2b93721\",\"type\":\"GlyphRenderer\"},{\"id\":\"57e05cb2-1fcd-41ef-8c99-3187c04b0b05\",\"type\":\"GlyphRenderer\"},{\"id\":\"7d5e8d94-8e82-4198-abd4-a26413e80fe5\",\"type\":\"LabelSet\"},{\"id\":\"7e223c5f-fc0b-479a-b655-5a765d403552\",\"type\":\"Span\"},{\"id\":\"c81beadc-be6c-4e80-93c0-18efc4e8498c\",\"type\":\"BoxAnnotation\"}],\"title\":{\"id\":\"a59822e2-9102-4cdb-b45c-4108f92893ea\",\"type\":\"Title\"},\"toolbar\":{\"id\":\"35a995d8-4b29-4e38-8557-a062dac5be61\",\"type\":\"Toolbar\"},\"x_range\":{\"id\":\"f441e1fc-c461-4988-8995-1a4015a83323\",\"type\":\"Range1d\"},\"x_scale\":{\"id\":\"6fd3c6c4-d4ec-4203-a437-0424f2d53039\",\"type\":\"LinearScale\"},\"y_range\":{\"id\":\"428cdd04-3158-4142-a89e-95f5172331c0\",\"type\":\"Range1d\"},\"y_scale\":{\"id\":\"e347caa2-6fb6-4d90-b432-6113c8be90ea\",\"type\":\"LinearScale\"}},\"id\":\"e4c093d1-6199-4ffc-8eee-8d124f5b30c2\",\"subtype\":\"Figure\",\"type\":\"Plot\"},{\"attributes\":{\"data_source\":{\"id\":\"c6a1b3aa-cf8d-470d-b9b9-64d0d5ed402a\",\"type\":\"ColumnDataSource\"},\"glyph\":{\"id\":\"ebe444c1-a6a1-4898-9184-e2ccc6195300\",\"type\":\"Line\"},\"hover_glyph\":null,\"muted_glyph\":null,\"nonselection_glyph\":{\"id\":\"5ffb416e-ce31-4909-b116-d4186f24a6bf\",\"type\":\"Line\"},\"selection_glyph\":null,\"view\":{\"id\":\"8e65503e-14d4-411a-abd8-56f473a65011\",\"type\":\"CDSView\"}},\"id\":\"690f1303-9862-4c68-adc0-ebabf2b93721\",\"type\":\"GlyphRenderer\"},{\"attributes\":{\"months\":[0,1,2,3,4,5,6,7,8,9,10,11]},\"id\":\"745f254d-f024-4cb1-9be9-b465632a4651\",\"type\":\"MonthsTicker\"},{\"attributes\":{\"fill_alpha\":{\"value\":0.1},\"fill_color\":{\"value\":\"#1f77b4\"},\"line_alpha\":{\"value\":0.1},\"line_color\":{\"value\":\"#1f77b4\"},\"size\":{\"units\":\"screen\",\"value\":10},\"x\":{\"field\":\"x\"},\"y\":{\"field\":\"y\"}},\"id\":\"516203cd-c99f-4b24-b685-0c1fbe3a5a19\",\"type\":\"Circle\"},{\"attributes\":{\"plot\":null,\"text\":\"Corn Prices\"},\"id\":\"a59822e2-9102-4cdb-b45c-4108f92893ea\",\"type\":\"Title\"},{\"attributes\":{\"callback\":null,\"end\":1512000000000.0,\"start\":1420070400000.0},\"id\":\"f441e1fc-c461-4988-8995-1a4015a83323\",\"type\":\"Range1d\"},{\"attributes\":{\"callback\":null,\"data\":{\"Date\":[\"2015-01-04\",\"2015-01-11\",\"2015-01-18\",\"2015-01-25\",\"2015-02-01\",\"2015-02-08\",\"2015-02-15\",\"2015-02-22\",\"2015-03-01\",\"2015-03-08\",\"2015-03-15\",\"2015-03-22\",\"2015-03-29\",\"2015-04-05\",\"2015-04-12\",\"2015-04-19\",\"2015-04-26\",\"2015-05-03\",\"2015-05-10\",\"2015-05-17\",\"2015-05-24\",\"2015-05-31\",\"2015-06-07\",\"2015-06-14\",\"2015-06-21\",\"2015-06-28\",\"2015-07-05\",\"2015-07-12\",\"2015-07-19\",\"2015-07-26\",\"2015-08-02\",\"2015-08-09\",\"2015-08-16\",\"2015-08-23\",\"2015-08-30\",\"2015-09-06\",\"2015-09-13\",\"2015-09-20\",\"2015-09-27\",\"2015-10-04\",\"2015-10-11\",\"2015-10-18\",\"2015-10-25\",\"2015-11-01\",\"2015-11-08\",\"2015-11-15\",\"2015-11-22\",\"2015-11-29\",\"2015-12-06\",\"2015-12-13\",\"2015-12-20\",\"2015-12-27\",\"2016-01-03\",\"2016-01-10\",\"2016-01-17\",\"2016-01-24\",\"2016-01-31\",\"2016-02-07\",\"2016-02-14\",\"2016-02-21\",\"2016-02-28\",\"2016-03-06\",\"2016-03-13\",\"2016-03-20\",\"2016-03-27\",\"2016-04-03\",\"2016-04-10\",\"2016-04-17\",\"2016-04-24\",\"2016-05-01\",\"2016-05-08\",\"2016-05-15\",\"2016-05-22\",\"2016-05-29\",\"2016-06-05\",\"2016-06-12\",\"2016-06-19\",\"2016-06-26\",\"2016-07-03\",\"2016-07-10\",\"2016-07-17\",\"2016-07-24\",\"2016-07-31\",\"2016-08-07\",\"2016-08-14\",\"2016-08-21\",\"2016-08-28\",\"2016-09-04\",\"2016-09-11\",\"2016-09-18\",\"2016-09-25\",\"2016-10-02\",\"2016-10-09\",\"2016-10-16\",\"2016-10-23\",\"2016-10-30\",\"2016-11-06\",\"2016-11-13\",\"2016-11-20\",\"2016-11-27\",\"2016-12-04\",\"2016-12-11\",\"2016-12-18\",\"2016-12-25\",\"2017-01-01\",\"2017-01-08\",\"2017-01-15\",\"2017-01-22\",\"2017-01-29\",\"2017-02-05\",\"2017-02-12\",\"2017-02-19\",\"2017-02-26\",\"2017-03-05\",\"2017-03-12\",\"2017-03-19\",\"2017-03-26\",\"2017-04-02\",\"2017-04-09\",\"2017-04-16\",\"2017-04-23\",\"2017-04-30\",\"2017-05-07\",\"2017-05-14\",\"2017-05-21\",\"2017-05-28\",\"2017-06-04\",\"2017-06-11\",\"2017-06-18\",\"2017-06-25\",\"2017-07-02\",\"2017-07-09\",\"2017-07-16\",\"2017-07-23\",\"2017-07-30\",\"2017-08-06\",\"2017-08-13\",\"2017-08-20\",\"2017-08-27\",\"2017-09-03\",\"2017-09-10\",\"2017-09-17\",\"2017-09-24\",\"2017-10-01\"],\"FormattedDate\":{\"__ndarray__\":\"AABA3COrdEIAAICkZK10QgAAwGylr3RCAAAANeaxdEIAAED9JrR0QgAAgMVntnRCAADAjai4dEIAAABW6bp0QgAAQB4qvXRCAACA5mq/dEIAAMCuq8F0QgAAAHfsw3RCAABAPy3GdEIAAIAHbsh0QgAAwM+uynRCAAAAmO/MdEIAAEBgMM90QgAAgChx0XRCAADA8LHTdEIAAAC58tV0QgAAQIEz2HRCAACASXTadEIAAMARtdx0QgAAANr13nRCAABAojbhdEIAAIBqd+N0QgAAwDK45XRCAAAA+/jndEIAAEDDOep0QgAAgIt67HRCAADAU7vudEIAAAAc/PB0QgAAQOQ883RCAACArH31dEIAAMB0vvd0QgAAAD3/+XRCAABABUD8dEIAAIDNgP50QgAAwJXBAHVCAAAAXgIDdUIAAEAmQwV1QgAAgO6DB3VCAADAtsQJdUIAAAB/BQx1QgAAQEdGDnVCAACAD4cQdUIAAMDXxxJ1QgAAAKAIFXVCAABAaEkXdUIAAIAwihl1QgAAwPjKG3VCAAAAwQsedUIAAECJTCB1QgAAgFGNInVCAADAGc4kdUIAAADiDid1QgAAQKpPKXVCAACAcpArdUIAAMA60S11QgAAAAMSMHVCAABAy1IydUIAAICTkzR1QgAAwFvUNnVCAAAAJBU5dUIAAEDsVTt1QgAAgLSWPXVCAADAfNc/dUIAAABFGEJ1QgAAQA1ZRHVCAACA1ZlGdUIAAMCd2kh1QgAAAGYbS3VCAABALlxNdUIAAID2nE91QgAAwL7dUXVCAAAAhx5UdUIAAEBPX1Z1QgAAgBegWHVCAADA3+BadUIAAACoIV11QgAAQHBiX3VCAACAOKNhdUIAAMAA5GN1QgAAAMkkZnVCAABAkWVodUIAAIBZpmp1QgAAwCHnbHVCAAAA6idvdUIAAECyaHF1QgAAgHqpc3VCAADAQup1dUIAAAALK3h1QgAAQNNrenVCAACAm6x8dUIAAMBj7X51QgAAACwugXVCAABA9G6DdUIAAIC8r4V1QgAAwITwh3VCAAAATTGKdUIAAEAVcox1QgAAgN2yjnVCAADApfOQdUIAAABuNJN1QgAAQDZ1lXVCAACA/rWXdUIAAMDG9pl1QgAAAI83nHVCAABAV3iedUIAAIAfuaB1QgAAwOf5onVCAAAAsDqldUIAAEB4e6d1QgAAgEC8qXVCAADACP2rdUIAAADRPa51QgAAQJl+sHVCAACAYb+ydUIAAMApALV1QgAAAPJAt3VCAABAuoG5dUIAAICCwrt1QgAAwEoDvnVCAAAAE0TAdUIAAEDbhMJ1QgAAgKPFxHVCAADAawbHdUIAAAA0R8l1QgAAQPyHy3VCAACAxMjNdUIAAMCMCdB1QgAAAFVK0nVCAABAHYvUdUIAAIDly9Z1QgAAwK0M2XVCAAAAdk3bdUIAAEA+jt11QgAAgAbP33VCAADAzg/idUIAAACXUOR1QgAAQF+R5nVCAACAJ9LodUIAAMDvEut1QgAAALhT7XVC\",\"dtype\":\"float64\",\"shape\":[144]},\"Price\":{\"__ndarray__\":\"XynLEMfaFEAoDwu1prkUQGHgufdwCRRAoBov3SQGFEBdbcX+snsTQBefAmA8wxNA7uvAOSMKFEAJM23/ygoUQFYTRN0HoBNAcVXZd0WwE0DH155ZEqATQJ9ZEqCmFhNAs4AJ3LrbE0BcIEHxY3wTQL7BFyZTRRNAOpLLf0j/EkAXDoRkAdMSQJG4x9KHLhJA4PPDCOEREkAUChFwCBUSQOPHmLuWEBJAPwCpTZycEUA+6Nms+twRQDIge7374xFAMGR1q+ekEUCRs7CnHX4SQBk+IqZEkhRAhV/q500FFUDHRiBe1y8VQNXPm4pU2BNAf2WlSSloEkAa+ie4WFESQHL+JhQiYBJAkKD4MeYuEkCZgcr49xkSQL1vfO2ZpRFAhbGFIAflEUB/+zpwzogSQPj8MEJ4dBJA5EnSNZOvEkAmjdE6qtoSQAXAeAYNPRJACyk/qfYpEkADz72HS04SQJKRs7CnHRJA1JrmHadoEUAkKH6MuWsRQGXkLOxphxFAFOgTeZK0EUBgWWlSCroRQOscA7LXuxFASFD8GHNXEUDc14FzRgQRQLnCu1zEtxBAjBU1mIbhEECXOV0WE1sRQFoqb0c4bRFA7vDXZI16EUAGR8mrcwwRQJ83FakwNhFAcXfWbrsQEUBoHVVNELUQQPlJtU/H4xBAgzRj0XQ2EUDuWkI+6EkRQJGzsKcd/hBAnbryWZ7HEEC77UJznUYRQCL430p27BFAtdsuNNfpEUAkYkok0YsRQCRFZFjFmxFAs3bbheY6EkDKMsSxLq4SQIZyol2FFBNAe6AVGLK6E0D9MEJ4tPETQG1blNkgUxJAELQCQ1Y3EUBqTfOOU/QPQBzw+WGEMBBABa3AkNUtD0Ad5ssLsI8OQBgJbTmX4g1Afa62Yn/ZDUAhH/RsVn0OQJKzsKcd/g1As3bbhea6DEDpmsk329wNQDtY/+cw3w1AgXhdv2A3DkC4x9KHLqgNQCrB4nDm1w5AgRyUMNP2DkByEd+JWa8PQMe/z7hwoA9AvB3htOBFD0CppE5AE+EOQIxiuaXVkA5ABhIUP8ZcD0DEsS5uo4EOQEkp6PaSRg9AXRYTm49rD0APlxx3SocOQDeJQWDlsA5AxY8xdy1hD0CPNo5Yi08PQJ30vvG15w9ABVH3AUjtD0D7y+7Jw8IPQMYzaOifIBBAtyizQSZZEEA1KQXdXhIQQE8jLZW3IxBAlX1XBP/bD0D8pNqn4zEPQGx4eqUsww5AduCcEaW9DkBb07zjFB0PQLpJDAIrhw9A+RkXDoTkDkBy/iYUIuAOQMo88gcDTw9APu3w12QND0BVNUHUfQAPQOQUHcnlPw9AWMoyxLEuD0B6xyk6kgsQQGiWBKip5Q9A5QrvchHfDkD+SBEZVnEOQME5I0p7AxBANV66SQwCEEB/arx0k5gPQBBYObTI9g5ABoGVQ4tsDkDByqFFtnMOQMHKoUW2cw1Af2q8dJOYDECamZmZmRkMQFpkO99PjQxA16NwPQpXDEB1kxgEVg4MQD0K16NwPQxA\",\"dtype\":\"float64\",\"shape\":[144]},\"index\":[0,1,2,3,4,5,6,7,8,9,10,11,12,13,14,15,16,17,18,19,20,21,22,23,24,25,26,27,28,29,30,31,32,33,34,35,36,37,38,39,40,41,42,43,44,45,46,47,48,49,50,51,52,53,54,55,56,57,58,59,60,61,62,63,64,65,66,67,68,69,70,71,72,73,74,75,76,77,78,79,80,81,82,83,84,85,86,87,88,89,90,91,92,93,94,95,96,97,98,99,100,101,102,103,104,105,106,107,108,109,110,111,112,113,114,115,116,117,118,119,120,121,122,123,124,125,126,127,128,129,130,131,132,133,134,135,136,137,138,139,140,141,142,143]},\"selected\":{\"id\":\"e115fe54-9784-4624-b8ae-185e40a30f50\",\"type\":\"Selection\"},\"selection_policy\":{\"id\":\"c77f76fe-a739-493c-8418-196b00ffd822\",\"type\":\"UnionRenderers\"}},\"id\":\"c6a1b3aa-cf8d-470d-b9b9-64d0d5ed402a\",\"type\":\"ColumnDataSource\"},{\"attributes\":{\"formatter\":{\"id\":\"25840369-fd37-43c4-97b2-e2c261aee198\",\"type\":\"BasicTickFormatter\"},\"plot\":{\"id\":\"e4c093d1-6199-4ffc-8eee-8d124f5b30c2\",\"subtype\":\"Figure\",\"type\":\"Plot\"},\"ticker\":{\"id\":\"f9c90d91-3803-43b7-b1be-43238dce38f0\",\"type\":\"BasicTicker\"}},\"id\":\"bc816b21-00dc-4e61-b173-53d84a83df2c\",\"type\":\"LinearAxis\"},{\"attributes\":{\"mantissas\":[1,2,5],\"max_interval\":500.0,\"num_minor_ticks\":0},\"id\":\"fb7ba10a-41e3-4309-94e5-99188eba83a9\",\"type\":\"AdaptiveTicker\"},{\"attributes\":{\"source\":{\"id\":\"67f02c8b-149f-415b-a261-21eebdd72e36\",\"type\":\"ColumnDataSource\"}},\"id\":\"673d7303-cb16-40d6-b807-dc43ce74d9e0\",\"type\":\"CDSView\"},{\"attributes\":{\"fill_color\":{\"value\":\"#1f77b4\"},\"line_color\":{\"value\":\"#1f77b4\"},\"size\":{\"units\":\"screen\",\"value\":10},\"x\":{\"field\":\"x\"},\"y\":{\"field\":\"y\"}},\"id\":\"4d215c02-62ae-4ae4-8f0b-c56c2c3a7ecb\",\"type\":\"Circle\"},{\"attributes\":{},\"id\":\"6fd3c6c4-d4ec-4203-a437-0424f2d53039\",\"type\":\"LinearScale\"},{\"attributes\":{},\"id\":\"8c4262ba-bed9-42d3-b586-3950f3ea78c9\",\"type\":\"Selection\"},{\"attributes\":{\"days\":[1,8,15,22]},\"id\":\"299f2009-add2-49d3-8007-b3071e8fb5ac\",\"type\":\"DaysTicker\"},{\"attributes\":{\"callback\":null,\"data\":{\"text\":[\"Max\",\"Min\"],\"x\":[1437264000000.0,1506211200000.0],\"y\":[5.29672,3.507]},\"selected\":{\"id\":\"102ac34a-65bd-43ab-8cba-0f0e1b71ffd4\",\"type\":\"Selection\"},\"selection_policy\":{\"id\":\"9aa285e2-1975-4733-9d1a-f757dba8fa86\",\"type\":\"UnionRenderers\"}},\"id\":\"ecf84cc3-bf44-432f-ab2c-dbb0775c25fb\",\"type\":\"ColumnDataSource\"},{\"attributes\":{\"data_source\":{\"id\":\"67f02c8b-149f-415b-a261-21eebdd72e36\",\"type\":\"ColumnDataSource\"},\"glyph\":{\"id\":\"4d215c02-62ae-4ae4-8f0b-c56c2c3a7ecb\",\"type\":\"Circle\"},\"hover_glyph\":null,\"muted_glyph\":null,\"nonselection_glyph\":{\"id\":\"516203cd-c99f-4b24-b685-0c1fbe3a5a19\",\"type\":\"Circle\"},\"selection_glyph\":null,\"view\":{\"id\":\"673d7303-cb16-40d6-b807-dc43ce74d9e0\",\"type\":\"CDSView\"}},\"id\":\"57e05cb2-1fcd-41ef-8c99-3187c04b0b05\",\"type\":\"GlyphRenderer\"},{\"attributes\":{\"plot\":{\"id\":\"e4c093d1-6199-4ffc-8eee-8d124f5b30c2\",\"subtype\":\"Figure\",\"type\":\"Plot\"},\"ticker\":{\"id\":\"aef07fe4-9d6a-4867-bea8-b78bcd017d92\",\"type\":\"DatetimeTicker\"}},\"id\":\"b6cc0367-43e8-4221-9b58-faffd4f06cc9\",\"type\":\"Grid\"}],\"root_ids\":[\"e4c093d1-6199-4ffc-8eee-8d124f5b30c2\"]},\"title\":\"Bokeh Application\",\"version\":\"0.13.0\"}};\n",
       "  var render_items = [{\"docid\":\"19c6b867-8636-45f8-8455-d1d3db5125d8\",\"roots\":{\"e4c093d1-6199-4ffc-8eee-8d124f5b30c2\":\"5ac97513-6aa5-42c5-b32f-f2bd07465d37\"}}];\n",
       "  root.Bokeh.embed.embed_items_notebook(docs_json, render_items);\n",
       "\n",
       "  }\n",
       "  if (root.Bokeh !== undefined) {\n",
       "    embed_document(root);\n",
       "  } else {\n",
       "    var attempts = 0;\n",
       "    var timer = setInterval(function(root) {\n",
       "      if (root.Bokeh !== undefined) {\n",
       "        embed_document(root);\n",
       "        clearInterval(timer);\n",
       "      }\n",
       "      attempts++;\n",
       "      if (attempts > 100) {\n",
       "        console.log(\"Bokeh: ERROR: Unable to run BokehJS code because BokehJS library is missing\")\n",
       "        clearInterval(timer);\n",
       "      }\n",
       "    }, 10, root)\n",
       "  }\n",
       "})(window);"
      ],
      "application/vnd.bokehjs_exec.v0+json": ""
     },
     "metadata": {
      "application/vnd.bokehjs_exec.v0+json": {
       "id": "e4c093d1-6199-4ffc-8eee-8d124f5b30c2"
      }
     },
     "output_type": "display_data"
    }
   ],
   "source": [
    "show(p)"
   ]
  },
  {
   "cell_type": "code",
   "execution_count": null,
   "metadata": {},
   "outputs": [],
   "source": []
  }
 ],
 "metadata": {
  "kernelspec": {
   "display_name": "Python 3",
   "language": "python",
   "name": "python3"
  },
  "language_info": {
   "codemirror_mode": {
    "name": "ipython",
    "version": 3
   },
   "file_extension": ".py",
   "mimetype": "text/x-python",
   "name": "python",
   "nbconvert_exporter": "python",
   "pygments_lexer": "ipython3",
   "version": "3.6.4"
  }
 },
 "nbformat": 4,
 "nbformat_minor": 2
}
